{
 "cells": [
  {
   "cell_type": "code",
   "execution_count": null,
   "id": "a490d03b-1a6a-47b2-b8dc-1a5674473528",
   "metadata": {},
   "outputs": [],
   "source": [
    "import pandas as pd"
   ]
  },
  {
   "cell_type": "code",
   "execution_count": null,
   "id": "55caeb4d-584b-455d-bd8b-2f286210226a",
   "metadata": {},
   "outputs": [],
   "source": [
    "train_df = pd.read_csv('./train.csv', encoding='gb2312', encoding_errors='ignore')\n",
    "test_df = pd.read_csv('./test.csv', encoding='gb2312', encoding_errors='ignore')"
   ]
  },
  {
   "cell_type": "code",
   "execution_count": null,
   "id": "90db38e6-26ad-4f80-b5a6-0a81625a3277",
   "metadata": {},
   "outputs": [],
   "source": [
    "train_df.info()"
   ]
  },
  {
   "cell_type": "code",
   "execution_count": null,
   "id": "913502e4-e17b-47cf-bd7f-d783dc8af5dd",
   "metadata": {},
   "outputs": [],
   "source": [
    "test_df.info()"
   ]
  },
  {
   "cell_type": "code",
   "execution_count": null,
   "id": "d7bd9b29-b36c-466f-9c47-c86041752cb9",
   "metadata": {},
   "outputs": [],
   "source": [
    "train_df[:2]"
   ]
  },
  {
   "cell_type": "code",
   "execution_count": null,
   "id": "5e723d8f-f621-4193-89f9-e341e71576cb",
   "metadata": {},
   "outputs": [],
   "source": [
    "test_df[:2]"
   ]
  },
  {
   "cell_type": "code",
   "execution_count": null,
   "id": "a71a767a-cfec-46d7-b93a-3b2658c50d7a",
   "metadata": {},
   "outputs": [],
   "source": [
    "train_df[-2:]"
   ]
  },
  {
   "cell_type": "code",
   "execution_count": null,
   "id": "fd5eab0b-6878-4d13-be36-6836566114d7",
   "metadata": {},
   "outputs": [],
   "source": [
    "test_df[-2:]"
   ]
  },
  {
   "cell_type": "code",
   "execution_count": null,
   "id": "7f189fa6-3b48-46a7-b6a6-2306be989725",
   "metadata": {},
   "outputs": [],
   "source": [
    "from peft import PeftModel\n",
    "from transformers import AutoTokenizer, AutoModel, GenerationConfig, AutoModelForCausalLM\n",
    "\n",
    "model_path = \"/root/share/new_models/Shanghai_AI_Laboratory/internlm2_5-20b-chat\"\n",
    "model = AutoModel.from_pretrained(model_path, trust_remote_code=True).half().cuda()\n",
    "tokenizer = AutoTokenizer.from_pretrained(model_path, trust_remote_code=True)\n",
    "# 加载 label lora权重\n",
    "# model = PeftModel.from_pretrained(model, './output/label_xfg').half()\n",
    "# model = model.eval()\n",
    "response, history = model.chat(tokenizer, \"你好\", history=[])\n",
    "response"
   ]
  },
  {
   "cell_type": "code",
   "execution_count": null,
   "id": "662db2fd-3ddf-4539-9844-7db0a1ab6fdc",
   "metadata": {},
   "outputs": [],
   "source": [
    "def predict1(text):\n",
    "    response, history = model.chat(tokenizer, f\"以下是一个大模型完成的选择题。如果大模型的回答与参考答案一致，输出1；如果不一致，输出0。-->{text} \", history=[],\n",
    "    temperature=0.01)\n",
    "    return response"
   ]
  },
  {
   "cell_type": "code",
   "execution_count": null,
   "id": "e6388291-a19d-49f7-857a-fdbab3acef3e",
   "metadata": {},
   "outputs": [],
   "source": [
    "def predict2(text):\n",
    "    response, history = model.chat(tokenizer, f\"以下是一个大模型完成的创作题目。按照流畅性评分标准给大模型创作打分(只取1分、2分、3分、4分、5分其一)。流畅性评分标准： 1分: 非常不流畅，不具备可读性：语法错误明显，难以理解；大量拼写错误和错别字，影响阅读；表达不清晰，难以捉摸要表达的意思。（平均每百字错误数 > 2.5个）; \n",
    "        2分: 具有可读性，但较不流畅：常见语法错误多，需花费一定时间理解；一些拼写错误和错别字，阅读中断；表达较为模糊，需用一些猜测才能明白含义。（平均每百字错误数 (2,2.5]个）;\n",
    "        3分：基本流畅，存在少量语法错误，但影响较小：稍有拼写错误，但不影响阅读；主要意思表达清楚，但部分地方表述不够准确。（平均每百字错误数(1,2]个）;\n",
    "        4分：较流畅，语法错误稀少，易读性较高：几乎无拼写错误，阅读顺畅；表达清晰、准确，容易理解。（平均每百字错误数(0.5,1]个）；\n",
    "        5分：非常流畅，语法、拼写完美，阅读体验优秀：表达精炼、准确、得体；文句优美，行文连贯，思维严密。（平均每百字错误数[0,0.5]个）。-->{text}\", history=[],\n",
    "    temperature=0.1)\n",
    "    return response"
   ]
  },
  {
   "cell_type": "code",
   "execution_count": null,
   "id": "c21f722d-8329-468d-ae92-943bc5025f5a",
   "metadata": {},
   "outputs": [],
   "source": [
    "def predict3(text):\n",
    "    response, history = model.chat(tokenizer, f\"以下是一个大模型完成的创作题目。按照规范性评分标准给大模型创作打分(只取1分、2分、3分、4分、5分其一)。规范性评分标准：\n",
    "        1分: 创作内容离题，与提示语句要求不符，格式非常不规范：杂乱无章，句子结构混乱，缺乏逻辑。（平均每千字错误数 > 5个）; \n",
    "        2分: 创作内容与提示语句要求有一定契合但覆盖不全，格式较不规范：缺乏清晰的结构，但基本逻辑仍能找到。（平均每千字错误数(4,5]个）;\n",
    "        3分：创作内容与提示语句要求基本契合但覆盖不全，格式一般规范：结构基本顺畅，逻辑较清晰。（平均每千字错误数 (2,4]个）;\n",
    "        4分：创作内容与提示语句要求基本契合且基本覆盖，格式较规范：结构清晰，逻辑条理分明。（平均每千字错误数 (1,2]个）；\n",
    "        5分：创作内容与提示语句要求完美契合，格式非常规范：结构严谨，逻辑清晰，层次分明。（平均每千字错误数 [0,1]个）-->{text}。\", history=[],\n",
    "    temperature=0.1)\n",
    "    return response"
   ]
  },
  {
   "cell_type": "code",
   "execution_count": null,
   "id": "91fd688b-5885-4760-adc5-6ad31244c199",
   "metadata": {},
   "outputs": [],
   "source": [
    "from tqdm import tqdm\n",
    "label = []\n",
    "for i in tqdm(range(len(test_df))):\n",
    "    test_item = test_df.loc[i]\n",
    "    if (llm_item['评判维度']==\"选择题\"):\n",
    "        test_input = f\"选择题:{test_item['创作要求']},评判内容:{test_item['待评判内容']}\"\n",
    "        label.append(int(predict1(test_input)))\n",
    "    elif (llm_item['评判维度']==\"流畅性\"):\n",
    "        test_input = f\"大模型创作:{llm_item['待评判内容']}\"\n",
    "        label.append(int(predict2(test_input)))\n",
    "    else:\n",
    "        test_input = f\"创作题目:{llm_item['创作要求']},大模型创作:{llm_item['待评判内容']}\"\n",
    "        label.append(int(predict3(test_input)))"
   ]
  },
  {
   "cell_type": "code",
   "execution_count": null,
   "id": "fb150c5f-cf43-43e0-a2ee-a3afb4afa17c",
   "metadata": {},
   "outputs": [],
   "source": [
    "test_df['预测分数'] = label"
   ]
  },
  {
   "cell_type": "code",
   "execution_count": null,
   "id": "305513ba-8820-4f03-af4d-1a58fe32894f",
   "metadata": {},
   "outputs": [],
   "source": [
    "submit = test_df[['数据编号', '评判维度', '预测分数']]"
   ]
  },
  {
   "cell_type": "code",
   "execution_count": null,
   "id": "bea56753-7f26-480f-a3fb-f7548239ae04",
   "metadata": {},
   "outputs": [],
   "source": [
    "submit.to_csv('submit.csv', index=False)"
   ]
  }
 ],
 "metadata": {
  "kernelspec": {
   "display_name": "Python 3 (ipykernel)",
   "language": "python",
   "name": "python3"
  },
  "language_info": {
   "codemirror_mode": {
    "name": "ipython",
    "version": 3
   },
   "file_extension": ".py",
   "mimetype": "text/x-python",
   "name": "python",
   "nbconvert_exporter": "python",
   "pygments_lexer": "ipython3",
   "version": "3.8.10"
  }
 },
 "nbformat": 4,
 "nbformat_minor": 5
}
