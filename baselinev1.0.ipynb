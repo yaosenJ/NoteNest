{
 "cells": [
  {
   "cell_type": "markdown",
   "metadata": {},
   "source": [
    "# 基于大模型的文本内容智能评判BaseLineV1.0\n",
    "\n",
    "赛题背景：\n",
    "大模型作为人工智能领域的热点技术，已在众多垂直行业中展现出巨大的应用潜能。然而，随着其应用范围的不断拓宽，针对大模型的评测需求也日趋复杂化、个性化，这一趋势对现有的评判技术提出了严峻挑战。\n",
    "在文本生成领域，由于信息的多样性、主观性，以及评价标准的复杂性，传统自动化评估方法效果较差，灵活性不足，而人工评价方式效率低下，成本高昂，难以满足当前大规模的评判需求。因此，如何运用自动化、智能化的手段，实现对文本内容的高效评判，成为了业界亟待解决的问题。\n",
    "在此背景下，本赛题以“基于大模型的文本内容智能评判”作为主题，旨在借助大模型强大的语义理解能力和泛化能力，应对不同领域和场景的评判需求，同时精准对齐人类专家的评判标准，进一步提升评判的准确性和可靠性。\n",
    "\n",
    "赛题任务：\n",
    "本赛题主要考察文本自动评判任务，参赛者需要利用大模型技术，构建一个智能评判模型，同时具备客观题目、创作题目的评判能力。其中，客观题目需结合参考答案作出评判，创作题目需对齐人类专家的主观评分，评判维度涉及流畅性、规范性。"
   ]
  },
  {
   "cell_type": "code",
   "execution_count": 1,
   "metadata": {},
   "outputs": [
    {
     "name": "stdout",
     "output_type": "stream",
     "text": [
      "\n",
      "<data_id>1</data_id>\n",
      "<creation_requirements>请描述选择题的题目</creation_requirements>\n",
      "<content>待评判内容/选择题答案及模型回复</content>\n",
      "<evaluation_dimension>评判维度</evaluation_dimension>\n",
      "<score>5</score>\n",
      "\n"
     ]
    }
   ],
   "source": [
    "# 封装对象\n",
    "class DataObject:\n",
    "    def __init__(self, data_id, creation_requirements, content, evaluation_dimension, score):\n",
    "        self.data_id = data_id  # 数据编号\n",
    "        self.creation_requirements = creation_requirements  # 创作要求（仅规范性数据包含）/选择题题目\n",
    "        self.content = content  # 待评判内容/选择题答案及模型回复\n",
    "        self.evaluation_dimension = evaluation_dimension  # 评判维度\n",
    "        self.score = score  # 分值\n",
    "\n",
    "    def to_string(self):\n",
    "        return f\"\"\"\n",
    "<data_id>{self.data_id}</data_id>\n",
    "<creation_requirements>{self.creation_requirements}</creation_requirements>\n",
    "<content>{self.content}</content>\n",
    "<evaluation_dimension>{self.evaluation_dimension}</evaluation_dimension>\n",
    "<score>{self.score}</score>\n",
    "\"\"\"\n",
    "\n",
    "# 示例用法\n",
    "data_object = DataObject(\n",
    "    data_id=1,\n",
    "    creation_requirements=\"请描述选择题的题目\",\n",
    "    content=\"待评判内容/选择题答案及模型回复\",\n",
    "    evaluation_dimension=\"评判维度\",\n",
    "    score=5\n",
    ")\n",
    "\n",
    "# 将对象转换为字符串\n",
    "result_string = data_object.to_string()\n",
    "print(result_string)"
   ]
  },
  {
   "cell_type": "code",
   "execution_count": 16,
   "metadata": {},
   "outputs": [
    {
     "name": "stdout",
     "output_type": "stream",
     "text": [
      "len = 3500\n",
      "\n",
      "        <evaluation_dimension>美国塔科马市（47°17'N，122°28'W，是北太平洋东岸的港口城市，位于，人口约21.9万（2020年）。该市一位名叫约克的年轻人，非常喜爱中国文化的，工作之余经常前往图书馆读书，或漫步公园游憩。1873年，横贯美洲大陆的北太平洋铁路建成。这条铁路成了分处铁路两端的约克曾祖父母缔结姻缘的纽带。他们初识时，塔科马位于铁路西端，千余人仅居住于此，到1889年人口达3.6万。图12示意塔科马市内部空间结构。</evaluation_dimension>\n",
      "        <creation_requirements>nan</creation_requirements>\n",
      "        <content>流畅性</content>\n",
      "\n",
      "\n",
      "\n",
      "        <evaluation_dimension>中国人民银行上海总部，各省、自治区、直辖市及计划单列市分行；各政策性银行、国有商业银行，中国邮政储蓄银行，各股份制商业银行：\n",
      "中国人民银行位于上海的总部机构，以及遍布全国各省、自治区、直辖市以及计划单列市的分行；同时，各政策性银行、所有国有商业银行、中国邮政储蓄银行，以及各股份制商业银行均被告知：</evaluation_dimension>\n",
      "        <creation_requirements>请以“针对中国人民银行及其各级分支机构，以及各类银行机构（包括政策性银行、国有商业银行、中国邮政储蓄银行和股份制商业银行）发布的一项通知或指示，但由于文章正文部分未给出，具体通知或指示的内容无法确定。因此，总结为：该文章是对上述金融机构发出的一个正式通知或指示，但具体内容和目的需要查看文章的详细内容才能得知。中国人民银行决定自2024年5月18日起下调个人住房公积金贷款利率，其中首套和二套房的贷款利率均有所降低。”为主题写一篇文章</creation_requirements>\n",
      "        <content>规范性</content>\n",
      "\n",
      "\n"
     ]
    }
   ],
   "source": [
    "import pandas as pd\n",
    "\n",
    "class DataObject:\n",
    "    def __init__(self, data_id, creation_requirements, content, evaluation_dimension, score):\n",
    "        self.data_id = data_id  # 数据编号\n",
    "        self.creation_requirements = creation_requirements  # 创作要求（仅规范性数据包含）/选择题题目\n",
    "        self.content = content  # 待评判内容/选择题答案及模型回复\n",
    "        self.evaluation_dimension = evaluation_dimension  # 评判维度\n",
    "        self.score = score  # 分值\n",
    "\n",
    "    def to_string(self):\n",
    "        return f\"\"\"\n",
    "        <evaluation_dimension>{self.evaluation_dimension}</evaluation_dimension>\n",
    "        <creation_requirements>{self.creation_requirements}</creation_requirements>\n",
    "        <content>{self.content}</content>\n",
    "\n",
    "\"\"\"\n",
    "\n",
    "# 读取CSV文件并存储到列表中\n",
    "def read_csv_to_data_objects(file_path):\n",
    "    # 读取CSV文件，跳过第一行\n",
    "    df = pd.read_csv(file_path, encoding=\"utf-8\",skiprows=1, header=None, names=[\n",
    "                     'data_id', 'creation_requirements', 'content', 'evaluation_dimension', 'score'])\n",
    "\n",
    "    # 创建DataObject实例的列表\n",
    "    data_objects = [\n",
    "        DataObject(row['data_id'], row['creation_requirements'], row['content'],\n",
    "                   row['evaluation_dimension'], row['score'])\n",
    "        for _, row in df.iterrows()\n",
    "    ]\n",
    "\n",
    "    return data_objects\n",
    "\n",
    "# 示例用法\n",
    "file_path = 'train_e.csv'\n",
    "data_objects = read_csv_to_data_objects(file_path)\n",
    "print(f\"len = {len(data_objects)}\")\n",
    "# 打印每个对象的字符串表示\n",
    "for i in range(2):\n",
    "    print(data_objects[i].to_string())\n"
   ]
  },
  {
   "cell_type": "code",
   "execution_count": 1,
   "metadata": {},
   "outputs": [],
   "source": [
    "# 构造思维链\n",
    "cot_prompt = f\"\"\"\n",
    "请根据以下步骤对user提供的文本进行评分。请按照每一步提供的指导进行操作。\n",
    "\n",
    "1. 识别题型：\n",
    "    - 阅读 <evaluation_dimension></evaluation_dimension> 标签中的内容。\n",
    "    - 判断该内容是“选择题”还是“非选择题”。\n",
    "\n",
    "2. 如果是选择题：\n",
    "    - 检查 <content></content> 中的答案是否正确。\n",
    "    - 如果答案正确，输出 score=1。\n",
    "    - 如果答案错误，输出 score=0。\n",
    "\n",
    "3. 如果是非选择题：\n",
    "    - 阅读 <evaluation_dimension></evaluation_dimension> 标签中的内容。\n",
    "    - 判断该维度是流畅性还是规范性。\n",
    "\n",
    "4. 如果维度是流畅性：\n",
    "    - 先阅读 <creation_requirements></creation_requirements>，再阅读 <content></content>。\n",
    "    - 根据不同的评分标准，具体步骤如下：\n",
    "    - 根据以下标准对文章的语句通顺性、语法错误、字词错误、表述方式进行评分：\n",
    "        - 1分：非常不流畅，不具备可读性。语法错误明显，难以理解；大量拼写错误和错别字，影响阅读；表达不清晰，难以捉摸要表达的意思。(2.5,∞]个错误/百字。\n",
    "        - 2分：具有可读性，但较不流畅。常见语法错误多，需花费一定时间理解；一些拼写错误和错别字，阅读中断；表达较为模糊，需用一些猜测才能明白含义。(2,2.5]个错误/百字。\n",
    "        - 3分：基本流畅，存在少量语法错误，但影响较小。稍有拼写错误，但不影响阅读；主要意思表达清楚，但部分地方表述不够准确。(1,2]个错误/百字。\n",
    "        - 4分：较流畅，语法错误稀少，易读性较高。几乎无拼写错误，阅读顺畅；表达清晰、准确，容易理解。(0.5,1]个错误/百字。\n",
    "        - 5分：非常流畅，语法、拼写完美，阅读体验优秀。表达精炼、准确、得体；文句优美，行文连贯，思维严密。[0,0.5]个错误/百字。\n",
    "\n",
    "5. 如果维度是规范性：\n",
    "    - 先阅读 <creation_requirements></creation_requirements>，再阅读 <content></content>。\n",
    "    - 根据以下标准对文章的内容遵循性、格式规范性、语句逻辑、层次结构进行评分：\n",
    "        - 1分：创作内容离题，与提示语句要求不符，格式非常不规范。杂乱无章，句子结构混乱，缺乏逻辑。(5,∞]个错误/千字。\n",
    "        - 2分：创作内容与提示语句要求有一定契合但覆盖不全，格式较不规范。缺乏清晰的结构，但基本逻辑仍能找到。(4,5]个错误/千字。\n",
    "        - 3分：创作内容与提示语句要求基本契合但覆盖不全，格式一般规范。结构基本顺畅，逻辑较清晰。(2,4]个错误/千字。\n",
    "        - 4分：创作内容与提示语句要求基本契合且基本覆盖，格式较规范。结构清晰，逻辑条理分明。(1,2]个错误/千字。\n",
    "        - 5分：创作内容与提示语句要求完美契合，格式非常规范。结构严谨，逻辑清晰，层次分明。[0,1]个错误/千字。\n",
    "\n",
    "6. 最终输出：\n",
    "    - 根据以上分析，给出最终的评分，并以“score=分数”的形式输出。\n",
    "\"\"\"\n",
    "\n",
    "import re\n",
    "\n",
    "\n",
    "\n"
   ]
  },
  {
   "cell_type": "code",
   "execution_count": 2,
   "metadata": {},
   "outputs": [
    {
     "name": "stdout",
     "output_type": "stream",
     "text": [
      "规范性\n"
     ]
    }
   ],
   "source": [
    "import pandas as pd\n",
    "\n",
    "class DataObject:\n",
    "    def __init__(self, data_id, creation_requirements, content, evaluation_dimension, score=None):\n",
    "        self.data_id = data_id  # 数据编号\n",
    "        self.creation_requirements = creation_requirements  # 创作要求（仅规范性数据包含）/选择题题目\n",
    "        self.content = content  # 待评判内容/选择题答案及模型回复\n",
    "        self.evaluation_dimension = evaluation_dimension  # 评判维度\n",
    "        self.score = score  # 分值\n",
    "\n",
    "    def to_string(self):\n",
    "        return f\"\"\"\n",
    "        <evaluation_dimension>{self.evaluation_dimension}</evaluation_dimension>\n",
    "        <creation_requirements>{self.creation_requirements}</creation_requirements>\n",
    "        <content>{self.content}</content>\n",
    "\n",
    "\"\"\"\n",
    "\n",
    "# 读取CSV文件并存储到列表中\n",
    "def read_csv_to_data_objects(file_path):\n",
    "    # 读取CSV文件，跳过第一行\n",
    "    df = pd.read_csv(file_path, encoding=\"utf-8\",skiprows=1, header=None, names=[\n",
    "                     'data_id', 'creation_requirements', 'evaluation_dimension', 'content'])\n",
    "\n",
    "    # 创建DataObject实例的列表\n",
    "    data_objects = [\n",
    "        DataObject(row['data_id'], row['creation_requirements'], row['content'],\n",
    "                   row['evaluation_dimension'])\n",
    "        for _, row in df.iterrows()\n",
    "    ]\n",
    "\n",
    "    return data_objects\n",
    "\n",
    "# 示例用法\n",
    "file_path = 'test_e.csv'\n",
    "data_objects = read_csv_to_data_objects(file_path)\n",
    "\n",
    "print(data_objects[333].evaluation_dimension)\n",
    "\n"
   ]
  },
  {
   "cell_type": "code",
   "execution_count": 3,
   "metadata": {},
   "outputs": [],
   "source": [
    "import time\n",
    "import asyncio\n",
    "import json\n",
    "import os\n",
    "import nest_asyncio\n",
    "from tqdm.asyncio import tqdm_asyncio\n",
    "from openai import AsyncOpenAI\n",
    "import re\n",
    "import csv\n",
    "\n",
    "# 允许在已有事件循环中嵌套调用异步代码\n",
    "nest_asyncio.apply()\n",
    "async def fetch_completion(client, data_object, model_name, n):\n",
    "    messages = [\n",
    "        {\"role\": \"system\", \"content\": cot_prompt},\n",
    "        {\"role\": \"user\", \"content\": data_object.to_string()}\n",
    "    ]\n",
    "    start_time = time.time()\n",
    "    completion = await client.chat.completions.create(\n",
    "        model=model_name,\n",
    "        messages=messages\n",
    "    )\n",
    "    elapsed_time = time.time() - start_time\n",
    "    response = completion.choices[0].message.content\n",
    "    print(f\"第 {n+1} 条数据用时: {elapsed_time:.2f} 秒\")\n",
    "    # print(f\"第 {n+1} 条数据输出为: {response}\")\n",
    "    # 使用正则表达式匹配score后的值\n",
    "    pattern = r\"score=([0-9])\"\n",
    "    # 搜索匹配项\n",
    "    match = re.search(pattern, response)\n",
    "    if match:\n",
    "        score = int(match.group(1))\n",
    "    else:\n",
    "        score = 0\n",
    "    \n",
    "    return {\n",
    "        \"data_id\": data_object.data_id,\n",
    "        \"evaluation_dimension\":data_object.evaluation_dimension,\n",
    "        \"score\":score\n",
    "    }\n",
    "\n",
    "# async def baseline_model(client, data_objects, model_name):\n",
    "#     res = []\n",
    "#     data_objects_list = [fetch_completion(client, data_objects[i], model_name, i) for i in range(len(data_objects))]\n",
    "#     for result in tqdm_asyncio.as_completed(data_objects_list, desc='Processing data_objects'):\n",
    "#         result_data = await result\n",
    "#         # print(f'Processing data_object: {result_data[\"data_id\"]}')\n",
    "#         res.append(result_data)\n",
    "#     return res\n",
    "\n",
    "\n",
    "async def baseline_model(client, data_objects, model_name):\n",
    "    res = []\n",
    "    batch_size = max(1, len(data_objects) // 15)  # Calculate batch size as 1/10 of data_objects\n",
    "    for i in range(0, len(data_objects), batch_size):\n",
    "        batch = data_objects[i:i + batch_size]\n",
    "        tasks = [fetch_completion(client, obj, model_name, i + j) for j, obj in enumerate(batch)]\n",
    "        for result in tqdm_asyncio.as_completed(tasks, desc='Processing data_objects'):\n",
    "            result_data = await result\n",
    "            res.append(result_data)\n",
    "    return res\n",
    "    \n",
    "def write_results_to_csv(results, file_path):\n",
    "    os.makedirs(file_path, exist_ok=True)\n",
    "    submit_path = os.path.join(file_path, \"submit.csv\")\n",
    "    \n",
    "    # CSV header\n",
    "    headers = [\"数据编号\", \"评判维度\", \"预测分数\"]\n",
    "    \n",
    "    # Write results to CSV file\n",
    "    with open(submit_path, 'w', newline='', encoding='utf-8') as csvfile:\n",
    "        writer = csv.writer(csvfile)\n",
    "        \n",
    "        # Write the header\n",
    "        writer.writerow(headers)\n",
    "        \n",
    "        # Write each result as a row\n",
    "        for result in results:\n",
    "            writer.writerow([result[\"data_id\"], result[\"evaluation_dimension\"], result[\"score\"]])\n",
    "\n",
    "\n",
    "async def main():\n",
    "    \n",
    "    client = AsyncOpenAI(api_key='sk-wjkljhfdhajfhkadfkh',\n",
    "                         base_url='http://0.0.0.0:23333/v1')\n",
    "    model_cards = await client.models.list()._get_page()\n",
    "    model_name = model_cards.data[0].id\n",
    "    res = await baseline_model(client, data_objects, model_name)\n",
    "    return res\n"
   ]
  },
  {
   "cell_type": "code",
   "execution_count": 4,
   "metadata": {
    "scrolled": true
   },
   "outputs": [
    {
     "name": "stderr",
     "output_type": "stream",
     "text": [
      "Processing data_objects:   0%|          | 1/203 [00:18<1:02:11, 18.47s/it]"
     ]
    },
    {
     "name": "stdout",
     "output_type": "stream",
     "text": [
      "第 163 条数据用时: 18.29 秒\n"
     ]
    },
    {
     "name": "stderr",
     "output_type": "stream",
     "text": [
      "Processing data_objects:   1%|          | 2/203 [00:27<43:02, 12.85s/it]  "
     ]
    },
    {
     "name": "stdout",
     "output_type": "stream",
     "text": [
      "第 111 条数据用时: 26.96 秒\n"
     ]
    },
    {
     "name": "stderr",
     "output_type": "stream",
     "text": [
      "Processing data_objects:   1%|▏         | 3/203 [00:30<27:16,  8.18s/it]"
     ]
    },
    {
     "name": "stdout",
     "output_type": "stream",
     "text": [
      "第 161 条数据用时: 29.86 秒\n"
     ]
    },
    {
     "name": "stderr",
     "output_type": "stream",
     "text": [
      "Processing data_objects:   2%|▏         | 4/203 [00:33<21:27,  6.47s/it]"
     ]
    },
    {
     "name": "stdout",
     "output_type": "stream",
     "text": [
      "第 185 条数据用时: 33.41 秒\n"
     ]
    },
    {
     "name": "stderr",
     "output_type": "stream",
     "text": [
      "Processing data_objects:   2%|▏         | 5/203 [00:35<16:09,  4.90s/it]"
     ]
    },
    {
     "name": "stdout",
     "output_type": "stream",
     "text": [
      "第 155 条数据用时: 35.88 秒\n"
     ]
    },
    {
     "name": "stderr",
     "output_type": "stream",
     "text": [
      "Processing data_objects:   3%|▎         | 6/203 [00:37<12:37,  3.84s/it]"
     ]
    },
    {
     "name": "stdout",
     "output_type": "stream",
     "text": [
      "第 153 条数据用时: 37.70 秒\n"
     ]
    },
    {
     "name": "stderr",
     "output_type": "stream",
     "text": [
      "Processing data_objects:   3%|▎         | 7/203 [00:38<08:46,  2.69s/it]"
     ]
    },
    {
     "name": "stdout",
     "output_type": "stream",
     "text": [
      "第 67 条数据用时: 37.99 秒\n"
     ]
    },
    {
     "name": "stderr",
     "output_type": "stream",
     "text": [
      "Processing data_objects:   4%|▍         | 8/203 [00:38<06:41,  2.06s/it]"
     ]
    },
    {
     "name": "stdout",
     "output_type": "stream",
     "text": [
      "第 180 条数据用时: 38.39 秒\n"
     ]
    },
    {
     "name": "stderr",
     "output_type": "stream",
     "text": [
      "Processing data_objects:   4%|▍         | 9/203 [00:39<05:01,  1.55s/it]"
     ]
    },
    {
     "name": "stdout",
     "output_type": "stream",
     "text": [
      "第 38 条数据用时: 38.81 秒\n",
      "第 196 条数据用时: 38.64 秒\n",
      "第 154 条数据用时: 39.15 秒\n",
      "第 162 条数据用时: 39.06 秒\n"
     ]
    },
    {
     "name": "stderr",
     "output_type": "stream",
     "text": [
      "Processing data_objects:   6%|▋         | 13/203 [00:40<02:29,  1.27it/s]"
     ]
    },
    {
     "name": "stdout",
     "output_type": "stream",
     "text": [
      "第 34 条数据用时: 40.21 秒\n"
     ]
    },
    {
     "name": "stderr",
     "output_type": "stream",
     "text": [
      "Processing data_objects:   7%|▋         | 14/203 [00:41<02:15,  1.40it/s]"
     ]
    },
    {
     "name": "stdout",
     "output_type": "stream",
     "text": [
      "第 187 条数据用时: 40.60 秒\n",
      "第 54 条数据用时: 40.90 秒\n"
     ]
    },
    {
     "name": "stderr",
     "output_type": "stream",
     "text": [
      "Processing data_objects:   8%|▊         | 16/203 [00:41<01:37,  1.92it/s]"
     ]
    },
    {
     "name": "stdout",
     "output_type": "stream",
     "text": [
      "第 65 条数据用时: 41.29 秒\n"
     ]
    },
    {
     "name": "stderr",
     "output_type": "stream",
     "text": [
      "Processing data_objects:   8%|▊         | 17/203 [00:42<01:50,  1.69it/s]"
     ]
    },
    {
     "name": "stdout",
     "output_type": "stream",
     "text": [
      "第 156 条数据用时: 42.17 秒\n"
     ]
    },
    {
     "name": "stderr",
     "output_type": "stream",
     "text": [
      "Processing data_objects:   9%|▉         | 18/203 [00:42<01:37,  1.91it/s]"
     ]
    },
    {
     "name": "stdout",
     "output_type": "stream",
     "text": [
      "第 135 条数据用时: 42.42 秒\n",
      "第 129 条数据用时: 42.35 秒\n"
     ]
    },
    {
     "name": "stderr",
     "output_type": "stream",
     "text": [
      "Processing data_objects:  10%|▉         | 20/203 [00:43<01:22,  2.22it/s]"
     ]
    },
    {
     "name": "stdout",
     "output_type": "stream",
     "text": [
      "第 52 条数据用时: 42.96 秒\n"
     ]
    },
    {
     "name": "stderr",
     "output_type": "stream",
     "text": [
      "Processing data_objects:  10%|█         | 21/203 [00:43<01:14,  2.46it/s]"
     ]
    },
    {
     "name": "stdout",
     "output_type": "stream",
     "text": [
      "第 137 条数据用时: 43.36 秒\n",
      "第 37 条数据用时: 43.04 秒\n"
     ]
    },
    {
     "name": "stderr",
     "output_type": "stream",
     "text": [
      "Processing data_objects:  12%|█▏        | 25/203 [00:44<00:48,  3.69it/s]"
     ]
    },
    {
     "name": "stdout",
     "output_type": "stream",
     "text": [
      "第 182 条数据用时: 43.77 秒\n",
      "第 177 条数据用时: 43.89 秒\n",
      "第 3 条数据用时: 44.23 秒\n"
     ]
    },
    {
     "name": "stderr",
     "output_type": "stream",
     "text": [
      "Processing data_objects:  13%|█▎        | 26/203 [00:44<00:54,  3.27it/s]"
     ]
    },
    {
     "name": "stdout",
     "output_type": "stream",
     "text": [
      "第 183 条数据用时: 44.31 秒\n"
     ]
    },
    {
     "name": "stderr",
     "output_type": "stream",
     "text": [
      "Processing data_objects:  13%|█▎        | 27/203 [00:45<01:02,  2.80it/s]"
     ]
    },
    {
     "name": "stdout",
     "output_type": "stream",
     "text": [
      "第 181 条数据用时: 44.87 秒\n",
      "第 36 条数据用时: 44.83 秒\n"
     ]
    },
    {
     "name": "stderr",
     "output_type": "stream",
     "text": [
      "Processing data_objects:  14%|█▍        | 29/203 [00:45<00:53,  3.25it/s]"
     ]
    },
    {
     "name": "stdout",
     "output_type": "stream",
     "text": [
      "第 127 条数据用时: 45.51 秒\n",
      "第 63 条数据用时: 45.66 秒\n",
      "第 62 条数据用时: 45.64 秒\n",
      "第 117 条数据用时: 45.42 秒\n"
     ]
    },
    {
     "name": "stderr",
     "output_type": "stream",
     "text": [
      "Processing data_objects:  18%|█▊        | 36/203 [00:46<00:31,  5.35it/s]"
     ]
    },
    {
     "name": "stdout",
     "output_type": "stream",
     "text": [
      "第 164 条数据用时: 46.44 秒\n",
      "第 115 条数据用时: 46.30 秒\n",
      "第 71 条数据用时: 46.70 秒\n",
      "第 132 条数据用时: 46.62 秒\n"
     ]
    },
    {
     "name": "stderr",
     "output_type": "stream",
     "text": [
      "Processing data_objects:  19%|█▉        | 39/203 [00:47<00:35,  4.64it/s]"
     ]
    },
    {
     "name": "stdout",
     "output_type": "stream",
     "text": [
      "第 44 条数据用时: 47.28 秒\n",
      "第 70 条数据用时: 47.65 秒\n",
      "第 174 条数据用时: 47.42 秒\n",
      "第 160 条数据用时: 47.81 秒\n"
     ]
    },
    {
     "name": "stderr",
     "output_type": "stream",
     "text": [
      "Processing data_objects:  22%|██▏       | 44/203 [00:48<00:30,  5.23it/s]"
     ]
    },
    {
     "name": "stdout",
     "output_type": "stream",
     "text": [
      "第 60 条数据用时: 48.46 秒\n",
      "第 149 条数据用时: 48.59 秒\n",
      "第 105 条数据用时: 48.16 秒\n",
      "第 109 条数据用时: 48.32 秒\n"
     ]
    },
    {
     "name": "stderr",
     "output_type": "stream",
     "text": [
      "Processing data_objects:  23%|██▎       | 46/203 [00:49<00:35,  4.42it/s]"
     ]
    },
    {
     "name": "stdout",
     "output_type": "stream",
     "text": [
      "第 110 条数据用时: 48.97 秒\n",
      "第 172 条数据用时: 49.10 秒\n"
     ]
    },
    {
     "name": "stderr",
     "output_type": "stream",
     "text": [
      "Processing data_objects:  23%|██▎       | 47/203 [00:50<00:46,  3.36it/s]"
     ]
    },
    {
     "name": "stdout",
     "output_type": "stream",
     "text": [
      "第 32 条数据用时: 49.58 秒\n"
     ]
    },
    {
     "name": "stderr",
     "output_type": "stream",
     "text": [
      "Processing data_objects:  24%|██▎       | 48/203 [00:50<00:48,  3.19it/s]"
     ]
    },
    {
     "name": "stdout",
     "output_type": "stream",
     "text": [
      "第 58 条数据用时: 50.28 秒\n",
      "第 116 条数据用时: 50.19 秒\n"
     ]
    },
    {
     "name": "stderr",
     "output_type": "stream",
     "text": [
      "Processing data_objects:  25%|██▍       | 50/203 [00:51<00:52,  2.94it/s]"
     ]
    },
    {
     "name": "stdout",
     "output_type": "stream",
     "text": [
      "第 56 条数据用时: 51.03 秒\n"
     ]
    },
    {
     "name": "stderr",
     "output_type": "stream",
     "text": [
      "Processing data_objects:  25%|██▌       | 51/203 [00:51<00:54,  2.77it/s]"
     ]
    },
    {
     "name": "stdout",
     "output_type": "stream",
     "text": [
      "第 121 条数据用时: 51.37 秒\n"
     ]
    },
    {
     "name": "stderr",
     "output_type": "stream",
     "text": [
      "Processing data_objects:  26%|██▌       | 53/203 [00:52<00:50,  2.96it/s]"
     ]
    },
    {
     "name": "stdout",
     "output_type": "stream",
     "text": [
      "第 49 条数据用时: 51.97 秒\n",
      "第 72 条数据用时: 52.35 秒\n"
     ]
    },
    {
     "name": "stderr",
     "output_type": "stream",
     "text": [
      "Processing data_objects:  27%|██▋       | 54/203 [00:52<01:00,  2.48it/s]"
     ]
    },
    {
     "name": "stdout",
     "output_type": "stream",
     "text": [
      "第 113 条数据用时: 52.57 秒\n",
      "第 169 条数据用时: 52.71 秒\n",
      "第 45 条数据用时: 52.68 秒\n"
     ]
    },
    {
     "name": "stderr",
     "output_type": "stream",
     "text": [
      "Processing data_objects:  28%|██▊       | 57/203 [00:53<00:47,  3.05it/s]"
     ]
    },
    {
     "name": "stdout",
     "output_type": "stream",
     "text": [
      "第 74 条数据用时: 53.74 秒\n",
      "第 108 条数据用时: 53.33 秒\n"
     ]
    },
    {
     "name": "stderr",
     "output_type": "stream",
     "text": [
      "Processing data_objects:  29%|██▉       | 59/203 [00:54<00:48,  2.96it/s]"
     ]
    },
    {
     "name": "stdout",
     "output_type": "stream",
     "text": [
      "第 35 条数据用时: 54.00 秒\n"
     ]
    },
    {
     "name": "stderr",
     "output_type": "stream",
     "text": [
      "Processing data_objects:  30%|██▉       | 60/203 [00:54<00:52,  2.70it/s]"
     ]
    },
    {
     "name": "stdout",
     "output_type": "stream",
     "text": [
      "第 176 条数据用时: 54.62 秒\n",
      "第 143 条数据用时: 54.48 秒\n",
      "第 168 条数据用时: 54.77 秒\n"
     ]
    },
    {
     "name": "stderr",
     "output_type": "stream",
     "text": [
      "Processing data_objects:  31%|███       | 63/203 [00:55<00:39,  3.59it/s]"
     ]
    },
    {
     "name": "stdout",
     "output_type": "stream",
     "text": [
      "第 167 条数据用时: 55.23 秒\n"
     ]
    },
    {
     "name": "stderr",
     "output_type": "stream",
     "text": [
      "Processing data_objects:  33%|███▎      | 66/203 [00:56<00:33,  4.15it/s]"
     ]
    },
    {
     "name": "stdout",
     "output_type": "stream",
     "text": [
      "第 120 条数据用时: 55.67 秒\n",
      "第 46 条数据用时: 55.72 秒\n",
      "第 124 条数据用时: 55.88 秒\n"
     ]
    },
    {
     "name": "stderr",
     "output_type": "stream",
     "text": [
      "Processing data_objects:  33%|███▎      | 68/203 [00:56<00:38,  3.51it/s]"
     ]
    },
    {
     "name": "stdout",
     "output_type": "stream",
     "text": [
      "第 188 条数据用时: 56.38 秒\n",
      "第 126 条数据用时: 56.74 秒\n"
     ]
    },
    {
     "name": "stderr",
     "output_type": "stream",
     "text": [
      "Processing data_objects:  34%|███▍      | 69/203 [00:57<00:37,  3.56it/s]"
     ]
    },
    {
     "name": "stdout",
     "output_type": "stream",
     "text": [
      "第 158 条数据用时: 57.12 秒\n"
     ]
    },
    {
     "name": "stderr",
     "output_type": "stream",
     "text": [
      "Processing data_objects:  34%|███▍      | 70/203 [00:57<00:50,  2.64it/s]"
     ]
    },
    {
     "name": "stdout",
     "output_type": "stream",
     "text": [
      "第 130 条数据用时: 57.72 秒\n"
     ]
    },
    {
     "name": "stderr",
     "output_type": "stream",
     "text": [
      "Processing data_objects:  36%|███▌      | 73/203 [00:58<00:31,  4.18it/s]"
     ]
    },
    {
     "name": "stdout",
     "output_type": "stream",
     "text": [
      "第 134 条数据用时: 58.09 秒\n",
      "第 125 条数据用时: 58.08 秒\n",
      "第 50 条数据用时: 58.11 秒\n",
      "第 184 条数据用时: 57.95 秒\n"
     ]
    },
    {
     "name": "stderr",
     "output_type": "stream",
     "text": [
      "Processing data_objects:  37%|███▋      | 75/203 [00:59<00:44,  2.86it/s]"
     ]
    },
    {
     "name": "stdout",
     "output_type": "stream",
     "text": [
      "第 157 条数据用时: 59.33 秒\n",
      "第 186 条数据用时: 59.04 秒\n"
     ]
    },
    {
     "name": "stderr",
     "output_type": "stream",
     "text": [
      "Processing data_objects:  39%|███▉      | 79/203 [01:00<00:33,  3.73it/s]"
     ]
    },
    {
     "name": "stdout",
     "output_type": "stream",
     "text": [
      "第 59 条数据用时: 60.13 秒\n",
      "第 2 条数据用时: 60.18 秒\n",
      "第 141 条数据用时: 59.90 秒\n"
     ]
    },
    {
     "name": "stderr",
     "output_type": "stream",
     "text": [
      "Processing data_objects:  39%|███▉      | 80/203 [01:00<00:29,  4.21it/s]"
     ]
    },
    {
     "name": "stdout",
     "output_type": "stream",
     "text": [
      "第 171 条数据用时: 60.22 秒\n"
     ]
    },
    {
     "name": "stderr",
     "output_type": "stream",
     "text": [
      "Processing data_objects:  40%|███▉      | 81/203 [01:00<00:32,  3.75it/s]"
     ]
    },
    {
     "name": "stdout",
     "output_type": "stream",
     "text": [
      "第 138 条数据用时: 60.82 秒\n",
      "第 107 条数据用时: 60.41 秒\n"
     ]
    },
    {
     "name": "stderr",
     "output_type": "stream",
     "text": [
      "Processing data_objects:  41%|████      | 83/203 [01:01<00:25,  4.64it/s]"
     ]
    },
    {
     "name": "stdout",
     "output_type": "stream",
     "text": [
      "第 139 条数据用时: 61.10 秒\n"
     ]
    },
    {
     "name": "stderr",
     "output_type": "stream",
     "text": [
      "Processing data_objects:  41%|████▏     | 84/203 [01:01<00:25,  4.66it/s]"
     ]
    },
    {
     "name": "stdout",
     "output_type": "stream",
     "text": [
      "第 178 条数据用时: 60.99 秒\n"
     ]
    },
    {
     "name": "stderr",
     "output_type": "stream",
     "text": [
      "Processing data_objects:  43%|████▎     | 88/203 [01:02<00:32,  3.55it/s]"
     ]
    },
    {
     "name": "stdout",
     "output_type": "stream",
     "text": [
      "第 42 条数据用时: 62.47 秒\n",
      "第 66 条数据用时: 62.81 秒\n",
      "第 69 条数据用时: 62.85 秒\n",
      "第 61 条数据用时: 62.86 秒\n",
      "第 114 条数据用时: 62.66 秒\n"
     ]
    },
    {
     "name": "stderr",
     "output_type": "stream",
     "text": [
      "Processing data_objects:  44%|████▍     | 90/203 [01:03<00:26,  4.29it/s]"
     ]
    },
    {
     "name": "stdout",
     "output_type": "stream",
     "text": [
      "第 27 条数据用时: 62.65 秒\n",
      "第 43 条数据用时: 62.90 秒\n"
     ]
    },
    {
     "name": "stderr",
     "output_type": "stream",
     "text": [
      "Processing data_objects:  45%|████▌     | 92/203 [01:03<00:24,  4.46it/s]"
     ]
    },
    {
     "name": "stdout",
     "output_type": "stream",
     "text": [
      "第 39 条数据用时: 63.27 秒\n"
     ]
    },
    {
     "name": "stderr",
     "output_type": "stream",
     "text": [
      "Processing data_objects:  46%|████▌     | 93/203 [01:04<00:30,  3.60it/s]"
     ]
    },
    {
     "name": "stdout",
     "output_type": "stream",
     "text": [
      "第 119 条数据用时: 63.86 秒\n",
      "第 96 条数据用时: 63.62 秒\n"
     ]
    },
    {
     "name": "stderr",
     "output_type": "stream",
     "text": [
      "Processing data_objects:  47%|████▋     | 95/203 [01:04<00:24,  4.43it/s]"
     ]
    },
    {
     "name": "stdout",
     "output_type": "stream",
     "text": [
      "第 53 条数据用时: 64.20 秒\n"
     ]
    },
    {
     "name": "stderr",
     "output_type": "stream",
     "text": [
      "Processing data_objects:  49%|████▉     | 99/203 [01:04<00:17,  6.00it/s]"
     ]
    },
    {
     "name": "stdout",
     "output_type": "stream",
     "text": [
      "第 68 条数据用时: 64.73 秒\n",
      "第 136 条数据用时: 64.68 秒\n",
      "第 41 条数据用时: 64.43 秒\n",
      "第 131 条数据用时: 64.82 秒\n"
     ]
    },
    {
     "name": "stderr",
     "output_type": "stream",
     "text": [
      "Processing data_objects:  49%|████▉     | 100/203 [01:05<00:21,  4.78it/s]"
     ]
    },
    {
     "name": "stdout",
     "output_type": "stream",
     "text": [
      "第 51 条数据用时: 65.13 秒\n"
     ]
    },
    {
     "name": "stderr",
     "output_type": "stream",
     "text": [
      "Processing data_objects:  50%|████▉     | 101/203 [01:05<00:24,  4.21it/s]"
     ]
    },
    {
     "name": "stdout",
     "output_type": "stream",
     "text": [
      "第 133 条数据用时: 65.59 秒\n"
     ]
    },
    {
     "name": "stderr",
     "output_type": "stream",
     "text": [
      "Processing data_objects:  51%|█████     | 104/203 [01:06<00:19,  5.12it/s]"
     ]
    },
    {
     "name": "stdout",
     "output_type": "stream",
     "text": [
      "第 128 条数据用时: 65.93 秒\n",
      "第 97 条数据用时: 65.55 秒\n",
      "第 89 条数据用时: 65.60 秒\n"
     ]
    },
    {
     "name": "stderr",
     "output_type": "stream",
     "text": [
      "Processing data_objects:  52%|█████▏    | 105/203 [01:06<00:24,  4.01it/s]"
     ]
    },
    {
     "name": "stdout",
     "output_type": "stream",
     "text": [
      "第 11 条数据用时: 66.01 秒\n"
     ]
    },
    {
     "name": "stderr",
     "output_type": "stream",
     "text": [
      "Processing data_objects:  54%|█████▍    | 110/203 [01:07<00:13,  6.78it/s]"
     ]
    },
    {
     "name": "stdout",
     "output_type": "stream",
     "text": [
      "第 19 条数据用时: 66.53 秒\n",
      "第 140 条数据用时: 67.13 秒\n",
      "第 86 条数据用时: 66.46 秒\n",
      "第 195 条数据用时: 66.60 秒\n",
      "第 198 条数据用时: 66.70 秒\n"
     ]
    },
    {
     "name": "stderr",
     "output_type": "stream",
     "text": [
      "Processing data_objects:  55%|█████▌    | 112/203 [01:07<00:12,  7.55it/s]"
     ]
    },
    {
     "name": "stdout",
     "output_type": "stream",
     "text": [
      "第 122 条数据用时: 67.08 秒\n",
      "第 84 条数据用时: 66.78 秒\n",
      "第 147 条数据用时: 67.55 秒\n"
     ]
    },
    {
     "name": "stderr",
     "output_type": "stream",
     "text": [
      "Processing data_objects:  56%|█████▌    | 114/203 [01:07<00:11,  7.79it/s]"
     ]
    },
    {
     "name": "stdout",
     "output_type": "stream",
     "text": [
      "第 201 条数据用时: 67.10 秒\n"
     ]
    },
    {
     "name": "stderr",
     "output_type": "stream",
     "text": [
      "Processing data_objects:  57%|█████▋    | 116/203 [01:08<00:17,  4.87it/s]"
     ]
    },
    {
     "name": "stdout",
     "output_type": "stream",
     "text": [
      "第 170 条数据用时: 68.13 秒\n",
      "第 82 条数据用时: 67.81 秒\n",
      "第 93 条数据用时: 67.95 秒\n"
     ]
    },
    {
     "name": "stderr",
     "output_type": "stream",
     "text": [
      "Processing data_objects:  58%|█████▊    | 118/203 [01:08<00:13,  6.11it/s]"
     ]
    },
    {
     "name": "stdout",
     "output_type": "stream",
     "text": [
      "第 179 条数据用时: 68.35 秒\n"
     ]
    },
    {
     "name": "stderr",
     "output_type": "stream",
     "text": [
      "Processing data_objects:  59%|█████▉    | 120/203 [01:09<00:14,  5.82it/s]"
     ]
    },
    {
     "name": "stdout",
     "output_type": "stream",
     "text": [
      "第 20 条数据用时: 68.31 秒\n",
      "第 30 条数据用时: 68.59 秒\n"
     ]
    },
    {
     "name": "stderr",
     "output_type": "stream",
     "text": [
      "Processing data_objects:  60%|█████▉    | 121/203 [01:09<00:13,  6.10it/s]"
     ]
    },
    {
     "name": "stdout",
     "output_type": "stream",
     "text": [
      "第 26 条数据用时: 68.69 秒\n"
     ]
    },
    {
     "name": "stderr",
     "output_type": "stream",
     "text": [
      "Processing data_objects:  60%|██████    | 122/203 [01:09<00:14,  5.59it/s]"
     ]
    },
    {
     "name": "stdout",
     "output_type": "stream",
     "text": [
      "第 200 条数据用时: 68.84 秒\n",
      "第 150 条数据用时: 69.49 秒\n"
     ]
    },
    {
     "name": "stderr",
     "output_type": "stream",
     "text": [
      "Processing data_objects:  61%|██████    | 124/203 [01:09<00:13,  5.90it/s]"
     ]
    },
    {
     "name": "stdout",
     "output_type": "stream",
     "text": [
      "第 28 条数据用时: 69.24 秒\n"
     ]
    },
    {
     "name": "stderr",
     "output_type": "stream",
     "text": [
      "Processing data_objects:  63%|██████▎   | 127/203 [01:10<00:11,  6.60it/s]"
     ]
    },
    {
     "name": "stdout",
     "output_type": "stream",
     "text": [
      "第 13 条数据用时: 69.34 秒\n",
      "第 192 条数据用时: 69.50 秒\n",
      "第 145 条数据用时: 70.03 秒\n"
     ]
    },
    {
     "name": "stderr",
     "output_type": "stream",
     "text": [
      "Processing data_objects:  64%|██████▍   | 130/203 [01:10<00:07,  9.60it/s]"
     ]
    },
    {
     "name": "stdout",
     "output_type": "stream",
     "text": [
      "第 151 条数据用时: 70.24 秒\n",
      "第 165 条数据用时: 70.12 秒\n",
      "第 159 条数据用时: 70.25 秒\n",
      "第 203 条数据用时: 69.80 秒\n"
     ]
    },
    {
     "name": "stderr",
     "output_type": "stream",
     "text": [
      "Processing data_objects:  66%|██████▌   | 134/203 [01:10<00:06, 10.24it/s]"
     ]
    },
    {
     "name": "stdout",
     "output_type": "stream",
     "text": [
      "第 31 条数据用时: 70.11 秒\n",
      "第 104 条数据用时: 70.11 秒\n",
      "第 173 条数据用时: 70.46 秒\n"
     ]
    },
    {
     "name": "stderr",
     "output_type": "stream",
     "text": [
      "Processing data_objects:  67%|██████▋   | 136/203 [01:10<00:06, 10.25it/s]"
     ]
    },
    {
     "name": "stdout",
     "output_type": "stream",
     "text": [
      "第 166 条数据用时: 70.64 秒\n",
      "第 22 条数据用时: 70.34 秒\n",
      "第 88 条数据用时: 70.26 秒\n",
      "第 8 条数据用时: 70.21 秒\n",
      "第 73 条数据用时: 71.03 秒\n",
      "第 14 条数据用时: 70.35 秒\n"
     ]
    },
    {
     "name": "stderr",
     "output_type": "stream",
     "text": [
      "Processing data_objects:  70%|███████   | 143/203 [01:11<00:04, 14.03it/s]"
     ]
    },
    {
     "name": "stdout",
     "output_type": "stream",
     "text": [
      "第 23 条数据用时: 70.53 秒\n",
      "第 55 条数据用时: 71.00 秒\n",
      "第 92 条数据用时: 70.67 秒\n"
     ]
    },
    {
     "name": "stderr",
     "output_type": "stream",
     "text": [
      "Processing data_objects:  71%|███████▏  | 145/203 [01:11<00:04, 13.45it/s]"
     ]
    },
    {
     "name": "stdout",
     "output_type": "stream",
     "text": [
      "第 106 条数据用时: 71.01 秒\n",
      "第 83 条数据用时: 70.76 秒\n"
     ]
    },
    {
     "name": "stderr",
     "output_type": "stream",
     "text": [
      "Processing data_objects:  72%|███████▏  | 147/203 [01:11<00:06,  8.54it/s]"
     ]
    },
    {
     "name": "stdout",
     "output_type": "stream",
     "text": [
      "第 118 条数据用时: 71.44 秒\n",
      "第 148 条数据用时: 71.96 秒\n",
      "第 123 条数据用时: 71.85 秒\n"
     ]
    },
    {
     "name": "stderr",
     "output_type": "stream",
     "text": [
      "Processing data_objects:  75%|███████▍  | 152/203 [01:12<00:05,  8.87it/s]"
     ]
    },
    {
     "name": "stdout",
     "output_type": "stream",
     "text": [
      "第 15 条数据用时: 71.80 秒\n",
      "第 94 条数据用时: 71.86 秒\n",
      "第 95 条数据用时: 71.95 秒\n",
      "第 101 条数据用时: 72.06 秒\n",
      "第 91 条数据用时: 72.10 秒\n"
     ]
    },
    {
     "name": "stderr",
     "output_type": "stream",
     "text": [
      "Processing data_objects:  76%|███████▌  | 154/203 [01:13<00:06,  7.16it/s]"
     ]
    },
    {
     "name": "stdout",
     "output_type": "stream",
     "text": [
      "第 152 条数据用时: 72.99 秒\n",
      "第 100 条数据用时: 72.52 秒\n"
     ]
    },
    {
     "name": "stderr",
     "output_type": "stream",
     "text": [
      "Processing data_objects:  77%|███████▋  | 156/203 [01:13<00:06,  7.50it/s]"
     ]
    },
    {
     "name": "stdout",
     "output_type": "stream",
     "text": [
      "第 85 条数据用时: 72.55 秒\n",
      "第 64 条数据用时: 73.37 秒\n"
     ]
    },
    {
     "name": "stderr",
     "output_type": "stream",
     "text": [
      "Processing data_objects:  78%|███████▊  | 159/203 [01:14<00:08,  5.47it/s]"
     ]
    },
    {
     "name": "stdout",
     "output_type": "stream",
     "text": [
      "第 199 条数据用时: 73.27 秒\n",
      "第 189 条数据用时: 73.57 秒\n"
     ]
    },
    {
     "name": "stderr",
     "output_type": "stream",
     "text": [
      "Processing data_objects:  79%|███████▉  | 160/203 [01:14<00:07,  5.65it/s]"
     ]
    },
    {
     "name": "stdout",
     "output_type": "stream",
     "text": [
      "第 18 条数据用时: 73.57 秒\n",
      "第 102 条数据用时: 73.77 秒\n"
     ]
    },
    {
     "name": "stderr",
     "output_type": "stream",
     "text": [
      "Processing data_objects:  80%|███████▉  | 162/203 [01:14<00:08,  4.65it/s]"
     ]
    },
    {
     "name": "stdout",
     "output_type": "stream",
     "text": [
      "第 81 条数据用时: 74.05 秒\n",
      "第 12 条数据用时: 74.08 秒\n",
      "第 193 条数据用时: 74.24 秒\n",
      "第 16 条数据用时: 74.18 秒\n"
     ]
    },
    {
     "name": "stderr",
     "output_type": "stream",
     "text": [
      "Processing data_objects:  83%|████████▎ | 169/203 [01:15<00:03,  8.82it/s]"
     ]
    },
    {
     "name": "stdout",
     "output_type": "stream",
     "text": [
      "第 5 条数据用时: 74.41 秒\n",
      "第 79 条数据用时: 74.49 秒\n",
      "第 99 条数据用时: 74.68 秒\n",
      "第 190 条数据用时: 74.77 秒\n",
      "第 57 条数据用时: 75.10 秒\n",
      "第 21 条数据用时: 74.73 秒\n"
     ]
    },
    {
     "name": "stderr",
     "output_type": "stream",
     "text": [
      "Processing data_objects:  85%|████████▍ | 172/203 [01:15<00:03,  9.27it/s]"
     ]
    },
    {
     "name": "stdout",
     "output_type": "stream",
     "text": [
      "第 6 条数据用时: 74.82 秒\n",
      "第 9 条数据用时: 75.03 秒\n"
     ]
    },
    {
     "name": "stderr",
     "output_type": "stream",
     "text": [
      "Processing data_objects:  86%|████████▌ | 174/203 [01:16<00:04,  7.15it/s]"
     ]
    },
    {
     "name": "stdout",
     "output_type": "stream",
     "text": [
      "第 175 条数据用时: 75.73 秒\n",
      "第 87 条数据用时: 76.16 秒\n"
     ]
    },
    {
     "name": "stderr",
     "output_type": "stream",
     "text": [
      "Processing data_objects:  87%|████████▋ | 177/203 [01:17<00:05,  4.57it/s]"
     ]
    },
    {
     "name": "stdout",
     "output_type": "stream",
     "text": [
      "第 75 条数据用时: 76.32 秒\n",
      "第 197 条数据用时: 76.62 秒\n",
      "第 144 条数据用时: 76.85 秒\n"
     ]
    },
    {
     "name": "stderr",
     "output_type": "stream",
     "text": [
      "Processing data_objects:  88%|████████▊ | 179/203 [01:17<00:04,  5.59it/s]"
     ]
    },
    {
     "name": "stdout",
     "output_type": "stream",
     "text": [
      "第 47 条数据用时: 77.09 秒\n"
     ]
    },
    {
     "name": "stderr",
     "output_type": "stream",
     "text": [
      "Processing data_objects:  90%|████████▉ | 182/203 [01:17<00:03,  6.22it/s]"
     ]
    },
    {
     "name": "stdout",
     "output_type": "stream",
     "text": [
      "第 77 条数据用时: 76.90 秒\n",
      "第 146 条数据用时: 76.97 秒\n",
      "第 194 条数据用时: 77.29 秒\n"
     ]
    },
    {
     "name": "stderr",
     "output_type": "stream",
     "text": [
      "Processing data_objects:  90%|█████████ | 183/203 [01:18<00:04,  4.44it/s]"
     ]
    },
    {
     "name": "stdout",
     "output_type": "stream",
     "text": [
      "第 24 条数据用时: 77.77 秒\n",
      "第 29 条数据用时: 77.89 秒\n",
      "第 76 条数据用时: 77.77 秒\n"
     ]
    },
    {
     "name": "stderr",
     "output_type": "stream",
     "text": [
      "Processing data_objects:  92%|█████████▏| 187/203 [01:18<00:03,  5.32it/s]"
     ]
    },
    {
     "name": "stdout",
     "output_type": "stream",
     "text": [
      "第 40 条数据用时: 78.40 秒\n",
      "第 48 条数据用时: 78.67 秒\n"
     ]
    },
    {
     "name": "stderr",
     "output_type": "stream",
     "text": [
      "Processing data_objects:  93%|█████████▎| 189/203 [01:19<00:04,  3.40it/s]"
     ]
    },
    {
     "name": "stdout",
     "output_type": "stream",
     "text": [
      "第 90 条数据用时: 79.11 秒\n",
      "第 17 条数据用时: 79.27 秒\n"
     ]
    },
    {
     "name": "stderr",
     "output_type": "stream",
     "text": [
      "Processing data_objects:  94%|█████████▎| 190/203 [01:20<00:06,  2.02it/s]"
     ]
    },
    {
     "name": "stdout",
     "output_type": "stream",
     "text": [
      "第 10 条数据用时: 80.26 秒\n",
      "第 142 条数据用时: 80.50 秒\n"
     ]
    },
    {
     "name": "stderr",
     "output_type": "stream",
     "text": [
      "Processing data_objects:  95%|█████████▍| 192/203 [01:21<00:04,  2.45it/s]"
     ]
    },
    {
     "name": "stdout",
     "output_type": "stream",
     "text": [
      "第 78 条数据用时: 80.80 秒\n"
     ]
    },
    {
     "name": "stderr",
     "output_type": "stream",
     "text": [
      "Processing data_objects:  95%|█████████▌| 193/203 [01:22<00:05,  1.94it/s]"
     ]
    },
    {
     "name": "stdout",
     "output_type": "stream",
     "text": [
      "第 4 条数据用时: 81.66 秒\n",
      "第 191 条数据用时: 81.99 秒\n"
     ]
    },
    {
     "name": "stderr",
     "output_type": "stream",
     "text": [
      "Processing data_objects:  96%|█████████▌| 195/203 [01:22<00:03,  2.63it/s]"
     ]
    },
    {
     "name": "stdout",
     "output_type": "stream",
     "text": [
      "第 103 条数据用时: 82.27 秒\n"
     ]
    },
    {
     "name": "stderr",
     "output_type": "stream",
     "text": [
      "Processing data_objects:  97%|█████████▋| 196/203 [01:23<00:03,  2.27it/s]"
     ]
    },
    {
     "name": "stdout",
     "output_type": "stream",
     "text": [
      "第 33 条数据用时: 82.96 秒\n"
     ]
    },
    {
     "name": "stderr",
     "output_type": "stream",
     "text": [
      "Processing data_objects:  97%|█████████▋| 197/203 [01:24<00:03,  1.85it/s]"
     ]
    },
    {
     "name": "stdout",
     "output_type": "stream",
     "text": [
      "第 1 条数据用时: 84.06 秒\n"
     ]
    },
    {
     "name": "stderr",
     "output_type": "stream",
     "text": [
      "Processing data_objects:  98%|█████████▊| 199/203 [01:24<00:01,  2.62it/s]"
     ]
    },
    {
     "name": "stdout",
     "output_type": "stream",
     "text": [
      "第 25 条数据用时: 83.99 秒\n",
      "第 98 条数据用时: 84.12 秒\n",
      "第 202 条数据用时: 84.05 秒\n"
     ]
    },
    {
     "name": "stderr",
     "output_type": "stream",
     "text": [
      "Processing data_objects:  99%|█████████▉| 201/203 [01:27<00:01,  1.32it/s]"
     ]
    },
    {
     "name": "stdout",
     "output_type": "stream",
     "text": [
      "第 112 条数据用时: 86.80 秒\n"
     ]
    },
    {
     "name": "stderr",
     "output_type": "stream",
     "text": [
      "Processing data_objects: 100%|█████████▉| 202/203 [01:27<00:00,  1.47it/s]"
     ]
    },
    {
     "name": "stdout",
     "output_type": "stream",
     "text": [
      "第 7 条数据用时: 86.87 秒\n"
     ]
    },
    {
     "name": "stderr",
     "output_type": "stream",
     "text": [
      "Processing data_objects: 100%|██████████| 203/203 [01:35<00:00,  2.12it/s]\n"
     ]
    },
    {
     "name": "stdout",
     "output_type": "stream",
     "text": [
      "第 80 条数据用时: 95.13 秒\n"
     ]
    },
    {
     "name": "stderr",
     "output_type": "stream",
     "text": [
      "Processing data_objects:   0%|          | 1/203 [00:30<1:42:04, 30.32s/it]"
     ]
    },
    {
     "name": "stdout",
     "output_type": "stream",
     "text": [
      "第 253 条数据用时: 29.79 秒\n"
     ]
    },
    {
     "name": "stderr",
     "output_type": "stream",
     "text": [
      "Processing data_objects:   1%|          | 2/203 [00:30<42:56, 12.82s/it]  "
     ]
    },
    {
     "name": "stdout",
     "output_type": "stream",
     "text": [
      "第 211 条数据用时: 30.12 秒\n"
     ]
    },
    {
     "name": "stderr",
     "output_type": "stream",
     "text": [
      "Processing data_objects:   1%|▏         | 3/203 [00:32<26:18,  7.89s/it]"
     ]
    },
    {
     "name": "stdout",
     "output_type": "stream",
     "text": [
      "第 406 条数据用时: 32.35 秒\n"
     ]
    },
    {
     "name": "stderr",
     "output_type": "stream",
     "text": [
      "Processing data_objects:   2%|▏         | 4/203 [00:33<16:31,  4.98s/it]"
     ]
    },
    {
     "name": "stdout",
     "output_type": "stream",
     "text": [
      "第 268 条数据用时: 33.24 秒\n"
     ]
    },
    {
     "name": "stderr",
     "output_type": "stream",
     "text": [
      "Processing data_objects:   2%|▏         | 5/203 [00:33<10:56,  3.31s/it]"
     ]
    },
    {
     "name": "stdout",
     "output_type": "stream",
     "text": [
      "第 337 条数据用时: 33.35 秒\n"
     ]
    },
    {
     "name": "stderr",
     "output_type": "stream",
     "text": [
      "Processing data_objects:   3%|▎         | 6/203 [00:34<08:01,  2.44s/it]"
     ]
    },
    {
     "name": "stdout",
     "output_type": "stream",
     "text": [
      "第 369 条数据用时: 34.18 秒\n"
     ]
    },
    {
     "name": "stderr",
     "output_type": "stream",
     "text": [
      "Processing data_objects:   3%|▎         | 7/203 [00:35<06:01,  1.85s/it]"
     ]
    },
    {
     "name": "stdout",
     "output_type": "stream",
     "text": [
      "第 320 条数据用时: 34.99 秒\n"
     ]
    },
    {
     "name": "stderr",
     "output_type": "stream",
     "text": [
      "Processing data_objects:   4%|▍         | 8/203 [00:35<04:43,  1.45s/it]"
     ]
    },
    {
     "name": "stdout",
     "output_type": "stream",
     "text": [
      "第 367 条数据用时: 35.45 秒\n"
     ]
    },
    {
     "name": "stderr",
     "output_type": "stream",
     "text": [
      "Processing data_objects:   4%|▍         | 9/203 [00:36<03:52,  1.20s/it]"
     ]
    },
    {
     "name": "stdout",
     "output_type": "stream",
     "text": [
      "第 290 条数据用时: 36.17 秒\n"
     ]
    },
    {
     "name": "stderr",
     "output_type": "stream",
     "text": [
      "Processing data_objects:   5%|▍         | 10/203 [00:36<03:01,  1.06it/s]"
     ]
    },
    {
     "name": "stdout",
     "output_type": "stream",
     "text": [
      "第 395 条数据用时: 36.37 秒\n",
      "第 390 条数据用时: 36.51 秒\n"
     ]
    },
    {
     "name": "stderr",
     "output_type": "stream",
     "text": [
      "Processing data_objects:   6%|▋         | 13/203 [00:37<01:34,  2.02it/s]"
     ]
    },
    {
     "name": "stdout",
     "output_type": "stream",
     "text": [
      "第 263 条数据用时: 37.17 秒\n",
      "第 384 条数据用时: 36.63 秒\n"
     ]
    },
    {
     "name": "stderr",
     "output_type": "stream",
     "text": [
      "Processing data_objects:   7%|▋         | 14/203 [00:38<01:47,  1.76it/s]"
     ]
    },
    {
     "name": "stdout",
     "output_type": "stream",
     "text": [
      "第 291 条数据用时: 37.94 秒\n"
     ]
    },
    {
     "name": "stderr",
     "output_type": "stream",
     "text": [
      "Processing data_objects:   7%|▋         | 15/203 [00:38<01:39,  1.90it/s]"
     ]
    },
    {
     "name": "stdout",
     "output_type": "stream",
     "text": [
      "第 362 条数据用时: 38.34 秒\n"
     ]
    },
    {
     "name": "stderr",
     "output_type": "stream",
     "text": [
      "Processing data_objects:   8%|▊         | 16/203 [00:38<01:27,  2.14it/s]"
     ]
    },
    {
     "name": "stdout",
     "output_type": "stream",
     "text": [
      "第 289 条数据用时: 38.80 秒\n",
      "第 246 条数据用时: 38.13 秒\n"
     ]
    },
    {
     "name": "stderr",
     "output_type": "stream",
     "text": [
      "Processing data_objects:   9%|▉         | 18/203 [00:39<01:11,  2.59it/s]"
     ]
    },
    {
     "name": "stdout",
     "output_type": "stream",
     "text": [
      "第 308 条数据用时: 38.99 秒\n",
      "第 371 条数据用时: 39.20 秒\n"
     ]
    },
    {
     "name": "stderr",
     "output_type": "stream",
     "text": [
      "Processing data_objects:  10%|▉         | 20/203 [00:40<01:11,  2.55it/s]"
     ]
    },
    {
     "name": "stdout",
     "output_type": "stream",
     "text": [
      "第 325 条数据用时: 40.07 秒\n"
     ]
    },
    {
     "name": "stderr",
     "output_type": "stream",
     "text": [
      "Processing data_objects:  10%|█         | 21/203 [00:40<01:14,  2.44it/s]"
     ]
    },
    {
     "name": "stdout",
     "output_type": "stream",
     "text": [
      "第 405 条数据用时: 40.22 秒\n",
      "第 396 条数据用时: 40.40 秒\n"
     ]
    },
    {
     "name": "stderr",
     "output_type": "stream",
     "text": [
      "Processing data_objects:  11%|█▏        | 23/203 [00:41<01:15,  2.39it/s]"
     ]
    },
    {
     "name": "stdout",
     "output_type": "stream",
     "text": [
      "第 311 条数据用时: 41.56 秒\n",
      "第 356 条数据用时: 41.44 秒\n"
     ]
    },
    {
     "name": "stderr",
     "output_type": "stream",
     "text": [
      "Processing data_objects:  12%|█▏        | 25/203 [00:42<01:09,  2.56it/s]"
     ]
    },
    {
     "name": "stdout",
     "output_type": "stream",
     "text": [
      "第 339 条数据用时: 41.84 秒\n",
      "第 294 条数据用时: 42.07 秒\n"
     ]
    },
    {
     "name": "stderr",
     "output_type": "stream",
     "text": [
      "Processing data_objects:  13%|█▎        | 27/203 [00:42<01:01,  2.85it/s]"
     ]
    },
    {
     "name": "stdout",
     "output_type": "stream",
     "text": [
      "第 300 条数据用时: 42.47 秒\n",
      "第 255 条数据用时: 42.79 秒\n"
     ]
    },
    {
     "name": "stderr",
     "output_type": "stream",
     "text": [
      "Processing data_objects:  14%|█▍        | 29/203 [00:43<01:05,  2.66it/s]"
     ]
    },
    {
     "name": "stdout",
     "output_type": "stream",
     "text": [
      "第 225 条数据用时: 43.30 秒\n",
      "第 357 条数据用时: 43.57 秒\n",
      "第 276 条数据用时: 43.23 秒\n",
      "第 317 条数据用时: 43.64 秒\n"
     ]
    },
    {
     "name": "stderr",
     "output_type": "stream",
     "text": [
      "Processing data_objects:  16%|█▋        | 33/203 [00:44<00:53,  3.20it/s]"
     ]
    },
    {
     "name": "stdout",
     "output_type": "stream",
     "text": [
      "第 307 条数据用时: 44.23 秒\n"
     ]
    },
    {
     "name": "stderr",
     "output_type": "stream",
     "text": [
      "Processing data_objects:  17%|█▋        | 34/203 [00:45<00:58,  2.88it/s]"
     ]
    },
    {
     "name": "stdout",
     "output_type": "stream",
     "text": [
      "第 221 条数据用时: 44.85 秒\n"
     ]
    },
    {
     "name": "stderr",
     "output_type": "stream",
     "text": [
      "Processing data_objects:  17%|█▋        | 35/203 [00:45<00:58,  2.85it/s]"
     ]
    },
    {
     "name": "stdout",
     "output_type": "stream",
     "text": [
      "第 260 条数据用时: 45.48 秒\n",
      "第 391 条数据用时: 45.28 秒\n"
     ]
    },
    {
     "name": "stderr",
     "output_type": "stream",
     "text": [
      "Processing data_objects:  18%|█▊        | 37/203 [00:46<00:54,  3.02it/s]"
     ]
    },
    {
     "name": "stdout",
     "output_type": "stream",
     "text": [
      "第 331 条数据用时: 45.89 秒\n"
     ]
    },
    {
     "name": "stderr",
     "output_type": "stream",
     "text": [
      "Processing data_objects:  19%|█▊        | 38/203 [00:46<00:54,  3.05it/s]"
     ]
    },
    {
     "name": "stdout",
     "output_type": "stream",
     "text": [
      "第 301 条数据用时: 46.11 秒\n",
      "第 359 条数据用时: 46.27 秒\n"
     ]
    },
    {
     "name": "stderr",
     "output_type": "stream",
     "text": [
      "Processing data_objects:  20%|█▉        | 40/203 [00:47<00:51,  3.16it/s]"
     ]
    },
    {
     "name": "stdout",
     "output_type": "stream",
     "text": [
      "第 381 条数据用时: 46.33 秒\n"
     ]
    },
    {
     "name": "stderr",
     "output_type": "stream",
     "text": [
      "Processing data_objects:  20%|██        | 41/203 [00:47<00:48,  3.32it/s]"
     ]
    },
    {
     "name": "stdout",
     "output_type": "stream",
     "text": [
      "第 267 条数据用时: 47.15 秒\n",
      "第 258 条数据用时: 47.23 秒\n"
     ]
    },
    {
     "name": "stderr",
     "output_type": "stream",
     "text": [
      "Processing data_objects:  21%|██        | 43/203 [00:47<00:45,  3.55it/s]"
     ]
    },
    {
     "name": "stdout",
     "output_type": "stream",
     "text": [
      "第 222 条数据用时: 47.75 秒\n",
      "第 401 条数据用时: 47.34 秒\n"
     ]
    },
    {
     "name": "stderr",
     "output_type": "stream",
     "text": [
      "Processing data_objects:  22%|██▏       | 45/203 [00:48<00:43,  3.64it/s]"
     ]
    },
    {
     "name": "stdout",
     "output_type": "stream",
     "text": [
      "第 273 条数据用时: 48.26 秒\n"
     ]
    },
    {
     "name": "stderr",
     "output_type": "stream",
     "text": [
      "Processing data_objects:  23%|██▎       | 46/203 [00:48<00:42,  3.65it/s]"
     ]
    },
    {
     "name": "stdout",
     "output_type": "stream",
     "text": [
      "第 370 条数据用时: 48.25 秒\n"
     ]
    },
    {
     "name": "stderr",
     "output_type": "stream",
     "text": [
      "Processing data_objects:  23%|██▎       | 47/203 [00:48<00:41,  3.72it/s]"
     ]
    },
    {
     "name": "stdout",
     "output_type": "stream",
     "text": [
      "第 226 条数据用时: 48.39 秒\n"
     ]
    },
    {
     "name": "stderr",
     "output_type": "stream",
     "text": [
      "Processing data_objects:  24%|██▎       | 48/203 [00:49<00:41,  3.76it/s]"
     ]
    },
    {
     "name": "stdout",
     "output_type": "stream",
     "text": [
      "第 392 条数据用时: 48.78 秒\n"
     ]
    },
    {
     "name": "stderr",
     "output_type": "stream",
     "text": [
      "Processing data_objects:  24%|██▍       | 49/203 [00:49<00:49,  3.11it/s]"
     ]
    },
    {
     "name": "stdout",
     "output_type": "stream",
     "text": [
      "第 403 条数据用时: 49.10 秒\n",
      "第 252 条数据用时: 49.58 秒\n"
     ]
    },
    {
     "name": "stderr",
     "output_type": "stream",
     "text": [
      "Processing data_objects:  25%|██▌       | 51/203 [00:50<00:47,  3.19it/s]"
     ]
    },
    {
     "name": "stdout",
     "output_type": "stream",
     "text": [
      "第 265 条数据用时: 50.06 秒\n",
      "第 316 条数据用时: 50.17 秒\n"
     ]
    },
    {
     "name": "stderr",
     "output_type": "stream",
     "text": [
      "Processing data_objects:  26%|██▌       | 53/203 [00:50<00:46,  3.25it/s]"
     ]
    },
    {
     "name": "stdout",
     "output_type": "stream",
     "text": [
      "第 372 条数据用时: 50.42 秒\n"
     ]
    },
    {
     "name": "stderr",
     "output_type": "stream",
     "text": [
      "Processing data_objects:  27%|██▋       | 54/203 [00:51<00:48,  3.06it/s]"
     ]
    },
    {
     "name": "stdout",
     "output_type": "stream",
     "text": [
      "第 341 条数据用时: 50.70 秒\n",
      "第 334 条数据用时: 50.93 秒\n"
     ]
    },
    {
     "name": "stderr",
     "output_type": "stream",
     "text": [
      "Processing data_objects:  28%|██▊       | 56/203 [00:51<00:38,  3.84it/s]"
     ]
    },
    {
     "name": "stdout",
     "output_type": "stream",
     "text": [
      "第 269 条数据用时: 51.31 秒\n",
      "第 261 条数据用时: 51.38 秒\n"
     ]
    },
    {
     "name": "stderr",
     "output_type": "stream",
     "text": [
      "Processing data_objects:  29%|██▊       | 58/203 [00:51<00:30,  4.69it/s]"
     ]
    },
    {
     "name": "stdout",
     "output_type": "stream",
     "text": [
      "第 270 条数据用时: 51.67 秒\n"
     ]
    },
    {
     "name": "stderr",
     "output_type": "stream",
     "text": [
      "Processing data_objects:  29%|██▉       | 59/203 [00:52<00:37,  3.87it/s]"
     ]
    },
    {
     "name": "stdout",
     "output_type": "stream",
     "text": [
      "第 257 条数据用时: 52.10 秒\n"
     ]
    },
    {
     "name": "stderr",
     "output_type": "stream",
     "text": [
      "Processing data_objects:  30%|██▉       | 60/203 [00:52<00:44,  3.21it/s]"
     ]
    },
    {
     "name": "stdout",
     "output_type": "stream",
     "text": [
      "第 343 条数据用时: 52.16 秒\n"
     ]
    },
    {
     "name": "stderr",
     "output_type": "stream",
     "text": [
      "Processing data_objects:  30%|███       | 61/203 [00:53<00:46,  3.03it/s]"
     ]
    },
    {
     "name": "stdout",
     "output_type": "stream",
     "text": [
      "第 302 条数据用时: 52.68 秒\n",
      "第 305 条数据用时: 52.69 秒\n"
     ]
    },
    {
     "name": "stderr",
     "output_type": "stream",
     "text": [
      "Processing data_objects:  31%|███       | 63/203 [00:53<00:43,  3.25it/s]"
     ]
    },
    {
     "name": "stdout",
     "output_type": "stream",
     "text": [
      "第 324 条数据用时: 53.42 秒\n"
     ]
    },
    {
     "name": "stderr",
     "output_type": "stream",
     "text": [
      "Processing data_objects:  32%|███▏      | 64/203 [00:54<00:45,  3.05it/s]"
     ]
    },
    {
     "name": "stdout",
     "output_type": "stream",
     "text": [
      "第 330 条数据用时: 53.75 秒\n",
      "第 309 条数据用时: 53.89 秒\n",
      "第 312 条数据用时: 53.92 秒\n",
      "第 298 条数据用时: 53.73 秒\n"
     ]
    },
    {
     "name": "stderr",
     "output_type": "stream",
     "text": [
      "Processing data_objects:  33%|███▎      | 68/203 [00:55<00:39,  3.46it/s]"
     ]
    },
    {
     "name": "stdout",
     "output_type": "stream",
     "text": [
      "第 254 条数据用时: 54.98 秒\n",
      "第 329 条数据用时: 54.85 秒\n"
     ]
    },
    {
     "name": "stderr",
     "output_type": "stream",
     "text": [
      "Processing data_objects:  34%|███▍      | 70/203 [00:55<00:36,  3.67it/s]"
     ]
    },
    {
     "name": "stdout",
     "output_type": "stream",
     "text": [
      "第 323 条数据用时: 55.33 秒\n"
     ]
    },
    {
     "name": "stderr",
     "output_type": "stream",
     "text": [
      "Processing data_objects:  35%|███▍      | 71/203 [00:56<00:44,  2.98it/s]"
     ]
    },
    {
     "name": "stdout",
     "output_type": "stream",
     "text": [
      "第 399 条数据用时: 55.72 秒\n",
      "第 363 条数据用时: 55.91 秒\n",
      "第 397 条数据用时: 55.80 秒\n"
     ]
    },
    {
     "name": "stderr",
     "output_type": "stream",
     "text": [
      "Processing data_objects:  36%|███▋      | 74/203 [00:56<00:38,  3.34it/s]"
     ]
    },
    {
     "name": "stdout",
     "output_type": "stream",
     "text": [
      "第 315 条数据用时: 56.82 秒\n",
      "第 230 条数据用时: 56.49 秒\n",
      "第 338 条数据用时: 56.57 秒\n"
     ]
    },
    {
     "name": "stderr",
     "output_type": "stream",
     "text": [
      "Processing data_objects:  38%|███▊      | 77/203 [00:57<00:36,  3.48it/s]"
     ]
    },
    {
     "name": "stdout",
     "output_type": "stream",
     "text": [
      "第 243 条数据用时: 57.67 秒\n"
     ]
    },
    {
     "name": "stderr",
     "output_type": "stream",
     "text": [
      "Processing data_objects:  39%|███▉      | 80/203 [00:58<00:27,  4.48it/s]"
     ]
    },
    {
     "name": "stdout",
     "output_type": "stream",
     "text": [
      "第 227 条数据用时: 57.51 秒\n",
      "第 314 条数据用时: 57.94 秒\n",
      "第 296 条数据用时: 57.85 秒\n"
     ]
    },
    {
     "name": "stderr",
     "output_type": "stream",
     "text": [
      "Processing data_objects:  40%|████      | 82/203 [00:58<00:26,  4.52it/s]"
     ]
    },
    {
     "name": "stdout",
     "output_type": "stream",
     "text": [
      "第 303 条数据用时: 58.12 秒\n",
      "第 264 条数据用时: 58.49 秒\n",
      "第 336 条数据用时: 58.22 秒\n"
     ]
    },
    {
     "name": "stderr",
     "output_type": "stream",
     "text": [
      "Processing data_objects:  41%|████▏     | 84/203 [00:58<00:19,  6.26it/s]"
     ]
    },
    {
     "name": "stdout",
     "output_type": "stream",
     "text": [
      "第 229 条数据用时: 58.23 秒\n",
      "第 292 条数据用时: 58.71 秒\n"
     ]
    },
    {
     "name": "stderr",
     "output_type": "stream",
     "text": [
      "Processing data_objects:  43%|████▎     | 88/203 [00:59<00:17,  6.76it/s]"
     ]
    },
    {
     "name": "stdout",
     "output_type": "stream",
     "text": [
      "第 319 条数据用时: 58.81 秒\n",
      "第 318 条数据用时: 59.10 秒\n",
      "第 402 条数据用时: 58.85 秒\n"
     ]
    },
    {
     "name": "stderr",
     "output_type": "stream",
     "text": [
      "Processing data_objects:  44%|████▍     | 90/203 [00:59<00:17,  6.32it/s]"
     ]
    },
    {
     "name": "stdout",
     "output_type": "stream",
     "text": [
      "第 313 条数据用时: 59.42 秒\n",
      "第 344 条数据用时: 59.15 秒\n"
     ]
    },
    {
     "name": "stderr",
     "output_type": "stream",
     "text": [
      "Processing data_objects:  45%|████▌     | 92/203 [00:59<00:14,  7.81it/s]"
     ]
    },
    {
     "name": "stdout",
     "output_type": "stream",
     "text": [
      "第 358 条数据用时: 59.54 秒\n",
      "第 393 条数据用时: 59.49 秒\n",
      "第 299 条数据用时: 59.49 秒\n",
      "第 272 条数据用时: 59.79 秒\n",
      "第 328 条数据用时: 59.64 秒\n"
     ]
    },
    {
     "name": "stderr",
     "output_type": "stream",
     "text": [
      "Processing data_objects:  47%|████▋     | 96/203 [00:59<00:07, 13.39it/s]"
     ]
    },
    {
     "name": "stdout",
     "output_type": "stream",
     "text": [
      "第 335 条数据用时: 59.54 秒\n"
     ]
    },
    {
     "name": "stderr",
     "output_type": "stream",
     "text": [
      "Processing data_objects:  48%|████▊     | 98/203 [01:00<00:10,  9.74it/s]"
     ]
    },
    {
     "name": "stdout",
     "output_type": "stream",
     "text": [
      "第 364 条数据用时: 59.92 秒\n",
      "第 224 条数据用时: 59.87 秒\n",
      "第 355 条数据用时: 60.19 秒\n"
     ]
    },
    {
     "name": "stderr",
     "output_type": "stream",
     "text": [
      "Processing data_objects:  49%|████▉     | 100/203 [01:00<00:11,  9.14it/s]"
     ]
    },
    {
     "name": "stdout",
     "output_type": "stream",
     "text": [
      "第 293 条数据用时: 60.29 秒\n",
      "第 259 条数据用时: 60.79 秒\n"
     ]
    },
    {
     "name": "stderr",
     "output_type": "stream",
     "text": [
      "Processing data_objects:  50%|█████     | 102/203 [01:01<00:18,  5.48it/s]"
     ]
    },
    {
     "name": "stdout",
     "output_type": "stream",
     "text": [
      "第 354 条数据用时: 61.13 秒\n",
      "第 321 条数据用时: 61.17 秒\n"
     ]
    },
    {
     "name": "stderr",
     "output_type": "stream",
     "text": [
      "Processing data_objects:  52%|█████▏    | 105/203 [01:02<00:22,  4.30it/s]"
     ]
    },
    {
     "name": "stdout",
     "output_type": "stream",
     "text": [
      "第 368 条数据用时: 61.79 秒\n",
      "第 389 条数据用时: 61.43 秒\n",
      "第 326 条数据用时: 62.09 秒\n"
     ]
    },
    {
     "name": "stderr",
     "output_type": "stream",
     "text": [
      "Processing data_objects:  53%|█████▎    | 107/203 [01:02<00:18,  5.30it/s]"
     ]
    },
    {
     "name": "stdout",
     "output_type": "stream",
     "text": [
      "第 340 条数据用时: 61.98 秒\n"
     ]
    },
    {
     "name": "stderr",
     "output_type": "stream",
     "text": [
      "Processing data_objects:  53%|█████▎    | 108/203 [01:02<00:20,  4.58it/s]"
     ]
    },
    {
     "name": "stdout",
     "output_type": "stream",
     "text": [
      "第 333 条数据用时: 62.50 秒\n"
     ]
    },
    {
     "name": "stderr",
     "output_type": "stream",
     "text": [
      "Processing data_objects:  54%|█████▎    | 109/203 [01:03<00:23,  3.99it/s]"
     ]
    },
    {
     "name": "stdout",
     "output_type": "stream",
     "text": [
      "第 347 条数据用时: 62.60 秒\n"
     ]
    },
    {
     "name": "stderr",
     "output_type": "stream",
     "text": [
      "Processing data_objects:  54%|█████▍    | 110/203 [01:03<00:26,  3.54it/s]"
     ]
    },
    {
     "name": "stdout",
     "output_type": "stream",
     "text": [
      "第 220 条数据用时: 63.11 秒\n",
      "第 213 条数据用时: 62.80 秒\n",
      "第 342 条数据用时: 63.09 秒\n",
      "第 250 条数据用时: 62.83 秒\n"
     ]
    },
    {
     "name": "stderr",
     "output_type": "stream",
     "text": [
      "Processing data_objects:  56%|█████▌    | 114/203 [01:03<00:13,  6.47it/s]"
     ]
    },
    {
     "name": "stdout",
     "output_type": "stream",
     "text": [
      "第 275 条数据用时: 63.60 秒\n"
     ]
    },
    {
     "name": "stderr",
     "output_type": "stream",
     "text": [
      "Processing data_objects:  57%|█████▋    | 115/203 [01:04<00:15,  5.66it/s]"
     ]
    },
    {
     "name": "stdout",
     "output_type": "stream",
     "text": [
      "第 327 条数据用时: 63.84 秒\n",
      "第 388 条数据用时: 63.26 秒\n"
     ]
    },
    {
     "name": "stderr",
     "output_type": "stream",
     "text": [
      "Processing data_objects:  58%|█████▊    | 117/203 [01:04<00:16,  5.37it/s]"
     ]
    },
    {
     "name": "stdout",
     "output_type": "stream",
     "text": [
      "第 361 条数据用时: 64.25 秒\n",
      "第 256 条数据用时: 64.07 秒\n"
     ]
    },
    {
     "name": "stderr",
     "output_type": "stream",
     "text": [
      "Processing data_objects:  59%|█████▊    | 119/203 [01:04<00:13,  6.06it/s]"
     ]
    },
    {
     "name": "stdout",
     "output_type": "stream",
     "text": [
      "第 378 条数据用时: 64.02 秒\n",
      "第 383 条数据用时: 64.07 秒\n"
     ]
    },
    {
     "name": "stderr",
     "output_type": "stream",
     "text": [
      "Processing data_objects:  60%|█████▉    | 121/203 [01:04<00:12,  6.74it/s]"
     ]
    },
    {
     "name": "stdout",
     "output_type": "stream",
     "text": [
      "第 215 条数据用时: 64.17 秒\n"
     ]
    },
    {
     "name": "stderr",
     "output_type": "stream",
     "text": [
      "Processing data_objects:  61%|██████    | 124/203 [01:05<00:10,  7.68it/s]"
     ]
    },
    {
     "name": "stdout",
     "output_type": "stream",
     "text": [
      "第 209 条数据用时: 64.46 秒\n",
      "第 400 条数据用时: 64.82 秒\n",
      "第 266 条数据用时: 65.16 秒\n",
      "第 360 条数据用时: 65.14 秒\n"
     ]
    },
    {
     "name": "stderr",
     "output_type": "stream",
     "text": [
      "Processing data_objects:  62%|██████▏   | 126/203 [01:05<00:08,  8.94it/s]"
     ]
    },
    {
     "name": "stdout",
     "output_type": "stream",
     "text": [
      "第 262 条数据用时: 65.34 秒\n",
      "第 346 条数据用时: 65.04 秒\n"
     ]
    },
    {
     "name": "stderr",
     "output_type": "stream",
     "text": [
      "Processing data_objects:  63%|██████▎   | 128/203 [01:05<00:10,  7.25it/s]"
     ]
    },
    {
     "name": "stdout",
     "output_type": "stream",
     "text": [
      "第 218 条数据用时: 65.04 秒\n",
      "第 322 条数据用时: 65.78 秒\n"
     ]
    },
    {
     "name": "stderr",
     "output_type": "stream",
     "text": [
      "Processing data_objects:  65%|██████▌   | 132/203 [01:06<00:08,  8.78it/s]"
     ]
    },
    {
     "name": "stdout",
     "output_type": "stream",
     "text": [
      "第 217 条数据用时: 65.29 秒\n",
      "第 251 条数据用时: 65.57 秒\n",
      "第 240 条数据用时: 65.40 秒\n",
      "第 204 条数据用时: 65.93 秒\n"
     ]
    },
    {
     "name": "stderr",
     "output_type": "stream",
     "text": [
      "Processing data_objects:  67%|██████▋   | 136/203 [01:07<00:09,  6.82it/s]"
     ]
    },
    {
     "name": "stdout",
     "output_type": "stream",
     "text": [
      "第 278 条数据用时: 66.36 秒\n",
      "第 297 条数据用时: 66.63 秒\n",
      "第 231 条数据用时: 66.51 秒\n"
     ]
    },
    {
     "name": "stderr",
     "output_type": "stream",
     "text": [
      "Processing data_objects:  68%|██████▊   | 138/203 [01:07<00:08,  8.08it/s]"
     ]
    },
    {
     "name": "stdout",
     "output_type": "stream",
     "text": [
      "第 233 条数据用时: 66.58 秒\n",
      "第 365 条数据用时: 66.91 秒\n"
     ]
    },
    {
     "name": "stderr",
     "output_type": "stream",
     "text": [
      "Processing data_objects:  69%|██████▉   | 141/203 [01:07<00:09,  6.89it/s]"
     ]
    },
    {
     "name": "stdout",
     "output_type": "stream",
     "text": [
      "第 281 条数据用时: 66.94 秒\n",
      "第 232 条数据用时: 67.01 秒\n",
      "第 235 条数据用时: 67.13 秒\n",
      "第 277 条数据用时: 67.21 秒\n"
     ]
    },
    {
     "name": "stderr",
     "output_type": "stream",
     "text": [
      "Processing data_objects:  70%|███████   | 143/203 [01:07<00:07,  8.56it/s]"
     ]
    },
    {
     "name": "stdout",
     "output_type": "stream",
     "text": [
      "第 304 条数据用时: 67.42 秒\n"
     ]
    },
    {
     "name": "stderr",
     "output_type": "stream",
     "text": [
      "Processing data_objects:  71%|███████▏  | 145/203 [01:08<00:09,  6.35it/s]"
     ]
    },
    {
     "name": "stdout",
     "output_type": "stream",
     "text": [
      "第 212 条数据用时: 67.41 秒\n",
      "第 306 条数据用时: 68.12 秒\n"
     ]
    },
    {
     "name": "stderr",
     "output_type": "stream",
     "text": [
      "Processing data_objects:  72%|███████▏  | 146/203 [01:08<00:08,  6.34it/s]"
     ]
    },
    {
     "name": "stdout",
     "output_type": "stream",
     "text": [
      "第 382 条数据用时: 67.73 秒\n",
      "第 283 条数据用时: 67.93 秒\n"
     ]
    },
    {
     "name": "stderr",
     "output_type": "stream",
     "text": [
      "Processing data_objects:  73%|███████▎  | 149/203 [01:08<00:07,  7.19it/s]"
     ]
    },
    {
     "name": "stdout",
     "output_type": "stream",
     "text": [
      "第 206 条数据用时: 68.03 秒\n",
      "第 398 条数据用时: 68.41 秒\n"
     ]
    },
    {
     "name": "stderr",
     "output_type": "stream",
     "text": [
      "Processing data_objects:  74%|███████▍  | 150/203 [01:09<00:09,  5.31it/s]"
     ]
    },
    {
     "name": "stdout",
     "output_type": "stream",
     "text": [
      "第 295 条数据用时: 68.91 秒\n",
      "第 228 条数据用时: 68.75 秒\n"
     ]
    },
    {
     "name": "stderr",
     "output_type": "stream",
     "text": [
      "Processing data_objects:  75%|███████▍  | 152/203 [01:09<00:08,  5.89it/s]"
     ]
    },
    {
     "name": "stdout",
     "output_type": "stream",
     "text": [
      "第 205 条数据用时: 68.81 秒\n",
      "第 310 条数据用时: 69.22 秒\n"
     ]
    },
    {
     "name": "stderr",
     "output_type": "stream",
     "text": [
      "Processing data_objects:  77%|███████▋  | 156/203 [01:09<00:05,  8.39it/s]"
     ]
    },
    {
     "name": "stdout",
     "output_type": "stream",
     "text": [
      "第 394 条数据用时: 69.35 秒\n",
      "第 288 条数据用时: 69.11 秒\n",
      "第 348 条数据用时: 69.24 秒\n"
     ]
    },
    {
     "name": "stderr",
     "output_type": "stream",
     "text": [
      "Processing data_objects:  78%|███████▊  | 158/203 [01:10<00:05,  8.47it/s]"
     ]
    },
    {
     "name": "stdout",
     "output_type": "stream",
     "text": [
      "第 387 条数据用时: 69.14 秒\n",
      "第 271 条数据用时: 69.60 秒\n",
      "第 245 条数据用时: 69.33 秒\n"
     ]
    },
    {
     "name": "stderr",
     "output_type": "stream",
     "text": [
      "Processing data_objects:  80%|███████▉  | 162/203 [01:10<00:03, 11.09it/s]"
     ]
    },
    {
     "name": "stdout",
     "output_type": "stream",
     "text": [
      "第 376 条数据用时: 69.53 秒\n",
      "第 349 条数据用时: 69.73 秒\n",
      "第 353 条数据用时: 69.68 秒\n"
     ]
    },
    {
     "name": "stderr",
     "output_type": "stream",
     "text": [
      "Processing data_objects:  81%|████████  | 164/203 [01:10<00:05,  7.41it/s]"
     ]
    },
    {
     "name": "stdout",
     "output_type": "stream",
     "text": [
      "第 332 条数据用时: 70.44 秒\n",
      "第 244 条数据用时: 70.10 秒\n",
      "第 350 条数据用时: 70.40 秒\n"
     ]
    },
    {
     "name": "stderr",
     "output_type": "stream",
     "text": [
      "Processing data_objects:  83%|████████▎ | 168/203 [01:11<00:04,  7.24it/s]"
     ]
    },
    {
     "name": "stdout",
     "output_type": "stream",
     "text": [
      "第 247 条数据用时: 70.50 秒\n",
      "第 373 条数据用时: 70.71 秒\n",
      "第 404 条数据用时: 70.91 秒\n"
     ]
    },
    {
     "name": "stderr",
     "output_type": "stream",
     "text": [
      "Processing data_objects:  84%|████████▎ | 170/203 [01:11<00:04,  7.84it/s]"
     ]
    },
    {
     "name": "stdout",
     "output_type": "stream",
     "text": [
      "第 374 条数据用时: 70.97 秒\n",
      "第 236 条数据用时: 71.03 秒\n",
      "第 351 条数据用时: 71.21 秒\n"
     ]
    },
    {
     "name": "stderr",
     "output_type": "stream",
     "text": [
      "Processing data_objects:  85%|████████▌ | 173/203 [01:12<00:04,  6.27it/s]"
     ]
    },
    {
     "name": "stdout",
     "output_type": "stream",
     "text": [
      "第 214 条数据用时: 71.40 秒\n",
      "第 216 条数据用时: 71.49 秒\n",
      "第 352 条数据用时: 71.72 秒\n"
     ]
    },
    {
     "name": "stderr",
     "output_type": "stream",
     "text": [
      "Processing data_objects:  87%|████████▋ | 177/203 [01:12<00:03,  8.23it/s]"
     ]
    },
    {
     "name": "stdout",
     "output_type": "stream",
     "text": [
      "第 284 条数据用时: 71.92 秒\n",
      "第 379 条数据用时: 71.85 秒\n",
      "第 386 条数据用时: 71.88 秒\n"
     ]
    },
    {
     "name": "stderr",
     "output_type": "stream",
     "text": [
      "Processing data_objects:  88%|████████▊ | 179/203 [01:12<00:03,  7.85it/s]"
     ]
    },
    {
     "name": "stdout",
     "output_type": "stream",
     "text": [
      "第 385 条数据用时: 71.99 秒\n",
      "第 207 条数据用时: 72.26 秒\n",
      "第 380 条数据用时: 72.40 秒\n"
     ]
    },
    {
     "name": "stderr",
     "output_type": "stream",
     "text": [
      "Processing data_objects:  89%|████████▉ | 181/203 [01:13<00:04,  5.20it/s]"
     ]
    },
    {
     "name": "stdout",
     "output_type": "stream",
     "text": [
      "第 234 条数据用时: 73.05 秒\n"
     ]
    },
    {
     "name": "stderr",
     "output_type": "stream",
     "text": [
      "Processing data_objects:  90%|█████████ | 183/203 [01:14<00:03,  5.20it/s]"
     ]
    },
    {
     "name": "stdout",
     "output_type": "stream",
     "text": [
      "第 375 条数据用时: 73.27 秒\n",
      "第 208 条数据用时: 73.34 秒\n"
     ]
    },
    {
     "name": "stderr",
     "output_type": "stream",
     "text": [
      "Processing data_objects:  91%|█████████ | 184/203 [01:14<00:05,  3.51it/s]"
     ]
    },
    {
     "name": "stdout",
     "output_type": "stream",
     "text": [
      "第 280 条数据用时: 74.04 秒\n"
     ]
    },
    {
     "name": "stderr",
     "output_type": "stream",
     "text": [
      "Processing data_objects:  91%|█████████ | 185/203 [01:14<00:04,  3.67it/s]"
     ]
    },
    {
     "name": "stdout",
     "output_type": "stream",
     "text": [
      "第 274 条数据用时: 74.30 秒\n"
     ]
    },
    {
     "name": "stderr",
     "output_type": "stream",
     "text": [
      "Processing data_objects:  92%|█████████▏| 187/203 [01:15<00:03,  4.69it/s]"
     ]
    },
    {
     "name": "stdout",
     "output_type": "stream",
     "text": [
      "第 248 条数据用时: 74.28 秒\n",
      "第 286 条数据用时: 74.52 秒\n",
      "第 345 条数据用时: 74.66 秒\n",
      "第 223 条数据用时: 74.52 秒\n"
     ]
    },
    {
     "name": "stderr",
     "output_type": "stream",
     "text": [
      "Processing data_objects:  94%|█████████▎| 190/203 [01:15<00:01,  6.69it/s]"
     ]
    },
    {
     "name": "stdout",
     "output_type": "stream",
     "text": [
      "第 285 条数据用时: 74.81 秒\n"
     ]
    },
    {
     "name": "stderr",
     "output_type": "stream",
     "text": [
      "Processing data_objects:  94%|█████████▍| 191/203 [01:15<00:01,  6.15it/s]"
     ]
    },
    {
     "name": "stdout",
     "output_type": "stream",
     "text": [
      "第 219 条数据用时: 74.85 秒\n",
      "第 242 条数据用时: 74.95 秒\n"
     ]
    },
    {
     "name": "stderr",
     "output_type": "stream",
     "text": [
      "Processing data_objects:  95%|█████████▌| 193/203 [01:16<00:01,  5.21it/s]"
     ]
    },
    {
     "name": "stdout",
     "output_type": "stream",
     "text": [
      "第 238 条数据用时: 75.55 秒\n"
     ]
    },
    {
     "name": "stderr",
     "output_type": "stream",
     "text": [
      "Processing data_objects:  96%|█████████▌| 194/203 [01:16<00:02,  4.42it/s]"
     ]
    },
    {
     "name": "stdout",
     "output_type": "stream",
     "text": [
      "第 239 条数据用时: 75.82 秒\n"
     ]
    },
    {
     "name": "stderr",
     "output_type": "stream",
     "text": [
      "Processing data_objects:  96%|█████████▌| 195/203 [01:16<00:01,  4.37it/s]"
     ]
    },
    {
     "name": "stdout",
     "output_type": "stream",
     "text": [
      "第 210 条数据用时: 76.03 秒\n"
     ]
    },
    {
     "name": "stderr",
     "output_type": "stream",
     "text": [
      "Processing data_objects:  97%|█████████▋| 196/203 [01:17<00:02,  2.90it/s]"
     ]
    },
    {
     "name": "stdout",
     "output_type": "stream",
     "text": [
      "第 377 条数据用时: 76.77 秒\n",
      "第 282 条数据用时: 76.86 秒\n"
     ]
    },
    {
     "name": "stderr",
     "output_type": "stream",
     "text": [
      "Processing data_objects:  98%|█████████▊| 199/203 [01:18<00:01,  3.44it/s]"
     ]
    },
    {
     "name": "stdout",
     "output_type": "stream",
     "text": [
      "第 241 条数据用时: 77.39 秒\n",
      "第 279 条数据用时: 77.65 秒\n"
     ]
    },
    {
     "name": "stderr",
     "output_type": "stream",
     "text": [
      "Processing data_objects:  99%|█████████▊| 200/203 [01:20<00:02,  1.13it/s]"
     ]
    },
    {
     "name": "stdout",
     "output_type": "stream",
     "text": [
      "第 287 条数据用时: 80.28 秒\n",
      "第 366 条数据用时: 80.75 秒\n"
     ]
    },
    {
     "name": "stderr",
     "output_type": "stream",
     "text": [
      "Processing data_objects: 100%|█████████▉| 202/203 [01:24<00:01,  1.16s/it]"
     ]
    },
    {
     "name": "stdout",
     "output_type": "stream",
     "text": [
      "第 237 条数据用时: 83.47 秒\n"
     ]
    },
    {
     "name": "stderr",
     "output_type": "stream",
     "text": [
      "Processing data_objects: 100%|██████████| 203/203 [01:28<00:00,  2.29it/s]\n"
     ]
    },
    {
     "name": "stdout",
     "output_type": "stream",
     "text": [
      "第 249 条数据用时: 87.86 秒\n"
     ]
    },
    {
     "name": "stderr",
     "output_type": "stream",
     "text": [
      "Processing data_objects:   0%|          | 1/203 [00:25<1:25:48, 25.49s/it]"
     ]
    },
    {
     "name": "stdout",
     "output_type": "stream",
     "text": [
      "第 437 条数据用时: 24.89 秒\n"
     ]
    },
    {
     "name": "stderr",
     "output_type": "stream",
     "text": [
      "Processing data_objects:   1%|          | 2/203 [00:31<47:21, 14.13s/it]  "
     ]
    },
    {
     "name": "stdout",
     "output_type": "stream",
     "text": [
      "第 456 条数据用时: 31.63 秒\n"
     ]
    },
    {
     "name": "stderr",
     "output_type": "stream",
     "text": [
      "Processing data_objects:   1%|▏         | 3/203 [00:34<29:31,  8.86s/it]"
     ]
    },
    {
     "name": "stdout",
     "output_type": "stream",
     "text": [
      "第 432 条数据用时: 33.72 秒\n"
     ]
    },
    {
     "name": "stderr",
     "output_type": "stream",
     "text": [
      "Processing data_objects:   2%|▏         | 4/203 [00:34<18:36,  5.61s/it]"
     ]
    },
    {
     "name": "stdout",
     "output_type": "stream",
     "text": [
      "第 462 条数据用时: 34.26 秒\n"
     ]
    },
    {
     "name": "stderr",
     "output_type": "stream",
     "text": [
      "Processing data_objects:   2%|▏         | 5/203 [00:35<12:43,  3.86s/it]"
     ]
    },
    {
     "name": "stdout",
     "output_type": "stream",
     "text": [
      "第 507 条数据用时: 35.18 秒\n"
     ]
    },
    {
     "name": "stderr",
     "output_type": "stream",
     "text": [
      "Processing data_objects:   3%|▎         | 7/203 [00:36<06:17,  1.93s/it]"
     ]
    },
    {
     "name": "stdout",
     "output_type": "stream",
     "text": [
      "第 441 条数据用时: 35.71 秒\n",
      "第 490 条数据用时: 36.26 秒\n"
     ]
    },
    {
     "name": "stderr",
     "output_type": "stream",
     "text": [
      "Processing data_objects:   4%|▍         | 8/203 [00:36<04:32,  1.40s/it]"
     ]
    },
    {
     "name": "stdout",
     "output_type": "stream",
     "text": [
      "第 567 条数据用时: 36.57 秒\n"
     ]
    },
    {
     "name": "stderr",
     "output_type": "stream",
     "text": [
      "Processing data_objects:   4%|▍         | 9/203 [00:37<03:37,  1.12s/it]"
     ]
    },
    {
     "name": "stdout",
     "output_type": "stream",
     "text": [
      "第 487 条数据用时: 37.08 秒\n"
     ]
    },
    {
     "name": "stderr",
     "output_type": "stream",
     "text": [
      "Processing data_objects:   5%|▍         | 10/203 [00:37<02:54,  1.11it/s]"
     ]
    },
    {
     "name": "stdout",
     "output_type": "stream",
     "text": [
      "第 556 条数据用时: 37.48 秒\n",
      "第 478 条数据用时: 37.71 秒\n"
     ]
    },
    {
     "name": "stderr",
     "output_type": "stream",
     "text": [
      "Processing data_objects:   6%|▌         | 12/203 [00:38<01:56,  1.63it/s]"
     ]
    },
    {
     "name": "stdout",
     "output_type": "stream",
     "text": [
      "第 555 条数据用时: 38.05 秒\n"
     ]
    },
    {
     "name": "stderr",
     "output_type": "stream",
     "text": [
      "Processing data_objects:   6%|▋         | 13/203 [00:38<01:42,  1.86it/s]"
     ]
    },
    {
     "name": "stdout",
     "output_type": "stream",
     "text": [
      "第 477 条数据用时: 38.52 秒\n"
     ]
    },
    {
     "name": "stderr",
     "output_type": "stream",
     "text": [
      "Processing data_objects:   7%|▋         | 14/203 [00:39<01:37,  1.93it/s]"
     ]
    },
    {
     "name": "stdout",
     "output_type": "stream",
     "text": [
      "第 552 条数据用时: 38.86 秒\n",
      "第 480 条数据用时: 38.94 秒\n"
     ]
    },
    {
     "name": "stderr",
     "output_type": "stream",
     "text": [
      "Processing data_objects:   8%|▊         | 16/203 [00:39<01:15,  2.46it/s]"
     ]
    },
    {
     "name": "stdout",
     "output_type": "stream",
     "text": [
      "第 520 条数据用时: 39.10 秒\n"
     ]
    },
    {
     "name": "stderr",
     "output_type": "stream",
     "text": [
      "Processing data_objects:   9%|▉         | 18/203 [00:40<01:07,  2.75it/s]"
     ]
    },
    {
     "name": "stdout",
     "output_type": "stream",
     "text": [
      "第 470 条数据用时: 39.46 秒\n",
      "第 588 条数据用时: 39.64 秒\n"
     ]
    },
    {
     "name": "stderr",
     "output_type": "stream",
     "text": [
      "Processing data_objects:   9%|▉         | 19/203 [00:40<01:05,  2.82it/s]"
     ]
    },
    {
     "name": "stdout",
     "output_type": "stream",
     "text": [
      "第 464 条数据用时: 40.13 秒\n"
     ]
    },
    {
     "name": "stderr",
     "output_type": "stream",
     "text": [
      "Processing data_objects:  10%|▉         | 20/203 [00:40<01:05,  2.80it/s]"
     ]
    },
    {
     "name": "stdout",
     "output_type": "stream",
     "text": [
      "第 461 条数据用时: 40.51 秒\n"
     ]
    },
    {
     "name": "stderr",
     "output_type": "stream",
     "text": [
      "Processing data_objects:  10%|█         | 21/203 [00:41<01:13,  2.47it/s]"
     ]
    },
    {
     "name": "stdout",
     "output_type": "stream",
     "text": [
      "第 583 条数据用时: 41.45 秒\n"
     ]
    },
    {
     "name": "stderr",
     "output_type": "stream",
     "text": [
      "Processing data_objects:  11%|█         | 22/203 [00:41<01:18,  2.32it/s]"
     ]
    },
    {
     "name": "stdout",
     "output_type": "stream",
     "text": [
      "第 593 条数据用时: 41.30 秒\n"
     ]
    },
    {
     "name": "stderr",
     "output_type": "stream",
     "text": [
      "Processing data_objects:  11%|█▏        | 23/203 [00:42<01:06,  2.69it/s]"
     ]
    },
    {
     "name": "stdout",
     "output_type": "stream",
     "text": [
      "第 465 条数据用时: 41.62 秒\n"
     ]
    },
    {
     "name": "stderr",
     "output_type": "stream",
     "text": [
      "Processing data_objects:  12%|█▏        | 24/203 [00:43<01:30,  1.98it/s]"
     ]
    },
    {
     "name": "stdout",
     "output_type": "stream",
     "text": [
      "第 488 条数据用时: 42.81 秒\n"
     ]
    },
    {
     "name": "stderr",
     "output_type": "stream",
     "text": [
      "Processing data_objects:  12%|█▏        | 25/203 [00:43<01:17,  2.31it/s]"
     ]
    },
    {
     "name": "stdout",
     "output_type": "stream",
     "text": [
      "第 591 条数据用时: 42.64 秒\n",
      "第 483 条数据用时: 43.14 秒\n"
     ]
    },
    {
     "name": "stderr",
     "output_type": "stream",
     "text": [
      "Processing data_objects:  13%|█▎        | 27/203 [00:43<01:01,  2.84it/s]"
     ]
    },
    {
     "name": "stdout",
     "output_type": "stream",
     "text": [
      "第 503 条数据用时: 43.38 秒\n"
     ]
    },
    {
     "name": "stderr",
     "output_type": "stream",
     "text": [
      "Processing data_objects:  14%|█▍        | 28/203 [00:44<00:57,  3.03it/s]"
     ]
    },
    {
     "name": "stdout",
     "output_type": "stream",
     "text": [
      "第 469 条数据用时: 43.39 秒\n"
     ]
    },
    {
     "name": "stderr",
     "output_type": "stream",
     "text": [
      "Processing data_objects:  14%|█▍        | 29/203 [00:44<00:54,  3.21it/s]"
     ]
    },
    {
     "name": "stdout",
     "output_type": "stream",
     "text": [
      "第 536 条数据用时: 43.79 秒\n"
     ]
    },
    {
     "name": "stderr",
     "output_type": "stream",
     "text": [
      "Processing data_objects:  15%|█▍        | 30/203 [00:44<00:58,  2.95it/s]"
     ]
    },
    {
     "name": "stdout",
     "output_type": "stream",
     "text": [
      "第 479 条数据用时: 44.65 秒\n"
     ]
    },
    {
     "name": "stderr",
     "output_type": "stream",
     "text": [
      "Processing data_objects:  15%|█▌        | 31/203 [00:44<00:54,  3.14it/s]"
     ]
    },
    {
     "name": "stdout",
     "output_type": "stream",
     "text": [
      "第 550 条数据用时: 44.84 秒\n",
      "第 454 条数据用时: 44.96 秒\n"
     ]
    },
    {
     "name": "stderr",
     "output_type": "stream",
     "text": [
      "Processing data_objects:  16%|█▋        | 33/203 [00:45<00:47,  3.55it/s]"
     ]
    },
    {
     "name": "stdout",
     "output_type": "stream",
     "text": [
      "第 484 条数据用时: 45.31 秒\n",
      "第 544 条数据用时: 45.40 秒\n",
      "第 493 条数据用时: 44.92 秒\n"
     ]
    },
    {
     "name": "stderr",
     "output_type": "stream",
     "text": [
      "Processing data_objects:  18%|█▊        | 36/203 [00:46<00:51,  3.22it/s]"
     ]
    },
    {
     "name": "stdout",
     "output_type": "stream",
     "text": [
      "第 518 条数据用时: 46.46 秒\n",
      "第 408 条数据用时: 46.41 秒\n"
     ]
    },
    {
     "name": "stderr",
     "output_type": "stream",
     "text": [
      "Processing data_objects:  19%|█▊        | 38/203 [00:47<00:53,  3.08it/s]"
     ]
    },
    {
     "name": "stdout",
     "output_type": "stream",
     "text": [
      "第 551 条数据用时: 47.04 秒\n"
     ]
    },
    {
     "name": "stderr",
     "output_type": "stream",
     "text": [
      "Processing data_objects:  19%|█▉        | 39/203 [00:47<00:49,  3.29it/s]"
     ]
    },
    {
     "name": "stdout",
     "output_type": "stream",
     "text": [
      "第 449 条数据用时: 46.83 秒\n"
     ]
    },
    {
     "name": "stderr",
     "output_type": "stream",
     "text": [
      "Processing data_objects:  20%|█▉        | 40/203 [00:47<00:49,  3.32it/s]"
     ]
    },
    {
     "name": "stdout",
     "output_type": "stream",
     "text": [
      "第 539 条数据用时: 47.16 秒\n",
      "第 481 条数据用时: 47.58 秒\n"
     ]
    },
    {
     "name": "stderr",
     "output_type": "stream",
     "text": [
      "Processing data_objects:  21%|██        | 42/203 [00:48<00:50,  3.22it/s]"
     ]
    },
    {
     "name": "stdout",
     "output_type": "stream",
     "text": [
      "第 436 条数据用时: 47.77 秒\n"
     ]
    },
    {
     "name": "stderr",
     "output_type": "stream",
     "text": [
      "Processing data_objects:  21%|██        | 43/203 [00:48<00:49,  3.24it/s]"
     ]
    },
    {
     "name": "stdout",
     "output_type": "stream",
     "text": [
      "第 557 条数据用时: 48.42 秒\n",
      "第 511 条数据用时: 48.17 秒\n"
     ]
    },
    {
     "name": "stderr",
     "output_type": "stream",
     "text": [
      "Processing data_objects:  22%|██▏       | 45/203 [00:49<00:44,  3.53it/s]"
     ]
    },
    {
     "name": "stdout",
     "output_type": "stream",
     "text": [
      "第 538 条数据用时: 48.60 秒\n"
     ]
    },
    {
     "name": "stderr",
     "output_type": "stream",
     "text": [
      "Processing data_objects:  23%|██▎       | 46/203 [00:49<00:44,  3.56it/s]"
     ]
    },
    {
     "name": "stdout",
     "output_type": "stream",
     "text": [
      "第 592 条数据用时: 48.75 秒\n"
     ]
    },
    {
     "name": "stderr",
     "output_type": "stream",
     "text": [
      "Processing data_objects:  23%|██▎       | 47/203 [00:49<00:41,  3.73it/s]"
     ]
    },
    {
     "name": "stdout",
     "output_type": "stream",
     "text": [
      "第 517 条数据用时: 49.63 秒\n"
     ]
    },
    {
     "name": "stderr",
     "output_type": "stream",
     "text": [
      "Processing data_objects:  24%|██▎       | 48/203 [00:50<00:49,  3.14it/s]"
     ]
    },
    {
     "name": "stdout",
     "output_type": "stream",
     "text": [
      "第 590 条数据用时: 49.46 秒\n"
     ]
    },
    {
     "name": "stderr",
     "output_type": "stream",
     "text": [
      "Processing data_objects:  24%|██▍       | 49/203 [00:50<00:48,  3.17it/s]"
     ]
    },
    {
     "name": "stdout",
     "output_type": "stream",
     "text": [
      "第 482 条数据用时: 50.28 秒\n"
     ]
    },
    {
     "name": "stderr",
     "output_type": "stream",
     "text": [
      "Processing data_objects:  25%|██▍       | 50/203 [00:50<00:53,  2.85it/s]"
     ]
    },
    {
     "name": "stdout",
     "output_type": "stream",
     "text": [
      "第 427 条数据用时: 50.34 秒\n"
     ]
    },
    {
     "name": "stderr",
     "output_type": "stream",
     "text": [
      "Processing data_objects:  25%|██▌       | 51/203 [00:51<00:57,  2.63it/s]"
     ]
    },
    {
     "name": "stdout",
     "output_type": "stream",
     "text": [
      "第 545 条数据用时: 51.23 秒\n"
     ]
    },
    {
     "name": "stderr",
     "output_type": "stream",
     "text": [
      "Processing data_objects:  26%|██▌       | 52/203 [00:51<01:04,  2.35it/s]"
     ]
    },
    {
     "name": "stdout",
     "output_type": "stream",
     "text": [
      "第 457 条数据用时: 51.79 秒\n"
     ]
    },
    {
     "name": "stderr",
     "output_type": "stream",
     "text": [
      "Processing data_objects:  26%|██▌       | 53/203 [00:52<00:59,  2.51it/s]"
     ]
    },
    {
     "name": "stdout",
     "output_type": "stream",
     "text": [
      "第 558 条数据用时: 51.93 秒\n"
     ]
    },
    {
     "name": "stderr",
     "output_type": "stream",
     "text": [
      "Processing data_objects:  27%|██▋       | 54/203 [00:52<01:05,  2.29it/s]"
     ]
    },
    {
     "name": "stdout",
     "output_type": "stream",
     "text": [
      "第 532 条数据用时: 52.23 秒\n"
     ]
    },
    {
     "name": "stderr",
     "output_type": "stream",
     "text": [
      "Processing data_objects:  27%|██▋       | 55/203 [00:53<00:58,  2.55it/s]"
     ]
    },
    {
     "name": "stdout",
     "output_type": "stream",
     "text": [
      "第 585 条数据用时: 52.44 秒\n"
     ]
    },
    {
     "name": "stderr",
     "output_type": "stream",
     "text": [
      "Processing data_objects:  28%|██▊       | 56/203 [00:53<00:51,  2.83it/s]"
     ]
    },
    {
     "name": "stdout",
     "output_type": "stream",
     "text": [
      "第 586 条数据用时: 52.68 秒\n",
      "第 533 条数据用时: 52.77 秒\n"
     ]
    },
    {
     "name": "stderr",
     "output_type": "stream",
     "text": [
      "Processing data_objects:  29%|██▊       | 58/203 [00:53<00:44,  3.27it/s]"
     ]
    },
    {
     "name": "stdout",
     "output_type": "stream",
     "text": [
      "第 569 条数据用时: 53.52 秒\n"
     ]
    },
    {
     "name": "stderr",
     "output_type": "stream",
     "text": [
      "Processing data_objects:  29%|██▉       | 59/203 [00:54<00:55,  2.59it/s]"
     ]
    },
    {
     "name": "stdout",
     "output_type": "stream",
     "text": [
      "第 435 条数据用时: 53.82 秒\n"
     ]
    },
    {
     "name": "stderr",
     "output_type": "stream",
     "text": [
      "Processing data_objects:  30%|██▉       | 60/203 [00:54<00:49,  2.90it/s]"
     ]
    },
    {
     "name": "stdout",
     "output_type": "stream",
     "text": [
      "第 608 条数据用时: 54.19 秒\n"
     ]
    },
    {
     "name": "stderr",
     "output_type": "stream",
     "text": [
      "Processing data_objects:  30%|███       | 61/203 [00:55<00:51,  2.74it/s]"
     ]
    },
    {
     "name": "stdout",
     "output_type": "stream",
     "text": [
      "第 455 条数据用时: 55.00 秒\n",
      "第 549 条数据用时: 54.90 秒\n"
     ]
    },
    {
     "name": "stderr",
     "output_type": "stream",
     "text": [
      "Processing data_objects:  31%|███       | 63/203 [00:55<00:52,  2.65it/s]"
     ]
    },
    {
     "name": "stdout",
     "output_type": "stream",
     "text": [
      "第 534 条数据用时: 55.32 秒\n",
      "第 486 条数据用时: 55.64 秒\n",
      "第 434 条数据用时: 55.27 秒\n"
     ]
    },
    {
     "name": "stderr",
     "output_type": "stream",
     "text": [
      "Processing data_objects:  33%|███▎      | 66/203 [00:56<00:44,  3.11it/s]"
     ]
    },
    {
     "name": "stdout",
     "output_type": "stream",
     "text": [
      "第 415 条数据用时: 56.37 秒\n"
     ]
    },
    {
     "name": "stderr",
     "output_type": "stream",
     "text": [
      "Processing data_objects:  33%|███▎      | 67/203 [00:56<00:43,  3.13it/s]"
     ]
    },
    {
     "name": "stdout",
     "output_type": "stream",
     "text": [
      "第 460 条数据用时: 56.82 秒\n",
      "第 562 条数据用时: 56.78 秒\n"
     ]
    },
    {
     "name": "stderr",
     "output_type": "stream",
     "text": [
      "Processing data_objects:  34%|███▍      | 69/203 [00:57<00:43,  3.08it/s]"
     ]
    },
    {
     "name": "stdout",
     "output_type": "stream",
     "text": [
      "第 609 条数据用时: 57.15 秒\n"
     ]
    },
    {
     "name": "stderr",
     "output_type": "stream",
     "text": [
      "Processing data_objects:  34%|███▍      | 70/203 [00:58<00:45,  2.91it/s]"
     ]
    },
    {
     "name": "stdout",
     "output_type": "stream",
     "text": [
      "第 587 条数据用时: 57.42 秒\n"
     ]
    },
    {
     "name": "stderr",
     "output_type": "stream",
     "text": [
      "Processing data_objects:  35%|███▍      | 71/203 [00:58<00:54,  2.42it/s]"
     ]
    },
    {
     "name": "stdout",
     "output_type": "stream",
     "text": [
      "第 466 条数据用时: 58.50 秒\n"
     ]
    },
    {
     "name": "stderr",
     "output_type": "stream",
     "text": [
      "Processing data_objects:  35%|███▌      | 72/203 [00:59<01:02,  2.10it/s]"
     ]
    },
    {
     "name": "stdout",
     "output_type": "stream",
     "text": [
      "第 524 条数据用时: 58.80 秒\n",
      "第 410 条数据用时: 58.85 秒\n"
     ]
    },
    {
     "name": "stderr",
     "output_type": "stream",
     "text": [
      "Processing data_objects:  36%|███▋      | 74/203 [00:59<00:48,  2.67it/s]"
     ]
    },
    {
     "name": "stdout",
     "output_type": "stream",
     "text": [
      "第 589 条数据用时: 59.18 秒\n",
      "第 565 条数据用时: 59.62 秒\n"
     ]
    },
    {
     "name": "stderr",
     "output_type": "stream",
     "text": [
      "Processing data_objects:  37%|███▋      | 76/203 [01:00<00:43,  2.89it/s]"
     ]
    },
    {
     "name": "stdout",
     "output_type": "stream",
     "text": [
      "第 505 条数据用时: 59.96 秒\n"
     ]
    },
    {
     "name": "stderr",
     "output_type": "stream",
     "text": [
      "Processing data_objects:  38%|███▊      | 77/203 [01:00<00:41,  3.03it/s]"
     ]
    },
    {
     "name": "stdout",
     "output_type": "stream",
     "text": [
      "第 431 条数据用时: 60.14 秒\n"
     ]
    },
    {
     "name": "stderr",
     "output_type": "stream",
     "text": [
      "Processing data_objects:  38%|███▊      | 78/203 [01:01<00:45,  2.76it/s]"
     ]
    },
    {
     "name": "stdout",
     "output_type": "stream",
     "text": [
      "第 459 条数据用时: 61.05 秒\n"
     ]
    },
    {
     "name": "stderr",
     "output_type": "stream",
     "text": [
      "Processing data_objects:  39%|███▉      | 79/203 [01:01<00:48,  2.58it/s]"
     ]
    },
    {
     "name": "stdout",
     "output_type": "stream",
     "text": [
      "第 501 条数据用时: 61.21 秒\n"
     ]
    },
    {
     "name": "stderr",
     "output_type": "stream",
     "text": [
      "Processing data_objects:  39%|███▉      | 80/203 [01:01<00:42,  2.91it/s]"
     ]
    },
    {
     "name": "stdout",
     "output_type": "stream",
     "text": [
      "第 563 条数据用时: 61.68 秒\n"
     ]
    },
    {
     "name": "stderr",
     "output_type": "stream",
     "text": [
      "Processing data_objects:  40%|███▉      | 81/203 [01:02<00:37,  3.25it/s]"
     ]
    },
    {
     "name": "stdout",
     "output_type": "stream",
     "text": [
      "第 463 条数据用时: 61.61 秒\n"
     ]
    },
    {
     "name": "stderr",
     "output_type": "stream",
     "text": [
      "Processing data_objects:  42%|████▏     | 85/203 [01:02<00:25,  4.70it/s]"
     ]
    },
    {
     "name": "stdout",
     "output_type": "stream",
     "text": [
      "第 409 条数据用时: 62.55 秒\n",
      "第 559 条数据用时: 62.40 秒\n",
      "第 566 条数据用时: 62.54 秒\n",
      "第 492 条数据用时: 62.57 秒\n"
     ]
    },
    {
     "name": "stderr",
     "output_type": "stream",
     "text": [
      "Processing data_objects:  44%|████▍     | 89/203 [01:02<00:13,  8.45it/s]"
     ]
    },
    {
     "name": "stdout",
     "output_type": "stream",
     "text": [
      "第 502 条数据用时: 62.49 秒\n",
      "第 604 条数据用时: 62.51 秒\n",
      "第 453 条数据用时: 62.88 秒\n",
      "第 527 条数据用时: 62.91 秒\n"
     ]
    },
    {
     "name": "stderr",
     "output_type": "stream",
     "text": [
      "Processing data_objects:  45%|████▍     | 91/203 [01:03<00:12,  8.72it/s]"
     ]
    },
    {
     "name": "stdout",
     "output_type": "stream",
     "text": [
      "第 531 条数据用时: 62.63 秒\n",
      "第 547 条数据用时: 63.05 秒\n",
      "第 579 条数据用时: 62.89 秒\n"
     ]
    },
    {
     "name": "stderr",
     "output_type": "stream",
     "text": [
      "Processing data_objects:  47%|████▋     | 95/203 [01:03<00:11,  9.78it/s]"
     ]
    },
    {
     "name": "stdout",
     "output_type": "stream",
     "text": [
      "第 414 条数据用时: 63.13 秒\n",
      "第 535 条数据用时: 62.95 秒\n",
      "第 529 条数据用时: 63.06 秒\n"
     ]
    },
    {
     "name": "stderr",
     "output_type": "stream",
     "text": [
      "Processing data_objects:  48%|████▊     | 97/203 [01:04<00:17,  6.20it/s]"
     ]
    },
    {
     "name": "stdout",
     "output_type": "stream",
     "text": [
      "第 522 条数据用时: 63.42 秒\n",
      "第 429 条数据用时: 63.54 秒\n",
      "第 526 条数据用时: 64.09 秒\n"
     ]
    },
    {
     "name": "stderr",
     "output_type": "stream",
     "text": [
      "Processing data_objects:  49%|████▉     | 99/203 [01:04<00:15,  6.78it/s]"
     ]
    },
    {
     "name": "stdout",
     "output_type": "stream",
     "text": [
      "第 546 条数据用时: 64.27 秒\n",
      "第 510 条数据用时: 63.96 秒\n"
     ]
    },
    {
     "name": "stderr",
     "output_type": "stream",
     "text": [
      "Processing data_objects:  51%|█████     | 103/203 [01:04<00:14,  6.85it/s]"
     ]
    },
    {
     "name": "stdout",
     "output_type": "stream",
     "text": [
      "第 584 条数据用时: 64.80 秒\n",
      "第 528 条数据用时: 64.46 秒\n",
      "第 519 条数据用时: 64.89 秒\n"
     ]
    },
    {
     "name": "stderr",
     "output_type": "stream",
     "text": [
      "Processing data_objects:  52%|█████▏    | 106/203 [01:05<00:11,  8.31it/s]"
     ]
    },
    {
     "name": "stdout",
     "output_type": "stream",
     "text": [
      "第 504 条数据用时: 64.67 秒\n",
      "第 564 条数据用时: 64.93 秒\n",
      "第 506 条数据用时: 64.79 秒\n"
     ]
    },
    {
     "name": "stderr",
     "output_type": "stream",
     "text": [
      "Processing data_objects:  53%|█████▎    | 108/203 [01:05<00:10,  9.28it/s]"
     ]
    },
    {
     "name": "stdout",
     "output_type": "stream",
     "text": [
      "第 468 条数据用时: 64.69 秒\n",
      "第 554 条数据用时: 65.19 秒\n",
      "第 491 条数据用时: 65.14 秒\n",
      "第 445 条数据用时: 64.74 秒\n"
     ]
    },
    {
     "name": "stderr",
     "output_type": "stream",
     "text": [
      "Processing data_objects:  55%|█████▍    | 111/203 [01:05<00:08, 10.83it/s]"
     ]
    },
    {
     "name": "stdout",
     "output_type": "stream",
     "text": [
      "第 489 条数据用时: 65.36 秒\n",
      "第 494 条数据用时: 65.17 秒\n"
     ]
    },
    {
     "name": "stderr",
     "output_type": "stream",
     "text": [
      "Processing data_objects:  56%|█████▌    | 113/203 [01:06<00:11,  8.11it/s]"
     ]
    },
    {
     "name": "stdout",
     "output_type": "stream",
     "text": [
      "第 467 条数据用时: 65.37 秒\n",
      "第 430 条数据用时: 65.69 秒\n"
     ]
    },
    {
     "name": "stderr",
     "output_type": "stream",
     "text": [
      "Processing data_objects:  57%|█████▋    | 115/203 [01:06<00:11,  7.44it/s]"
     ]
    },
    {
     "name": "stdout",
     "output_type": "stream",
     "text": [
      "第 440 条数据用时: 65.70 秒\n",
      "第 582 条数据用时: 66.42 秒\n",
      "第 417 条数据用时: 66.15 秒\n",
      "第 568 条数据用时: 66.21 秒\n"
     ]
    },
    {
     "name": "stderr",
     "output_type": "stream",
     "text": [
      "Processing data_objects:  59%|█████▊    | 119/203 [01:06<00:08,  9.38it/s]"
     ]
    },
    {
     "name": "stdout",
     "output_type": "stream",
     "text": [
      "第 452 条数据用时: 66.61 秒\n"
     ]
    },
    {
     "name": "stderr",
     "output_type": "stream",
     "text": [
      "Processing data_objects:  60%|█████▉    | 121/203 [01:07<00:11,  7.36it/s]"
     ]
    },
    {
     "name": "stdout",
     "output_type": "stream",
     "text": [
      "第 439 条数据用时: 66.27 秒\n",
      "第 418 条数据用时: 66.78 秒\n"
     ]
    },
    {
     "name": "stderr",
     "output_type": "stream",
     "text": [
      "Processing data_objects:  61%|██████    | 123/203 [01:07<00:09,  8.05it/s]"
     ]
    },
    {
     "name": "stdout",
     "output_type": "stream",
     "text": [
      "第 537 条数据用时: 66.59 秒\n",
      "第 413 条数据用时: 67.04 秒\n"
     ]
    },
    {
     "name": "stderr",
     "output_type": "stream",
     "text": [
      "Processing data_objects:  61%|██████    | 124/203 [01:07<00:11,  6.81it/s]"
     ]
    },
    {
     "name": "stdout",
     "output_type": "stream",
     "text": [
      "第 438 条数据用时: 66.91 秒\n"
     ]
    },
    {
     "name": "stderr",
     "output_type": "stream",
     "text": [
      "Processing data_objects:  62%|██████▏   | 125/203 [01:07<00:14,  5.24it/s]"
     ]
    },
    {
     "name": "stdout",
     "output_type": "stream",
     "text": [
      "第 442 条数据用时: 67.27 秒\n",
      "第 548 条数据用时: 67.90 秒\n"
     ]
    },
    {
     "name": "stderr",
     "output_type": "stream",
     "text": [
      "Processing data_objects:  63%|██████▎   | 128/203 [01:08<00:14,  5.26it/s]"
     ]
    },
    {
     "name": "stdout",
     "output_type": "stream",
     "text": [
      "第 475 条数据用时: 67.63 秒\n",
      "第 574 条数据用时: 68.19 秒\n",
      "第 443 条数据用时: 67.89 秒\n",
      "第 472 条数据用时: 67.86 秒\n",
      "第 458 条数据用时: 68.49 秒\n",
      "第 571 条数据用时: 68.33 秒\n"
     ]
    },
    {
     "name": "stderr",
     "output_type": "stream",
     "text": [
      "Processing data_objects:  66%|██████▌   | 134/203 [01:08<00:08,  8.21it/s]"
     ]
    },
    {
     "name": "stdout",
     "output_type": "stream",
     "text": [
      "第 607 条数据用时: 68.43 秒\n",
      "第 575 条数据用时: 68.66 秒\n"
     ]
    },
    {
     "name": "stderr",
     "output_type": "stream",
     "text": [
      "Processing data_objects:  67%|██████▋   | 135/203 [01:09<00:09,  7.05it/s]"
     ]
    },
    {
     "name": "stdout",
     "output_type": "stream",
     "text": [
      "第 485 条数据用时: 69.05 秒\n",
      "第 561 条数据用时: 69.11 秒\n"
     ]
    },
    {
     "name": "stderr",
     "output_type": "stream",
     "text": [
      "Processing data_objects:  68%|██████▊   | 138/203 [01:09<00:10,  6.41it/s]"
     ]
    },
    {
     "name": "stdout",
     "output_type": "stream",
     "text": [
      "第 553 条数据用时: 69.36 秒\n",
      "第 572 条数据用时: 69.45 秒\n"
     ]
    },
    {
     "name": "stderr",
     "output_type": "stream",
     "text": [
      "Processing data_objects:  69%|██████▉   | 140/203 [01:09<00:08,  7.26it/s]"
     ]
    },
    {
     "name": "stdout",
     "output_type": "stream",
     "text": [
      "第 411 条数据用时: 69.63 秒\n",
      "第 450 条数据用时: 69.14 秒\n"
     ]
    },
    {
     "name": "stderr",
     "output_type": "stream",
     "text": [
      "Processing data_objects:  70%|███████   | 143/203 [01:10<00:06,  9.89it/s]"
     ]
    },
    {
     "name": "stdout",
     "output_type": "stream",
     "text": [
      "第 425 条数据用时: 69.69 秒\n",
      "第 521 条数据用时: 69.58 秒\n",
      "第 581 条数据用时: 69.30 秒\n",
      "第 542 条数据用时: 70.14 秒\n"
     ]
    },
    {
     "name": "stderr",
     "output_type": "stream",
     "text": [
      "Processing data_objects:  71%|███████▏  | 145/203 [01:10<00:06,  8.84it/s]"
     ]
    },
    {
     "name": "stdout",
     "output_type": "stream",
     "text": [
      "第 600 条数据用时: 69.64 秒\n"
     ]
    },
    {
     "name": "stderr",
     "output_type": "stream",
     "text": [
      "Processing data_objects:  72%|███████▏  | 146/203 [01:10<00:08,  6.71it/s]"
     ]
    },
    {
     "name": "stdout",
     "output_type": "stream",
     "text": [
      "第 601 条数据用时: 69.95 秒\n",
      "第 602 条数据用时: 69.98 秒\n",
      "第 421 条数据用时: 70.46 秒\n"
     ]
    },
    {
     "name": "stderr",
     "output_type": "stream",
     "text": [
      "Processing data_objects:  74%|███████▍  | 151/203 [01:11<00:05,  9.41it/s]"
     ]
    },
    {
     "name": "stdout",
     "output_type": "stream",
     "text": [
      "第 451 条数据用时: 70.18 秒\n",
      "第 514 条数据用时: 70.27 秒\n",
      "第 606 条数据用时: 70.70 秒\n"
     ]
    },
    {
     "name": "stderr",
     "output_type": "stream",
     "text": [
      "Processing data_objects:  75%|███████▌  | 153/203 [01:11<00:05,  9.12it/s]"
     ]
    },
    {
     "name": "stdout",
     "output_type": "stream",
     "text": [
      "第 543 条数据用时: 71.17 秒\n",
      "第 530 条数据用时: 70.96 秒\n",
      "第 577 条数据用时: 71.07 秒\n",
      "第 523 条数据用时: 70.67 秒\n"
     ]
    },
    {
     "name": "stderr",
     "output_type": "stream",
     "text": [
      "Processing data_objects:  77%|███████▋  | 156/203 [01:12<00:08,  5.22it/s]"
     ]
    },
    {
     "name": "stdout",
     "output_type": "stream",
     "text": [
      "第 424 条数据用时: 72.03 秒\n"
     ]
    },
    {
     "name": "stderr",
     "output_type": "stream",
     "text": [
      "Processing data_objects:  78%|███████▊  | 158/203 [01:12<00:09,  4.95it/s]"
     ]
    },
    {
     "name": "stdout",
     "output_type": "stream",
     "text": [
      "第 560 条数据用时: 72.40 秒\n",
      "第 497 条数据用时: 72.48 秒\n"
     ]
    },
    {
     "name": "stderr",
     "output_type": "stream",
     "text": [
      "Processing data_objects:  79%|███████▉  | 160/203 [01:13<00:07,  5.97it/s]"
     ]
    },
    {
     "name": "stdout",
     "output_type": "stream",
     "text": [
      "第 509 条数据用时: 72.45 秒\n",
      "第 473 条数据用时: 72.32 秒\n",
      "第 471 条数据用时: 72.42 秒\n"
     ]
    },
    {
     "name": "stderr",
     "output_type": "stream",
     "text": [
      "Processing data_objects:  80%|████████  | 163/203 [01:13<00:07,  5.14it/s]"
     ]
    },
    {
     "name": "stdout",
     "output_type": "stream",
     "text": [
      "第 422 条数据用时: 73.18 秒\n",
      "第 476 条数据用时: 72.96 秒\n"
     ]
    },
    {
     "name": "stderr",
     "output_type": "stream",
     "text": [
      "Processing data_objects:  81%|████████  | 164/203 [01:13<00:07,  5.26it/s]"
     ]
    },
    {
     "name": "stdout",
     "output_type": "stream",
     "text": [
      "第 580 条数据用时: 73.09 秒\n"
     ]
    },
    {
     "name": "stderr",
     "output_type": "stream",
     "text": [
      "Processing data_objects:  82%|████████▏ | 166/203 [01:14<00:06,  5.61it/s]"
     ]
    },
    {
     "name": "stdout",
     "output_type": "stream",
     "text": [
      "第 495 条数据用时: 73.37 秒\n",
      "第 598 条数据用时: 73.50 秒\n",
      "第 448 条数据用时: 73.44 秒\n"
     ]
    },
    {
     "name": "stderr",
     "output_type": "stream",
     "text": [
      "Processing data_objects:  83%|████████▎ | 168/203 [01:14<00:05,  5.97it/s]"
     ]
    },
    {
     "name": "stdout",
     "output_type": "stream",
     "text": [
      "第 444 条数据用时: 73.86 秒\n",
      "第 541 条数据用时: 73.80 秒\n"
     ]
    },
    {
     "name": "stderr",
     "output_type": "stream",
     "text": [
      "Processing data_objects:  84%|████████▍ | 171/203 [01:15<00:05,  5.44it/s]"
     ]
    },
    {
     "name": "stdout",
     "output_type": "stream",
     "text": [
      "第 516 条数据用时: 74.22 秒\n",
      "第 499 条数据用时: 74.79 秒\n"
     ]
    },
    {
     "name": "stderr",
     "output_type": "stream",
     "text": [
      "Processing data_objects:  86%|████████▌ | 174/203 [01:15<00:03,  7.72it/s]"
     ]
    },
    {
     "name": "stdout",
     "output_type": "stream",
     "text": [
      "第 496 条数据用时: 74.95 秒\n",
      "第 599 条数据用时: 74.52 秒\n",
      "第 498 条数据用时: 75.08 秒\n"
     ]
    },
    {
     "name": "stderr",
     "output_type": "stream",
     "text": [
      "Processing data_objects:  86%|████████▌ | 175/203 [01:15<00:03,  8.00it/s]"
     ]
    },
    {
     "name": "stdout",
     "output_type": "stream",
     "text": [
      "第 423 条数据用时: 75.17 秒\n"
     ]
    },
    {
     "name": "stderr",
     "output_type": "stream",
     "text": [
      "Processing data_objects:  87%|████████▋ | 176/203 [01:15<00:05,  5.02it/s]"
     ]
    },
    {
     "name": "stdout",
     "output_type": "stream",
     "text": [
      "第 428 条数据用时: 75.25 秒\n"
     ]
    },
    {
     "name": "stderr",
     "output_type": "stream",
     "text": [
      "Processing data_objects:  87%|████████▋ | 177/203 [01:16<00:08,  3.20it/s]"
     ]
    },
    {
     "name": "stdout",
     "output_type": "stream",
     "text": [
      "第 515 条数据用时: 76.20 秒\n",
      "第 578 条数据用时: 76.27 秒\n"
     ]
    },
    {
     "name": "stderr",
     "output_type": "stream",
     "text": [
      "Processing data_objects:  88%|████████▊ | 179/203 [01:16<00:06,  3.82it/s]"
     ]
    },
    {
     "name": "stdout",
     "output_type": "stream",
     "text": [
      "第 420 条数据用时: 76.66 秒\n"
     ]
    },
    {
     "name": "stderr",
     "output_type": "stream",
     "text": [
      "Processing data_objects:  89%|████████▊ | 180/203 [01:17<00:06,  3.53it/s]"
     ]
    },
    {
     "name": "stdout",
     "output_type": "stream",
     "text": [
      "第 474 条数据用时: 76.61 秒\n",
      "第 540 条数据用时: 76.64 秒\n",
      "第 597 条数据用时: 76.65 秒\n"
     ]
    },
    {
     "name": "stderr",
     "output_type": "stream",
     "text": [
      "Processing data_objects:  91%|█████████ | 184/203 [01:17<00:03,  5.98it/s]"
     ]
    },
    {
     "name": "stdout",
     "output_type": "stream",
     "text": [
      "第 512 条数据用时: 76.80 秒\n",
      "第 594 条数据用时: 77.00 秒\n"
     ]
    },
    {
     "name": "stderr",
     "output_type": "stream",
     "text": [
      "Processing data_objects:  91%|█████████ | 185/203 [01:18<00:05,  3.01it/s]"
     ]
    },
    {
     "name": "stdout",
     "output_type": "stream",
     "text": [
      "第 447 条数据用时: 77.85 秒\n"
     ]
    },
    {
     "name": "stderr",
     "output_type": "stream",
     "text": [
      "Processing data_objects:  92%|█████████▏| 186/203 [01:19<00:08,  2.05it/s]"
     ]
    },
    {
     "name": "stdout",
     "output_type": "stream",
     "text": [
      "第 416 条数据用时: 79.35 秒\n"
     ]
    },
    {
     "name": "stderr",
     "output_type": "stream",
     "text": [
      "Processing data_objects:  92%|█████████▏| 187/203 [01:19<00:07,  2.26it/s]"
     ]
    },
    {
     "name": "stdout",
     "output_type": "stream",
     "text": [
      "第 595 条数据用时: 79.22 秒\n",
      "第 412 条数据用时: 79.23 秒\n"
     ]
    },
    {
     "name": "stderr",
     "output_type": "stream",
     "text": [
      "Processing data_objects:  94%|█████████▎| 190/203 [01:20<00:04,  3.19it/s]"
     ]
    },
    {
     "name": "stdout",
     "output_type": "stream",
     "text": [
      "第 433 条数据用时: 79.81 秒\n",
      "第 419 条数据用时: 80.24 秒\n"
     ]
    },
    {
     "name": "stderr",
     "output_type": "stream",
     "text": [
      "Processing data_objects:  94%|█████████▍| 191/203 [01:21<00:04,  2.87it/s]"
     ]
    },
    {
     "name": "stdout",
     "output_type": "stream",
     "text": [
      "第 605 条数据用时: 80.61 秒\n",
      "第 525 条数据用时: 80.69 秒\n"
     ]
    },
    {
     "name": "stderr",
     "output_type": "stream",
     "text": [
      "Processing data_objects:  96%|█████████▌| 194/203 [01:21<00:02,  4.24it/s]"
     ]
    },
    {
     "name": "stdout",
     "output_type": "stream",
     "text": [
      "第 596 条数据用时: 80.58 秒\n",
      "第 500 条数据用时: 81.06 秒\n"
     ]
    },
    {
     "name": "stderr",
     "output_type": "stream",
     "text": [
      "Processing data_objects:  97%|█████████▋| 196/203 [01:21<00:01,  5.07it/s]"
     ]
    },
    {
     "name": "stdout",
     "output_type": "stream",
     "text": [
      "第 407 条数据用时: 81.31 秒\n",
      "第 603 条数据用时: 80.94 秒\n"
     ]
    },
    {
     "name": "stderr",
     "output_type": "stream",
     "text": [
      "Processing data_objects:  97%|█████████▋| 197/203 [01:23<00:03,  1.79it/s]"
     ]
    },
    {
     "name": "stdout",
     "output_type": "stream",
     "text": [
      "第 446 条数据用时: 82.89 秒\n"
     ]
    },
    {
     "name": "stderr",
     "output_type": "stream",
     "text": [
      "Processing data_objects:  98%|█████████▊| 198/203 [01:24<00:03,  1.47it/s]"
     ]
    },
    {
     "name": "stdout",
     "output_type": "stream",
     "text": [
      "第 426 条数据用时: 83.52 秒\n"
     ]
    },
    {
     "name": "stderr",
     "output_type": "stream",
     "text": [
      "Processing data_objects:  99%|█████████▉| 201/203 [01:24<00:00,  3.00it/s]"
     ]
    },
    {
     "name": "stdout",
     "output_type": "stream",
     "text": [
      "第 508 条数据用时: 84.05 秒\n",
      "第 576 条数据用时: 84.20 秒\n",
      "第 513 条数据用时: 83.83 秒\n"
     ]
    },
    {
     "name": "stderr",
     "output_type": "stream",
     "text": [
      "Processing data_objects: 100%|█████████▉| 202/203 [01:25<00:00,  2.14it/s]"
     ]
    },
    {
     "name": "stdout",
     "output_type": "stream",
     "text": [
      "第 573 条数据用时: 85.20 秒\n"
     ]
    },
    {
     "name": "stderr",
     "output_type": "stream",
     "text": [
      "Processing data_objects: 100%|██████████| 203/203 [01:37<00:00,  2.09it/s]\n"
     ]
    },
    {
     "name": "stdout",
     "output_type": "stream",
     "text": [
      "第 570 条数据用时: 97.02 秒\n"
     ]
    },
    {
     "name": "stderr",
     "output_type": "stream",
     "text": [
      "Processing data_objects:   0%|          | 1/203 [00:11<38:34, 11.46s/it]"
     ]
    },
    {
     "name": "stdout",
     "output_type": "stream",
     "text": [
      "第 674 条数据用时: 11.38 秒\n"
     ]
    },
    {
     "name": "stderr",
     "output_type": "stream",
     "text": [
      "Processing data_objects:   1%|▏         | 3/203 [00:26<25:06,  7.53s/it]"
     ]
    },
    {
     "name": "stdout",
     "output_type": "stream",
     "text": [
      "第 656 条数据用时: 26.35 秒\n",
      "第 717 条数据用时: 26.55 秒\n"
     ]
    },
    {
     "name": "stderr",
     "output_type": "stream",
     "text": [
      "Processing data_objects:   2%|▏         | 4/203 [00:32<21:44,  6.56s/it]"
     ]
    },
    {
     "name": "stdout",
     "output_type": "stream",
     "text": [
      "第 684 条数据用时: 31.89 秒\n"
     ]
    },
    {
     "name": "stderr",
     "output_type": "stream",
     "text": [
      "Processing data_objects:   2%|▏         | 5/203 [00:32<14:27,  4.38s/it]"
     ]
    },
    {
     "name": "stdout",
     "output_type": "stream",
     "text": [
      "第 657 条数据用时: 32.03 秒\n"
     ]
    },
    {
     "name": "stderr",
     "output_type": "stream",
     "text": [
      "Processing data_objects:   3%|▎         | 6/203 [00:35<12:36,  3.84s/it]"
     ]
    },
    {
     "name": "stdout",
     "output_type": "stream",
     "text": [
      "第 720 条数据用时: 34.90 秒\n"
     ]
    },
    {
     "name": "stderr",
     "output_type": "stream",
     "text": [
      "Processing data_objects:   3%|▎         | 7/203 [00:36<09:33,  2.93s/it]"
     ]
    },
    {
     "name": "stdout",
     "output_type": "stream",
     "text": [
      "第 769 条数据用时: 36.33 秒\n"
     ]
    },
    {
     "name": "stderr",
     "output_type": "stream",
     "text": [
      "Processing data_objects:   4%|▍         | 8/203 [00:36<06:46,  2.08s/it]"
     ]
    },
    {
     "name": "stdout",
     "output_type": "stream",
     "text": [
      "第 741 条数据用时: 36.58 秒\n"
     ]
    },
    {
     "name": "stderr",
     "output_type": "stream",
     "text": [
      "Processing data_objects:   4%|▍         | 9/203 [00:36<04:51,  1.50s/it]"
     ]
    },
    {
     "name": "stdout",
     "output_type": "stream",
     "text": [
      "第 668 条数据用时: 36.87 秒\n"
     ]
    },
    {
     "name": "stderr",
     "output_type": "stream",
     "text": [
      "Processing data_objects:   5%|▍         | 10/203 [00:37<03:49,  1.19s/it]"
     ]
    },
    {
     "name": "stdout",
     "output_type": "stream",
     "text": [
      "第 681 条数据用时: 37.19 秒\n"
     ]
    },
    {
     "name": "stderr",
     "output_type": "stream",
     "text": [
      "Processing data_objects:   5%|▌         | 11/203 [00:37<03:10,  1.01it/s]"
     ]
    },
    {
     "name": "stdout",
     "output_type": "stream",
     "text": [
      "第 773 条数据用时: 37.81 秒\n"
     ]
    },
    {
     "name": "stderr",
     "output_type": "stream",
     "text": [
      "Processing data_objects:   6%|▌         | 12/203 [00:38<02:30,  1.27it/s]"
     ]
    },
    {
     "name": "stdout",
     "output_type": "stream",
     "text": [
      "第 673 条数据用时: 38.17 秒\n"
     ]
    },
    {
     "name": "stderr",
     "output_type": "stream",
     "text": [
      "Processing data_objects:   6%|▋         | 13/203 [00:38<02:11,  1.45it/s]"
     ]
    },
    {
     "name": "stdout",
     "output_type": "stream",
     "text": [
      "第 749 条数据用时: 38.25 秒\n"
     ]
    },
    {
     "name": "stderr",
     "output_type": "stream",
     "text": [
      "Processing data_objects:   7%|▋         | 14/203 [00:39<02:21,  1.34it/s]"
     ]
    },
    {
     "name": "stdout",
     "output_type": "stream",
     "text": [
      "第 632 条数据用时: 39.08 秒\n"
     ]
    },
    {
     "name": "stderr",
     "output_type": "stream",
     "text": [
      "Processing data_objects:   7%|▋         | 15/203 [00:40<02:36,  1.20it/s]"
     ]
    },
    {
     "name": "stdout",
     "output_type": "stream",
     "text": [
      "第 679 条数据用时: 40.45 秒\n",
      "第 788 条数据用时: 40.46 秒\n"
     ]
    },
    {
     "name": "stderr",
     "output_type": "stream",
     "text": [
      "Processing data_objects:   8%|▊         | 17/203 [00:41<02:07,  1.46it/s]"
     ]
    },
    {
     "name": "stdout",
     "output_type": "stream",
     "text": [
      "第 611 条数据用时: 41.25 秒\n"
     ]
    },
    {
     "name": "stderr",
     "output_type": "stream",
     "text": [
      "Processing data_objects:   9%|▉         | 18/203 [00:41<01:50,  1.68it/s]"
     ]
    },
    {
     "name": "stdout",
     "output_type": "stream",
     "text": [
      "第 693 条数据用时: 41.66 秒\n"
     ]
    },
    {
     "name": "stderr",
     "output_type": "stream",
     "text": [
      "Processing data_objects:   9%|▉         | 19/203 [00:42<01:43,  1.77it/s]"
     ]
    },
    {
     "name": "stdout",
     "output_type": "stream",
     "text": [
      "第 790 条数据用时: 42.24 秒\n",
      "第 748 条数据用时: 42.00 秒\n"
     ]
    },
    {
     "name": "stderr",
     "output_type": "stream",
     "text": [
      "Processing data_objects:  10%|█         | 21/203 [00:43<01:23,  2.17it/s]"
     ]
    },
    {
     "name": "stdout",
     "output_type": "stream",
     "text": [
      "第 709 条数据用时: 42.78 秒\n"
     ]
    },
    {
     "name": "stderr",
     "output_type": "stream",
     "text": [
      "Processing data_objects:  11%|█         | 22/203 [00:43<01:18,  2.31it/s]"
     ]
    },
    {
     "name": "stdout",
     "output_type": "stream",
     "text": [
      "第 666 条数据用时: 43.06 秒\n"
     ]
    },
    {
     "name": "stderr",
     "output_type": "stream",
     "text": [
      "Processing data_objects:  11%|█▏        | 23/203 [00:43<01:14,  2.42it/s]"
     ]
    },
    {
     "name": "stdout",
     "output_type": "stream",
     "text": [
      "第 723 条数据用时: 43.17 秒\n"
     ]
    },
    {
     "name": "stderr",
     "output_type": "stream",
     "text": [
      "Processing data_objects:  12%|█▏        | 24/203 [00:44<01:07,  2.66it/s]"
     ]
    },
    {
     "name": "stdout",
     "output_type": "stream",
     "text": [
      "第 691 条数据用时: 43.78 秒\n",
      "第 700 条数据用时: 44.03 秒\n"
     ]
    },
    {
     "name": "stderr",
     "output_type": "stream",
     "text": [
      "Processing data_objects:  13%|█▎        | 27/203 [00:44<00:54,  3.24it/s]"
     ]
    },
    {
     "name": "stdout",
     "output_type": "stream",
     "text": [
      "第 711 条数据用时: 44.38 秒\n",
      "第 702 条数据用时: 44.68 秒\n"
     ]
    },
    {
     "name": "stderr",
     "output_type": "stream",
     "text": [
      "Processing data_objects:  14%|█▍        | 28/203 [00:45<00:54,  3.20it/s]"
     ]
    },
    {
     "name": "stdout",
     "output_type": "stream",
     "text": [
      "第 750 条数据用时: 44.73 秒\n"
     ]
    },
    {
     "name": "stderr",
     "output_type": "stream",
     "text": [
      "Processing data_objects:  14%|█▍        | 29/203 [00:45<00:55,  3.13it/s]"
     ]
    },
    {
     "name": "stdout",
     "output_type": "stream",
     "text": [
      "第 705 条数据用时: 45.28 秒\n"
     ]
    },
    {
     "name": "stderr",
     "output_type": "stream",
     "text": [
      "Processing data_objects:  15%|█▍        | 30/203 [00:45<00:53,  3.21it/s]"
     ]
    },
    {
     "name": "stdout",
     "output_type": "stream",
     "text": [
      "第 671 条数据用时: 45.77 秒\n"
     ]
    },
    {
     "name": "stderr",
     "output_type": "stream",
     "text": [
      "Processing data_objects:  15%|█▌        | 31/203 [00:46<00:55,  3.09it/s]"
     ]
    },
    {
     "name": "stdout",
     "output_type": "stream",
     "text": [
      "第 777 条数据用时: 46.00 秒\n"
     ]
    },
    {
     "name": "stderr",
     "output_type": "stream",
     "text": [
      "Processing data_objects:  16%|█▌        | 32/203 [00:46<01:00,  2.84it/s]"
     ]
    },
    {
     "name": "stdout",
     "output_type": "stream",
     "text": [
      "第 670 条数据用时: 46.56 秒\n"
     ]
    },
    {
     "name": "stderr",
     "output_type": "stream",
     "text": [
      "Processing data_objects:  16%|█▋        | 33/203 [00:47<01:12,  2.35it/s]"
     ]
    },
    {
     "name": "stdout",
     "output_type": "stream",
     "text": [
      "第 796 条数据用时: 46.91 秒\n"
     ]
    },
    {
     "name": "stderr",
     "output_type": "stream",
     "text": [
      "Processing data_objects:  17%|█▋        | 34/203 [00:47<01:03,  2.64it/s]"
     ]
    },
    {
     "name": "stdout",
     "output_type": "stream",
     "text": [
      "第 676 条数据用时: 47.36 秒\n"
     ]
    },
    {
     "name": "stderr",
     "output_type": "stream",
     "text": [
      "Processing data_objects:  17%|█▋        | 35/203 [00:47<01:03,  2.63it/s]"
     ]
    },
    {
     "name": "stdout",
     "output_type": "stream",
     "text": [
      "第 626 条数据用时: 47.03 秒\n"
     ]
    },
    {
     "name": "stderr",
     "output_type": "stream",
     "text": [
      "Processing data_objects:  18%|█▊        | 36/203 [00:48<00:59,  2.82it/s]"
     ]
    },
    {
     "name": "stdout",
     "output_type": "stream",
     "text": [
      "第 792 条数据用时: 47.91 秒\n"
     ]
    },
    {
     "name": "stderr",
     "output_type": "stream",
     "text": [
      "Processing data_objects:  18%|█▊        | 37/203 [00:48<00:56,  2.96it/s]"
     ]
    },
    {
     "name": "stdout",
     "output_type": "stream",
     "text": [
      "第 795 条数据用时: 48.16 秒\n",
      "第 698 条数据用时: 48.27 秒\n",
      "第 685 条数据用时: 48.09 秒\n"
     ]
    },
    {
     "name": "stderr",
     "output_type": "stream",
     "text": [
      "Processing data_objects:  20%|█▉        | 40/203 [00:49<00:50,  3.23it/s]"
     ]
    },
    {
     "name": "stdout",
     "output_type": "stream",
     "text": [
      "第 797 条数据用时: 49.01 秒\n"
     ]
    },
    {
     "name": "stderr",
     "output_type": "stream",
     "text": [
      "Processing data_objects:  20%|██        | 41/203 [00:49<00:50,  3.18it/s]"
     ]
    },
    {
     "name": "stdout",
     "output_type": "stream",
     "text": [
      "第 746 条数据用时: 49.22 秒\n"
     ]
    },
    {
     "name": "stderr",
     "output_type": "stream",
     "text": [
      "Processing data_objects:  21%|██        | 42/203 [00:49<00:52,  3.08it/s]"
     ]
    },
    {
     "name": "stdout",
     "output_type": "stream",
     "text": [
      "第 766 条数据用时: 49.98 秒\n"
     ]
    },
    {
     "name": "stderr",
     "output_type": "stream",
     "text": [
      "Processing data_objects:  21%|██        | 43/203 [00:50<00:50,  3.16it/s]"
     ]
    },
    {
     "name": "stdout",
     "output_type": "stream",
     "text": [
      "第 740 条数据用时: 50.24 秒\n"
     ]
    },
    {
     "name": "stderr",
     "output_type": "stream",
     "text": [
      "Processing data_objects:  22%|██▏       | 44/203 [00:50<00:48,  3.30it/s]"
     ]
    },
    {
     "name": "stdout",
     "output_type": "stream",
     "text": [
      "第 756 条数据用时: 50.03 秒\n"
     ]
    },
    {
     "name": "stderr",
     "output_type": "stream",
     "text": [
      "Processing data_objects:  22%|██▏       | 45/203 [00:50<00:45,  3.47it/s]"
     ]
    },
    {
     "name": "stdout",
     "output_type": "stream",
     "text": [
      "第 695 条数据用时: 50.47 秒\n"
     ]
    },
    {
     "name": "stderr",
     "output_type": "stream",
     "text": [
      "Processing data_objects:  23%|██▎       | 46/203 [00:51<00:45,  3.43it/s]"
     ]
    },
    {
     "name": "stdout",
     "output_type": "stream",
     "text": [
      "第 771 条数据用时: 51.02 秒\n"
     ]
    },
    {
     "name": "stderr",
     "output_type": "stream",
     "text": [
      "Processing data_objects:  23%|██▎       | 47/203 [00:51<00:49,  3.13it/s]"
     ]
    },
    {
     "name": "stdout",
     "output_type": "stream",
     "text": [
      "第 703 条数据用时: 51.28 秒\n",
      "第 631 条数据用时: 51.01 秒\n"
     ]
    },
    {
     "name": "stderr",
     "output_type": "stream",
     "text": [
      "Processing data_objects:  24%|██▍       | 49/203 [00:52<00:50,  3.05it/s]"
     ]
    },
    {
     "name": "stdout",
     "output_type": "stream",
     "text": [
      "第 633 条数据用时: 51.65 秒\n"
     ]
    },
    {
     "name": "stderr",
     "output_type": "stream",
     "text": [
      "Processing data_objects:  25%|██▍       | 50/203 [00:52<00:50,  3.03it/s]"
     ]
    },
    {
     "name": "stdout",
     "output_type": "stream",
     "text": [
      "第 669 条数据用时: 52.48 秒\n"
     ]
    },
    {
     "name": "stderr",
     "output_type": "stream",
     "text": [
      "Processing data_objects:  25%|██▌       | 51/203 [00:52<00:47,  3.20it/s]"
     ]
    },
    {
     "name": "stdout",
     "output_type": "stream",
     "text": [
      "第 653 条数据用时: 52.29 秒\n"
     ]
    },
    {
     "name": "stderr",
     "output_type": "stream",
     "text": [
      "Processing data_objects:  26%|██▌       | 52/203 [00:53<00:44,  3.36it/s]"
     ]
    },
    {
     "name": "stdout",
     "output_type": "stream",
     "text": [
      "第 783 条数据用时: 52.74 秒\n"
     ]
    },
    {
     "name": "stderr",
     "output_type": "stream",
     "text": [
      "Processing data_objects:  26%|██▌       | 53/203 [00:53<00:49,  3.04it/s]"
     ]
    },
    {
     "name": "stdout",
     "output_type": "stream",
     "text": [
      "第 654 条数据用时: 52.95 秒\n",
      "第 802 条数据用时: 53.17 秒\n"
     ]
    },
    {
     "name": "stderr",
     "output_type": "stream",
     "text": [
      "Processing data_objects:  27%|██▋       | 55/203 [00:53<00:45,  3.23it/s]"
     ]
    },
    {
     "name": "stdout",
     "output_type": "stream",
     "text": [
      "第 800 条数据用时: 53.66 秒\n"
     ]
    },
    {
     "name": "stderr",
     "output_type": "stream",
     "text": [
      "Processing data_objects:  28%|██▊       | 56/203 [00:54<00:46,  3.14it/s]"
     ]
    },
    {
     "name": "stdout",
     "output_type": "stream",
     "text": [
      "第 791 条数据用时: 54.13 秒\n",
      "第 677 条数据用时: 54.23 秒\n"
     ]
    },
    {
     "name": "stderr",
     "output_type": "stream",
     "text": [
      "Processing data_objects:  29%|██▊       | 58/203 [00:54<00:44,  3.25it/s]"
     ]
    },
    {
     "name": "stdout",
     "output_type": "stream",
     "text": [
      "第 714 条数据用时: 54.56 秒\n"
     ]
    },
    {
     "name": "stderr",
     "output_type": "stream",
     "text": [
      "Processing data_objects:  29%|██▉       | 59/203 [00:55<00:47,  3.01it/s]"
     ]
    },
    {
     "name": "stdout",
     "output_type": "stream",
     "text": [
      "第 647 条数据用时: 54.95 秒\n"
     ]
    },
    {
     "name": "stderr",
     "output_type": "stream",
     "text": [
      "Processing data_objects:  30%|██▉       | 60/203 [00:55<00:47,  3.02it/s]"
     ]
    },
    {
     "name": "stdout",
     "output_type": "stream",
     "text": [
      "第 663 条数据用时: 55.52 秒\n"
     ]
    },
    {
     "name": "stderr",
     "output_type": "stream",
     "text": [
      "Processing data_objects:  30%|███       | 61/203 [00:56<00:53,  2.67it/s]"
     ]
    },
    {
     "name": "stdout",
     "output_type": "stream",
     "text": [
      "第 715 条数据用时: 55.79 秒\n"
     ]
    },
    {
     "name": "stderr",
     "output_type": "stream",
     "text": [
      "Processing data_objects:  31%|███       | 62/203 [00:56<00:58,  2.41it/s]"
     ]
    },
    {
     "name": "stdout",
     "output_type": "stream",
     "text": [
      "第 649 条数据用时: 56.26 秒\n"
     ]
    },
    {
     "name": "stderr",
     "output_type": "stream",
     "text": [
      "Processing data_objects:  31%|███       | 63/203 [00:57<00:54,  2.55it/s]"
     ]
    },
    {
     "name": "stdout",
     "output_type": "stream",
     "text": [
      "第 781 条数据用时: 56.79 秒\n"
     ]
    },
    {
     "name": "stderr",
     "output_type": "stream",
     "text": [
      "Processing data_objects:  32%|███▏      | 64/203 [00:57<00:58,  2.36it/s]"
     ]
    },
    {
     "name": "stdout",
     "output_type": "stream",
     "text": [
      "第 692 条数据用时: 57.24 秒\n",
      "第 708 条数据用时: 57.24 秒\n"
     ]
    },
    {
     "name": "stderr",
     "output_type": "stream",
     "text": [
      "Processing data_objects:  33%|███▎      | 66/203 [00:57<00:46,  2.96it/s]"
     ]
    },
    {
     "name": "stdout",
     "output_type": "stream",
     "text": [
      "第 646 条数据用时: 57.18 秒\n"
     ]
    },
    {
     "name": "stderr",
     "output_type": "stream",
     "text": [
      "Processing data_objects:  33%|███▎      | 67/203 [00:58<00:44,  3.03it/s]"
     ]
    },
    {
     "name": "stdout",
     "output_type": "stream",
     "text": [
      "第 651 条数据用时: 57.84 秒\n"
     ]
    },
    {
     "name": "stderr",
     "output_type": "stream",
     "text": [
      "Processing data_objects:  33%|███▎      | 68/203 [00:58<00:46,  2.90it/s]"
     ]
    },
    {
     "name": "stdout",
     "output_type": "stream",
     "text": [
      "第 716 条数据用时: 58.30 秒\n"
     ]
    },
    {
     "name": "stderr",
     "output_type": "stream",
     "text": [
      "Processing data_objects:  34%|███▍      | 69/203 [00:58<00:42,  3.18it/s]"
     ]
    },
    {
     "name": "stdout",
     "output_type": "stream",
     "text": [
      "第 721 条数据用时: 58.86 秒\n"
     ]
    },
    {
     "name": "stderr",
     "output_type": "stream",
     "text": [
      "Processing data_objects:  34%|███▍      | 70/203 [00:59<00:41,  3.20it/s]"
     ]
    },
    {
     "name": "stdout",
     "output_type": "stream",
     "text": [
      "第 778 条数据用时: 59.04 秒\n"
     ]
    },
    {
     "name": "stderr",
     "output_type": "stream",
     "text": [
      "Processing data_objects:  35%|███▍      | 71/203 [00:59<00:48,  2.73it/s]"
     ]
    },
    {
     "name": "stdout",
     "output_type": "stream",
     "text": [
      "第 712 条数据用时: 59.40 秒\n"
     ]
    },
    {
     "name": "stderr",
     "output_type": "stream",
     "text": [
      "Processing data_objects:  35%|███▌      | 72/203 [01:00<00:49,  2.67it/s]"
     ]
    },
    {
     "name": "stdout",
     "output_type": "stream",
     "text": [
      "第 799 条数据用时: 59.80 秒\n"
     ]
    },
    {
     "name": "stderr",
     "output_type": "stream",
     "text": [
      "Processing data_objects:  36%|███▌      | 73/203 [01:00<00:52,  2.48it/s]"
     ]
    },
    {
     "name": "stdout",
     "output_type": "stream",
     "text": [
      "第 727 条数据用时: 59.94 秒\n"
     ]
    },
    {
     "name": "stderr",
     "output_type": "stream",
     "text": [
      "Processing data_objects:  36%|███▋      | 74/203 [01:00<00:50,  2.56it/s]"
     ]
    },
    {
     "name": "stdout",
     "output_type": "stream",
     "text": [
      "第 648 条数据用时: 60.58 秒\n"
     ]
    },
    {
     "name": "stderr",
     "output_type": "stream",
     "text": [
      "Processing data_objects:  37%|███▋      | 75/203 [01:01<00:45,  2.83it/s]"
     ]
    },
    {
     "name": "stdout",
     "output_type": "stream",
     "text": [
      "第 655 条数据用时: 60.73 秒\n"
     ]
    },
    {
     "name": "stderr",
     "output_type": "stream",
     "text": [
      "Processing data_objects:  37%|███▋      | 76/203 [01:01<00:43,  2.95it/s]"
     ]
    },
    {
     "name": "stdout",
     "output_type": "stream",
     "text": [
      "第 689 条数据用时: 61.29 秒\n"
     ]
    },
    {
     "name": "stderr",
     "output_type": "stream",
     "text": [
      "Processing data_objects:  38%|███▊      | 77/203 [01:01<00:41,  3.05it/s]"
     ]
    },
    {
     "name": "stdout",
     "output_type": "stream",
     "text": [
      "第 630 条数据用时: 61.38 秒\n"
     ]
    },
    {
     "name": "stderr",
     "output_type": "stream",
     "text": [
      "Processing data_objects:  38%|███▊      | 78/203 [01:02<00:38,  3.24it/s]"
     ]
    },
    {
     "name": "stdout",
     "output_type": "stream",
     "text": [
      "第 713 条数据用时: 61.73 秒\n"
     ]
    },
    {
     "name": "stderr",
     "output_type": "stream",
     "text": [
      "Processing data_objects:  39%|███▉      | 79/203 [01:02<00:46,  2.69it/s]"
     ]
    },
    {
     "name": "stdout",
     "output_type": "stream",
     "text": [
      "第 743 条数据用时: 62.23 秒\n",
      "第 772 条数据用时: 62.52 秒\n"
     ]
    },
    {
     "name": "stderr",
     "output_type": "stream",
     "text": [
      "Processing data_objects:  40%|███▉      | 81/203 [01:03<00:38,  3.21it/s]"
     ]
    },
    {
     "name": "stdout",
     "output_type": "stream",
     "text": [
      "第 694 条数据用时: 62.78 秒\n"
     ]
    },
    {
     "name": "stderr",
     "output_type": "stream",
     "text": [
      "Processing data_objects:  41%|████      | 83/203 [01:04<00:41,  2.86it/s]"
     ]
    },
    {
     "name": "stdout",
     "output_type": "stream",
     "text": [
      "第 774 条数据用时: 63.73 秒\n",
      "第 785 条数据用时: 63.90 秒\n"
     ]
    },
    {
     "name": "stderr",
     "output_type": "stream",
     "text": [
      "Processing data_objects:  41%|████▏     | 84/203 [01:04<00:51,  2.29it/s]"
     ]
    },
    {
     "name": "stdout",
     "output_type": "stream",
     "text": [
      "第 697 条数据用时: 64.32 秒\n"
     ]
    },
    {
     "name": "stderr",
     "output_type": "stream",
     "text": [
      "Processing data_objects:  42%|████▏     | 85/203 [01:04<00:47,  2.50it/s]"
     ]
    },
    {
     "name": "stdout",
     "output_type": "stream",
     "text": [
      "第 793 条数据用时: 64.73 秒\n"
     ]
    },
    {
     "name": "stderr",
     "output_type": "stream",
     "text": [
      "Processing data_objects:  42%|████▏     | 86/203 [01:05<00:45,  2.57it/s]"
     ]
    },
    {
     "name": "stdout",
     "output_type": "stream",
     "text": [
      "第 664 条数据用时: 64.51 秒\n"
     ]
    },
    {
     "name": "stderr",
     "output_type": "stream",
     "text": [
      "Processing data_objects:  43%|████▎     | 88/203 [01:05<00:33,  3.41it/s]"
     ]
    },
    {
     "name": "stdout",
     "output_type": "stream",
     "text": [
      "第 768 条数据用时: 65.62 秒\n",
      "第 690 条数据用时: 65.52 秒\n"
     ]
    },
    {
     "name": "stderr",
     "output_type": "stream",
     "text": [
      "Processing data_objects:  44%|████▍     | 89/203 [01:05<00:29,  3.91it/s]"
     ]
    },
    {
     "name": "stdout",
     "output_type": "stream",
     "text": [
      "第 682 条数据用时: 65.71 秒\n"
     ]
    },
    {
     "name": "stderr",
     "output_type": "stream",
     "text": [
      "Processing data_objects:  44%|████▍     | 90/203 [01:06<00:45,  2.51it/s]"
     ]
    },
    {
     "name": "stdout",
     "output_type": "stream",
     "text": [
      "第 789 条数据用时: 66.49 秒\n",
      "第 752 条数据用时: 66.26 秒\n",
      "第 704 条数据用时: 66.51 秒\n"
     ]
    },
    {
     "name": "stderr",
     "output_type": "stream",
     "text": [
      "Processing data_objects:  46%|████▋     | 94/203 [01:07<00:25,  4.32it/s]"
     ]
    },
    {
     "name": "stdout",
     "output_type": "stream",
     "text": [
      "第 696 条数据用时: 66.81 秒\n",
      "第 775 条数据用时: 67.10 秒\n"
     ]
    },
    {
     "name": "stderr",
     "output_type": "stream",
     "text": [
      "Processing data_objects:  47%|████▋     | 96/203 [01:07<00:19,  5.61it/s]"
     ]
    },
    {
     "name": "stdout",
     "output_type": "stream",
     "text": [
      "第 809 条数据用时: 66.71 秒\n",
      "第 652 条数据用时: 67.00 秒\n"
     ]
    },
    {
     "name": "stderr",
     "output_type": "stream",
     "text": [
      "Processing data_objects:  49%|████▉     | 99/203 [01:07<00:14,  6.95it/s]"
     ]
    },
    {
     "name": "stdout",
     "output_type": "stream",
     "text": [
      "第 807 条数据用时: 67.16 秒\n",
      "第 782 条数据用时: 67.57 秒\n",
      "第 794 条数据用时: 67.62 秒\n",
      "第 629 条数据用时: 67.47 秒\n"
     ]
    },
    {
     "name": "stderr",
     "output_type": "stream",
     "text": [
      "Processing data_objects:  50%|█████     | 102/203 [01:08<00:16,  6.12it/s]"
     ]
    },
    {
     "name": "stdout",
     "output_type": "stream",
     "text": [
      "第 798 条数据用时: 67.98 秒\n",
      "第 686 条数据用时: 68.43 秒\n"
     ]
    },
    {
     "name": "stderr",
     "output_type": "stream",
     "text": [
      "Processing data_objects:  51%|█████     | 103/203 [01:08<00:19,  5.08it/s]"
     ]
    },
    {
     "name": "stdout",
     "output_type": "stream",
     "text": [
      "第 787 条数据用时: 68.61 秒\n",
      "第 675 条数据用时: 68.66 秒\n",
      "第 801 条数据用时: 68.61 秒\n"
     ]
    },
    {
     "name": "stderr",
     "output_type": "stream",
     "text": [
      "Processing data_objects:  52%|█████▏    | 106/203 [01:09<00:16,  5.99it/s]"
     ]
    },
    {
     "name": "stdout",
     "output_type": "stream",
     "text": [
      "第 707 条数据用时: 68.87 秒\n",
      "第 784 条数据用时: 69.26 秒\n",
      "第 622 条数据用时: 68.57 秒\n"
     ]
    },
    {
     "name": "stderr",
     "output_type": "stream",
     "text": [
      "Processing data_objects:  54%|█████▎    | 109/203 [01:09<00:13,  6.97it/s]"
     ]
    },
    {
     "name": "stdout",
     "output_type": "stream",
     "text": [
      "第 744 条数据用时: 69.15 秒\n",
      "第 754 条数据用时: 69.15 秒\n"
     ]
    },
    {
     "name": "stderr",
     "output_type": "stream",
     "text": [
      "Processing data_objects:  55%|█████▍    | 111/203 [01:10<00:16,  5.52it/s]"
     ]
    },
    {
     "name": "stdout",
     "output_type": "stream",
     "text": [
      "第 650 条数据用时: 69.58 秒\n"
     ]
    },
    {
     "name": "stderr",
     "output_type": "stream",
     "text": [
      "Processing data_objects:  56%|█████▌    | 114/203 [01:10<00:13,  6.39it/s]"
     ]
    },
    {
     "name": "stdout",
     "output_type": "stream",
     "text": [
      "第 786 条数据用时: 70.15 秒\n",
      "第 755 条数据用时: 69.86 秒\n",
      "第 779 条数据用时: 70.25 秒\n"
     ]
    },
    {
     "name": "stderr",
     "output_type": "stream",
     "text": [
      "Processing data_objects:  58%|█████▊    | 118/203 [01:10<00:08, 10.59it/s]"
     ]
    },
    {
     "name": "stdout",
     "output_type": "stream",
     "text": [
      "第 618 条数据用时: 69.82 秒\n",
      "第 770 条数据用时: 70.49 秒\n",
      "第 753 条数据用时: 70.07 秒\n",
      "第 734 条数据用时: 69.88 秒\n",
      "第 767 条数据用时: 70.67 秒\n"
     ]
    },
    {
     "name": "stderr",
     "output_type": "stream",
     "text": [
      "Processing data_objects:  60%|██████    | 122/203 [01:10<00:07, 11.40it/s]"
     ]
    },
    {
     "name": "stdout",
     "output_type": "stream",
     "text": [
      "第 808 条数据用时: 70.16 秒\n",
      "第 722 条数据用时: 70.81 秒\n",
      "第 776 条数据用时: 70.77 秒\n",
      "第 688 条数据用时: 70.92 秒\n"
     ]
    },
    {
     "name": "stderr",
     "output_type": "stream",
     "text": [
      "Processing data_objects:  61%|██████    | 124/203 [01:11<00:10,  7.85it/s]"
     ]
    },
    {
     "name": "stdout",
     "output_type": "stream",
     "text": [
      "第 628 条数据用时: 70.97 秒\n",
      "第 726 条数据用时: 70.84 秒\n"
     ]
    },
    {
     "name": "stderr",
     "output_type": "stream",
     "text": [
      "Processing data_objects:  63%|██████▎   | 127/203 [01:11<00:09,  7.67it/s]"
     ]
    },
    {
     "name": "stdout",
     "output_type": "stream",
     "text": [
      "第 643 条数据用时: 71.02 秒\n",
      "第 733 条数据用时: 71.07 秒\n"
     ]
    },
    {
     "name": "stderr",
     "output_type": "stream",
     "text": [
      "Processing data_objects:  64%|██████▎   | 129/203 [01:11<00:08,  8.89it/s]"
     ]
    },
    {
     "name": "stdout",
     "output_type": "stream",
     "text": [
      "第 665 条数据用时: 71.79 秒\n",
      "第 614 条数据用时: 71.24 秒\n",
      "第 640 条数据用时: 71.40 秒\n"
     ]
    },
    {
     "name": "stderr",
     "output_type": "stream",
     "text": [
      "Processing data_objects:  66%|██████▌   | 134/203 [01:12<00:07,  9.81it/s]"
     ]
    },
    {
     "name": "stdout",
     "output_type": "stream",
     "text": [
      "第 742 条数据用时: 71.96 秒\n",
      "第 757 条数据用时: 71.85 秒\n",
      "第 710 条数据用时: 72.12 秒\n",
      "第 680 条数据用时: 72.30 秒\n"
     ]
    },
    {
     "name": "stderr",
     "output_type": "stream",
     "text": [
      "Processing data_objects:  67%|██████▋   | 136/203 [01:12<00:07,  8.82it/s]"
     ]
    },
    {
     "name": "stdout",
     "output_type": "stream",
     "text": [
      "第 765 条数据用时: 71.75 秒\n",
      "第 745 条数据用时: 72.36 秒\n",
      "第 706 条数据用时: 72.65 秒\n"
     ]
    },
    {
     "name": "stderr",
     "output_type": "stream",
     "text": [
      "Processing data_objects:  68%|██████▊   | 139/203 [01:13<00:09,  6.44it/s]"
     ]
    },
    {
     "name": "stdout",
     "output_type": "stream",
     "text": [
      "第 810 条数据用时: 72.57 秒\n",
      "第 719 条数据用时: 73.00 秒\n"
     ]
    },
    {
     "name": "stderr",
     "output_type": "stream",
     "text": [
      "Processing data_objects:  69%|██████▉   | 140/203 [01:13<00:11,  5.30it/s]"
     ]
    },
    {
     "name": "stdout",
     "output_type": "stream",
     "text": [
      "第 641 条数据用时: 73.14 秒\n"
     ]
    },
    {
     "name": "stderr",
     "output_type": "stream",
     "text": [
      "Processing data_objects:  70%|██████▉   | 142/203 [01:14<00:11,  5.43it/s]"
     ]
    },
    {
     "name": "stdout",
     "output_type": "stream",
     "text": [
      "第 612 条数据用时: 73.27 秒\n",
      "第 615 条数据用时: 73.40 秒\n",
      "第 718 条数据用时: 73.73 秒\n"
     ]
    },
    {
     "name": "stderr",
     "output_type": "stream",
     "text": [
      "Processing data_objects:  71%|███████   | 144/203 [01:14<00:09,  5.97it/s]"
     ]
    },
    {
     "name": "stdout",
     "output_type": "stream",
     "text": [
      "第 634 条数据用时: 73.87 秒\n",
      "第 645 条数据用时: 73.84 秒\n"
     ]
    },
    {
     "name": "stderr",
     "output_type": "stream",
     "text": [
      "Processing data_objects:  72%|███████▏  | 146/203 [01:14<00:08,  6.96it/s]"
     ]
    },
    {
     "name": "stdout",
     "output_type": "stream",
     "text": [
      "第 637 条数据用时: 74.04 秒\n"
     ]
    },
    {
     "name": "stderr",
     "output_type": "stream",
     "text": [
      "Processing data_objects:  73%|███████▎  | 148/203 [01:14<00:08,  6.47it/s]"
     ]
    },
    {
     "name": "stdout",
     "output_type": "stream",
     "text": [
      "第 730 条数据用时: 74.15 秒\n",
      "第 644 条数据用时: 74.33 秒\n",
      "第 747 条数据用时: 74.54 秒\n"
     ]
    },
    {
     "name": "stderr",
     "output_type": "stream",
     "text": [
      "Processing data_objects:  75%|███████▍  | 152/203 [01:15<00:05,  9.35it/s]"
     ]
    },
    {
     "name": "stdout",
     "output_type": "stream",
     "text": [
      "第 780 条数据用时: 74.94 秒\n",
      "第 699 条数据用时: 74.65 秒\n",
      "第 635 条数据用时: 74.75 秒\n"
     ]
    },
    {
     "name": "stderr",
     "output_type": "stream",
     "text": [
      "Processing data_objects:  76%|███████▌  | 154/203 [01:15<00:05,  9.58it/s]"
     ]
    },
    {
     "name": "stdout",
     "output_type": "stream",
     "text": [
      "第 678 条数据用时: 75.26 秒\n",
      "第 658 条数据用时: 74.96 秒\n"
     ]
    },
    {
     "name": "stderr",
     "output_type": "stream",
     "text": [
      "Processing data_objects:  77%|███████▋  | 156/203 [01:16<00:07,  6.01it/s]"
     ]
    },
    {
     "name": "stdout",
     "output_type": "stream",
     "text": [
      "第 642 条数据用时: 75.34 秒\n",
      "第 805 条数据用时: 75.47 秒\n"
     ]
    },
    {
     "name": "stderr",
     "output_type": "stream",
     "text": [
      "Processing data_objects:  77%|███████▋  | 157/203 [01:16<00:07,  6.04it/s]"
     ]
    },
    {
     "name": "stdout",
     "output_type": "stream",
     "text": [
      "第 731 条数据用时: 75.53 秒\n"
     ]
    },
    {
     "name": "stderr",
     "output_type": "stream",
     "text": [
      "Processing data_objects:  78%|███████▊  | 158/203 [01:16<00:12,  3.59it/s]"
     ]
    },
    {
     "name": "stdout",
     "output_type": "stream",
     "text": [
      "第 751 条数据用时: 76.47 秒\n"
     ]
    },
    {
     "name": "stderr",
     "output_type": "stream",
     "text": [
      "Processing data_objects:  78%|███████▊  | 159/203 [01:17<00:12,  3.64it/s]"
     ]
    },
    {
     "name": "stdout",
     "output_type": "stream",
     "text": [
      "第 638 条数据用时: 76.63 秒\n",
      "第 621 条数据用时: 76.43 秒\n"
     ]
    },
    {
     "name": "stderr",
     "output_type": "stream",
     "text": [
      "Processing data_objects:  79%|███████▉  | 161/203 [01:17<00:08,  4.76it/s]"
     ]
    },
    {
     "name": "stdout",
     "output_type": "stream",
     "text": [
      "第 660 条数据用时: 76.87 秒\n",
      "第 617 条数据用时: 76.73 秒\n"
     ]
    },
    {
     "name": "stderr",
     "output_type": "stream",
     "text": [
      "Processing data_objects:  80%|████████  | 163/203 [01:17<00:07,  5.50it/s]"
     ]
    },
    {
     "name": "stdout",
     "output_type": "stream",
     "text": [
      "第 661 条数据用时: 77.12 秒\n"
     ]
    },
    {
     "name": "stderr",
     "output_type": "stream",
     "text": [
      "Processing data_objects:  81%|████████  | 164/203 [01:18<00:08,  4.75it/s]"
     ]
    },
    {
     "name": "stdout",
     "output_type": "stream",
     "text": [
      "第 739 条数据用时: 77.24 秒\n",
      "第 732 条数据用时: 77.33 秒\n",
      "第 625 条数据用时: 77.27 秒\n"
     ]
    },
    {
     "name": "stderr",
     "output_type": "stream",
     "text": [
      "Processing data_objects:  83%|████████▎ | 168/203 [01:18<00:05,  6.36it/s]"
     ]
    },
    {
     "name": "stdout",
     "output_type": "stream",
     "text": [
      "第 758 条数据用时: 77.78 秒\n",
      "第 735 条数据用时: 77.72 秒\n"
     ]
    },
    {
     "name": "stderr",
     "output_type": "stream",
     "text": [
      "Processing data_objects:  83%|████████▎ | 169/203 [01:18<00:07,  4.31it/s]"
     ]
    },
    {
     "name": "stdout",
     "output_type": "stream",
     "text": [
      "第 687 条数据用时: 78.40 秒\n",
      "第 759 条数据用时: 78.50 秒\n"
     ]
    },
    {
     "name": "stderr",
     "output_type": "stream",
     "text": [
      "Processing data_objects:  85%|████████▌ | 173/203 [01:19<00:04,  6.07it/s]"
     ]
    },
    {
     "name": "stdout",
     "output_type": "stream",
     "text": [
      "第 639 条数据用时: 78.81 秒\n",
      "第 728 条数据用时: 78.72 秒\n",
      "第 738 条数据用时: 78.74 秒\n",
      "第 724 条数据用时: 78.96 秒\n"
     ]
    },
    {
     "name": "stderr",
     "output_type": "stream",
     "text": [
      "Processing data_objects:  87%|████████▋ | 176/203 [01:19<00:03,  6.95it/s]"
     ]
    },
    {
     "name": "stdout",
     "output_type": "stream",
     "text": [
      "第 736 条数据用时: 79.01 秒\n",
      "第 613 条数据用时: 79.18 秒\n"
     ]
    },
    {
     "name": "stderr",
     "output_type": "stream",
     "text": [
      "Processing data_objects:  87%|████████▋ | 177/203 [01:19<00:03,  7.34it/s]"
     ]
    },
    {
     "name": "stdout",
     "output_type": "stream",
     "text": [
      "第 762 条数据用时: 79.19 秒\n"
     ]
    },
    {
     "name": "stderr",
     "output_type": "stream",
     "text": [
      "Processing data_objects:  88%|████████▊ | 178/203 [01:20<00:04,  5.58it/s]"
     ]
    },
    {
     "name": "stdout",
     "output_type": "stream",
     "text": [
      "第 737 条数据用时: 79.54 秒\n"
     ]
    },
    {
     "name": "stderr",
     "output_type": "stream",
     "text": [
      "Processing data_objects:  89%|████████▊ | 180/203 [01:20<00:04,  4.87it/s]"
     ]
    },
    {
     "name": "stdout",
     "output_type": "stream",
     "text": [
      "第 667 条数据用时: 79.93 秒\n",
      "第 619 条数据用时: 80.08 秒\n"
     ]
    },
    {
     "name": "stderr",
     "output_type": "stream",
     "text": [
      "Processing data_objects:  90%|████████▉ | 182/203 [01:21<00:03,  5.71it/s]"
     ]
    },
    {
     "name": "stdout",
     "output_type": "stream",
     "text": [
      "第 725 条数据用时: 80.34 秒\n",
      "第 811 条数据用时: 80.44 秒\n"
     ]
    },
    {
     "name": "stderr",
     "output_type": "stream",
     "text": [
      "Processing data_objects:  90%|█████████ | 183/203 [01:21<00:03,  6.41it/s]"
     ]
    },
    {
     "name": "stdout",
     "output_type": "stream",
     "text": [
      "第 729 条数据用时: 80.53 秒\n",
      "第 627 条数据用时: 80.44 秒\n"
     ]
    },
    {
     "name": "stderr",
     "output_type": "stream",
     "text": [
      "Processing data_objects:  92%|█████████▏| 186/203 [01:21<00:02,  6.09it/s]"
     ]
    },
    {
     "name": "stdout",
     "output_type": "stream",
     "text": [
      "第 624 条数据用时: 80.75 秒\n",
      "第 763 条数据用时: 80.93 秒\n"
     ]
    },
    {
     "name": "stderr",
     "output_type": "stream",
     "text": [
      "Processing data_objects:  93%|█████████▎| 188/203 [01:22<00:04,  3.31it/s]"
     ]
    },
    {
     "name": "stdout",
     "output_type": "stream",
     "text": [
      "第 616 条数据用时: 81.95 秒\n",
      "第 620 条数据用时: 82.05 秒\n"
     ]
    },
    {
     "name": "stderr",
     "output_type": "stream",
     "text": [
      "Processing data_objects:  94%|█████████▍| 191/203 [01:23<00:02,  4.47it/s]"
     ]
    },
    {
     "name": "stdout",
     "output_type": "stream",
     "text": [
      "第 701 条数据用时: 83.17 秒\n",
      "第 761 条数据用时: 82.60 秒\n",
      "第 812 条数据用时: 82.72 秒\n"
     ]
    },
    {
     "name": "stderr",
     "output_type": "stream",
     "text": [
      "Processing data_objects:  95%|█████████▍| 192/203 [01:23<00:03,  3.65it/s]"
     ]
    },
    {
     "name": "stdout",
     "output_type": "stream",
     "text": [
      "第 610 条数据用时: 83.19 秒\n",
      "第 659 条数据用时: 83.33 秒\n"
     ]
    },
    {
     "name": "stderr",
     "output_type": "stream",
     "text": [
      "Processing data_objects:  96%|█████████▌| 194/203 [01:24<00:02,  3.76it/s]"
     ]
    },
    {
     "name": "stdout",
     "output_type": "stream",
     "text": [
      "第 683 条数据用时: 84.28 秒\n",
      "第 764 条数据用时: 83.55 秒\n",
      "第 806 条数据用时: 83.80 秒\n"
     ]
    },
    {
     "name": "stderr",
     "output_type": "stream",
     "text": [
      "Processing data_objects:  97%|█████████▋| 197/203 [01:25<00:01,  3.52it/s]"
     ]
    },
    {
     "name": "stdout",
     "output_type": "stream",
     "text": [
      "第 636 条数据用时: 84.72 秒\n"
     ]
    },
    {
     "name": "stderr",
     "output_type": "stream",
     "text": [
      "Processing data_objects:  98%|█████████▊| 198/203 [01:25<00:01,  2.95it/s]"
     ]
    },
    {
     "name": "stdout",
     "output_type": "stream",
     "text": [
      "第 760 条数据用时: 85.28 秒\n"
     ]
    },
    {
     "name": "stderr",
     "output_type": "stream",
     "text": [
      "Processing data_objects:  99%|█████████▊| 200/203 [01:26<00:01,  2.63it/s]"
     ]
    },
    {
     "name": "stdout",
     "output_type": "stream",
     "text": [
      "第 803 条数据用时: 86.07 秒\n",
      "第 662 条数据用时: 86.27 秒\n"
     ]
    },
    {
     "name": "stderr",
     "output_type": "stream",
     "text": [
      "Processing data_objects:  99%|█████████▉| 201/203 [01:26<00:00,  3.11it/s]"
     ]
    },
    {
     "name": "stdout",
     "output_type": "stream",
     "text": [
      "第 804 条数据用时: 86.40 秒\n"
     ]
    },
    {
     "name": "stderr",
     "output_type": "stream",
     "text": [
      "Processing data_objects: 100%|█████████▉| 202/203 [01:28<00:00,  1.88it/s]"
     ]
    },
    {
     "name": "stdout",
     "output_type": "stream",
     "text": [
      "第 672 条数据用时: 88.07 秒\n"
     ]
    },
    {
     "name": "stderr",
     "output_type": "stream",
     "text": [
      "Processing data_objects: 100%|██████████| 203/203 [01:32<00:00,  2.20it/s]\n"
     ]
    },
    {
     "name": "stdout",
     "output_type": "stream",
     "text": [
      "第 623 条数据用时: 91.45 秒\n"
     ]
    },
    {
     "name": "stderr",
     "output_type": "stream",
     "text": [
      "Processing data_objects:   0%|          | 1/203 [00:15<52:13, 15.51s/it]"
     ]
    },
    {
     "name": "stdout",
     "output_type": "stream",
     "text": [
      "第 992 条数据用时: 15.43 秒\n"
     ]
    },
    {
     "name": "stderr",
     "output_type": "stream",
     "text": [
      "Processing data_objects:   1%|          | 2/203 [00:27<44:52, 13.39s/it]"
     ]
    },
    {
     "name": "stdout",
     "output_type": "stream",
     "text": [
      "第 916 条数据用时: 27.10 秒\n"
     ]
    },
    {
     "name": "stderr",
     "output_type": "stream",
     "text": [
      "Processing data_objects:   1%|▏         | 3/203 [00:30<29:13,  8.77s/it]"
     ]
    },
    {
     "name": "stdout",
     "output_type": "stream",
     "text": [
      "第 910 条数据用时: 30.41 秒\n"
     ]
    },
    {
     "name": "stderr",
     "output_type": "stream",
     "text": [
      "Processing data_objects:   2%|▏         | 4/203 [00:35<23:29,  7.08s/it]"
     ]
    },
    {
     "name": "stdout",
     "output_type": "stream",
     "text": [
      "第 986 条数据用时: 35.17 秒\n"
     ]
    },
    {
     "name": "stderr",
     "output_type": "stream",
     "text": [
      "Processing data_objects:   2%|▏         | 5/203 [00:36<16:50,  5.10s/it]"
     ]
    },
    {
     "name": "stdout",
     "output_type": "stream",
     "text": [
      "第 843 条数据用时: 36.51 秒\n"
     ]
    },
    {
     "name": "stderr",
     "output_type": "stream",
     "text": [
      "Processing data_objects:   3%|▎         | 6/203 [00:38<12:34,  3.83s/it]"
     ]
    },
    {
     "name": "stdout",
     "output_type": "stream",
     "text": [
      "第 861 条数据用时: 37.67 秒\n"
     ]
    },
    {
     "name": "stderr",
     "output_type": "stream",
     "text": [
      "Processing data_objects:   3%|▎         | 7/203 [00:39<09:24,  2.88s/it]"
     ]
    },
    {
     "name": "stdout",
     "output_type": "stream",
     "text": [
      "第 1000 条数据用时: 38.96 秒\n"
     ]
    },
    {
     "name": "stderr",
     "output_type": "stream",
     "text": [
      "Processing data_objects:   4%|▍         | 8/203 [00:39<06:49,  2.10s/it]"
     ]
    },
    {
     "name": "stdout",
     "output_type": "stream",
     "text": [
      "第 985 条数据用时: 39.15 秒\n"
     ]
    },
    {
     "name": "stderr",
     "output_type": "stream",
     "text": [
      "Processing data_objects:   4%|▍         | 9/203 [00:40<05:14,  1.62s/it]"
     ]
    },
    {
     "name": "stdout",
     "output_type": "stream",
     "text": [
      "第 994 条数据用时: 39.94 秒\n"
     ]
    },
    {
     "name": "stderr",
     "output_type": "stream",
     "text": [
      "Processing data_objects:   5%|▍         | 10/203 [00:40<04:02,  1.26s/it]"
     ]
    },
    {
     "name": "stdout",
     "output_type": "stream",
     "text": [
      "第 939 条数据用时: 40.08 秒\n"
     ]
    },
    {
     "name": "stderr",
     "output_type": "stream",
     "text": [
      "Processing data_objects:   5%|▌         | 11/203 [00:41<03:39,  1.15s/it]"
     ]
    },
    {
     "name": "stdout",
     "output_type": "stream",
     "text": [
      "第 835 条数据用时: 41.39 秒\n"
     ]
    },
    {
     "name": "stderr",
     "output_type": "stream",
     "text": [
      "Processing data_objects:   6%|▌         | 12/203 [00:41<02:48,  1.13it/s]"
     ]
    },
    {
     "name": "stdout",
     "output_type": "stream",
     "text": [
      "第 848 条数据用时: 41.34 秒\n"
     ]
    },
    {
     "name": "stderr",
     "output_type": "stream",
     "text": [
      "Processing data_objects:   6%|▋         | 13/203 [00:41<02:13,  1.43it/s]"
     ]
    },
    {
     "name": "stdout",
     "output_type": "stream",
     "text": [
      "第 856 条数据用时: 41.56 秒\n"
     ]
    },
    {
     "name": "stderr",
     "output_type": "stream",
     "text": [
      "Processing data_objects:   7%|▋         | 14/203 [00:42<01:48,  1.74it/s]"
     ]
    },
    {
     "name": "stdout",
     "output_type": "stream",
     "text": [
      "第 937 条数据用时: 41.84 秒\n",
      "第 930 条数据用时: 41.86 秒\n"
     ]
    },
    {
     "name": "stderr",
     "output_type": "stream",
     "text": [
      "Processing data_objects:   8%|▊         | 16/203 [00:43<01:34,  1.98it/s]"
     ]
    },
    {
     "name": "stdout",
     "output_type": "stream",
     "text": [
      "第 837 条数据用时: 43.07 秒\n"
     ]
    },
    {
     "name": "stderr",
     "output_type": "stream",
     "text": [
      "Processing data_objects:   8%|▊         | 17/203 [00:43<01:33,  1.99it/s]"
     ]
    },
    {
     "name": "stdout",
     "output_type": "stream",
     "text": [
      "第 834 条数据用时: 42.71 秒\n"
     ]
    },
    {
     "name": "stderr",
     "output_type": "stream",
     "text": [
      "Processing data_objects:   9%|▉         | 18/203 [00:44<01:40,  1.83it/s]"
     ]
    },
    {
     "name": "stdout",
     "output_type": "stream",
     "text": [
      "第 816 条数据用时: 44.23 秒\n"
     ]
    },
    {
     "name": "stderr",
     "output_type": "stream",
     "text": [
      "Processing data_objects:  10%|▉         | 20/203 [00:45<01:27,  2.10it/s]"
     ]
    },
    {
     "name": "stdout",
     "output_type": "stream",
     "text": [
      "第 880 条数据用时: 44.88 秒\n",
      "第 902 条数据用时: 44.96 秒\n"
     ]
    },
    {
     "name": "stderr",
     "output_type": "stream",
     "text": [
      "Processing data_objects:  10%|█         | 21/203 [00:45<01:19,  2.28it/s]"
     ]
    },
    {
     "name": "stdout",
     "output_type": "stream",
     "text": [
      "第 857 条数据用时: 45.08 秒\n"
     ]
    },
    {
     "name": "stderr",
     "output_type": "stream",
     "text": [
      "Processing data_objects:  11%|█         | 22/203 [00:46<01:30,  1.99it/s]"
     ]
    },
    {
     "name": "stdout",
     "output_type": "stream",
     "text": [
      "第 1004 条数据用时: 45.98 秒\n"
     ]
    },
    {
     "name": "stderr",
     "output_type": "stream",
     "text": [
      "Processing data_objects:  11%|█▏        | 23/203 [00:46<01:33,  1.93it/s]"
     ]
    },
    {
     "name": "stdout",
     "output_type": "stream",
     "text": [
      "第 1001 条数据用时: 46.59 秒\n"
     ]
    },
    {
     "name": "stderr",
     "output_type": "stream",
     "text": [
      "Processing data_objects:  12%|█▏        | 24/203 [00:47<01:21,  2.19it/s]"
     ]
    },
    {
     "name": "stdout",
     "output_type": "stream",
     "text": [
      "第 885 条数据用时: 46.87 秒\n",
      "第 839 条数据用时: 46.97 秒\n"
     ]
    },
    {
     "name": "stderr",
     "output_type": "stream",
     "text": [
      "Processing data_objects:  13%|█▎        | 26/203 [00:47<01:05,  2.70it/s]"
     ]
    },
    {
     "name": "stdout",
     "output_type": "stream",
     "text": [
      "第 897 条数据用时: 47.46 秒\n"
     ]
    },
    {
     "name": "stderr",
     "output_type": "stream",
     "text": [
      "Processing data_objects:  13%|█▎        | 27/203 [00:47<01:01,  2.85it/s]"
     ]
    },
    {
     "name": "stdout",
     "output_type": "stream",
     "text": [
      "第 1006 条数据用时: 47.64 秒\n"
     ]
    },
    {
     "name": "stderr",
     "output_type": "stream",
     "text": [
      "Processing data_objects:  14%|█▍        | 28/203 [00:48<01:07,  2.60it/s]"
     ]
    },
    {
     "name": "stdout",
     "output_type": "stream",
     "text": [
      "第 1011 条数据用时: 48.06 秒\n",
      "第 862 条数据用时: 47.85 秒\n"
     ]
    },
    {
     "name": "stderr",
     "output_type": "stream",
     "text": [
      "Processing data_objects:  15%|█▍        | 30/203 [00:48<00:59,  2.89it/s]"
     ]
    },
    {
     "name": "stdout",
     "output_type": "stream",
     "text": [
      "第 989 条数据用时: 48.85 秒\n"
     ]
    },
    {
     "name": "stderr",
     "output_type": "stream",
     "text": [
      "Processing data_objects:  15%|█▌        | 31/203 [00:49<01:09,  2.46it/s]"
     ]
    },
    {
     "name": "stdout",
     "output_type": "stream",
     "text": [
      "第 852 条数据用时: 49.14 秒\n"
     ]
    },
    {
     "name": "stderr",
     "output_type": "stream",
     "text": [
      "Processing data_objects:  16%|█▋        | 33/203 [00:50<01:05,  2.58it/s]"
     ]
    },
    {
     "name": "stdout",
     "output_type": "stream",
     "text": [
      "第 931 条数据用时: 49.81 秒\n",
      "第 907 条数据用时: 50.07 秒\n"
     ]
    },
    {
     "name": "stderr",
     "output_type": "stream",
     "text": [
      "Processing data_objects:  17%|█▋        | 34/203 [00:50<01:12,  2.32it/s]"
     ]
    },
    {
     "name": "stdout",
     "output_type": "stream",
     "text": [
      "第 876 条数据用时: 50.79 秒\n",
      "第 905 条数据用时: 50.64 秒\n"
     ]
    },
    {
     "name": "stderr",
     "output_type": "stream",
     "text": [
      "Processing data_objects:  18%|█▊        | 36/203 [00:51<01:00,  2.75it/s]"
     ]
    },
    {
     "name": "stdout",
     "output_type": "stream",
     "text": [
      "第 904 条数据用时: 51.20 秒\n"
     ]
    },
    {
     "name": "stderr",
     "output_type": "stream",
     "text": [
      "Processing data_objects:  18%|█▊        | 37/203 [00:51<01:03,  2.62it/s]"
     ]
    },
    {
     "name": "stdout",
     "output_type": "stream",
     "text": [
      "第 815 条数据用时: 51.40 秒\n"
     ]
    },
    {
     "name": "stderr",
     "output_type": "stream",
     "text": [
      "Processing data_objects:  19%|█▊        | 38/203 [00:52<00:59,  2.75it/s]"
     ]
    },
    {
     "name": "stdout",
     "output_type": "stream",
     "text": [
      "第 814 条数据用时: 52.10 秒\n",
      "第 1003 条数据用时: 52.02 秒\n"
     ]
    },
    {
     "name": "stderr",
     "output_type": "stream",
     "text": [
      "Processing data_objects:  20%|█▉        | 40/203 [00:52<00:54,  2.99it/s]"
     ]
    },
    {
     "name": "stdout",
     "output_type": "stream",
     "text": [
      "第 846 条数据用时: 52.44 秒\n"
     ]
    },
    {
     "name": "stderr",
     "output_type": "stream",
     "text": [
      "Processing data_objects:  20%|██        | 41/203 [00:53<00:59,  2.73it/s]"
     ]
    },
    {
     "name": "stdout",
     "output_type": "stream",
     "text": [
      "第 943 条数据用时: 52.77 秒\n"
     ]
    },
    {
     "name": "stderr",
     "output_type": "stream",
     "text": [
      "Processing data_objects:  21%|██        | 42/203 [00:53<00:56,  2.87it/s]"
     ]
    },
    {
     "name": "stdout",
     "output_type": "stream",
     "text": [
      "第 836 条数据用时: 53.51 秒\n"
     ]
    },
    {
     "name": "stderr",
     "output_type": "stream",
     "text": [
      "Processing data_objects:  21%|██        | 43/203 [00:54<01:07,  2.37it/s]"
     ]
    },
    {
     "name": "stdout",
     "output_type": "stream",
     "text": [
      "第 854 条数据用时: 53.76 秒\n"
     ]
    },
    {
     "name": "stderr",
     "output_type": "stream",
     "text": [
      "Processing data_objects:  22%|██▏       | 44/203 [00:54<01:11,  2.22it/s]"
     ]
    },
    {
     "name": "stdout",
     "output_type": "stream",
     "text": [
      "第 879 条数据用时: 54.34 秒\n"
     ]
    },
    {
     "name": "stderr",
     "output_type": "stream",
     "text": [
      "Processing data_objects:  22%|██▏       | 45/203 [00:55<01:10,  2.25it/s]"
     ]
    },
    {
     "name": "stdout",
     "output_type": "stream",
     "text": [
      "第 887 条数据用时: 54.93 秒\n"
     ]
    },
    {
     "name": "stderr",
     "output_type": "stream",
     "text": [
      "Processing data_objects:  23%|██▎       | 46/203 [00:55<01:09,  2.27it/s]"
     ]
    },
    {
     "name": "stdout",
     "output_type": "stream",
     "text": [
      "第 1005 条数据用时: 55.34 秒\n"
     ]
    },
    {
     "name": "stderr",
     "output_type": "stream",
     "text": [
      "Processing data_objects:  23%|██▎       | 47/203 [00:56<01:18,  1.98it/s]"
     ]
    },
    {
     "name": "stdout",
     "output_type": "stream",
     "text": [
      "第 997 条数据用时: 56.04 秒\n"
     ]
    },
    {
     "name": "stderr",
     "output_type": "stream",
     "text": [
      "Processing data_objects:  24%|██▍       | 49/203 [00:56<00:54,  2.82it/s]"
     ]
    },
    {
     "name": "stdout",
     "output_type": "stream",
     "text": [
      "第 825 条数据用时: 55.88 秒\n",
      "第 948 条数据用时: 56.04 秒\n",
      "第 855 条数据用时: 56.26 秒\n"
     ]
    },
    {
     "name": "stderr",
     "output_type": "stream",
     "text": [
      "Processing data_objects:  25%|██▌       | 51/203 [00:57<00:56,  2.71it/s]"
     ]
    },
    {
     "name": "stdout",
     "output_type": "stream",
     "text": [
      "第 1009 条数据用时: 57.18 秒\n"
     ]
    },
    {
     "name": "stderr",
     "output_type": "stream",
     "text": [
      "Processing data_objects:  26%|██▌       | 52/203 [00:57<00:53,  2.83it/s]"
     ]
    },
    {
     "name": "stdout",
     "output_type": "stream",
     "text": [
      "第 935 条数据用时: 57.34 秒\n",
      "第 898 条数据用时: 57.62 秒\n"
     ]
    },
    {
     "name": "stderr",
     "output_type": "stream",
     "text": [
      "Processing data_objects:  27%|██▋       | 54/203 [00:58<00:53,  2.79it/s]"
     ]
    },
    {
     "name": "stdout",
     "output_type": "stream",
     "text": [
      "第 838 条数据用时: 58.42 秒\n"
     ]
    },
    {
     "name": "stderr",
     "output_type": "stream",
     "text": [
      "Processing data_objects:  27%|██▋       | 55/203 [00:58<00:55,  2.69it/s]"
     ]
    },
    {
     "name": "stdout",
     "output_type": "stream",
     "text": [
      "第 950 条数据用时: 58.24 秒\n"
     ]
    },
    {
     "name": "stderr",
     "output_type": "stream",
     "text": [
      "Processing data_objects:  28%|██▊       | 56/203 [00:59<01:00,  2.41it/s]"
     ]
    },
    {
     "name": "stdout",
     "output_type": "stream",
     "text": [
      "第 849 条数据用时: 59.08 秒\n"
     ]
    },
    {
     "name": "stderr",
     "output_type": "stream",
     "text": [
      "Processing data_objects:  28%|██▊       | 57/203 [00:59<00:53,  2.73it/s]"
     ]
    },
    {
     "name": "stdout",
     "output_type": "stream",
     "text": [
      "第 912 条数据用时: 59.35 秒\n"
     ]
    },
    {
     "name": "stderr",
     "output_type": "stream",
     "text": [
      "Processing data_objects:  29%|██▊       | 58/203 [01:00<00:59,  2.43it/s]"
     ]
    },
    {
     "name": "stdout",
     "output_type": "stream",
     "text": [
      "第 823 条数据用时: 59.94 秒\n"
     ]
    },
    {
     "name": "stderr",
     "output_type": "stream",
     "text": [
      "Processing data_objects:  29%|██▉       | 59/203 [01:00<00:59,  2.41it/s]"
     ]
    },
    {
     "name": "stdout",
     "output_type": "stream",
     "text": [
      "第 894 条数据用时: 60.14 秒\n",
      "第 1012 条数据用时: 60.33 秒\n"
     ]
    },
    {
     "name": "stderr",
     "output_type": "stream",
     "text": [
      "Processing data_objects:  30%|███       | 61/203 [01:01<00:51,  2.78it/s]"
     ]
    },
    {
     "name": "stdout",
     "output_type": "stream",
     "text": [
      "第 840 条数据用时: 60.76 秒\n"
     ]
    },
    {
     "name": "stderr",
     "output_type": "stream",
     "text": [
      "Processing data_objects:  31%|███       | 62/203 [01:01<01:00,  2.34it/s]"
     ]
    },
    {
     "name": "stdout",
     "output_type": "stream",
     "text": [
      "第 886 条数据用时: 61.68 秒\n"
     ]
    },
    {
     "name": "stderr",
     "output_type": "stream",
     "text": [
      "Processing data_objects:  31%|███       | 63/203 [01:02<00:57,  2.45it/s]"
     ]
    },
    {
     "name": "stdout",
     "output_type": "stream",
     "text": [
      "第 813 条数据用时: 61.91 秒\n"
     ]
    },
    {
     "name": "stderr",
     "output_type": "stream",
     "text": [
      "Processing data_objects:  32%|███▏      | 64/203 [01:02<01:01,  2.28it/s]"
     ]
    },
    {
     "name": "stdout",
     "output_type": "stream",
     "text": [
      "第 941 条数据用时: 62.27 秒\n"
     ]
    },
    {
     "name": "stderr",
     "output_type": "stream",
     "text": [
      "Processing data_objects:  32%|███▏      | 65/203 [01:03<00:58,  2.35it/s]"
     ]
    },
    {
     "name": "stdout",
     "output_type": "stream",
     "text": [
      "第 892 条数据用时: 62.61 秒\n"
     ]
    },
    {
     "name": "stderr",
     "output_type": "stream",
     "text": [
      "Processing data_objects:  33%|███▎      | 66/203 [01:03<00:54,  2.51it/s]"
     ]
    },
    {
     "name": "stdout",
     "output_type": "stream",
     "text": [
      "第 903 条数据用时: 63.23 秒\n",
      "第 890 条数据用时: 63.21 秒\n"
     ]
    },
    {
     "name": "stderr",
     "output_type": "stream",
     "text": [
      "Processing data_objects:  33%|███▎      | 68/203 [01:04<00:52,  2.59it/s]"
     ]
    },
    {
     "name": "stdout",
     "output_type": "stream",
     "text": [
      "第 987 条数据用时: 64.13 秒\n",
      "第 901 条数据用时: 64.00 秒\n"
     ]
    },
    {
     "name": "stderr",
     "output_type": "stream",
     "text": [
      "Processing data_objects:  34%|███▍      | 70/203 [01:05<00:54,  2.43it/s]"
     ]
    },
    {
     "name": "stdout",
     "output_type": "stream",
     "text": [
      "第 859 条数据用时: 64.59 秒\n"
     ]
    },
    {
     "name": "stderr",
     "output_type": "stream",
     "text": [
      "Processing data_objects:  35%|███▍      | 71/203 [01:05<00:52,  2.51it/s]"
     ]
    },
    {
     "name": "stdout",
     "output_type": "stream",
     "text": [
      "第 875 条数据用时: 65.40 秒\n"
     ]
    },
    {
     "name": "stderr",
     "output_type": "stream",
     "text": [
      "Processing data_objects:  35%|███▌      | 72/203 [01:05<00:52,  2.52it/s]"
     ]
    },
    {
     "name": "stdout",
     "output_type": "stream",
     "text": [
      "第 942 条数据用时: 65.37 秒\n"
     ]
    },
    {
     "name": "stderr",
     "output_type": "stream",
     "text": [
      "Processing data_objects:  36%|███▌      | 73/203 [01:06<00:46,  2.80it/s]"
     ]
    },
    {
     "name": "stdout",
     "output_type": "stream",
     "text": [
      "第 993 条数据用时: 65.95 秒\n"
     ]
    },
    {
     "name": "stderr",
     "output_type": "stream",
     "text": [
      "Processing data_objects:  36%|███▋      | 74/203 [01:06<00:50,  2.54it/s]"
     ]
    },
    {
     "name": "stdout",
     "output_type": "stream",
     "text": [
      "第 882 条数据用时: 66.45 秒\n"
     ]
    },
    {
     "name": "stderr",
     "output_type": "stream",
     "text": [
      "Processing data_objects:  37%|███▋      | 75/203 [01:07<00:53,  2.40it/s]"
     ]
    },
    {
     "name": "stdout",
     "output_type": "stream",
     "text": [
      "第 998 条数据用时: 66.85 秒\n"
     ]
    },
    {
     "name": "stderr",
     "output_type": "stream",
     "text": [
      "Processing data_objects:  37%|███▋      | 76/203 [01:08<01:16,  1.66it/s]"
     ]
    },
    {
     "name": "stdout",
     "output_type": "stream",
     "text": [
      "第 913 条数据用时: 67.72 秒\n"
     ]
    },
    {
     "name": "stderr",
     "output_type": "stream",
     "text": [
      "Processing data_objects:  38%|███▊      | 77/203 [01:08<01:14,  1.69it/s]"
     ]
    },
    {
     "name": "stdout",
     "output_type": "stream",
     "text": [
      "第 911 条数据用时: 68.37 秒\n"
     ]
    },
    {
     "name": "stderr",
     "output_type": "stream",
     "text": [
      "Processing data_objects:  38%|███▊      | 78/203 [01:09<01:04,  1.93it/s]"
     ]
    },
    {
     "name": "stdout",
     "output_type": "stream",
     "text": [
      "第 891 条数据用时: 68.78 秒\n"
     ]
    },
    {
     "name": "stderr",
     "output_type": "stream",
     "text": [
      "Processing data_objects:  39%|███▉      | 79/203 [01:09<00:58,  2.11it/s]"
     ]
    },
    {
     "name": "stdout",
     "output_type": "stream",
     "text": [
      "第 1010 条数据用时: 69.12 秒\n"
     ]
    },
    {
     "name": "stderr",
     "output_type": "stream",
     "text": [
      "Processing data_objects:  39%|███▉      | 80/203 [01:09<00:53,  2.30it/s]"
     ]
    },
    {
     "name": "stdout",
     "output_type": "stream",
     "text": [
      "第 1014 条数据用时: 69.41 秒\n"
     ]
    },
    {
     "name": "stderr",
     "output_type": "stream",
     "text": [
      "Processing data_objects:  40%|███▉      | 81/203 [01:10<01:03,  1.93it/s]"
     ]
    },
    {
     "name": "stdout",
     "output_type": "stream",
     "text": [
      "第 956 条数据用时: 69.62 秒\n"
     ]
    },
    {
     "name": "stderr",
     "output_type": "stream",
     "text": [
      "Processing data_objects:  40%|████      | 82/203 [01:10<01:01,  1.96it/s]"
     ]
    },
    {
     "name": "stdout",
     "output_type": "stream",
     "text": [
      "第 934 条数据用时: 70.57 秒\n"
     ]
    },
    {
     "name": "stderr",
     "output_type": "stream",
     "text": [
      "Processing data_objects:  41%|████      | 83/203 [01:11<01:17,  1.55it/s]"
     ]
    },
    {
     "name": "stdout",
     "output_type": "stream",
     "text": [
      "第 988 条数据用时: 71.85 秒\n"
     ]
    },
    {
     "name": "stderr",
     "output_type": "stream",
     "text": [
      "Processing data_objects:  41%|████▏     | 84/203 [01:12<01:13,  1.61it/s]"
     ]
    },
    {
     "name": "stdout",
     "output_type": "stream",
     "text": [
      "第 853 条数据用时: 72.07 秒\n"
     ]
    },
    {
     "name": "stderr",
     "output_type": "stream",
     "text": [
      "Processing data_objects:  42%|████▏     | 85/203 [01:13<01:18,  1.51it/s]"
     ]
    },
    {
     "name": "stdout",
     "output_type": "stream",
     "text": [
      "第 888 条数据用时: 73.02 秒\n"
     ]
    },
    {
     "name": "stderr",
     "output_type": "stream",
     "text": [
      "Processing data_objects:  42%|████▏     | 86/203 [01:13<01:06,  1.76it/s]"
     ]
    },
    {
     "name": "stdout",
     "output_type": "stream",
     "text": [
      "第 944 条数据用时: 73.09 秒\n"
     ]
    },
    {
     "name": "stderr",
     "output_type": "stream",
     "text": [
      "Processing data_objects:  43%|████▎     | 87/203 [01:14<01:05,  1.78it/s]"
     ]
    },
    {
     "name": "stdout",
     "output_type": "stream",
     "text": [
      "第 899 条数据用时: 73.97 秒\n"
     ]
    },
    {
     "name": "stderr",
     "output_type": "stream",
     "text": [
      "Processing data_objects:  43%|████▎     | 88/203 [01:14<00:55,  2.06it/s]"
     ]
    },
    {
     "name": "stdout",
     "output_type": "stream",
     "text": [
      "第 884 条数据用时: 74.28 秒\n"
     ]
    },
    {
     "name": "stderr",
     "output_type": "stream",
     "text": [
      "Processing data_objects:  44%|████▍     | 89/203 [01:14<00:49,  2.32it/s]"
     ]
    },
    {
     "name": "stdout",
     "output_type": "stream",
     "text": [
      "第 1007 条数据用时: 74.50 秒\n"
     ]
    },
    {
     "name": "stderr",
     "output_type": "stream",
     "text": [
      "Processing data_objects:  44%|████▍     | 90/203 [01:15<00:54,  2.08it/s]"
     ]
    },
    {
     "name": "stdout",
     "output_type": "stream",
     "text": [
      "第 984 条数据用时: 74.43 秒\n"
     ]
    },
    {
     "name": "stderr",
     "output_type": "stream",
     "text": [
      "Processing data_objects:  45%|████▍     | 91/203 [01:15<00:56,  1.99it/s]"
     ]
    },
    {
     "name": "stdout",
     "output_type": "stream",
     "text": [
      "第 841 条数据用时: 75.63 秒\n",
      "第 995 条数据用时: 75.74 秒\n"
     ]
    },
    {
     "name": "stderr",
     "output_type": "stream",
     "text": [
      "Processing data_objects:  46%|████▌     | 93/203 [01:16<00:43,  2.52it/s]"
     ]
    },
    {
     "name": "stdout",
     "output_type": "stream",
     "text": [
      "第 878 条数据用时: 76.40 秒\n"
     ]
    },
    {
     "name": "stderr",
     "output_type": "stream",
     "text": [
      "Processing data_objects:  46%|████▋     | 94/203 [01:16<00:45,  2.40it/s]"
     ]
    },
    {
     "name": "stdout",
     "output_type": "stream",
     "text": [
      "第 922 条数据用时: 76.31 秒\n"
     ]
    },
    {
     "name": "stderr",
     "output_type": "stream",
     "text": [
      "Processing data_objects:  47%|████▋     | 95/203 [01:17<00:42,  2.56it/s]"
     ]
    },
    {
     "name": "stdout",
     "output_type": "stream",
     "text": [
      "第 938 条数据用时: 76.79 秒\n"
     ]
    },
    {
     "name": "stderr",
     "output_type": "stream",
     "text": [
      "Processing data_objects:  48%|████▊     | 97/203 [01:17<00:33,  3.20it/s]"
     ]
    },
    {
     "name": "stdout",
     "output_type": "stream",
     "text": [
      "第 900 条数据用时: 77.45 秒\n",
      "第 936 条数据用时: 77.31 秒\n",
      "第 945 条数据用时: 77.30 秒\n"
     ]
    },
    {
     "name": "stderr",
     "output_type": "stream",
     "text": [
      "Processing data_objects:  49%|████▉     | 100/203 [01:18<00:19,  5.18it/s]"
     ]
    },
    {
     "name": "stdout",
     "output_type": "stream",
     "text": [
      "第 847 条数据用时: 77.60 秒\n",
      "第 881 条数据用时: 77.94 秒\n"
     ]
    },
    {
     "name": "stderr",
     "output_type": "stream",
     "text": [
      "Processing data_objects:  50%|████▉     | 101/203 [01:18<00:18,  5.44it/s]"
     ]
    },
    {
     "name": "stdout",
     "output_type": "stream",
     "text": [
      "第 908 条数据用时: 77.93 秒\n"
     ]
    },
    {
     "name": "stderr",
     "output_type": "stream",
     "text": [
      "Processing data_objects:  51%|█████     | 104/203 [01:19<00:23,  4.29it/s]"
     ]
    },
    {
     "name": "stdout",
     "output_type": "stream",
     "text": [
      "第 962 条数据用时: 78.57 秒\n",
      "第 851 条数据用时: 78.71 秒\n",
      "第 940 条数据用时: 78.75 秒\n"
     ]
    },
    {
     "name": "stderr",
     "output_type": "stream",
     "text": [
      "Processing data_objects:  52%|█████▏    | 106/203 [01:19<00:17,  5.58it/s]"
     ]
    },
    {
     "name": "stdout",
     "output_type": "stream",
     "text": [
      "第 1002 条数据用时: 79.15 秒\n",
      "第 999 条数据用时: 79.20 秒\n"
     ]
    },
    {
     "name": "stderr",
     "output_type": "stream",
     "text": [
      "Processing data_objects:  53%|█████▎    | 107/203 [01:19<00:22,  4.21it/s]"
     ]
    },
    {
     "name": "stdout",
     "output_type": "stream",
     "text": [
      "第 877 条数据用时: 79.74 秒\n",
      "第 827 条数据用时: 79.22 秒\n"
     ]
    },
    {
     "name": "stderr",
     "output_type": "stream",
     "text": [
      "Processing data_objects:  54%|█████▍    | 110/203 [01:20<00:16,  5.56it/s]"
     ]
    },
    {
     "name": "stdout",
     "output_type": "stream",
     "text": [
      "第 850 条数据用时: 79.73 秒\n",
      "第 927 条数据用时: 79.50 秒\n"
     ]
    },
    {
     "name": "stderr",
     "output_type": "stream",
     "text": [
      "Processing data_objects:  55%|█████▌    | 112/203 [01:20<00:11,  8.22it/s]"
     ]
    },
    {
     "name": "stdout",
     "output_type": "stream",
     "text": [
      "第 909 条数据用时: 80.03 秒\n",
      "第 842 条数据用时: 79.92 秒\n",
      "第 844 条数据用时: 80.21 秒\n"
     ]
    },
    {
     "name": "stderr",
     "output_type": "stream",
     "text": [
      "Processing data_objects:  56%|█████▌    | 114/203 [01:20<00:10,  8.86it/s]"
     ]
    },
    {
     "name": "stdout",
     "output_type": "stream",
     "text": [
      "第 860 条数据用时: 80.10 秒\n",
      "第 883 条数据用时: 80.48 秒\n"
     ]
    },
    {
     "name": "stderr",
     "output_type": "stream",
     "text": [
      "Processing data_objects:  57%|█████▋    | 116/203 [01:20<00:10,  8.01it/s]"
     ]
    },
    {
     "name": "stdout",
     "output_type": "stream",
     "text": [
      "第 874 条数据用时: 80.23 秒\n",
      "第 872 条数据用时: 80.36 秒\n"
     ]
    },
    {
     "name": "stderr",
     "output_type": "stream",
     "text": [
      "Processing data_objects:  58%|█████▊    | 118/203 [01:21<00:13,  6.40it/s]"
     ]
    },
    {
     "name": "stdout",
     "output_type": "stream",
     "text": [
      "第 824 条数据用时: 80.65 秒\n"
     ]
    },
    {
     "name": "stderr",
     "output_type": "stream",
     "text": [
      "Processing data_objects:  59%|█████▊    | 119/203 [01:21<00:14,  5.79it/s]"
     ]
    },
    {
     "name": "stdout",
     "output_type": "stream",
     "text": [
      "第 991 条数据用时: 81.43 秒\n"
     ]
    },
    {
     "name": "stderr",
     "output_type": "stream",
     "text": [
      "Processing data_objects:  61%|██████    | 123/203 [01:22<00:12,  6.24it/s]"
     ]
    },
    {
     "name": "stdout",
     "output_type": "stream",
     "text": [
      "第 933 条数据用时: 81.67 秒\n",
      "第 1013 条数据用时: 81.80 秒\n",
      "第 961 条数据用时: 81.26 秒\n",
      "第 906 条数据用时: 82.00 秒\n"
     ]
    },
    {
     "name": "stderr",
     "output_type": "stream",
     "text": [
      "Processing data_objects:  62%|██████▏   | 125/203 [01:22<00:11,  7.08it/s]"
     ]
    },
    {
     "name": "stdout",
     "output_type": "stream",
     "text": [
      "第 893 条数据用时: 82.19 秒\n",
      "第 863 条数据用时: 81.95 秒\n",
      "第 990 条数据用时: 82.42 秒\n",
      "第 858 条数据用时: 82.06 秒\n",
      "第 845 条数据用时: 82.18 秒\n"
     ]
    },
    {
     "name": "stderr",
     "output_type": "stream",
     "text": [
      "Processing data_objects:  64%|██████▎   | 129/203 [01:22<00:08,  9.08it/s]"
     ]
    },
    {
     "name": "stdout",
     "output_type": "stream",
     "text": [
      "第 896 条数据用时: 82.67 秒\n"
     ]
    },
    {
     "name": "stderr",
     "output_type": "stream",
     "text": [
      "Processing data_objects:  65%|██████▍   | 131/203 [01:23<00:12,  5.67it/s]"
     ]
    },
    {
     "name": "stdout",
     "output_type": "stream",
     "text": [
      "第 889 条数据用时: 83.23 秒\n",
      "第 915 条数据用时: 82.97 秒\n"
     ]
    },
    {
     "name": "stderr",
     "output_type": "stream",
     "text": [
      "Processing data_objects:  66%|██████▌   | 133/203 [01:24<00:18,  3.84it/s]"
     ]
    },
    {
     "name": "stdout",
     "output_type": "stream",
     "text": [
      "第 831 条数据用时: 83.52 秒\n",
      "第 970 条数据用时: 83.90 秒\n"
     ]
    },
    {
     "name": "stderr",
     "output_type": "stream",
     "text": [
      "Processing data_objects:  66%|██████▌   | 134/203 [01:25<00:21,  3.25it/s]"
     ]
    },
    {
     "name": "stdout",
     "output_type": "stream",
     "text": [
      "第 972 条数据用时: 84.36 秒\n"
     ]
    },
    {
     "name": "stderr",
     "output_type": "stream",
     "text": [
      "Processing data_objects:  67%|██████▋   | 136/203 [01:26<00:26,  2.56it/s]"
     ]
    },
    {
     "name": "stdout",
     "output_type": "stream",
     "text": [
      "第 865 条数据用时: 85.54 秒\n",
      "第 817 条数据用时: 85.37 秒\n"
     ]
    },
    {
     "name": "stderr",
     "output_type": "stream",
     "text": [
      "Processing data_objects:  68%|██████▊   | 139/203 [01:26<00:13,  4.57it/s]"
     ]
    },
    {
     "name": "stdout",
     "output_type": "stream",
     "text": [
      "第 923 条数据用时: 85.72 秒\n",
      "第 932 条数据用时: 85.99 秒\n",
      "第 968 条数据用时: 85.89 秒\n"
     ]
    },
    {
     "name": "stderr",
     "output_type": "stream",
     "text": [
      "Processing data_objects:  70%|███████   | 143/203 [01:27<00:09,  6.30it/s]"
     ]
    },
    {
     "name": "stdout",
     "output_type": "stream",
     "text": [
      "第 821 条数据用时: 86.06 秒\n",
      "第 822 条数据用时: 86.32 秒\n",
      "第 954 条数据用时: 86.23 秒\n",
      "第 996 条数据用时: 86.91 秒\n",
      "第 818 条数据用时: 86.56 秒\n"
     ]
    },
    {
     "name": "stderr",
     "output_type": "stream",
     "text": [
      "Processing data_objects:  71%|███████▏  | 145/203 [01:27<00:12,  4.63it/s]"
     ]
    },
    {
     "name": "stdout",
     "output_type": "stream",
     "text": [
      "第 1008 条数据用时: 87.50 秒\n"
     ]
    },
    {
     "name": "stderr",
     "output_type": "stream",
     "text": [
      "Processing data_objects:  72%|███████▏  | 147/203 [01:28<00:12,  4.62it/s]"
     ]
    },
    {
     "name": "stdout",
     "output_type": "stream",
     "text": [
      "第 833 条数据用时: 87.14 秒\n",
      "第 949 条数据用时: 87.56 秒\n"
     ]
    },
    {
     "name": "stderr",
     "output_type": "stream",
     "text": [
      "Processing data_objects:  74%|███████▍  | 150/203 [01:28<00:09,  5.84it/s]"
     ]
    },
    {
     "name": "stdout",
     "output_type": "stream",
     "text": [
      "第 917 条数据用时: 87.99 秒\n",
      "第 978 条数据用时: 87.80 秒\n",
      "第 976 条数据用时: 87.87 秒\n",
      "第 1015 条数据用时: 88.37 秒\n"
     ]
    },
    {
     "name": "stderr",
     "output_type": "stream",
     "text": [
      "Processing data_objects:  75%|███████▍  | 152/203 [01:28<00:07,  7.20it/s]"
     ]
    },
    {
     "name": "stdout",
     "output_type": "stream",
     "text": [
      "第 953 条数据用时: 88.04 秒\n"
     ]
    },
    {
     "name": "stderr",
     "output_type": "stream",
     "text": [
      "Processing data_objects:  75%|███████▌  | 153/203 [01:29<00:09,  5.15it/s]"
     ]
    },
    {
     "name": "stdout",
     "output_type": "stream",
     "text": [
      "第 921 条数据用时: 88.64 秒\n"
     ]
    },
    {
     "name": "stderr",
     "output_type": "stream",
     "text": [
      "Processing data_objects:  76%|███████▌  | 154/203 [01:29<00:10,  4.88it/s]"
     ]
    },
    {
     "name": "stdout",
     "output_type": "stream",
     "text": [
      "第 960 条数据用时: 88.59 秒\n"
     ]
    },
    {
     "name": "stderr",
     "output_type": "stream",
     "text": [
      "Processing data_objects:  77%|███████▋  | 156/203 [01:29<00:08,  5.45it/s]"
     ]
    },
    {
     "name": "stdout",
     "output_type": "stream",
     "text": [
      "第 957 条数据用时: 88.84 秒\n",
      "第 871 条数据用时: 89.22 秒\n",
      "第 967 条数据用时: 89.25 秒\n"
     ]
    },
    {
     "name": "stderr",
     "output_type": "stream",
     "text": [
      "Processing data_objects:  79%|███████▉  | 160/203 [01:30<00:06,  6.70it/s]"
     ]
    },
    {
     "name": "stdout",
     "output_type": "stream",
     "text": [
      "第 914 条数据用时: 89.64 秒\n",
      "第 830 条数据用时: 89.38 秒\n",
      "第 971 条数据用时: 89.70 秒\n"
     ]
    },
    {
     "name": "stderr",
     "output_type": "stream",
     "text": [
      "Processing data_objects:  80%|███████▉  | 162/203 [01:30<00:05,  8.04it/s]"
     ]
    },
    {
     "name": "stdout",
     "output_type": "stream",
     "text": [
      "第 864 条数据用时: 89.88 秒\n",
      "第 928 条数据用时: 89.73 秒\n"
     ]
    },
    {
     "name": "stderr",
     "output_type": "stream",
     "text": [
      "Processing data_objects:  80%|████████  | 163/203 [01:30<00:06,  6.23it/s]"
     ]
    },
    {
     "name": "stdout",
     "output_type": "stream",
     "text": [
      "第 866 条数据用时: 90.28 秒\n"
     ]
    },
    {
     "name": "stderr",
     "output_type": "stream",
     "text": [
      "Processing data_objects:  81%|████████  | 164/203 [01:31<00:07,  5.29it/s]"
     ]
    },
    {
     "name": "stdout",
     "output_type": "stream",
     "text": [
      "第 895 条数据用时: 90.42 秒\n",
      "第 929 条数据用时: 90.38 秒\n"
     ]
    },
    {
     "name": "stderr",
     "output_type": "stream",
     "text": [
      "Processing data_objects:  82%|████████▏ | 167/203 [01:31<00:06,  5.41it/s]"
     ]
    },
    {
     "name": "stdout",
     "output_type": "stream",
     "text": [
      "第 951 条数据用时: 90.88 秒\n",
      "第 867 条数据用时: 91.13 秒\n"
     ]
    },
    {
     "name": "stderr",
     "output_type": "stream",
     "text": [
      "Processing data_objects:  84%|████████▎ | 170/203 [01:31<00:04,  7.65it/s]"
     ]
    },
    {
     "name": "stdout",
     "output_type": "stream",
     "text": [
      "第 947 条数据用时: 91.24 秒\n",
      "第 946 条数据用时: 91.29 秒\n",
      "第 981 条数据用时: 91.10 秒\n",
      "第 977 条数据用时: 91.15 秒\n"
     ]
    },
    {
     "name": "stderr",
     "output_type": "stream",
     "text": [
      "Processing data_objects:  85%|████████▍ | 172/203 [01:32<00:03,  8.01it/s]"
     ]
    },
    {
     "name": "stdout",
     "output_type": "stream",
     "text": [
      "第 969 条数据用时: 91.57 秒\n"
     ]
    },
    {
     "name": "stderr",
     "output_type": "stream",
     "text": [
      "Processing data_objects:  86%|████████▌ | 175/203 [01:32<00:04,  6.02it/s]"
     ]
    },
    {
     "name": "stdout",
     "output_type": "stream",
     "text": [
      "第 828 条数据用时: 91.91 秒\n",
      "第 920 条数据用时: 92.18 秒\n",
      "第 826 条数据用时: 92.14 秒\n"
     ]
    },
    {
     "name": "stderr",
     "output_type": "stream",
     "text": [
      "Processing data_objects:  87%|████████▋ | 177/203 [01:33<00:04,  5.43it/s]"
     ]
    },
    {
     "name": "stdout",
     "output_type": "stream",
     "text": [
      "第 873 条数据用时: 92.55 秒\n",
      "第 955 条数据用时: 92.53 秒\n"
     ]
    },
    {
     "name": "stderr",
     "output_type": "stream",
     "text": [
      "Processing data_objects:  88%|████████▊ | 179/203 [01:33<00:03,  6.62it/s]"
     ]
    },
    {
     "name": "stdout",
     "output_type": "stream",
     "text": [
      "第 964 条数据用时: 92.91 秒\n",
      "第 983 条数据用时: 92.67 秒\n",
      "第 973 条数据用时: 92.89 秒\n"
     ]
    },
    {
     "name": "stderr",
     "output_type": "stream",
     "text": [
      "Processing data_objects:  89%|████████▉ | 181/203 [01:33<00:02,  8.56it/s]"
     ]
    },
    {
     "name": "stdout",
     "output_type": "stream",
     "text": [
      "第 974 条数据用时: 93.02 秒\n",
      "第 868 条数据用时: 93.19 秒\n"
     ]
    },
    {
     "name": "stderr",
     "output_type": "stream",
     "text": [
      "Processing data_objects:  90%|█████████ | 183/203 [01:33<00:02,  8.87it/s]"
     ]
    },
    {
     "name": "stdout",
     "output_type": "stream",
     "text": [
      "第 959 条数据用时: 93.05 秒\n",
      "第 820 条数据用时: 93.12 秒\n"
     ]
    },
    {
     "name": "stderr",
     "output_type": "stream",
     "text": [
      "Processing data_objects:  91%|█████████ | 185/203 [01:35<00:05,  3.49it/s]"
     ]
    },
    {
     "name": "stdout",
     "output_type": "stream",
     "text": [
      "第 952 条数据用时: 94.36 秒\n"
     ]
    },
    {
     "name": "stderr",
     "output_type": "stream",
     "text": [
      "Processing data_objects:  92%|█████████▏| 186/203 [01:35<00:05,  3.06it/s]"
     ]
    },
    {
     "name": "stdout",
     "output_type": "stream",
     "text": [
      "第 966 条数据用时: 95.05 秒\n"
     ]
    },
    {
     "name": "stderr",
     "output_type": "stream",
     "text": [
      "Processing data_objects:  92%|█████████▏| 187/203 [01:36<00:05,  2.89it/s]"
     ]
    },
    {
     "name": "stdout",
     "output_type": "stream",
     "text": [
      "第 975 条数据用时: 95.26 秒\n"
     ]
    },
    {
     "name": "stderr",
     "output_type": "stream",
     "text": [
      "Processing data_objects:  93%|█████████▎| 188/203 [01:36<00:04,  3.16it/s]"
     ]
    },
    {
     "name": "stdout",
     "output_type": "stream",
     "text": [
      "第 965 条数据用时: 95.70 秒\n"
     ]
    },
    {
     "name": "stderr",
     "output_type": "stream",
     "text": [
      "Processing data_objects:  95%|█████████▌| 193/203 [01:36<00:01,  7.13it/s]"
     ]
    },
    {
     "name": "stdout",
     "output_type": "stream",
     "text": [
      "第 829 条数据用时: 95.67 秒\n",
      "第 918 条数据用时: 95.95 秒\n",
      "第 925 条数据用时: 95.92 秒\n",
      "第 963 条数据用时: 96.04 秒\n",
      "第 982 条数据用时: 95.76 秒\n"
     ]
    },
    {
     "name": "stderr",
     "output_type": "stream",
     "text": [
      "Processing data_objects:  96%|█████████▌| 195/203 [01:36<00:01,  7.70it/s]"
     ]
    },
    {
     "name": "stdout",
     "output_type": "stream",
     "text": [
      "第 926 条数据用时: 96.12 秒\n",
      "第 832 条数据用时: 95.96 秒\n",
      "第 924 条数据用时: 97.03 秒\n"
     ]
    },
    {
     "name": "stderr",
     "output_type": "stream",
     "text": [
      "Processing data_objects:  97%|█████████▋| 197/203 [01:38<00:02,  2.89it/s]"
     ]
    },
    {
     "name": "stdout",
     "output_type": "stream",
     "text": [
      "第 958 条数据用时: 97.70 秒\n"
     ]
    },
    {
     "name": "stderr",
     "output_type": "stream",
     "text": [
      "Processing data_objects:  98%|█████████▊| 198/203 [01:39<00:02,  1.92it/s]"
     ]
    },
    {
     "name": "stdout",
     "output_type": "stream",
     "text": [
      "第 819 条数据用时: 99.05 秒\n"
     ]
    },
    {
     "name": "stderr",
     "output_type": "stream",
     "text": [
      "Processing data_objects:  98%|█████████▊| 199/203 [01:40<00:01,  2.16it/s]"
     ]
    },
    {
     "name": "stdout",
     "output_type": "stream",
     "text": [
      "第 870 条数据用时: 99.56 秒\n"
     ]
    },
    {
     "name": "stderr",
     "output_type": "stream",
     "text": [
      "Processing data_objects:  99%|█████████▊| 200/203 [01:40<00:01,  2.08it/s]"
     ]
    },
    {
     "name": "stdout",
     "output_type": "stream",
     "text": [
      "第 919 条数据用时: 100.10 秒\n"
     ]
    },
    {
     "name": "stderr",
     "output_type": "stream",
     "text": [
      "Processing data_objects:  99%|█████████▉| 201/203 [01:41<00:00,  2.09it/s]"
     ]
    },
    {
     "name": "stdout",
     "output_type": "stream",
     "text": [
      "第 979 条数据用时: 100.31 秒\n"
     ]
    },
    {
     "name": "stderr",
     "output_type": "stream",
     "text": [
      "Processing data_objects: 100%|█████████▉| 202/203 [01:41<00:00,  2.06it/s]"
     ]
    },
    {
     "name": "stdout",
     "output_type": "stream",
     "text": [
      "第 869 条数据用时: 101.08 秒\n"
     ]
    },
    {
     "name": "stderr",
     "output_type": "stream",
     "text": [
      "Processing data_objects: 100%|██████████| 203/203 [01:42<00:00,  1.99it/s]\n"
     ]
    },
    {
     "name": "stdout",
     "output_type": "stream",
     "text": [
      "第 980 条数据用时: 101.27 秒\n"
     ]
    },
    {
     "name": "stderr",
     "output_type": "stream",
     "text": [
      "Processing data_objects:   0%|          | 1/203 [00:18<1:00:54, 18.09s/it]"
     ]
    },
    {
     "name": "stdout",
     "output_type": "stream",
     "text": [
      "第 1164 条数据用时: 17.99 秒\n"
     ]
    },
    {
     "name": "stderr",
     "output_type": "stream",
     "text": [
      "Processing data_objects:   1%|          | 2/203 [00:29<48:13, 14.39s/it]  "
     ]
    },
    {
     "name": "stdout",
     "output_type": "stream",
     "text": [
      "第 1200 条数据用时: 29.50 秒\n"
     ]
    },
    {
     "name": "stderr",
     "output_type": "stream",
     "text": [
      "Processing data_objects:   1%|▏         | 3/203 [00:38<39:06, 11.73s/it]"
     ]
    },
    {
     "name": "stdout",
     "output_type": "stream",
     "text": [
      "第 1082 条数据用时: 38.44 秒\n"
     ]
    },
    {
     "name": "stderr",
     "output_type": "stream",
     "text": [
      "Processing data_objects:   2%|▏         | 4/203 [00:38<23:59,  7.24s/it]"
     ]
    },
    {
     "name": "stdout",
     "output_type": "stream",
     "text": [
      "第 1140 条数据用时: 38.61 秒\n"
     ]
    },
    {
     "name": "stderr",
     "output_type": "stream",
     "text": [
      "Processing data_objects:   2%|▏         | 5/203 [00:39<15:52,  4.81s/it]"
     ]
    },
    {
     "name": "stdout",
     "output_type": "stream",
     "text": [
      "第 1202 条数据用时: 38.93 秒\n"
     ]
    },
    {
     "name": "stderr",
     "output_type": "stream",
     "text": [
      "Processing data_objects:   3%|▎         | 6/203 [00:39<11:08,  3.39s/it]"
     ]
    },
    {
     "name": "stdout",
     "output_type": "stream",
     "text": [
      "第 1142 条数据用时: 39.72 秒\n"
     ]
    },
    {
     "name": "stderr",
     "output_type": "stream",
     "text": [
      "Processing data_objects:   3%|▎         | 7/203 [00:40<08:26,  2.58s/it]"
     ]
    },
    {
     "name": "stdout",
     "output_type": "stream",
     "text": [
      "第 1158 条数据用时: 40.66 秒\n"
     ]
    },
    {
     "name": "stderr",
     "output_type": "stream",
     "text": [
      "Processing data_objects:   4%|▍         | 8/203 [00:41<06:10,  1.90s/it]"
     ]
    },
    {
     "name": "stdout",
     "output_type": "stream",
     "text": [
      "第 1074 条数据用时: 41.27 秒\n"
     ]
    },
    {
     "name": "stderr",
     "output_type": "stream",
     "text": [
      "Processing data_objects:   4%|▍         | 9/203 [00:42<05:13,  1.62s/it]"
     ]
    },
    {
     "name": "stdout",
     "output_type": "stream",
     "text": [
      "第 1105 条数据用时: 41.91 秒\n",
      "第 1091 条数据用时: 41.95 秒\n"
     ]
    },
    {
     "name": "stderr",
     "output_type": "stream",
     "text": [
      "Processing data_objects:   5%|▌         | 11/203 [00:42<03:12,  1.00s/it]"
     ]
    },
    {
     "name": "stdout",
     "output_type": "stream",
     "text": [
      "第 1169 条数据用时: 42.58 秒\n"
     ]
    },
    {
     "name": "stderr",
     "output_type": "stream",
     "text": [
      "Processing data_objects:   6%|▌         | 12/203 [00:43<02:47,  1.14it/s]"
     ]
    },
    {
     "name": "stdout",
     "output_type": "stream",
     "text": [
      "第 1115 条数据用时: 43.39 秒\n"
     ]
    },
    {
     "name": "stderr",
     "output_type": "stream",
     "text": [
      "Processing data_objects:   6%|▋         | 13/203 [00:44<02:39,  1.19it/s]"
     ]
    },
    {
     "name": "stdout",
     "output_type": "stream",
     "text": [
      "第 1107 条数据用时: 43.90 秒\n"
     ]
    },
    {
     "name": "stderr",
     "output_type": "stream",
     "text": [
      "Processing data_objects:   7%|▋         | 14/203 [00:44<02:17,  1.38it/s]"
     ]
    },
    {
     "name": "stdout",
     "output_type": "stream",
     "text": [
      "第 1171 条数据用时: 44.28 秒\n"
     ]
    },
    {
     "name": "stderr",
     "output_type": "stream",
     "text": [
      "Processing data_objects:   7%|▋         | 15/203 [00:45<02:14,  1.39it/s]"
     ]
    },
    {
     "name": "stdout",
     "output_type": "stream",
     "text": [
      "第 1127 条数据用时: 45.00 秒\n"
     ]
    },
    {
     "name": "stderr",
     "output_type": "stream",
     "text": [
      "Processing data_objects:   8%|▊         | 16/203 [00:46<02:29,  1.25it/s]"
     ]
    },
    {
     "name": "stdout",
     "output_type": "stream",
     "text": [
      "第 1203 条数据用时: 45.94 秒\n"
     ]
    },
    {
     "name": "stderr",
     "output_type": "stream",
     "text": [
      "Processing data_objects:   8%|▊         | 17/203 [00:46<02:09,  1.44it/s]"
     ]
    },
    {
     "name": "stdout",
     "output_type": "stream",
     "text": [
      "第 1160 条数据用时: 46.47 秒\n"
     ]
    },
    {
     "name": "stderr",
     "output_type": "stream",
     "text": [
      "Processing data_objects:   9%|▉         | 18/203 [00:47<01:55,  1.60it/s]"
     ]
    },
    {
     "name": "stdout",
     "output_type": "stream",
     "text": [
      "第 1081 条数据用时: 47.18 秒\n"
     ]
    },
    {
     "name": "stderr",
     "output_type": "stream",
     "text": [
      "Processing data_objects:   9%|▉         | 19/203 [00:47<01:44,  1.76it/s]"
     ]
    },
    {
     "name": "stdout",
     "output_type": "stream",
     "text": [
      "第 1030 条数据用时: 47.41 秒\n"
     ]
    },
    {
     "name": "stderr",
     "output_type": "stream",
     "text": [
      "Processing data_objects:  10%|▉         | 20/203 [00:48<01:34,  1.94it/s]"
     ]
    },
    {
     "name": "stdout",
     "output_type": "stream",
     "text": [
      "第 1136 条数据用时: 47.64 秒\n"
     ]
    },
    {
     "name": "stderr",
     "output_type": "stream",
     "text": [
      "Processing data_objects:  10%|█         | 21/203 [00:48<01:26,  2.11it/s]"
     ]
    },
    {
     "name": "stdout",
     "output_type": "stream",
     "text": [
      "第 1026 条数据用时: 48.23 秒\n"
     ]
    },
    {
     "name": "stderr",
     "output_type": "stream",
     "text": [
      "Processing data_objects:  11%|█         | 22/203 [00:48<01:26,  2.10it/s]"
     ]
    },
    {
     "name": "stdout",
     "output_type": "stream",
     "text": [
      "第 1123 条数据用时: 48.80 秒\n"
     ]
    },
    {
     "name": "stderr",
     "output_type": "stream",
     "text": [
      "Processing data_objects:  11%|█▏        | 23/203 [00:49<01:21,  2.22it/s]"
     ]
    },
    {
     "name": "stdout",
     "output_type": "stream",
     "text": [
      "第 1110 条数据用时: 49.03 秒\n"
     ]
    },
    {
     "name": "stderr",
     "output_type": "stream",
     "text": [
      "Processing data_objects:  12%|█▏        | 24/203 [00:49<01:16,  2.33it/s]"
     ]
    },
    {
     "name": "stdout",
     "output_type": "stream",
     "text": [
      "第 1167 条数据用时: 49.51 秒\n",
      "第 1170 条数据用时: 49.31 秒\n"
     ]
    },
    {
     "name": "stderr",
     "output_type": "stream",
     "text": [
      "Processing data_objects:  13%|█▎        | 26/203 [00:50<01:10,  2.52it/s]"
     ]
    },
    {
     "name": "stdout",
     "output_type": "stream",
     "text": [
      "第 1182 条数据用时: 50.17 秒\n"
     ]
    },
    {
     "name": "stderr",
     "output_type": "stream",
     "text": [
      "Processing data_objects:  13%|█▎        | 27/203 [00:51<01:20,  2.18it/s]"
     ]
    },
    {
     "name": "stdout",
     "output_type": "stream",
     "text": [
      "第 1139 条数据用时: 50.82 秒\n"
     ]
    },
    {
     "name": "stderr",
     "output_type": "stream",
     "text": [
      "Processing data_objects:  14%|█▍        | 28/203 [00:51<01:18,  2.22it/s]"
     ]
    },
    {
     "name": "stdout",
     "output_type": "stream",
     "text": [
      "第 1156 条数据用时: 51.22 秒\n"
     ]
    },
    {
     "name": "stderr",
     "output_type": "stream",
     "text": [
      "Processing data_objects:  14%|█▍        | 29/203 [00:51<01:13,  2.37it/s]"
     ]
    },
    {
     "name": "stdout",
     "output_type": "stream",
     "text": [
      "第 1199 条数据用时: 51.37 秒\n"
     ]
    },
    {
     "name": "stderr",
     "output_type": "stream",
     "text": [
      "Processing data_objects:  15%|█▍        | 30/203 [00:52<01:39,  1.75it/s]"
     ]
    },
    {
     "name": "stdout",
     "output_type": "stream",
     "text": [
      "第 1148 条数据用时: 52.73 秒\n"
     ]
    },
    {
     "name": "stderr",
     "output_type": "stream",
     "text": [
      "Processing data_objects:  15%|█▌        | 31/203 [00:52<01:22,  2.10it/s]"
     ]
    },
    {
     "name": "stdout",
     "output_type": "stream",
     "text": [
      "第 1058 条数据用时: 52.58 秒\n"
     ]
    },
    {
     "name": "stderr",
     "output_type": "stream",
     "text": [
      "Processing data_objects:  16%|█▌        | 32/203 [00:53<01:32,  1.84it/s]"
     ]
    },
    {
     "name": "stdout",
     "output_type": "stream",
     "text": [
      "第 1034 条数据用时: 53.67 秒\n",
      "第 1085 条数据用时: 53.63 秒\n"
     ]
    },
    {
     "name": "stderr",
     "output_type": "stream",
     "text": [
      "Processing data_objects:  17%|█▋        | 34/203 [00:54<01:12,  2.33it/s]"
     ]
    },
    {
     "name": "stdout",
     "output_type": "stream",
     "text": [
      "第 1023 条数据用时: 54.16 秒\n",
      "第 1143 条数据用时: 54.02 秒\n"
     ]
    },
    {
     "name": "stderr",
     "output_type": "stream",
     "text": [
      "Processing data_objects:  18%|█▊        | 36/203 [00:55<01:25,  1.95it/s]"
     ]
    },
    {
     "name": "stdout",
     "output_type": "stream",
     "text": [
      "第 1122 条数据用时: 55.48 秒\n"
     ]
    },
    {
     "name": "stderr",
     "output_type": "stream",
     "text": [
      "Processing data_objects:  18%|█▊        | 37/203 [00:55<01:22,  2.01it/s]"
     ]
    },
    {
     "name": "stdout",
     "output_type": "stream",
     "text": [
      "第 1079 条数据用时: 55.82 秒\n",
      "第 1054 条数据用时: 55.88 秒\n",
      "第 1183 条数据用时: 55.82 秒\n"
     ]
    },
    {
     "name": "stderr",
     "output_type": "stream",
     "text": [
      "Processing data_objects:  20%|█▉        | 40/203 [00:56<01:07,  2.41it/s]"
     ]
    },
    {
     "name": "stdout",
     "output_type": "stream",
     "text": [
      "第 1086 条数据用时: 56.92 秒\n"
     ]
    },
    {
     "name": "stderr",
     "output_type": "stream",
     "text": [
      "Processing data_objects:  20%|██        | 41/203 [00:57<01:12,  2.25it/s]"
     ]
    },
    {
     "name": "stdout",
     "output_type": "stream",
     "text": [
      "第 1025 条数据用时: 57.40 秒\n",
      "第 1124 条数据用时: 57.47 秒\n"
     ]
    },
    {
     "name": "stderr",
     "output_type": "stream",
     "text": [
      "Processing data_objects:  21%|██        | 43/203 [00:58<01:09,  2.31it/s]"
     ]
    },
    {
     "name": "stdout",
     "output_type": "stream",
     "text": [
      "第 1021 条数据用时: 58.28 秒\n"
     ]
    },
    {
     "name": "stderr",
     "output_type": "stream",
     "text": [
      "Processing data_objects:  22%|██▏       | 44/203 [00:58<01:14,  2.14it/s]"
     ]
    },
    {
     "name": "stdout",
     "output_type": "stream",
     "text": [
      "第 1022 条数据用时: 58.88 秒\n"
     ]
    },
    {
     "name": "stderr",
     "output_type": "stream",
     "text": [
      "Processing data_objects:  22%|██▏       | 45/203 [00:59<01:09,  2.28it/s]"
     ]
    },
    {
     "name": "stdout",
     "output_type": "stream",
     "text": [
      "第 1121 条数据用时: 59.26 秒\n"
     ]
    },
    {
     "name": "stderr",
     "output_type": "stream",
     "text": [
      "Processing data_objects:  23%|██▎       | 46/203 [00:59<01:10,  2.24it/s]"
     ]
    },
    {
     "name": "stdout",
     "output_type": "stream",
     "text": [
      "第 1145 条数据用时: 59.52 秒\n",
      "第 1041 条数据用时: 59.26 秒\n"
     ]
    },
    {
     "name": "stderr",
     "output_type": "stream",
     "text": [
      "Processing data_objects:  24%|██▎       | 48/203 [01:00<00:59,  2.59it/s]"
     ]
    },
    {
     "name": "stdout",
     "output_type": "stream",
     "text": [
      "第 1141 条数据用时: 60.17 秒\n"
     ]
    },
    {
     "name": "stderr",
     "output_type": "stream",
     "text": [
      "Processing data_objects:  24%|██▍       | 49/203 [01:00<00:57,  2.69it/s]"
     ]
    },
    {
     "name": "stdout",
     "output_type": "stream",
     "text": [
      "第 1111 条数据用时: 60.42 秒\n"
     ]
    },
    {
     "name": "stderr",
     "output_type": "stream",
     "text": [
      "Processing data_objects:  25%|██▍       | 50/203 [01:01<01:17,  1.97it/s]"
     ]
    },
    {
     "name": "stdout",
     "output_type": "stream",
     "text": [
      "第 1185 条数据用时: 61.48 秒\n"
     ]
    },
    {
     "name": "stderr",
     "output_type": "stream",
     "text": [
      "Processing data_objects:  25%|██▌       | 51/203 [01:02<01:23,  1.83it/s]"
     ]
    },
    {
     "name": "stdout",
     "output_type": "stream",
     "text": [
      "第 1109 条数据用时: 62.02 秒\n"
     ]
    },
    {
     "name": "stderr",
     "output_type": "stream",
     "text": [
      "Processing data_objects:  26%|██▌       | 52/203 [01:02<01:16,  1.98it/s]"
     ]
    },
    {
     "name": "stdout",
     "output_type": "stream",
     "text": [
      "第 1071 条数据用时: 62.26 秒\n"
     ]
    },
    {
     "name": "stderr",
     "output_type": "stream",
     "text": [
      "Processing data_objects:  26%|██▌       | 53/203 [01:03<01:10,  2.12it/s]"
     ]
    },
    {
     "name": "stdout",
     "output_type": "stream",
     "text": [
      "第 1073 条数据用时: 62.78 秒\n"
     ]
    },
    {
     "name": "stderr",
     "output_type": "stream",
     "text": [
      "Processing data_objects:  27%|██▋       | 54/203 [01:03<01:04,  2.30it/s]"
     ]
    },
    {
     "name": "stdout",
     "output_type": "stream",
     "text": [
      "第 1116 条数据用时: 63.38 秒\n"
     ]
    },
    {
     "name": "stderr",
     "output_type": "stream",
     "text": [
      "Processing data_objects:  27%|██▋       | 55/203 [01:03<01:10,  2.10it/s]"
     ]
    },
    {
     "name": "stdout",
     "output_type": "stream",
     "text": [
      "第 1031 条数据用时: 63.76 秒\n"
     ]
    },
    {
     "name": "stderr",
     "output_type": "stream",
     "text": [
      "Processing data_objects:  28%|██▊       | 56/203 [01:04<01:04,  2.28it/s]"
     ]
    },
    {
     "name": "stdout",
     "output_type": "stream",
     "text": [
      "第 1201 条数据用时: 63.96 秒\n"
     ]
    },
    {
     "name": "stderr",
     "output_type": "stream",
     "text": [
      "Processing data_objects:  28%|██▊       | 57/203 [01:05<01:14,  1.95it/s]"
     ]
    },
    {
     "name": "stdout",
     "output_type": "stream",
     "text": [
      "第 1144 条数据用时: 64.77 秒\n"
     ]
    },
    {
     "name": "stderr",
     "output_type": "stream",
     "text": [
      "Processing data_objects:  29%|██▊       | 58/203 [01:05<01:10,  2.05it/s]"
     ]
    },
    {
     "name": "stdout",
     "output_type": "stream",
     "text": [
      "第 1159 条数据用时: 65.27 秒\n",
      "第 1168 条数据用时: 65.09 秒\n"
     ]
    },
    {
     "name": "stderr",
     "output_type": "stream",
     "text": [
      "Processing data_objects:  30%|██▉       | 60/203 [01:06<00:57,  2.50it/s]"
     ]
    },
    {
     "name": "stdout",
     "output_type": "stream",
     "text": [
      "第 1037 条数据用时: 65.91 秒\n"
     ]
    },
    {
     "name": "stderr",
     "output_type": "stream",
     "text": [
      "Processing data_objects:  30%|███       | 61/203 [01:06<01:07,  2.12it/s]"
     ]
    },
    {
     "name": "stdout",
     "output_type": "stream",
     "text": [
      "第 1057 条数据用时: 66.36 秒\n"
     ]
    },
    {
     "name": "stderr",
     "output_type": "stream",
     "text": [
      "Processing data_objects:  31%|███       | 62/203 [01:07<01:03,  2.24it/s]"
     ]
    },
    {
     "name": "stdout",
     "output_type": "stream",
     "text": [
      "第 1125 条数据用时: 67.03 秒\n"
     ]
    },
    {
     "name": "stderr",
     "output_type": "stream",
     "text": [
      "Processing data_objects:  31%|███       | 63/203 [01:07<01:00,  2.30it/s]"
     ]
    },
    {
     "name": "stdout",
     "output_type": "stream",
     "text": [
      "第 1146 条数据用时: 67.24 秒\n"
     ]
    },
    {
     "name": "stderr",
     "output_type": "stream",
     "text": [
      "Processing data_objects:  32%|███▏      | 64/203 [01:07<00:58,  2.36it/s]"
     ]
    },
    {
     "name": "stdout",
     "output_type": "stream",
     "text": [
      "第 1204 条数据用时: 67.57 秒\n"
     ]
    },
    {
     "name": "stderr",
     "output_type": "stream",
     "text": [
      "Processing data_objects:  32%|███▏      | 65/203 [01:08<00:58,  2.36it/s]"
     ]
    },
    {
     "name": "stdout",
     "output_type": "stream",
     "text": [
      "第 1029 条数据用时: 68.14 秒\n"
     ]
    },
    {
     "name": "stderr",
     "output_type": "stream",
     "text": [
      "Processing data_objects:  33%|███▎      | 66/203 [01:08<01:06,  2.06it/s]"
     ]
    },
    {
     "name": "stdout",
     "output_type": "stream",
     "text": [
      "第 1114 条数据用时: 68.95 秒\n"
     ]
    },
    {
     "name": "stderr",
     "output_type": "stream",
     "text": [
      "Processing data_objects:  33%|███▎      | 67/203 [01:09<01:00,  2.23it/s]"
     ]
    },
    {
     "name": "stdout",
     "output_type": "stream",
     "text": [
      "第 1032 条数据用时: 69.09 秒\n"
     ]
    },
    {
     "name": "stderr",
     "output_type": "stream",
     "text": [
      "Processing data_objects:  33%|███▎      | 68/203 [01:09<00:57,  2.36it/s]"
     ]
    },
    {
     "name": "stdout",
     "output_type": "stream",
     "text": [
      "第 1027 条数据用时: 69.53 秒\n"
     ]
    },
    {
     "name": "stderr",
     "output_type": "stream",
     "text": [
      "Processing data_objects:  34%|███▍      | 69/203 [01:10<01:00,  2.22it/s]"
     ]
    },
    {
     "name": "stdout",
     "output_type": "stream",
     "text": [
      "第 1163 条数据用时: 70.11 秒\n",
      "第 1133 条数据用时: 70.07 秒\n"
     ]
    },
    {
     "name": "stderr",
     "output_type": "stream",
     "text": [
      "Processing data_objects:  35%|███▍      | 71/203 [01:11<00:57,  2.31it/s]"
     ]
    },
    {
     "name": "stdout",
     "output_type": "stream",
     "text": [
      "第 1077 条数据用时: 70.78 秒\n"
     ]
    },
    {
     "name": "stderr",
     "output_type": "stream",
     "text": [
      "Processing data_objects:  35%|███▌      | 72/203 [01:11<00:55,  2.35it/s]"
     ]
    },
    {
     "name": "stdout",
     "output_type": "stream",
     "text": [
      "第 1024 条数据用时: 71.31 秒\n"
     ]
    },
    {
     "name": "stderr",
     "output_type": "stream",
     "text": [
      "Processing data_objects:  36%|███▌      | 73/203 [01:12<01:01,  2.12it/s]"
     ]
    },
    {
     "name": "stdout",
     "output_type": "stream",
     "text": [
      "第 1076 条数据用时: 71.74 秒\n"
     ]
    },
    {
     "name": "stderr",
     "output_type": "stream",
     "text": [
      "Processing data_objects:  36%|███▋      | 74/203 [01:13<01:23,  1.54it/s]"
     ]
    },
    {
     "name": "stdout",
     "output_type": "stream",
     "text": [
      "第 1028 条数据用时: 72.98 秒\n"
     ]
    },
    {
     "name": "stderr",
     "output_type": "stream",
     "text": [
      "Processing data_objects:  37%|███▋      | 75/203 [01:13<01:15,  1.69it/s]"
     ]
    },
    {
     "name": "stdout",
     "output_type": "stream",
     "text": [
      "第 1053 条数据用时: 73.27 秒\n"
     ]
    },
    {
     "name": "stderr",
     "output_type": "stream",
     "text": [
      "Processing data_objects:  37%|███▋      | 76/203 [01:13<01:06,  1.91it/s]"
     ]
    },
    {
     "name": "stdout",
     "output_type": "stream",
     "text": [
      "第 1190 条数据用时: 73.56 秒\n"
     ]
    },
    {
     "name": "stderr",
     "output_type": "stream",
     "text": [
      "Processing data_objects:  38%|███▊      | 77/203 [01:14<01:07,  1.88it/s]"
     ]
    },
    {
     "name": "stdout",
     "output_type": "stream",
     "text": [
      "第 1033 条数据用时: 74.41 秒\n"
     ]
    },
    {
     "name": "stderr",
     "output_type": "stream",
     "text": [
      "Processing data_objects:  38%|███▊      | 78/203 [01:15<01:27,  1.43it/s]"
     ]
    },
    {
     "name": "stdout",
     "output_type": "stream",
     "text": [
      "第 1084 条数据用时: 75.60 秒\n"
     ]
    },
    {
     "name": "stderr",
     "output_type": "stream",
     "text": [
      "Processing data_objects:  39%|███▉      | 79/203 [01:15<01:12,  1.71it/s]"
     ]
    },
    {
     "name": "stdout",
     "output_type": "stream",
     "text": [
      "第 1157 条数据用时: 75.70 秒\n"
     ]
    },
    {
     "name": "stderr",
     "output_type": "stream",
     "text": [
      "Processing data_objects:  39%|███▉      | 80/203 [01:16<01:23,  1.47it/s]"
     ]
    },
    {
     "name": "stdout",
     "output_type": "stream",
     "text": [
      "第 1205 条数据用时: 76.52 秒\n"
     ]
    },
    {
     "name": "stderr",
     "output_type": "stream",
     "text": [
      "Processing data_objects:  40%|███▉      | 81/203 [01:17<01:12,  1.69it/s]"
     ]
    },
    {
     "name": "stdout",
     "output_type": "stream",
     "text": [
      "第 1175 条数据用时: 77.19 秒\n"
     ]
    },
    {
     "name": "stderr",
     "output_type": "stream",
     "text": [
      "Processing data_objects:  40%|████      | 82/203 [01:17<01:17,  1.55it/s]"
     ]
    },
    {
     "name": "stdout",
     "output_type": "stream",
     "text": [
      "第 1134 条数据用时: 77.84 秒\n",
      "第 1017 条数据用时: 77.89 秒\n"
     ]
    },
    {
     "name": "stderr",
     "output_type": "stream",
     "text": [
      "Processing data_objects:  41%|████▏     | 84/203 [01:18<01:04,  1.86it/s]"
     ]
    },
    {
     "name": "stdout",
     "output_type": "stream",
     "text": [
      "第 1090 条数据用时: 78.50 秒\n",
      "第 1198 条数据用时: 78.38 秒\n"
     ]
    },
    {
     "name": "stderr",
     "output_type": "stream",
     "text": [
      "Processing data_objects:  42%|████▏     | 86/203 [01:19<00:59,  1.96it/s]"
     ]
    },
    {
     "name": "stdout",
     "output_type": "stream",
     "text": [
      "第 1062 条数据用时: 79.27 秒\n"
     ]
    },
    {
     "name": "stderr",
     "output_type": "stream",
     "text": [
      "Processing data_objects:  43%|████▎     | 88/203 [01:20<00:55,  2.08it/s]"
     ]
    },
    {
     "name": "stdout",
     "output_type": "stream",
     "text": [
      "第 1061 条数据用时: 80.14 秒\n",
      "第 1188 条数据用时: 80.32 秒\n"
     ]
    },
    {
     "name": "stderr",
     "output_type": "stream",
     "text": [
      "Processing data_objects:  44%|████▍     | 89/203 [01:21<00:57,  1.98it/s]"
     ]
    },
    {
     "name": "stdout",
     "output_type": "stream",
     "text": [
      "第 1039 条数据用时: 80.85 秒\n"
     ]
    },
    {
     "name": "stderr",
     "output_type": "stream",
     "text": [
      "Processing data_objects:  44%|████▍     | 90/203 [01:21<00:57,  1.95it/s]"
     ]
    },
    {
     "name": "stdout",
     "output_type": "stream",
     "text": [
      "第 1117 条数据用时: 81.86 秒\n"
     ]
    },
    {
     "name": "stderr",
     "output_type": "stream",
     "text": [
      "Processing data_objects:  45%|████▍     | 91/203 [01:22<00:54,  2.07it/s]"
     ]
    },
    {
     "name": "stdout",
     "output_type": "stream",
     "text": [
      "第 1187 条数据用时: 81.83 秒\n"
     ]
    },
    {
     "name": "stderr",
     "output_type": "stream",
     "text": [
      "Processing data_objects:  45%|████▌     | 92/203 [01:22<00:50,  2.21it/s]"
     ]
    },
    {
     "name": "stdout",
     "output_type": "stream",
     "text": [
      "第 1080 条数据用时: 82.35 秒\n"
     ]
    },
    {
     "name": "stderr",
     "output_type": "stream",
     "text": [
      "Processing data_objects:  46%|████▌     | 93/203 [01:23<00:51,  2.15it/s]"
     ]
    },
    {
     "name": "stdout",
     "output_type": "stream",
     "text": [
      "第 1055 条数据用时: 82.83 秒\n"
     ]
    },
    {
     "name": "stderr",
     "output_type": "stream",
     "text": [
      "Processing data_objects:  46%|████▋     | 94/203 [01:23<00:56,  1.93it/s]"
     ]
    },
    {
     "name": "stdout",
     "output_type": "stream",
     "text": [
      "第 1184 条数据用时: 83.62 秒\n"
     ]
    },
    {
     "name": "stderr",
     "output_type": "stream",
     "text": [
      "Processing data_objects:  47%|████▋     | 95/203 [01:24<00:54,  1.99it/s]"
     ]
    },
    {
     "name": "stdout",
     "output_type": "stream",
     "text": [
      "第 1083 条数据用时: 84.23 秒\n"
     ]
    },
    {
     "name": "stderr",
     "output_type": "stream",
     "text": [
      "Processing data_objects:  47%|████▋     | 96/203 [01:24<00:55,  1.92it/s]"
     ]
    },
    {
     "name": "stdout",
     "output_type": "stream",
     "text": [
      "第 1052 条数据用时: 84.46 秒\n"
     ]
    },
    {
     "name": "stderr",
     "output_type": "stream",
     "text": [
      "Processing data_objects:  48%|████▊     | 97/203 [01:25<00:56,  1.89it/s]"
     ]
    },
    {
     "name": "stdout",
     "output_type": "stream",
     "text": [
      "第 1180 条数据用时: 85.13 秒\n"
     ]
    },
    {
     "name": "stderr",
     "output_type": "stream",
     "text": [
      "Processing data_objects:  48%|████▊     | 98/203 [01:26<01:09,  1.52it/s]"
     ]
    },
    {
     "name": "stdout",
     "output_type": "stream",
     "text": [
      "第 1162 条数据用时: 86.21 秒\n"
     ]
    },
    {
     "name": "stderr",
     "output_type": "stream",
     "text": [
      "Processing data_objects:  49%|████▉     | 99/203 [01:26<00:55,  1.88it/s]"
     ]
    },
    {
     "name": "stdout",
     "output_type": "stream",
     "text": [
      "第 1208 条数据用时: 86.07 秒\n"
     ]
    },
    {
     "name": "stderr",
     "output_type": "stream",
     "text": [
      "Processing data_objects:  49%|████▉     | 100/203 [01:27<00:56,  1.82it/s]"
     ]
    },
    {
     "name": "stdout",
     "output_type": "stream",
     "text": [
      "第 1099 条数据用时: 86.52 秒\n"
     ]
    },
    {
     "name": "stderr",
     "output_type": "stream",
     "text": [
      "Processing data_objects:  50%|████▉     | 101/203 [01:27<00:52,  1.93it/s]"
     ]
    },
    {
     "name": "stdout",
     "output_type": "stream",
     "text": [
      "第 1186 条数据用时: 87.46 秒\n"
     ]
    },
    {
     "name": "stderr",
     "output_type": "stream",
     "text": [
      "Processing data_objects:  50%|█████     | 102/203 [01:27<00:46,  2.15it/s]"
     ]
    },
    {
     "name": "stdout",
     "output_type": "stream",
     "text": [
      "第 1212 条数据用时: 87.30 秒\n"
     ]
    },
    {
     "name": "stderr",
     "output_type": "stream",
     "text": [
      "Processing data_objects:  51%|█████     | 103/203 [01:29<01:05,  1.53it/s]"
     ]
    },
    {
     "name": "stdout",
     "output_type": "stream",
     "text": [
      "第 1067 条数据用时: 88.49 秒\n"
     ]
    },
    {
     "name": "stderr",
     "output_type": "stream",
     "text": [
      "Processing data_objects:  51%|█████     | 104/203 [01:29<01:04,  1.54it/s]"
     ]
    },
    {
     "name": "stdout",
     "output_type": "stream",
     "text": [
      "第 1064 条数据用时: 89.17 秒\n"
     ]
    },
    {
     "name": "stderr",
     "output_type": "stream",
     "text": [
      "Processing data_objects:  52%|█████▏    | 105/203 [01:29<00:53,  1.84it/s]"
     ]
    },
    {
     "name": "stdout",
     "output_type": "stream",
     "text": [
      "第 1038 条数据用时: 89.50 秒\n"
     ]
    },
    {
     "name": "stderr",
     "output_type": "stream",
     "text": [
      "Processing data_objects:  53%|█████▎    | 107/203 [01:30<00:44,  2.15it/s]"
     ]
    },
    {
     "name": "stdout",
     "output_type": "stream",
     "text": [
      "第 1096 条数据用时: 90.10 秒\n",
      "第 1088 条数据用时: 90.40 秒\n",
      "第 1193 条数据用时: 90.15 秒\n"
     ]
    },
    {
     "name": "stderr",
     "output_type": "stream",
     "text": [
      "Processing data_objects:  54%|█████▎    | 109/203 [01:31<00:42,  2.20it/s]"
     ]
    },
    {
     "name": "stdout",
     "output_type": "stream",
     "text": [
      "第 1210 条数据用时: 91.27 秒\n"
     ]
    },
    {
     "name": "stderr",
     "output_type": "stream",
     "text": [
      "Processing data_objects:  54%|█████▍    | 110/203 [01:32<00:40,  2.29it/s]"
     ]
    },
    {
     "name": "stdout",
     "output_type": "stream",
     "text": [
      "第 1040 条数据用时: 91.61 秒\n"
     ]
    },
    {
     "name": "stderr",
     "output_type": "stream",
     "text": [
      "Processing data_objects:  55%|█████▍    | 111/203 [01:32<00:41,  2.23it/s]"
     ]
    },
    {
     "name": "stdout",
     "output_type": "stream",
     "text": [
      "第 1089 条数据用时: 92.28 秒\n"
     ]
    },
    {
     "name": "stderr",
     "output_type": "stream",
     "text": [
      "Processing data_objects:  55%|█████▌    | 112/203 [01:33<00:46,  1.97it/s]"
     ]
    },
    {
     "name": "stdout",
     "output_type": "stream",
     "text": [
      "第 1197 条数据用时: 92.79 秒\n"
     ]
    },
    {
     "name": "stderr",
     "output_type": "stream",
     "text": [
      "Processing data_objects:  56%|█████▌    | 113/203 [01:33<00:43,  2.09it/s]"
     ]
    },
    {
     "name": "stdout",
     "output_type": "stream",
     "text": [
      "第 1129 条数据用时: 93.20 秒\n",
      "第 1206 条数据用时: 93.15 秒\n"
     ]
    },
    {
     "name": "stderr",
     "output_type": "stream",
     "text": [
      "Processing data_objects:  57%|█████▋    | 115/203 [01:34<00:30,  2.89it/s]"
     ]
    },
    {
     "name": "stdout",
     "output_type": "stream",
     "text": [
      "第 1172 条数据用时: 93.32 秒\n"
     ]
    },
    {
     "name": "stderr",
     "output_type": "stream",
     "text": [
      "Processing data_objects:  57%|█████▋    | 116/203 [01:35<00:49,  1.75it/s]"
     ]
    },
    {
     "name": "stdout",
     "output_type": "stream",
     "text": [
      "第 1207 条数据用时: 94.79 秒\n"
     ]
    },
    {
     "name": "stderr",
     "output_type": "stream",
     "text": [
      "Processing data_objects:  58%|█████▊    | 117/203 [01:35<00:46,  1.84it/s]"
     ]
    },
    {
     "name": "stdout",
     "output_type": "stream",
     "text": [
      "第 1192 条数据用时: 95.06 秒\n"
     ]
    },
    {
     "name": "stderr",
     "output_type": "stream",
     "text": [
      "Processing data_objects:  58%|█████▊    | 118/203 [01:36<00:42,  2.02it/s]"
     ]
    },
    {
     "name": "stdout",
     "output_type": "stream",
     "text": [
      "第 1211 条数据用时: 95.73 秒\n",
      "第 1066 条数据用时: 95.65 秒\n"
     ]
    },
    {
     "name": "stderr",
     "output_type": "stream",
     "text": [
      "Processing data_objects:  59%|█████▉    | 120/203 [01:36<00:26,  3.08it/s]"
     ]
    },
    {
     "name": "stdout",
     "output_type": "stream",
     "text": [
      "第 1176 条数据用时: 95.61 秒\n",
      "第 1209 条数据用时: 95.85 秒\n"
     ]
    },
    {
     "name": "stderr",
     "output_type": "stream",
     "text": [
      "Processing data_objects:  60%|██████    | 122/203 [01:36<00:21,  3.74it/s]"
     ]
    },
    {
     "name": "stdout",
     "output_type": "stream",
     "text": [
      "第 1036 条数据用时: 95.94 秒\n",
      "第 1179 条数据用时: 96.00 秒\n"
     ]
    },
    {
     "name": "stderr",
     "output_type": "stream",
     "text": [
      "Processing data_objects:  61%|██████    | 124/203 [01:37<00:21,  3.71it/s]"
     ]
    },
    {
     "name": "stdout",
     "output_type": "stream",
     "text": [
      "第 1069 条数据用时: 96.66 秒\n"
     ]
    },
    {
     "name": "stderr",
     "output_type": "stream",
     "text": [
      "Processing data_objects:  62%|██████▏   | 126/203 [01:37<00:19,  3.88it/s]"
     ]
    },
    {
     "name": "stdout",
     "output_type": "stream",
     "text": [
      "第 1016 条数据用时: 96.90 秒\n",
      "第 1166 条数据用时: 96.99 秒\n"
     ]
    },
    {
     "name": "stderr",
     "output_type": "stream",
     "text": [
      "Processing data_objects:  63%|██████▎   | 127/203 [01:37<00:16,  4.53it/s]"
     ]
    },
    {
     "name": "stdout",
     "output_type": "stream",
     "text": [
      "第 1154 条数据用时: 97.29 秒\n"
     ]
    },
    {
     "name": "stderr",
     "output_type": "stream",
     "text": [
      "Processing data_objects:  63%|██████▎   | 128/203 [01:38<00:17,  4.30it/s]"
     ]
    },
    {
     "name": "stdout",
     "output_type": "stream",
     "text": [
      "第 1155 条数据用时: 97.51 秒\n"
     ]
    },
    {
     "name": "stderr",
     "output_type": "stream",
     "text": [
      "Processing data_objects:  64%|██████▎   | 129/203 [01:38<00:18,  3.91it/s]"
     ]
    },
    {
     "name": "stdout",
     "output_type": "stream",
     "text": [
      "第 1049 条数据用时: 97.74 秒\n",
      "第 1178 条数据用时: 97.76 秒\n"
     ]
    },
    {
     "name": "stderr",
     "output_type": "stream",
     "text": [
      "Processing data_objects:  65%|██████▍   | 131/203 [01:38<00:17,  4.06it/s]"
     ]
    },
    {
     "name": "stdout",
     "output_type": "stream",
     "text": [
      "第 1126 条数据用时: 98.63 秒\n"
     ]
    },
    {
     "name": "stderr",
     "output_type": "stream",
     "text": [
      "Processing data_objects:  65%|██████▌   | 132/203 [01:39<00:20,  3.49it/s]"
     ]
    },
    {
     "name": "stdout",
     "output_type": "stream",
     "text": [
      "第 1068 条数据用时: 98.78 秒\n"
     ]
    },
    {
     "name": "stderr",
     "output_type": "stream",
     "text": [
      "Processing data_objects:  66%|██████▌   | 133/203 [01:39<00:19,  3.58it/s]"
     ]
    },
    {
     "name": "stdout",
     "output_type": "stream",
     "text": [
      "第 1191 条数据用时: 98.87 秒\n"
     ]
    },
    {
     "name": "stderr",
     "output_type": "stream",
     "text": [
      "Processing data_objects:  66%|██████▌   | 134/203 [01:39<00:17,  3.84it/s]"
     ]
    },
    {
     "name": "stdout",
     "output_type": "stream",
     "text": [
      "第 1218 条数据用时: 99.26 秒\n"
     ]
    },
    {
     "name": "stderr",
     "output_type": "stream",
     "text": [
      "Processing data_objects:  67%|██████▋   | 137/203 [01:40<00:11,  5.60it/s]"
     ]
    },
    {
     "name": "stdout",
     "output_type": "stream",
     "text": [
      "第 1135 条数据用时: 99.44 秒\n",
      "第 1060 条数据用时: 99.62 秒\n",
      "第 1048 条数据用时: 99.67 秒\n"
     ]
    },
    {
     "name": "stderr",
     "output_type": "stream",
     "text": [
      "Processing data_objects:  68%|██████▊   | 139/203 [01:40<00:11,  5.68it/s]"
     ]
    },
    {
     "name": "stdout",
     "output_type": "stream",
     "text": [
      "第 1035 条数据用时: 100.29 秒\n",
      "第 1059 条数据用时: 100.14 秒\n",
      "第 1147 条数据用时: 99.87 秒\n"
     ]
    },
    {
     "name": "stderr",
     "output_type": "stream",
     "text": [
      "Processing data_objects:  70%|██████▉   | 142/203 [01:41<00:09,  6.19it/s]"
     ]
    },
    {
     "name": "stdout",
     "output_type": "stream",
     "text": [
      "第 1150 条数据用时: 100.06 秒\n",
      "第 1106 条数据用时: 100.60 秒\n"
     ]
    },
    {
     "name": "stderr",
     "output_type": "stream",
     "text": [
      "Processing data_objects:  70%|███████   | 143/203 [01:41<00:09,  6.51it/s]"
     ]
    },
    {
     "name": "stdout",
     "output_type": "stream",
     "text": [
      "第 1195 条数据用时: 100.63 秒\n"
     ]
    },
    {
     "name": "stderr",
     "output_type": "stream",
     "text": [
      "Processing data_objects:  71%|███████   | 144/203 [01:41<00:13,  4.36it/s]"
     ]
    },
    {
     "name": "stdout",
     "output_type": "stream",
     "text": [
      "第 1177 条数据用时: 100.86 秒\n"
     ]
    },
    {
     "name": "stderr",
     "output_type": "stream",
     "text": [
      "Processing data_objects:  72%|███████▏  | 147/203 [01:42<00:11,  5.02it/s]"
     ]
    },
    {
     "name": "stdout",
     "output_type": "stream",
     "text": [
      "第 1165 条数据用时: 101.21 秒\n",
      "第 1151 条数据用时: 101.31 秒\n",
      "第 1097 条数据用时: 101.60 秒\n"
     ]
    },
    {
     "name": "stderr",
     "output_type": "stream",
     "text": [
      "Processing data_objects:  73%|███████▎  | 149/203 [01:42<00:09,  5.91it/s]"
     ]
    },
    {
     "name": "stdout",
     "output_type": "stream",
     "text": [
      "第 1087 条数据用时: 102.25 秒\n",
      "第 1152 条数据用时: 101.71 秒\n"
     ]
    },
    {
     "name": "stderr",
     "output_type": "stream",
     "text": [
      "Processing data_objects:  74%|███████▍  | 150/203 [01:42<00:10,  5.16it/s]"
     ]
    },
    {
     "name": "stdout",
     "output_type": "stream",
     "text": [
      "第 1217 条数据用时: 102.16 秒\n"
     ]
    },
    {
     "name": "stderr",
     "output_type": "stream",
     "text": [
      "Processing data_objects:  74%|███████▍  | 151/203 [01:43<00:12,  4.24it/s]"
     ]
    },
    {
     "name": "stdout",
     "output_type": "stream",
     "text": [
      "第 1137 条数据用时: 102.36 秒\n",
      "第 1051 条数据用时: 102.37 秒\n",
      "第 1213 条数据用时: 102.53 秒\n"
     ]
    },
    {
     "name": "stderr",
     "output_type": "stream",
     "text": [
      "Processing data_objects:  77%|███████▋  | 156/203 [01:43<00:06,  7.17it/s]"
     ]
    },
    {
     "name": "stdout",
     "output_type": "stream",
     "text": [
      "第 1020 条数据用时: 102.62 秒\n",
      "第 1181 条数据用时: 103.22 秒\n",
      "第 1050 条数据用时: 102.84 秒\n",
      "第 1098 条数据用时: 103.04 秒\n"
     ]
    },
    {
     "name": "stderr",
     "output_type": "stream",
     "text": [
      "Processing data_objects:  79%|███████▉  | 160/203 [01:44<00:05,  7.47it/s]"
     ]
    },
    {
     "name": "stdout",
     "output_type": "stream",
     "text": [
      "第 1120 条数据用时: 103.22 秒\n",
      "第 1130 条数据用时: 103.69 秒\n",
      "第 1042 条数据用时: 103.60 秒\n",
      "第 1196 条数据用时: 103.73 秒\n",
      "第 1149 条数据用时: 103.44 秒\n"
     ]
    },
    {
     "name": "stderr",
     "output_type": "stream",
     "text": [
      "Processing data_objects:  80%|████████  | 163/203 [01:44<00:06,  6.27it/s]"
     ]
    },
    {
     "name": "stdout",
     "output_type": "stream",
     "text": [
      "第 1070 条数据用时: 104.15 秒\n",
      "第 1092 条数据用时: 104.15 秒\n"
     ]
    },
    {
     "name": "stderr",
     "output_type": "stream",
     "text": [
      "Processing data_objects:  82%|████████▏ | 166/203 [01:45<00:06,  6.08it/s]"
     ]
    },
    {
     "name": "stdout",
     "output_type": "stream",
     "text": [
      "第 1065 条数据用时: 104.58 秒\n",
      "第 1063 条数据用时: 104.75 秒\n"
     ]
    },
    {
     "name": "stderr",
     "output_type": "stream",
     "text": [
      "Processing data_objects:  83%|████████▎ | 168/203 [01:45<00:07,  4.46it/s]"
     ]
    },
    {
     "name": "stdout",
     "output_type": "stream",
     "text": [
      "第 1056 条数据用时: 105.08 秒\n",
      "第 1153 条数据用时: 105.35 秒\n"
     ]
    },
    {
     "name": "stderr",
     "output_type": "stream",
     "text": [
      "Processing data_objects:  83%|████████▎ | 169/203 [01:46<00:07,  4.67it/s]"
     ]
    },
    {
     "name": "stdout",
     "output_type": "stream",
     "text": [
      "第 1131 条数据用时: 105.83 秒\n"
     ]
    },
    {
     "name": "stderr",
     "output_type": "stream",
     "text": [
      "Processing data_objects:  84%|████████▎ | 170/203 [01:46<00:07,  4.30it/s]"
     ]
    },
    {
     "name": "stdout",
     "output_type": "stream",
     "text": [
      "第 1138 条数据用时: 106.43 秒\n"
     ]
    },
    {
     "name": "stderr",
     "output_type": "stream",
     "text": [
      "Processing data_objects:  84%|████████▍ | 171/203 [01:46<00:08,  3.64it/s]"
     ]
    },
    {
     "name": "stdout",
     "output_type": "stream",
     "text": [
      "第 1174 条数据用时: 106.19 秒\n"
     ]
    },
    {
     "name": "stderr",
     "output_type": "stream",
     "text": [
      "Processing data_objects:  86%|████████▌ | 174/203 [01:47<00:05,  4.84it/s]"
     ]
    },
    {
     "name": "stdout",
     "output_type": "stream",
     "text": [
      "第 1113 条数据用时: 106.45 秒\n",
      "第 1019 条数据用时: 106.47 秒\n",
      "第 1132 条数据用时: 106.81 秒\n"
     ]
    },
    {
     "name": "stderr",
     "output_type": "stream",
     "text": [
      "Processing data_objects:  86%|████████▌ | 175/203 [01:47<00:06,  4.35it/s]"
     ]
    },
    {
     "name": "stdout",
     "output_type": "stream",
     "text": [
      "第 1078 条数据用时: 107.12 秒\n"
     ]
    },
    {
     "name": "stderr",
     "output_type": "stream",
     "text": [
      "Processing data_objects:  87%|████████▋ | 176/203 [01:48<00:08,  3.17it/s]"
     ]
    },
    {
     "name": "stdout",
     "output_type": "stream",
     "text": [
      "第 1094 条数据用时: 107.64 秒\n"
     ]
    },
    {
     "name": "stderr",
     "output_type": "stream",
     "text": [
      "Processing data_objects:  88%|████████▊ | 179/203 [01:49<00:06,  3.75it/s]"
     ]
    },
    {
     "name": "stdout",
     "output_type": "stream",
     "text": [
      "第 1194 条数据用时: 108.11 秒\n",
      "第 1118 条数据用时: 108.17 秒\n",
      "第 1101 条数据用时: 108.42 秒\n"
     ]
    },
    {
     "name": "stderr",
     "output_type": "stream",
     "text": [
      "Processing data_objects:  89%|████████▉ | 181/203 [01:49<00:04,  4.82it/s]"
     ]
    },
    {
     "name": "stdout",
     "output_type": "stream",
     "text": [
      "第 1044 条数据用时: 108.46 秒\n",
      "第 1119 条数据用时: 108.50 秒\n"
     ]
    },
    {
     "name": "stderr",
     "output_type": "stream",
     "text": [
      "Processing data_objects:  90%|████████▉ | 182/203 [01:49<00:04,  4.58it/s]"
     ]
    },
    {
     "name": "stdout",
     "output_type": "stream",
     "text": [
      "第 1072 条数据用时: 108.88 秒\n",
      "第 1215 条数据用时: 108.98 秒\n"
     ]
    },
    {
     "name": "stderr",
     "output_type": "stream",
     "text": [
      "Processing data_objects:  91%|█████████ | 184/203 [01:49<00:03,  5.70it/s]"
     ]
    },
    {
     "name": "stdout",
     "output_type": "stream",
     "text": [
      "第 1104 条数据用时: 109.40 秒\n",
      "第 1093 条数据用时: 109.16 秒\n"
     ]
    },
    {
     "name": "stderr",
     "output_type": "stream",
     "text": [
      "Processing data_objects:  92%|█████████▏| 186/203 [01:50<00:02,  6.37it/s]"
     ]
    },
    {
     "name": "stdout",
     "output_type": "stream",
     "text": [
      "第 1046 条数据用时: 109.35 秒\n"
     ]
    },
    {
     "name": "stderr",
     "output_type": "stream",
     "text": [
      "Processing data_objects:  92%|█████████▏| 187/203 [01:50<00:04,  3.86it/s]"
     ]
    },
    {
     "name": "stdout",
     "output_type": "stream",
     "text": [
      "第 1161 条数据用时: 110.44 秒\n",
      "第 1173 条数据用时: 110.03 秒\n"
     ]
    },
    {
     "name": "stderr",
     "output_type": "stream",
     "text": [
      "Processing data_objects:  94%|█████████▍| 191/203 [01:51<00:02,  4.44it/s]"
     ]
    },
    {
     "name": "stdout",
     "output_type": "stream",
     "text": [
      "第 1045 条数据用时: 110.77 秒\n",
      "第 1103 条数据用时: 111.42 秒\n",
      "第 1043 条数据用时: 110.95 秒\n"
     ]
    },
    {
     "name": "stderr",
     "output_type": "stream",
     "text": [
      "Processing data_objects:  95%|█████████▍| 192/203 [01:51<00:02,  4.00it/s]"
     ]
    },
    {
     "name": "stdout",
     "output_type": "stream",
     "text": [
      "第 1214 条数据用时: 111.35 秒\n"
     ]
    },
    {
     "name": "stderr",
     "output_type": "stream",
     "text": [
      "Processing data_objects:  95%|█████████▌| 193/203 [01:52<00:02,  3.44it/s]"
     ]
    },
    {
     "name": "stdout",
     "output_type": "stream",
     "text": [
      "第 1095 条数据用时: 111.82 秒\n"
     ]
    },
    {
     "name": "stderr",
     "output_type": "stream",
     "text": [
      "Processing data_objects:  96%|█████████▌| 194/203 [01:53<00:04,  2.14it/s]"
     ]
    },
    {
     "name": "stdout",
     "output_type": "stream",
     "text": [
      "第 1112 条数据用时: 112.63 秒\n",
      "第 1216 条数据用时: 112.92 秒\n"
     ]
    },
    {
     "name": "stderr",
     "output_type": "stream",
     "text": [
      "Processing data_objects:  97%|█████████▋| 196/203 [01:53<00:02,  2.58it/s]"
     ]
    },
    {
     "name": "stdout",
     "output_type": "stream",
     "text": [
      "第 1075 条数据用时: 113.53 秒\n",
      "第 1047 条数据用时: 113.30 秒\n"
     ]
    },
    {
     "name": "stderr",
     "output_type": "stream",
     "text": [
      "Processing data_objects:  98%|█████████▊| 198/203 [01:56<00:03,  1.40it/s]"
     ]
    },
    {
     "name": "stdout",
     "output_type": "stream",
     "text": [
      "第 1100 条数据用时: 115.86 秒\n"
     ]
    },
    {
     "name": "stderr",
     "output_type": "stream",
     "text": [
      "Processing data_objects:  98%|█████████▊| 199/203 [02:00<00:05,  1.31s/it]"
     ]
    },
    {
     "name": "stdout",
     "output_type": "stream",
     "text": [
      "第 1018 条数据用时: 119.39 秒\n"
     ]
    },
    {
     "name": "stderr",
     "output_type": "stream",
     "text": [
      "Processing data_objects:  99%|█████████▊| 200/203 [02:01<00:03,  1.22s/it]"
     ]
    },
    {
     "name": "stdout",
     "output_type": "stream",
     "text": [
      "第 1128 条数据用时: 120.71 秒\n"
     ]
    },
    {
     "name": "stderr",
     "output_type": "stream",
     "text": [
      "Processing data_objects:  99%|█████████▉| 201/203 [02:01<00:02,  1.07s/it]"
     ]
    },
    {
     "name": "stdout",
     "output_type": "stream",
     "text": [
      "第 1108 条数据用时: 121.02 秒\n"
     ]
    },
    {
     "name": "stderr",
     "output_type": "stream",
     "text": [
      "Processing data_objects: 100%|█████████▉| 202/203 [02:04<00:01,  1.51s/it]"
     ]
    },
    {
     "name": "stdout",
     "output_type": "stream",
     "text": [
      "第 1189 条数据用时: 123.96 秒\n"
     ]
    },
    {
     "name": "stderr",
     "output_type": "stream",
     "text": [
      "Processing data_objects: 100%|██████████| 203/203 [02:19<00:00,  1.46it/s]\n"
     ]
    },
    {
     "name": "stdout",
     "output_type": "stream",
     "text": [
      "第 1102 条数据用时: 138.35 秒\n"
     ]
    },
    {
     "name": "stderr",
     "output_type": "stream",
     "text": [
      "Processing data_objects:   0%|          | 1/203 [00:29<1:39:46, 29.64s/it]"
     ]
    },
    {
     "name": "stdout",
     "output_type": "stream",
     "text": [
      "第 1383 条数据用时: 29.53 秒\n"
     ]
    },
    {
     "name": "stderr",
     "output_type": "stream",
     "text": [
      "Processing data_objects:   1%|          | 2/203 [00:29<41:21, 12.34s/it]  "
     ]
    },
    {
     "name": "stdout",
     "output_type": "stream",
     "text": [
      "第 1417 条数据用时: 29.54 秒\n"
     ]
    },
    {
     "name": "stderr",
     "output_type": "stream",
     "text": [
      "Processing data_objects:   1%|▏         | 3/203 [00:30<22:51,  6.86s/it]"
     ]
    },
    {
     "name": "stdout",
     "output_type": "stream",
     "text": [
      "第 1406 条数据用时: 29.78 秒\n"
     ]
    },
    {
     "name": "stderr",
     "output_type": "stream",
     "text": [
      "Processing data_objects:   2%|▏         | 4/203 [00:30<14:19,  4.32s/it]"
     ]
    },
    {
     "name": "stdout",
     "output_type": "stream",
     "text": [
      "第 1219 条数据用时: 30.31 秒\n"
     ]
    },
    {
     "name": "stderr",
     "output_type": "stream",
     "text": [
      "Processing data_objects:   2%|▏         | 5/203 [00:35<15:03,  4.56s/it]"
     ]
    },
    {
     "name": "stdout",
     "output_type": "stream",
     "text": [
      "第 1268 条数据用时: 35.43 秒\n"
     ]
    },
    {
     "name": "stderr",
     "output_type": "stream",
     "text": [
      "Processing data_objects:   3%|▎         | 6/203 [00:36<11:05,  3.38s/it]"
     ]
    },
    {
     "name": "stdout",
     "output_type": "stream",
     "text": [
      "第 1254 条数据用时: 36.61 秒\n"
     ]
    },
    {
     "name": "stderr",
     "output_type": "stream",
     "text": [
      "Processing data_objects:   3%|▎         | 7/203 [00:38<08:50,  2.71s/it]"
     ]
    },
    {
     "name": "stdout",
     "output_type": "stream",
     "text": [
      "第 1400 条数据用时: 37.76 秒\n"
     ]
    },
    {
     "name": "stderr",
     "output_type": "stream",
     "text": [
      "Processing data_objects:   4%|▍         | 8/203 [00:38<06:17,  1.94s/it]"
     ]
    },
    {
     "name": "stdout",
     "output_type": "stream",
     "text": [
      "第 1249 条数据用时: 38.30 秒\n"
     ]
    },
    {
     "name": "stderr",
     "output_type": "stream",
     "text": [
      "Processing data_objects:   4%|▍         | 9/203 [00:38<04:39,  1.44s/it]"
     ]
    },
    {
     "name": "stdout",
     "output_type": "stream",
     "text": [
      "第 1269 条数据用时: 38.46 秒\n"
     ]
    },
    {
     "name": "stderr",
     "output_type": "stream",
     "text": [
      "Processing data_objects:   5%|▍         | 10/203 [00:39<04:03,  1.26s/it]"
     ]
    },
    {
     "name": "stdout",
     "output_type": "stream",
     "text": [
      "第 1258 条数据用时: 39.17 秒\n"
     ]
    },
    {
     "name": "stderr",
     "output_type": "stream",
     "text": [
      "Processing data_objects:   5%|▌         | 11/203 [00:40<03:16,  1.02s/it]"
     ]
    },
    {
     "name": "stdout",
     "output_type": "stream",
     "text": [
      "第 1368 条数据用时: 39.95 秒\n"
     ]
    },
    {
     "name": "stderr",
     "output_type": "stream",
     "text": [
      "Processing data_objects:   6%|▌         | 12/203 [00:40<02:44,  1.16it/s]"
     ]
    },
    {
     "name": "stdout",
     "output_type": "stream",
     "text": [
      "第 1382 条数据用时: 40.41 秒\n"
     ]
    },
    {
     "name": "stderr",
     "output_type": "stream",
     "text": [
      "Processing data_objects:   6%|▋         | 13/203 [00:40<02:22,  1.33it/s]"
     ]
    },
    {
     "name": "stdout",
     "output_type": "stream",
     "text": [
      "第 1367 条数据用时: 40.95 秒\n"
     ]
    },
    {
     "name": "stderr",
     "output_type": "stream",
     "text": [
      "Processing data_objects:   7%|▋         | 14/203 [00:41<01:59,  1.59it/s]"
     ]
    },
    {
     "name": "stdout",
     "output_type": "stream",
     "text": [
      "第 1409 条数据用时: 40.88 秒\n"
     ]
    },
    {
     "name": "stderr",
     "output_type": "stream",
     "text": [
      "Processing data_objects:   7%|▋         | 15/203 [00:41<01:53,  1.66it/s]"
     ]
    },
    {
     "name": "stdout",
     "output_type": "stream",
     "text": [
      "第 1263 条数据用时: 41.76 秒\n"
     ]
    },
    {
     "name": "stderr",
     "output_type": "stream",
     "text": [
      "Processing data_objects:   8%|▊         | 16/203 [00:43<02:48,  1.11it/s]"
     ]
    },
    {
     "name": "stdout",
     "output_type": "stream",
     "text": [
      "第 1252 条数据用时: 43.42 秒\n"
     ]
    },
    {
     "name": "stderr",
     "output_type": "stream",
     "text": [
      "Processing data_objects:   8%|▊         | 17/203 [00:44<02:30,  1.23it/s]"
     ]
    },
    {
     "name": "stdout",
     "output_type": "stream",
     "text": [
      "第 1369 条数据用时: 44.01 秒\n"
     ]
    },
    {
     "name": "stderr",
     "output_type": "stream",
     "text": [
      "Processing data_objects:   9%|▉         | 18/203 [00:44<02:26,  1.26it/s]"
     ]
    },
    {
     "name": "stdout",
     "output_type": "stream",
     "text": [
      "第 1398 条数据用时: 44.62 秒\n"
     ]
    },
    {
     "name": "stderr",
     "output_type": "stream",
     "text": [
      "Processing data_objects:   9%|▉         | 19/203 [00:45<02:01,  1.52it/s]"
     ]
    },
    {
     "name": "stdout",
     "output_type": "stream",
     "text": [
      "第 1265 条数据用时: 45.03 秒\n"
     ]
    },
    {
     "name": "stderr",
     "output_type": "stream",
     "text": [
      "Processing data_objects:  10%|▉         | 20/203 [00:45<01:44,  1.74it/s]"
     ]
    },
    {
     "name": "stdout",
     "output_type": "stream",
     "text": [
      "第 1264 条数据用时: 45.42 秒\n"
     ]
    },
    {
     "name": "stderr",
     "output_type": "stream",
     "text": [
      "Processing data_objects:  10%|█         | 21/203 [00:46<02:14,  1.36it/s]"
     ]
    },
    {
     "name": "stdout",
     "output_type": "stream",
     "text": [
      "第 1266 条数据用时: 46.51 秒\n"
     ]
    },
    {
     "name": "stderr",
     "output_type": "stream",
     "text": [
      "Processing data_objects:  11%|█         | 22/203 [00:46<01:47,  1.69it/s]"
     ]
    },
    {
     "name": "stdout",
     "output_type": "stream",
     "text": [
      "第 1394 条数据用时: 46.67 秒\n"
     ]
    },
    {
     "name": "stderr",
     "output_type": "stream",
     "text": [
      "Processing data_objects:  11%|█▏        | 23/203 [00:47<01:38,  1.83it/s]"
     ]
    },
    {
     "name": "stdout",
     "output_type": "stream",
     "text": [
      "第 1375 条数据用时: 47.21 秒\n"
     ]
    },
    {
     "name": "stderr",
     "output_type": "stream",
     "text": [
      "Processing data_objects:  12%|█▏        | 24/203 [00:48<01:52,  1.59it/s]"
     ]
    },
    {
     "name": "stdout",
     "output_type": "stream",
     "text": [
      "第 1281 条数据用时: 47.75 秒\n"
     ]
    },
    {
     "name": "stderr",
     "output_type": "stream",
     "text": [
      "Processing data_objects:  12%|█▏        | 25/203 [00:48<01:37,  1.83it/s]"
     ]
    },
    {
     "name": "stdout",
     "output_type": "stream",
     "text": [
      "第 1272 条数据用时: 48.26 秒\n"
     ]
    },
    {
     "name": "stderr",
     "output_type": "stream",
     "text": [
      "Processing data_objects:  13%|█▎        | 26/203 [00:49<01:47,  1.65it/s]"
     ]
    },
    {
     "name": "stdout",
     "output_type": "stream",
     "text": [
      "第 1390 条数据用时: 49.10 秒\n"
     ]
    },
    {
     "name": "stderr",
     "output_type": "stream",
     "text": [
      "Processing data_objects:  13%|█▎        | 27/203 [00:50<01:52,  1.56it/s]"
     ]
    },
    {
     "name": "stdout",
     "output_type": "stream",
     "text": [
      "第 1388 条数据用时: 49.84 秒\n"
     ]
    },
    {
     "name": "stderr",
     "output_type": "stream",
     "text": [
      "Processing data_objects:  14%|█▍        | 28/203 [00:50<01:42,  1.71it/s]"
     ]
    },
    {
     "name": "stdout",
     "output_type": "stream",
     "text": [
      "第 1222 条数据用时: 50.30 秒\n",
      "第 1408 条数据用时: 50.01 秒\n"
     ]
    },
    {
     "name": "stderr",
     "output_type": "stream",
     "text": [
      "Processing data_objects:  15%|█▍        | 30/203 [00:51<01:51,  1.54it/s]"
     ]
    },
    {
     "name": "stdout",
     "output_type": "stream",
     "text": [
      "第 1270 条数据用时: 51.68 秒\n"
     ]
    },
    {
     "name": "stderr",
     "output_type": "stream",
     "text": [
      "Processing data_objects:  15%|█▌        | 31/203 [00:52<01:45,  1.63it/s]"
     ]
    },
    {
     "name": "stdout",
     "output_type": "stream",
     "text": [
      "第 1250 条数据用时: 52.39 秒\n"
     ]
    },
    {
     "name": "stderr",
     "output_type": "stream",
     "text": [
      "Processing data_objects:  16%|█▋        | 33/203 [00:53<01:20,  2.12it/s]"
     ]
    },
    {
     "name": "stdout",
     "output_type": "stream",
     "text": [
      "第 1267 条数据用时: 52.79 秒\n",
      "第 1401 条数据用时: 52.82 秒\n"
     ]
    },
    {
     "name": "stderr",
     "output_type": "stream",
     "text": [
      "Processing data_objects:  17%|█▋        | 34/203 [00:53<01:28,  1.91it/s]"
     ]
    },
    {
     "name": "stdout",
     "output_type": "stream",
     "text": [
      "第 1225 条数据用时: 53.53 秒\n",
      "第 1372 条数据用时: 53.65 秒\n"
     ]
    },
    {
     "name": "stderr",
     "output_type": "stream",
     "text": [
      "Processing data_objects:  18%|█▊        | 36/203 [00:54<01:16,  2.17it/s]"
     ]
    },
    {
     "name": "stdout",
     "output_type": "stream",
     "text": [
      "第 1366 条数据用时: 54.50 秒\n"
     ]
    },
    {
     "name": "stderr",
     "output_type": "stream",
     "text": [
      "Processing data_objects:  18%|█▊        | 37/203 [00:54<01:12,  2.30it/s]"
     ]
    },
    {
     "name": "stdout",
     "output_type": "stream",
     "text": [
      "第 1381 条数据用时: 54.80 秒\n"
     ]
    },
    {
     "name": "stderr",
     "output_type": "stream",
     "text": [
      "Processing data_objects:  19%|█▊        | 38/203 [00:55<01:19,  2.07it/s]"
     ]
    },
    {
     "name": "stdout",
     "output_type": "stream",
     "text": [
      "第 1260 条数据用时: 55.25 秒\n"
     ]
    },
    {
     "name": "stderr",
     "output_type": "stream",
     "text": [
      "Processing data_objects:  19%|█▉        | 39/203 [00:55<01:14,  2.19it/s]"
     ]
    },
    {
     "name": "stdout",
     "output_type": "stream",
     "text": [
      "第 1248 条数据用时: 55.88 秒\n"
     ]
    },
    {
     "name": "stderr",
     "output_type": "stream",
     "text": [
      "Processing data_objects:  20%|█▉        | 40/203 [00:56<01:19,  2.05it/s]"
     ]
    },
    {
     "name": "stdout",
     "output_type": "stream",
     "text": [
      "第 1228 条数据用时: 56.16 秒\n"
     ]
    },
    {
     "name": "stderr",
     "output_type": "stream",
     "text": [
      "Processing data_objects:  20%|██        | 41/203 [00:56<01:20,  2.02it/s]"
     ]
    },
    {
     "name": "stdout",
     "output_type": "stream",
     "text": [
      "第 1262 条数据用时: 56.85 秒\n"
     ]
    },
    {
     "name": "stderr",
     "output_type": "stream",
     "text": [
      "Processing data_objects:  21%|██        | 42/203 [00:57<01:14,  2.17it/s]"
     ]
    },
    {
     "name": "stdout",
     "output_type": "stream",
     "text": [
      "第 1229 条数据用时: 57.04 秒\n"
     ]
    },
    {
     "name": "stderr",
     "output_type": "stream",
     "text": [
      "Processing data_objects:  21%|██        | 43/203 [00:57<01:15,  2.12it/s]"
     ]
    },
    {
     "name": "stdout",
     "output_type": "stream",
     "text": [
      "第 1233 条数据用时: 57.41 秒\n"
     ]
    },
    {
     "name": "stderr",
     "output_type": "stream",
     "text": [
      "Processing data_objects:  22%|██▏       | 44/203 [00:58<01:15,  2.09it/s]"
     ]
    },
    {
     "name": "stdout",
     "output_type": "stream",
     "text": [
      "第 1415 条数据用时: 58.03 秒\n"
     ]
    },
    {
     "name": "stderr",
     "output_type": "stream",
     "text": [
      "Processing data_objects:  22%|██▏       | 45/203 [00:58<01:23,  1.90it/s]"
     ]
    },
    {
     "name": "stdout",
     "output_type": "stream",
     "text": [
      "第 1273 条数据用时: 58.68 秒\n",
      "第 1224 条数据用时: 58.76 秒\n",
      "第 1251 条数据用时: 58.93 秒\n"
     ]
    },
    {
     "name": "stderr",
     "output_type": "stream",
     "text": [
      "Processing data_objects:  24%|██▎       | 48/203 [01:00<01:13,  2.11it/s]"
     ]
    },
    {
     "name": "stdout",
     "output_type": "stream",
     "text": [
      "第 1274 条数据用时: 59.96 秒\n"
     ]
    },
    {
     "name": "stderr",
     "output_type": "stream",
     "text": [
      "Processing data_objects:  24%|██▍       | 49/203 [01:00<01:08,  2.24it/s]"
     ]
    },
    {
     "name": "stdout",
     "output_type": "stream",
     "text": [
      "第 1282 条数据用时: 60.17 秒\n"
     ]
    },
    {
     "name": "stderr",
     "output_type": "stream",
     "text": [
      "Processing data_objects:  25%|██▍       | 50/203 [01:01<01:09,  2.20it/s]"
     ]
    },
    {
     "name": "stdout",
     "output_type": "stream",
     "text": [
      "第 1253 条数据用时: 61.02 秒\n",
      "第 1399 条数据用时: 60.87 秒\n"
     ]
    },
    {
     "name": "stderr",
     "output_type": "stream",
     "text": [
      "Processing data_objects:  26%|██▌       | 52/203 [01:01<01:08,  2.21it/s]"
     ]
    },
    {
     "name": "stdout",
     "output_type": "stream",
     "text": [
      "第 1391 条数据用时: 61.79 秒\n"
     ]
    },
    {
     "name": "stderr",
     "output_type": "stream",
     "text": [
      "Processing data_objects:  27%|██▋       | 54/203 [01:02<01:05,  2.27it/s]"
     ]
    },
    {
     "name": "stdout",
     "output_type": "stream",
     "text": [
      "第 1271 条数据用时: 62.57 秒\n",
      "第 1403 条数据用时: 62.65 秒\n"
     ]
    },
    {
     "name": "stderr",
     "output_type": "stream",
     "text": [
      "Processing data_objects:  27%|██▋       | 55/203 [01:04<01:32,  1.60it/s]"
     ]
    },
    {
     "name": "stdout",
     "output_type": "stream",
     "text": [
      "第 1255 条数据用时: 64.01 秒\n"
     ]
    },
    {
     "name": "stderr",
     "output_type": "stream",
     "text": [
      "Processing data_objects:  28%|██▊       | 56/203 [01:04<01:32,  1.58it/s]"
     ]
    },
    {
     "name": "stdout",
     "output_type": "stream",
     "text": [
      "第 1414 条数据用时: 64.49 秒\n"
     ]
    },
    {
     "name": "stderr",
     "output_type": "stream",
     "text": [
      "Processing data_objects:  28%|██▊       | 57/203 [01:05<01:25,  1.71it/s]"
     ]
    },
    {
     "name": "stdout",
     "output_type": "stream",
     "text": [
      "第 1384 条数据用时: 65.11 秒\n"
     ]
    },
    {
     "name": "stderr",
     "output_type": "stream",
     "text": [
      "Processing data_objects:  29%|██▊       | 58/203 [01:05<01:20,  1.79it/s]"
     ]
    },
    {
     "name": "stdout",
     "output_type": "stream",
     "text": [
      "第 1420 条数据用时: 65.26 秒\n"
     ]
    },
    {
     "name": "stderr",
     "output_type": "stream",
     "text": [
      "Processing data_objects:  29%|██▉       | 59/203 [01:06<01:11,  2.00it/s]"
     ]
    },
    {
     "name": "stdout",
     "output_type": "stream",
     "text": [
      "第 1235 条数据用时: 65.61 秒\n"
     ]
    },
    {
     "name": "stderr",
     "output_type": "stream",
     "text": [
      "Processing data_objects:  30%|██▉       | 60/203 [01:06<01:12,  1.97it/s]"
     ]
    },
    {
     "name": "stdout",
     "output_type": "stream",
     "text": [
      "第 1240 条数据用时: 66.54 秒\n"
     ]
    },
    {
     "name": "stderr",
     "output_type": "stream",
     "text": [
      "Processing data_objects:  30%|███       | 61/203 [01:07<01:17,  1.83it/s]"
     ]
    },
    {
     "name": "stdout",
     "output_type": "stream",
     "text": [
      "第 1379 条数据用时: 67.21 秒\n"
     ]
    },
    {
     "name": "stderr",
     "output_type": "stream",
     "text": [
      "Processing data_objects:  31%|███       | 62/203 [01:07<01:10,  2.00it/s]"
     ]
    },
    {
     "name": "stdout",
     "output_type": "stream",
     "text": [
      "第 1397 条数据用时: 67.43 秒\n"
     ]
    },
    {
     "name": "stderr",
     "output_type": "stream",
     "text": [
      "Processing data_objects:  31%|███       | 63/203 [01:08<01:40,  1.40it/s]"
     ]
    },
    {
     "name": "stdout",
     "output_type": "stream",
     "text": [
      "第 1377 条数据用时: 68.60 秒\n",
      "第 1385 条数据用时: 68.74 秒\n",
      "第 1220 条数据用时: 68.72 秒\n"
     ]
    },
    {
     "name": "stderr",
     "output_type": "stream",
     "text": [
      "Processing data_objects:  33%|███▎      | 66/203 [01:09<01:09,  1.97it/s]"
     ]
    },
    {
     "name": "stdout",
     "output_type": "stream",
     "text": [
      "第 1230 条数据用时: 69.57 秒\n"
     ]
    },
    {
     "name": "stderr",
     "output_type": "stream",
     "text": [
      "Processing data_objects:  33%|███▎      | 67/203 [01:10<01:18,  1.74it/s]"
     ]
    },
    {
     "name": "stdout",
     "output_type": "stream",
     "text": [
      "第 1373 条数据用时: 70.59 秒\n"
     ]
    },
    {
     "name": "stderr",
     "output_type": "stream",
     "text": [
      "Processing data_objects:  33%|███▎      | 68/203 [01:11<01:11,  1.89it/s]"
     ]
    },
    {
     "name": "stdout",
     "output_type": "stream",
     "text": [
      "第 1276 条数据用时: 71.09 秒\n"
     ]
    },
    {
     "name": "stderr",
     "output_type": "stream",
     "text": [
      "Processing data_objects:  34%|███▍      | 69/203 [01:11<01:16,  1.75it/s]"
     ]
    },
    {
     "name": "stdout",
     "output_type": "stream",
     "text": [
      "第 1261 条数据用时: 71.71 秒\n"
     ]
    },
    {
     "name": "stderr",
     "output_type": "stream",
     "text": [
      "Processing data_objects:  34%|███▍      | 70/203 [01:12<01:13,  1.81it/s]"
     ]
    },
    {
     "name": "stdout",
     "output_type": "stream",
     "text": [
      "第 1374 条数据用时: 72.15 秒\n"
     ]
    },
    {
     "name": "stderr",
     "output_type": "stream",
     "text": [
      "Processing data_objects:  35%|███▍      | 71/203 [01:12<01:06,  1.98it/s]"
     ]
    },
    {
     "name": "stdout",
     "output_type": "stream",
     "text": [
      "第 1275 条数据用时: 72.25 秒\n"
     ]
    },
    {
     "name": "stderr",
     "output_type": "stream",
     "text": [
      "Processing data_objects:  36%|███▌      | 73/203 [01:13<01:05,  1.98it/s]"
     ]
    },
    {
     "name": "stdout",
     "output_type": "stream",
     "text": [
      "第 1392 条数据用时: 73.45 秒\n",
      "第 1370 条数据用时: 73.75 秒\n"
     ]
    },
    {
     "name": "stderr",
     "output_type": "stream",
     "text": [
      "Processing data_objects:  36%|███▋      | 74/203 [01:14<01:25,  1.50it/s]"
     ]
    },
    {
     "name": "stdout",
     "output_type": "stream",
     "text": [
      "第 1402 条数据用时: 74.59 秒\n"
     ]
    },
    {
     "name": "stderr",
     "output_type": "stream",
     "text": [
      "Processing data_objects:  37%|███▋      | 75/203 [01:15<01:13,  1.75it/s]"
     ]
    },
    {
     "name": "stdout",
     "output_type": "stream",
     "text": [
      "第 1421 条数据用时: 74.76 秒\n"
     ]
    },
    {
     "name": "stderr",
     "output_type": "stream",
     "text": [
      "Processing data_objects:  37%|███▋      | 76/203 [01:16<01:23,  1.53it/s]"
     ]
    },
    {
     "name": "stdout",
     "output_type": "stream",
     "text": [
      "第 1411 条数据用时: 75.60 秒\n"
     ]
    },
    {
     "name": "stderr",
     "output_type": "stream",
     "text": [
      "Processing data_objects:  38%|███▊      | 77/203 [01:17<01:35,  1.31it/s]"
     ]
    },
    {
     "name": "stdout",
     "output_type": "stream",
     "text": [
      "第 1395 条数据用时: 76.93 秒\n"
     ]
    },
    {
     "name": "stderr",
     "output_type": "stream",
     "text": [
      "Processing data_objects:  38%|███▊      | 78/203 [01:17<01:21,  1.54it/s]"
     ]
    },
    {
     "name": "stdout",
     "output_type": "stream",
     "text": [
      "第 1419 条数据用时: 77.05 秒\n"
     ]
    },
    {
     "name": "stderr",
     "output_type": "stream",
     "text": [
      "Processing data_objects:  39%|███▉      | 79/203 [01:17<01:14,  1.65it/s]"
     ]
    },
    {
     "name": "stdout",
     "output_type": "stream",
     "text": [
      "第 1389 条数据用时: 77.81 秒\n"
     ]
    },
    {
     "name": "stderr",
     "output_type": "stream",
     "text": [
      "Processing data_objects:  39%|███▉      | 80/203 [01:18<01:08,  1.81it/s]"
     ]
    },
    {
     "name": "stdout",
     "output_type": "stream",
     "text": [
      "第 1257 条数据用时: 78.40 秒\n"
     ]
    },
    {
     "name": "stderr",
     "output_type": "stream",
     "text": [
      "Processing data_objects:  40%|███▉      | 81/203 [01:19<01:18,  1.56it/s]"
     ]
    },
    {
     "name": "stdout",
     "output_type": "stream",
     "text": [
      "第 1365 条数据用时: 79.26 秒\n"
     ]
    },
    {
     "name": "stderr",
     "output_type": "stream",
     "text": [
      "Processing data_objects:  40%|████      | 82/203 [01:19<01:10,  1.72it/s]"
     ]
    },
    {
     "name": "stdout",
     "output_type": "stream",
     "text": [
      "第 1277 条数据用时: 78.88 秒\n"
     ]
    },
    {
     "name": "stderr",
     "output_type": "stream",
     "text": [
      "Processing data_objects:  41%|████      | 83/203 [01:20<01:01,  1.95it/s]"
     ]
    },
    {
     "name": "stdout",
     "output_type": "stream",
     "text": [
      "第 1226 条数据用时: 79.82 秒\n"
     ]
    },
    {
     "name": "stderr",
     "output_type": "stream",
     "text": [
      "Processing data_objects:  41%|████▏     | 84/203 [01:20<01:05,  1.82it/s]"
     ]
    },
    {
     "name": "stdout",
     "output_type": "stream",
     "text": [
      "第 1236 条数据用时: 80.22 秒\n",
      "第 1378 条数据用时: 80.68 秒\n"
     ]
    },
    {
     "name": "stderr",
     "output_type": "stream",
     "text": [
      "Processing data_objects:  42%|████▏     | 86/203 [01:21<00:51,  2.28it/s]"
     ]
    },
    {
     "name": "stdout",
     "output_type": "stream",
     "text": [
      "第 1315 条数据用时: 80.82 秒\n"
     ]
    },
    {
     "name": "stderr",
     "output_type": "stream",
     "text": [
      "Processing data_objects:  43%|████▎     | 87/203 [01:22<00:59,  1.96it/s]"
     ]
    },
    {
     "name": "stdout",
     "output_type": "stream",
     "text": [
      "第 1404 条数据用时: 81.71 秒\n"
     ]
    },
    {
     "name": "stderr",
     "output_type": "stream",
     "text": [
      "Processing data_objects:  43%|████▎     | 88/203 [01:22<00:55,  2.08it/s]"
     ]
    },
    {
     "name": "stdout",
     "output_type": "stream",
     "text": [
      "第 1416 条数据用时: 82.13 秒\n"
     ]
    },
    {
     "name": "stderr",
     "output_type": "stream",
     "text": [
      "Processing data_objects:  44%|████▍     | 89/203 [01:22<00:52,  2.18it/s]"
     ]
    },
    {
     "name": "stdout",
     "output_type": "stream",
     "text": [
      "第 1321 条数据用时: 82.29 秒\n"
     ]
    },
    {
     "name": "stderr",
     "output_type": "stream",
     "text": [
      "Processing data_objects:  44%|████▍     | 90/203 [01:23<00:51,  2.18it/s]"
     ]
    },
    {
     "name": "stdout",
     "output_type": "stream",
     "text": [
      "第 1234 条数据用时: 82.86 秒\n"
     ]
    },
    {
     "name": "stderr",
     "output_type": "stream",
     "text": [
      "Processing data_objects:  45%|████▍     | 91/203 [01:23<00:52,  2.14it/s]"
     ]
    },
    {
     "name": "stdout",
     "output_type": "stream",
     "text": [
      "第 1387 条数据用时: 83.64 秒\n"
     ]
    },
    {
     "name": "stderr",
     "output_type": "stream",
     "text": [
      "Processing data_objects:  45%|████▌     | 92/203 [01:24<00:54,  2.04it/s]"
     ]
    },
    {
     "name": "stdout",
     "output_type": "stream",
     "text": [
      "第 1290 条数据用时: 83.79 秒\n"
     ]
    },
    {
     "name": "stderr",
     "output_type": "stream",
     "text": [
      "Processing data_objects:  46%|████▌     | 93/203 [01:24<00:50,  2.18it/s]"
     ]
    },
    {
     "name": "stdout",
     "output_type": "stream",
     "text": [
      "第 1232 条数据用时: 84.30 秒\n"
     ]
    },
    {
     "name": "stderr",
     "output_type": "stream",
     "text": [
      "Processing data_objects:  46%|████▋     | 94/203 [01:25<00:46,  2.35it/s]"
     ]
    },
    {
     "name": "stdout",
     "output_type": "stream",
     "text": [
      "第 1405 条数据用时: 84.72 秒\n"
     ]
    },
    {
     "name": "stderr",
     "output_type": "stream",
     "text": [
      "Processing data_objects:  47%|████▋     | 95/203 [01:25<00:48,  2.21it/s]"
     ]
    },
    {
     "name": "stdout",
     "output_type": "stream",
     "text": [
      "第 1247 条数据用时: 84.70 秒\n"
     ]
    },
    {
     "name": "stderr",
     "output_type": "stream",
     "text": [
      "Processing data_objects:  47%|████▋     | 96/203 [01:26<00:58,  1.82it/s]"
     ]
    },
    {
     "name": "stdout",
     "output_type": "stream",
     "text": [
      "第 1326 条数据用时: 85.77 秒\n"
     ]
    },
    {
     "name": "stderr",
     "output_type": "stream",
     "text": [
      "Processing data_objects:  48%|████▊     | 97/203 [01:26<00:51,  2.04it/s]"
     ]
    },
    {
     "name": "stdout",
     "output_type": "stream",
     "text": [
      "第 1324 条数据用时: 86.14 秒\n"
     ]
    },
    {
     "name": "stderr",
     "output_type": "stream",
     "text": [
      "Processing data_objects:  48%|████▊     | 98/203 [01:27<00:59,  1.77it/s]"
     ]
    },
    {
     "name": "stdout",
     "output_type": "stream",
     "text": [
      "第 1386 条数据用时: 87.31 秒\n"
     ]
    },
    {
     "name": "stderr",
     "output_type": "stream",
     "text": [
      "Processing data_objects:  49%|████▉     | 99/203 [01:28<01:09,  1.50it/s]"
     ]
    },
    {
     "name": "stdout",
     "output_type": "stream",
     "text": [
      "第 1293 条数据用时: 87.79 秒\n"
     ]
    },
    {
     "name": "stderr",
     "output_type": "stream",
     "text": [
      "Processing data_objects:  49%|████▉     | 100/203 [01:28<00:58,  1.75it/s]"
     ]
    },
    {
     "name": "stdout",
     "output_type": "stream",
     "text": [
      "第 1259 条数据用时: 88.67 秒\n"
     ]
    },
    {
     "name": "stderr",
     "output_type": "stream",
     "text": [
      "Processing data_objects:  50%|█████     | 102/203 [01:29<00:51,  1.95it/s]"
     ]
    },
    {
     "name": "stdout",
     "output_type": "stream",
     "text": [
      "第 1288 条数据用时: 89.02 秒\n",
      "第 1227 条数据用时: 89.46 秒\n"
     ]
    },
    {
     "name": "stderr",
     "output_type": "stream",
     "text": [
      "Processing data_objects:  51%|█████     | 103/203 [01:30<00:59,  1.68it/s]"
     ]
    },
    {
     "name": "stdout",
     "output_type": "stream",
     "text": [
      "第 1333 条数据用时: 89.75 秒\n"
     ]
    },
    {
     "name": "stderr",
     "output_type": "stream",
     "text": [
      "Processing data_objects:  51%|█████     | 104/203 [01:30<00:51,  1.91it/s]"
     ]
    },
    {
     "name": "stdout",
     "output_type": "stream",
     "text": [
      "第 1343 条数据用时: 90.20 秒\n"
     ]
    },
    {
     "name": "stderr",
     "output_type": "stream",
     "text": [
      "Processing data_objects:  52%|█████▏    | 105/203 [01:31<00:51,  1.90it/s]"
     ]
    },
    {
     "name": "stdout",
     "output_type": "stream",
     "text": [
      "第 1318 条数据用时: 90.89 秒\n"
     ]
    },
    {
     "name": "stderr",
     "output_type": "stream",
     "text": [
      "Processing data_objects:  52%|█████▏    | 106/203 [01:31<00:45,  2.11it/s]"
     ]
    },
    {
     "name": "stdout",
     "output_type": "stream",
     "text": [
      "第 1295 条数据用时: 91.18 秒\n"
     ]
    },
    {
     "name": "stderr",
     "output_type": "stream",
     "text": [
      "Processing data_objects:  53%|█████▎    | 107/203 [01:32<00:52,  1.82it/s]"
     ]
    },
    {
     "name": "stdout",
     "output_type": "stream",
     "text": [
      "第 1319 条数据用时: 91.96 秒\n"
     ]
    },
    {
     "name": "stderr",
     "output_type": "stream",
     "text": [
      "Processing data_objects:  53%|█████▎    | 108/203 [01:33<00:52,  1.82it/s]"
     ]
    },
    {
     "name": "stdout",
     "output_type": "stream",
     "text": [
      "第 1413 条数据用时: 92.52 秒\n"
     ]
    },
    {
     "name": "stderr",
     "output_type": "stream",
     "text": [
      "Processing data_objects:  54%|█████▎    | 109/203 [01:33<00:48,  1.93it/s]"
     ]
    },
    {
     "name": "stdout",
     "output_type": "stream",
     "text": [
      "第 1231 条数据用时: 93.14 秒\n"
     ]
    },
    {
     "name": "stderr",
     "output_type": "stream",
     "text": [
      "Processing data_objects:  54%|█████▍    | 110/203 [01:33<00:44,  2.09it/s]"
     ]
    },
    {
     "name": "stdout",
     "output_type": "stream",
     "text": [
      "第 1256 条数据用时: 93.82 秒\n"
     ]
    },
    {
     "name": "stderr",
     "output_type": "stream",
     "text": [
      "Processing data_objects:  55%|█████▍    | 111/203 [01:34<00:41,  2.22it/s]"
     ]
    },
    {
     "name": "stdout",
     "output_type": "stream",
     "text": [
      "第 1304 条数据用时: 93.60 秒\n"
     ]
    },
    {
     "name": "stderr",
     "output_type": "stream",
     "text": [
      "Processing data_objects:  55%|█████▌    | 112/203 [01:34<00:42,  2.15it/s]"
     ]
    },
    {
     "name": "stdout",
     "output_type": "stream",
     "text": [
      "第 1380 条数据用时: 94.71 秒\n"
     ]
    },
    {
     "name": "stderr",
     "output_type": "stream",
     "text": [
      "Processing data_objects:  56%|█████▌    | 113/203 [01:35<00:48,  1.87it/s]"
     ]
    },
    {
     "name": "stdout",
     "output_type": "stream",
     "text": [
      "第 1309 条数据用时: 94.77 秒\n"
     ]
    },
    {
     "name": "stderr",
     "output_type": "stream",
     "text": [
      "Processing data_objects:  56%|█████▌    | 114/203 [01:36<00:49,  1.78it/s]"
     ]
    },
    {
     "name": "stdout",
     "output_type": "stream",
     "text": [
      "第 1287 条数据用时: 95.55 秒\n"
     ]
    },
    {
     "name": "stderr",
     "output_type": "stream",
     "text": [
      "Processing data_objects:  57%|█████▋    | 115/203 [01:36<00:39,  2.20it/s]"
     ]
    },
    {
     "name": "stdout",
     "output_type": "stream",
     "text": [
      "第 1316 条数据用时: 95.80 秒\n"
     ]
    },
    {
     "name": "stderr",
     "output_type": "stream",
     "text": [
      "Processing data_objects:  59%|█████▊    | 119/203 [01:36<00:19,  4.35it/s]"
     ]
    },
    {
     "name": "stdout",
     "output_type": "stream",
     "text": [
      "第 1289 条数据用时: 96.19 秒\n",
      "第 1329 条数据用时: 96.06 秒\n",
      "第 1412 条数据用时: 96.29 秒\n",
      "第 1353 条数据用时: 96.16 秒\n"
     ]
    },
    {
     "name": "stderr",
     "output_type": "stream",
     "text": [
      "Processing data_objects:  60%|██████    | 122/203 [01:37<00:15,  5.10it/s]"
     ]
    },
    {
     "name": "stdout",
     "output_type": "stream",
     "text": [
      "第 1296 条数据用时: 96.71 秒\n",
      "第 1330 条数据用时: 96.61 秒\n",
      "第 1396 条数据用时: 97.27 秒\n",
      "第 1237 条数据用时: 96.76 秒\n"
     ]
    },
    {
     "name": "stderr",
     "output_type": "stream",
     "text": [
      "Processing data_objects:  61%|██████    | 124/203 [01:37<00:12,  6.18it/s]"
     ]
    },
    {
     "name": "stdout",
     "output_type": "stream",
     "text": [
      "第 1338 条数据用时: 97.03 秒\n"
     ]
    },
    {
     "name": "stderr",
     "output_type": "stream",
     "text": [
      "Processing data_objects:  62%|██████▏   | 126/203 [01:38<00:13,  5.63it/s]"
     ]
    },
    {
     "name": "stdout",
     "output_type": "stream",
     "text": [
      "第 1284 条数据用时: 97.43 秒\n",
      "第 1325 条数据用时: 97.50 秒\n"
     ]
    },
    {
     "name": "stderr",
     "output_type": "stream",
     "text": [
      "Processing data_objects:  63%|██████▎   | 128/203 [01:38<00:16,  4.61it/s]"
     ]
    },
    {
     "name": "stdout",
     "output_type": "stream",
     "text": [
      "第 1418 条数据用时: 98.15 秒\n",
      "第 1239 条数据用时: 97.90 秒\n",
      "第 1393 条数据用时: 98.48 秒\n"
     ]
    },
    {
     "name": "stderr",
     "output_type": "stream",
     "text": [
      "Processing data_objects:  65%|██████▌   | 132/203 [01:39<00:13,  5.34it/s]"
     ]
    },
    {
     "name": "stdout",
     "output_type": "stream",
     "text": [
      "第 1350 条数据用时: 98.61 秒\n",
      "第 1312 条数据用时: 98.68 秒\n",
      "第 1358 条数据用时: 98.64 秒\n"
     ]
    },
    {
     "name": "stderr",
     "output_type": "stream",
     "text": [
      "Processing data_objects:  66%|██████▌   | 134/203 [01:40<00:16,  4.29it/s]"
     ]
    },
    {
     "name": "stdout",
     "output_type": "stream",
     "text": [
      "第 1336 条数据用时: 99.16 秒\n",
      "第 1344 条数据用时: 99.43 秒\n"
     ]
    },
    {
     "name": "stderr",
     "output_type": "stream",
     "text": [
      "Processing data_objects:  67%|██████▋   | 135/203 [01:40<00:18,  3.61it/s]"
     ]
    },
    {
     "name": "stdout",
     "output_type": "stream",
     "text": [
      "第 1246 条数据用时: 99.66 秒\n"
     ]
    },
    {
     "name": "stderr",
     "output_type": "stream",
     "text": [
      "Processing data_objects:  67%|██████▋   | 137/203 [01:41<00:17,  3.88it/s]"
     ]
    },
    {
     "name": "stdout",
     "output_type": "stream",
     "text": [
      "第 1314 条数据用时: 100.38 秒\n",
      "第 1300 条数据用时: 100.43 秒\n"
     ]
    },
    {
     "name": "stderr",
     "output_type": "stream",
     "text": [
      "Processing data_objects:  68%|██████▊   | 138/203 [01:41<00:15,  4.12it/s]"
     ]
    },
    {
     "name": "stdout",
     "output_type": "stream",
     "text": [
      "第 1242 条数据用时: 100.42 秒\n"
     ]
    },
    {
     "name": "stderr",
     "output_type": "stream",
     "text": [
      "Processing data_objects:  69%|██████▉   | 141/203 [01:41<00:09,  6.36it/s]"
     ]
    },
    {
     "name": "stdout",
     "output_type": "stream",
     "text": [
      "第 1320 条数据用时: 100.90 秒\n",
      "第 1361 条数据用时: 100.69 秒\n",
      "第 1322 条数据用时: 101.01 秒\n",
      "第 1331 条数据用时: 100.82 秒\n"
     ]
    },
    {
     "name": "stderr",
     "output_type": "stream",
     "text": [
      "Processing data_objects:  70%|███████   | 143/203 [01:42<00:11,  5.09it/s]"
     ]
    },
    {
     "name": "stdout",
     "output_type": "stream",
     "text": [
      "第 1298 条数据用时: 101.24 秒\n",
      "第 1348 条数据用时: 101.42 秒\n"
     ]
    },
    {
     "name": "stderr",
     "output_type": "stream",
     "text": [
      "Processing data_objects:  71%|███████▏  | 145/203 [01:42<00:09,  6.04it/s]"
     ]
    },
    {
     "name": "stdout",
     "output_type": "stream",
     "text": [
      "第 1243 条数据用时: 101.48 秒\n"
     ]
    },
    {
     "name": "stderr",
     "output_type": "stream",
     "text": [
      "Processing data_objects:  72%|███████▏  | 146/203 [01:42<00:12,  4.71it/s]"
     ]
    },
    {
     "name": "stdout",
     "output_type": "stream",
     "text": [
      "第 1313 条数据用时: 101.98 秒\n"
     ]
    },
    {
     "name": "stderr",
     "output_type": "stream",
     "text": [
      "Processing data_objects:  72%|███████▏  | 147/203 [01:43<00:13,  4.29it/s]"
     ]
    },
    {
     "name": "stdout",
     "output_type": "stream",
     "text": [
      "第 1328 条数据用时: 102.40 秒\n",
      "第 1349 条数据用时: 102.33 秒\n"
     ]
    },
    {
     "name": "stderr",
     "output_type": "stream",
     "text": [
      "Processing data_objects:  73%|███████▎  | 149/203 [01:43<00:10,  4.99it/s]"
     ]
    },
    {
     "name": "stdout",
     "output_type": "stream",
     "text": [
      "第 1286 条数据用时: 102.80 秒\n"
     ]
    },
    {
     "name": "stderr",
     "output_type": "stream",
     "text": [
      "Processing data_objects:  74%|███████▍  | 151/203 [01:43<00:10,  4.81it/s]"
     ]
    },
    {
     "name": "stdout",
     "output_type": "stream",
     "text": [
      "第 1311 条数据用时: 102.95 秒\n",
      "第 1345 条数据用时: 103.09 秒\n"
     ]
    },
    {
     "name": "stderr",
     "output_type": "stream",
     "text": [
      "Processing data_objects:  75%|███████▍  | 152/203 [01:43<00:09,  5.33it/s]"
     ]
    },
    {
     "name": "stdout",
     "output_type": "stream",
     "text": [
      "第 1355 条数据用时: 103.15 秒\n"
     ]
    },
    {
     "name": "stderr",
     "output_type": "stream",
     "text": [
      "Processing data_objects:  76%|███████▌  | 154/203 [01:44<00:09,  5.11it/s]"
     ]
    },
    {
     "name": "stdout",
     "output_type": "stream",
     "text": [
      "第 1352 条数据用时: 103.44 秒\n",
      "第 1356 条数据用时: 103.56 秒\n",
      "第 1238 条数据用时: 103.62 秒\n"
     ]
    },
    {
     "name": "stderr",
     "output_type": "stream",
     "text": [
      "Processing data_objects:  77%|███████▋  | 156/203 [01:44<00:08,  5.76it/s]"
     ]
    },
    {
     "name": "stdout",
     "output_type": "stream",
     "text": [
      "第 1299 条数据用时: 103.99 秒\n"
     ]
    },
    {
     "name": "stderr",
     "output_type": "stream",
     "text": [
      "Processing data_objects:  77%|███████▋  | 157/203 [01:45<00:15,  3.04it/s]"
     ]
    },
    {
     "name": "stdout",
     "output_type": "stream",
     "text": [
      "第 1332 条数据用时: 104.68 秒\n"
     ]
    },
    {
     "name": "stderr",
     "output_type": "stream",
     "text": [
      "Processing data_objects:  78%|███████▊  | 159/203 [01:46<00:13,  3.24it/s]"
     ]
    },
    {
     "name": "stdout",
     "output_type": "stream",
     "text": [
      "第 1297 条数据用时: 105.28 秒\n",
      "第 1376 条数据用时: 105.19 秒\n"
     ]
    },
    {
     "name": "stderr",
     "output_type": "stream",
     "text": [
      "Processing data_objects:  80%|███████▉  | 162/203 [01:46<00:09,  4.25it/s]"
     ]
    },
    {
     "name": "stdout",
     "output_type": "stream",
     "text": [
      "第 1340 条数据用时: 105.90 秒\n",
      "第 1285 条数据用时: 106.10 秒\n",
      "第 1317 条数据用时: 106.06 秒\n"
     ]
    },
    {
     "name": "stderr",
     "output_type": "stream",
     "text": [
      "Processing data_objects:  81%|████████  | 164/203 [01:46<00:07,  5.25it/s]"
     ]
    },
    {
     "name": "stdout",
     "output_type": "stream",
     "text": [
      "第 1371 条数据用时: 106.78 秒\n",
      "第 1292 条数据用时: 106.43 秒\n"
     ]
    },
    {
     "name": "stderr",
     "output_type": "stream",
     "text": [
      "Processing data_objects:  82%|████████▏ | 166/203 [01:48<00:11,  3.13it/s]"
     ]
    },
    {
     "name": "stdout",
     "output_type": "stream",
     "text": [
      "第 1351 条数据用时: 107.10 秒\n",
      "第 1303 条数据用时: 107.42 秒\n"
     ]
    },
    {
     "name": "stderr",
     "output_type": "stream",
     "text": [
      "Processing data_objects:  83%|████████▎ | 169/203 [01:48<00:06,  5.37it/s]"
     ]
    },
    {
     "name": "stdout",
     "output_type": "stream",
     "text": [
      "第 1360 条数据用时: 107.26 秒\n",
      "第 1291 条数据用时: 107.56 秒\n",
      "第 1241 条数据用时: 107.62 秒\n"
     ]
    },
    {
     "name": "stderr",
     "output_type": "stream",
     "text": [
      "Processing data_objects:  84%|████████▎ | 170/203 [01:48<00:08,  3.96it/s]"
     ]
    },
    {
     "name": "stdout",
     "output_type": "stream",
     "text": [
      "第 1306 条数据用时: 108.16 秒\n"
     ]
    },
    {
     "name": "stderr",
     "output_type": "stream",
     "text": [
      "Processing data_objects:  84%|████████▍ | 171/203 [01:49<00:08,  3.73it/s]"
     ]
    },
    {
     "name": "stdout",
     "output_type": "stream",
     "text": [
      "第 1362 条数据用时: 108.24 秒\n",
      "第 1407 条数据用时: 108.73 秒\n"
     ]
    },
    {
     "name": "stderr",
     "output_type": "stream",
     "text": [
      "Processing data_objects:  85%|████████▌ | 173/203 [01:49<00:09,  3.01it/s]"
     ]
    },
    {
     "name": "stdout",
     "output_type": "stream",
     "text": [
      "第 1354 条数据用时: 109.20 秒\n"
     ]
    },
    {
     "name": "stderr",
     "output_type": "stream",
     "text": [
      "Processing data_objects:  86%|████████▌ | 174/203 [01:51<00:17,  1.70it/s]"
     ]
    },
    {
     "name": "stdout",
     "output_type": "stream",
     "text": [
      "第 1302 条数据用时: 110.81 秒\n",
      "第 1279 条数据用时: 110.67 秒\n"
     ]
    },
    {
     "name": "stderr",
     "output_type": "stream",
     "text": [
      "Processing data_objects:  87%|████████▋ | 176/203 [01:52<00:13,  1.99it/s]"
     ]
    },
    {
     "name": "stdout",
     "output_type": "stream",
     "text": [
      "第 1301 条数据用时: 111.54 秒\n"
     ]
    },
    {
     "name": "stderr",
     "output_type": "stream",
     "text": [
      "Processing data_objects:  87%|████████▋ | 177/203 [01:52<00:13,  1.86it/s]"
     ]
    },
    {
     "name": "stdout",
     "output_type": "stream",
     "text": [
      "第 1342 条数据用时: 112.18 秒\n"
     ]
    },
    {
     "name": "stderr",
     "output_type": "stream",
     "text": [
      "Processing data_objects:  88%|████████▊ | 178/203 [01:53<00:12,  1.97it/s]"
     ]
    },
    {
     "name": "stdout",
     "output_type": "stream",
     "text": [
      "第 1357 条数据用时: 112.47 秒\n"
     ]
    },
    {
     "name": "stderr",
     "output_type": "stream",
     "text": [
      "Processing data_objects:  89%|████████▊ | 180/203 [01:54<00:11,  2.09it/s]"
     ]
    },
    {
     "name": "stdout",
     "output_type": "stream",
     "text": [
      "第 1337 条数据用时: 113.37 秒\n",
      "第 1283 条数据用时: 113.82 秒\n"
     ]
    },
    {
     "name": "stderr",
     "output_type": "stream",
     "text": [
      "Processing data_objects:  89%|████████▉ | 181/203 [01:54<00:10,  2.08it/s]"
     ]
    },
    {
     "name": "stdout",
     "output_type": "stream",
     "text": [
      "第 1410 条数据用时: 114.30 秒\n",
      "第 1364 条数据用时: 113.98 秒\n"
     ]
    },
    {
     "name": "stderr",
     "output_type": "stream",
     "text": [
      "Processing data_objects:  90%|█████████ | 183/203 [01:55<00:06,  3.14it/s]"
     ]
    },
    {
     "name": "stdout",
     "output_type": "stream",
     "text": [
      "第 1341 条数据用时: 114.33 秒\n",
      "第 1339 条数据用时: 114.43 秒\n"
     ]
    },
    {
     "name": "stderr",
     "output_type": "stream",
     "text": [
      "Processing data_objects:  91%|█████████ | 185/203 [01:55<00:04,  3.80it/s]"
     ]
    },
    {
     "name": "stdout",
     "output_type": "stream",
     "text": [
      "第 1245 条数据用时: 114.49 秒\n",
      "第 1323 条数据用时: 114.78 秒\n"
     ]
    },
    {
     "name": "stderr",
     "output_type": "stream",
     "text": [
      "Processing data_objects:  93%|█████████▎| 188/203 [01:55<00:03,  4.77it/s]"
     ]
    },
    {
     "name": "stdout",
     "output_type": "stream",
     "text": [
      "第 1305 条数据用时: 114.98 秒\n",
      "第 1223 条数据用时: 115.59 秒\n"
     ]
    },
    {
     "name": "stderr",
     "output_type": "stream",
     "text": [
      "Processing data_objects:  93%|█████████▎| 189/203 [01:56<00:03,  3.57it/s]"
     ]
    },
    {
     "name": "stdout",
     "output_type": "stream",
     "text": [
      "第 1221 条数据用时: 115.53 秒\n"
     ]
    },
    {
     "name": "stderr",
     "output_type": "stream",
     "text": [
      "Processing data_objects:  95%|█████████▍| 192/203 [01:57<00:02,  3.90it/s]"
     ]
    },
    {
     "name": "stdout",
     "output_type": "stream",
     "text": [
      "第 1244 条数据用时: 116.16 秒\n",
      "第 1278 条数据用时: 116.25 秒\n",
      "第 1310 条数据用时: 116.47 秒\n"
     ]
    },
    {
     "name": "stderr",
     "output_type": "stream",
     "text": [
      "Processing data_objects:  95%|█████████▌| 193/203 [01:57<00:02,  4.03it/s]"
     ]
    },
    {
     "name": "stdout",
     "output_type": "stream",
     "text": [
      "第 1335 条数据用时: 116.59 秒\n"
     ]
    },
    {
     "name": "stderr",
     "output_type": "stream",
     "text": [
      "Processing data_objects:  96%|█████████▌| 194/203 [01:57<00:02,  3.43it/s]"
     ]
    },
    {
     "name": "stdout",
     "output_type": "stream",
     "text": [
      "第 1363 条数据用时: 116.94 秒\n"
     ]
    },
    {
     "name": "stderr",
     "output_type": "stream",
     "text": [
      "Processing data_objects:  96%|█████████▌| 195/203 [01:58<00:02,  2.79it/s]"
     ]
    },
    {
     "name": "stdout",
     "output_type": "stream",
     "text": [
      "第 1346 条数据用时: 117.65 秒\n"
     ]
    },
    {
     "name": "stderr",
     "output_type": "stream",
     "text": [
      "Processing data_objects:  97%|█████████▋| 196/203 [01:58<00:02,  3.07it/s]"
     ]
    },
    {
     "name": "stdout",
     "output_type": "stream",
     "text": [
      "第 1294 条数据用时: 118.02 秒\n",
      "第 1308 条数据用时: 117.95 秒\n"
     ]
    },
    {
     "name": "stderr",
     "output_type": "stream",
     "text": [
      "Processing data_objects:  98%|█████████▊| 198/203 [01:59<00:01,  2.60it/s]"
     ]
    },
    {
     "name": "stdout",
     "output_type": "stream",
     "text": [
      "第 1347 条数据用时: 118.81 秒\n"
     ]
    },
    {
     "name": "stderr",
     "output_type": "stream",
     "text": [
      "Processing data_objects:  98%|█████████▊| 199/203 [02:01<00:03,  1.17it/s]"
     ]
    },
    {
     "name": "stdout",
     "output_type": "stream",
     "text": [
      "第 1307 条数据用时: 121.26 秒\n"
     ]
    },
    {
     "name": "stderr",
     "output_type": "stream",
     "text": [
      "Processing data_objects:  99%|█████████▊| 200/203 [02:04<00:03,  1.20s/it]"
     ]
    },
    {
     "name": "stdout",
     "output_type": "stream",
     "text": [
      "第 1334 条数据用时: 123.31 秒\n"
     ]
    },
    {
     "name": "stderr",
     "output_type": "stream",
     "text": [
      "Processing data_objects:  99%|█████████▉| 201/203 [02:05<00:02,  1.16s/it]"
     ]
    },
    {
     "name": "stdout",
     "output_type": "stream",
     "text": [
      "第 1280 条数据用时: 124.83 秒\n"
     ]
    },
    {
     "name": "stderr",
     "output_type": "stream",
     "text": [
      "Processing data_objects: 100%|█████████▉| 202/203 [02:05<00:00,  1.10it/s]"
     ]
    },
    {
     "name": "stdout",
     "output_type": "stream",
     "text": [
      "第 1359 条数据用时: 124.59 秒\n"
     ]
    },
    {
     "name": "stderr",
     "output_type": "stream",
     "text": [
      "Processing data_objects: 100%|██████████| 203/203 [02:50<00:00,  1.19it/s]\n"
     ]
    },
    {
     "name": "stdout",
     "output_type": "stream",
     "text": [
      "第 1327 条数据用时: 170.01 秒\n"
     ]
    },
    {
     "name": "stderr",
     "output_type": "stream",
     "text": [
      "Processing data_objects:   0%|          | 1/203 [00:15<53:49, 15.99s/it]"
     ]
    },
    {
     "name": "stdout",
     "output_type": "stream",
     "text": [
      "第 1471 条数据用时: 15.92 秒\n"
     ]
    },
    {
     "name": "stderr",
     "output_type": "stream",
     "text": [
      "Processing data_objects:   1%|          | 2/203 [00:18<27:55,  8.34s/it]"
     ]
    },
    {
     "name": "stdout",
     "output_type": "stream",
     "text": [
      "第 1474 条数据用时: 18.88 秒\n"
     ]
    },
    {
     "name": "stderr",
     "output_type": "stream",
     "text": [
      "Processing data_objects:   1%|▏         | 3/203 [00:21<19:40,  5.90s/it]"
     ]
    },
    {
     "name": "stdout",
     "output_type": "stream",
     "text": [
      "第 1442 条数据用时: 21.83 秒\n"
     ]
    },
    {
     "name": "stderr",
     "output_type": "stream",
     "text": [
      "Processing data_objects:   2%|▏         | 4/203 [00:30<22:56,  6.92s/it]"
     ]
    },
    {
     "name": "stdout",
     "output_type": "stream",
     "text": [
      "第 1576 条数据用时: 30.17 秒\n",
      "第 1529 条数据用时: 30.17 秒\n"
     ]
    },
    {
     "name": "stderr",
     "output_type": "stream",
     "text": [
      "Processing data_objects:   3%|▎         | 6/203 [00:30<11:07,  3.39s/it]"
     ]
    },
    {
     "name": "stdout",
     "output_type": "stream",
     "text": [
      "第 1457 条数据用时: 30.60 秒\n"
     ]
    },
    {
     "name": "stderr",
     "output_type": "stream",
     "text": [
      "Processing data_objects:   3%|▎         | 7/203 [00:34<11:29,  3.52s/it]"
     ]
    },
    {
     "name": "stdout",
     "output_type": "stream",
     "text": [
      "第 1446 条数据用时: 34.62 秒\n"
     ]
    },
    {
     "name": "stderr",
     "output_type": "stream",
     "text": [
      "Processing data_objects:   4%|▍         | 8/203 [00:35<09:12,  2.83s/it]"
     ]
    },
    {
     "name": "stdout",
     "output_type": "stream",
     "text": [
      "第 1556 条数据用时: 35.76 秒\n"
     ]
    },
    {
     "name": "stderr",
     "output_type": "stream",
     "text": [
      "Processing data_objects:   4%|▍         | 9/203 [00:36<07:21,  2.27s/it]"
     ]
    },
    {
     "name": "stdout",
     "output_type": "stream",
     "text": [
      "第 1520 条数据用时: 36.67 秒\n"
     ]
    },
    {
     "name": "stderr",
     "output_type": "stream",
     "text": [
      "Processing data_objects:   5%|▍         | 10/203 [00:37<05:39,  1.76s/it]"
     ]
    },
    {
     "name": "stdout",
     "output_type": "stream",
     "text": [
      "第 1525 条数据用时: 37.09 秒\n"
     ]
    },
    {
     "name": "stderr",
     "output_type": "stream",
     "text": [
      "Processing data_objects:   5%|▌         | 11/203 [00:39<06:04,  1.90s/it]"
     ]
    },
    {
     "name": "stdout",
     "output_type": "stream",
     "text": [
      "第 1468 条数据用时: 39.52 秒\n"
     ]
    },
    {
     "name": "stderr",
     "output_type": "stream",
     "text": [
      "Processing data_objects:   6%|▌         | 12/203 [00:41<06:05,  1.92s/it]"
     ]
    },
    {
     "name": "stdout",
     "output_type": "stream",
     "text": [
      "第 1564 条数据用时: 41.21 秒\n"
     ]
    },
    {
     "name": "stderr",
     "output_type": "stream",
     "text": [
      "Processing data_objects:   6%|▋         | 13/203 [00:42<04:44,  1.50s/it]"
     ]
    },
    {
     "name": "stdout",
     "output_type": "stream",
     "text": [
      "第 1583 条数据用时: 41.63 秒\n"
     ]
    },
    {
     "name": "stderr",
     "output_type": "stream",
     "text": [
      "Processing data_objects:   7%|▋         | 14/203 [00:42<03:43,  1.18s/it]"
     ]
    },
    {
     "name": "stdout",
     "output_type": "stream",
     "text": [
      "第 1534 条数据用时: 42.41 秒\n"
     ]
    },
    {
     "name": "stderr",
     "output_type": "stream",
     "text": [
      "Processing data_objects:   7%|▋         | 15/203 [00:42<03:05,  1.02it/s]"
     ]
    },
    {
     "name": "stdout",
     "output_type": "stream",
     "text": [
      "第 1603 条数据用时: 42.85 秒\n",
      "第 1459 条数据用时: 42.57 秒\n"
     ]
    },
    {
     "name": "stderr",
     "output_type": "stream",
     "text": [
      "Processing data_objects:   8%|▊         | 17/203 [00:44<02:38,  1.17it/s]"
     ]
    },
    {
     "name": "stdout",
     "output_type": "stream",
     "text": [
      "第 1521 条数据用时: 44.21 秒\n"
     ]
    },
    {
     "name": "stderr",
     "output_type": "stream",
     "text": [
      "Processing data_objects:   9%|▉         | 18/203 [00:44<02:19,  1.33it/s]"
     ]
    },
    {
     "name": "stdout",
     "output_type": "stream",
     "text": [
      "第 1536 条数据用时: 44.79 秒\n"
     ]
    },
    {
     "name": "stderr",
     "output_type": "stream",
     "text": [
      "Processing data_objects:   9%|▉         | 19/203 [00:45<02:11,  1.40it/s]"
     ]
    },
    {
     "name": "stdout",
     "output_type": "stream",
     "text": [
      "第 1531 条数据用时: 45.11 秒\n"
     ]
    },
    {
     "name": "stderr",
     "output_type": "stream",
     "text": [
      "Processing data_objects:  10%|▉         | 20/203 [00:46<02:17,  1.33it/s]"
     ]
    },
    {
     "name": "stdout",
     "output_type": "stream",
     "text": [
      "第 1499 条数据用时: 45.86 秒\n"
     ]
    },
    {
     "name": "stderr",
     "output_type": "stream",
     "text": [
      "Processing data_objects:  10%|█         | 21/203 [00:46<01:53,  1.61it/s]"
     ]
    },
    {
     "name": "stdout",
     "output_type": "stream",
     "text": [
      "第 1580 条数据用时: 46.21 秒\n"
     ]
    },
    {
     "name": "stderr",
     "output_type": "stream",
     "text": [
      "Processing data_objects:  11%|█         | 22/203 [00:47<01:57,  1.55it/s]"
     ]
    },
    {
     "name": "stdout",
     "output_type": "stream",
     "text": [
      "第 1455 条数据用时: 46.91 秒\n"
     ]
    },
    {
     "name": "stderr",
     "output_type": "stream",
     "text": [
      "Processing data_objects:  11%|█▏        | 23/203 [00:47<01:48,  1.66it/s]"
     ]
    },
    {
     "name": "stdout",
     "output_type": "stream",
     "text": [
      "第 1450 条数据用时: 47.48 秒\n"
     ]
    },
    {
     "name": "stderr",
     "output_type": "stream",
     "text": [
      "Processing data_objects:  12%|█▏        | 24/203 [00:48<01:34,  1.89it/s]"
     ]
    },
    {
     "name": "stdout",
     "output_type": "stream",
     "text": [
      "第 1596 条数据用时: 48.07 秒\n",
      "第 1553 条数据用时: 47.99 秒\n"
     ]
    },
    {
     "name": "stderr",
     "output_type": "stream",
     "text": [
      "Processing data_objects:  13%|█▎        | 26/203 [00:48<01:17,  2.30it/s]"
     ]
    },
    {
     "name": "stdout",
     "output_type": "stream",
     "text": [
      "第 1422 条数据用时: 48.59 秒\n"
     ]
    },
    {
     "name": "stderr",
     "output_type": "stream",
     "text": [
      "Processing data_objects:  13%|█▎        | 27/203 [00:49<01:11,  2.45it/s]"
     ]
    },
    {
     "name": "stdout",
     "output_type": "stream",
     "text": [
      "第 1581 条数据用时: 48.72 秒\n"
     ]
    },
    {
     "name": "stderr",
     "output_type": "stream",
     "text": [
      "Processing data_objects:  14%|█▍        | 28/203 [00:49<01:11,  2.43it/s]"
     ]
    },
    {
     "name": "stdout",
     "output_type": "stream",
     "text": [
      "第 1562 条数据用时: 49.24 秒\n"
     ]
    },
    {
     "name": "stderr",
     "output_type": "stream",
     "text": [
      "Processing data_objects:  14%|█▍        | 29/203 [00:49<01:10,  2.47it/s]"
     ]
    },
    {
     "name": "stdout",
     "output_type": "stream",
     "text": [
      "第 1589 条数据用时: 49.42 秒\n"
     ]
    },
    {
     "name": "stderr",
     "output_type": "stream",
     "text": [
      "Processing data_objects:  15%|█▍        | 30/203 [00:50<01:14,  2.33it/s]"
     ]
    },
    {
     "name": "stdout",
     "output_type": "stream",
     "text": [
      "第 1570 条数据用时: 50.01 秒\n",
      "第 1522 条数据用时: 50.21 秒\n"
     ]
    },
    {
     "name": "stderr",
     "output_type": "stream",
     "text": [
      "Processing data_objects:  16%|█▌        | 32/203 [00:51<01:34,  1.82it/s]"
     ]
    },
    {
     "name": "stdout",
     "output_type": "stream",
     "text": [
      "第 1565 条数据用时: 51.48 秒\n"
     ]
    },
    {
     "name": "stderr",
     "output_type": "stream",
     "text": [
      "Processing data_objects:  16%|█▋        | 33/203 [00:52<01:43,  1.64it/s]"
     ]
    },
    {
     "name": "stdout",
     "output_type": "stream",
     "text": [
      "第 1571 条数据用时: 52.20 秒\n",
      "第 1528 条数据用时: 52.32 秒\n"
     ]
    },
    {
     "name": "stderr",
     "output_type": "stream",
     "text": [
      "Processing data_objects:  17%|█▋        | 35/203 [00:53<01:24,  1.99it/s]"
     ]
    },
    {
     "name": "stdout",
     "output_type": "stream",
     "text": [
      "第 1612 条数据用时: 52.77 秒\n"
     ]
    },
    {
     "name": "stderr",
     "output_type": "stream",
     "text": [
      "Processing data_objects:  18%|█▊        | 36/203 [00:53<01:18,  2.14it/s]"
     ]
    },
    {
     "name": "stdout",
     "output_type": "stream",
     "text": [
      "第 1585 条数据用时: 53.22 秒\n"
     ]
    },
    {
     "name": "stderr",
     "output_type": "stream",
     "text": [
      "Processing data_objects:  18%|█▊        | 37/203 [00:54<01:17,  2.13it/s]"
     ]
    },
    {
     "name": "stdout",
     "output_type": "stream",
     "text": [
      "第 1448 条数据用时: 53.84 秒\n"
     ]
    },
    {
     "name": "stderr",
     "output_type": "stream",
     "text": [
      "Processing data_objects:  19%|█▊        | 38/203 [00:54<01:25,  1.93it/s]"
     ]
    },
    {
     "name": "stdout",
     "output_type": "stream",
     "text": [
      "第 1586 条数据用时: 54.33 秒\n"
     ]
    },
    {
     "name": "stderr",
     "output_type": "stream",
     "text": [
      "Processing data_objects:  19%|█▉        | 39/203 [00:55<01:17,  2.12it/s]"
     ]
    },
    {
     "name": "stdout",
     "output_type": "stream",
     "text": [
      "第 1607 条数据用时: 54.92 秒\n"
     ]
    },
    {
     "name": "stderr",
     "output_type": "stream",
     "text": [
      "Processing data_objects:  20%|█▉        | 40/203 [00:55<01:12,  2.24it/s]"
     ]
    },
    {
     "name": "stdout",
     "output_type": "stream",
     "text": [
      "第 1452 条数据用时: 55.16 秒\n"
     ]
    },
    {
     "name": "stderr",
     "output_type": "stream",
     "text": [
      "Processing data_objects:  20%|██        | 41/203 [00:55<01:07,  2.38it/s]"
     ]
    },
    {
     "name": "stdout",
     "output_type": "stream",
     "text": [
      "第 1598 条数据用时: 55.77 秒\n"
     ]
    },
    {
     "name": "stderr",
     "output_type": "stream",
     "text": [
      "Processing data_objects:  21%|██        | 42/203 [00:56<01:05,  2.47it/s]"
     ]
    },
    {
     "name": "stdout",
     "output_type": "stream",
     "text": [
      "第 1476 条数据用时: 56.08 秒\n"
     ]
    },
    {
     "name": "stderr",
     "output_type": "stream",
     "text": [
      "Processing data_objects:  21%|██        | 43/203 [00:56<01:03,  2.53it/s]"
     ]
    },
    {
     "name": "stdout",
     "output_type": "stream",
     "text": [
      "第 1523 条数据用时: 56.38 秒\n"
     ]
    },
    {
     "name": "stderr",
     "output_type": "stream",
     "text": [
      "Processing data_objects:  22%|██▏       | 44/203 [00:56<01:04,  2.47it/s]"
     ]
    },
    {
     "name": "stdout",
     "output_type": "stream",
     "text": [
      "第 1516 条数据用时: 56.90 秒\n"
     ]
    },
    {
     "name": "stderr",
     "output_type": "stream",
     "text": [
      "Processing data_objects:  22%|██▏       | 45/203 [00:57<01:02,  2.52it/s]"
     ]
    },
    {
     "name": "stdout",
     "output_type": "stream",
     "text": [
      "第 1440 条数据用时: 57.24 秒\n"
     ]
    },
    {
     "name": "stderr",
     "output_type": "stream",
     "text": [
      "Processing data_objects:  23%|██▎       | 46/203 [00:57<01:05,  2.40it/s]"
     ]
    },
    {
     "name": "stdout",
     "output_type": "stream",
     "text": [
      "第 1572 条数据用时: 57.63 秒\n"
     ]
    },
    {
     "name": "stderr",
     "output_type": "stream",
     "text": [
      "Processing data_objects:  23%|██▎       | 47/203 [00:58<01:08,  2.28it/s]"
     ]
    },
    {
     "name": "stdout",
     "output_type": "stream",
     "text": [
      "第 1584 条数据用时: 57.94 秒\n"
     ]
    },
    {
     "name": "stderr",
     "output_type": "stream",
     "text": [
      "Processing data_objects:  24%|██▎       | 48/203 [00:58<01:17,  1.99it/s]"
     ]
    },
    {
     "name": "stdout",
     "output_type": "stream",
     "text": [
      "第 1577 条数据用时: 58.67 秒\n"
     ]
    },
    {
     "name": "stderr",
     "output_type": "stream",
     "text": [
      "Processing data_objects:  24%|██▍       | 49/203 [00:59<01:25,  1.79it/s]"
     ]
    },
    {
     "name": "stdout",
     "output_type": "stream",
     "text": [
      "第 1453 条数据用时: 59.34 秒\n",
      "第 1602 条数据用时: 59.56 秒\n"
     ]
    },
    {
     "name": "stderr",
     "output_type": "stream",
     "text": [
      "Processing data_objects:  25%|██▌       | 51/203 [01:00<01:21,  1.87it/s]"
     ]
    },
    {
     "name": "stdout",
     "output_type": "stream",
     "text": [
      "第 1582 条数据用时: 60.32 秒\n"
     ]
    },
    {
     "name": "stderr",
     "output_type": "stream",
     "text": [
      "Processing data_objects:  26%|██▌       | 52/203 [01:01<01:17,  1.95it/s]"
     ]
    },
    {
     "name": "stdout",
     "output_type": "stream",
     "text": [
      "第 1606 条数据用时: 60.97 秒\n"
     ]
    },
    {
     "name": "stderr",
     "output_type": "stream",
     "text": [
      "Processing data_objects:  26%|██▌       | 53/203 [01:01<01:11,  2.11it/s]"
     ]
    },
    {
     "name": "stdout",
     "output_type": "stream",
     "text": [
      "第 1567 条数据用时: 61.17 秒\n"
     ]
    },
    {
     "name": "stderr",
     "output_type": "stream",
     "text": [
      "Processing data_objects:  27%|██▋       | 54/203 [01:02<01:20,  1.85it/s]"
     ]
    },
    {
     "name": "stdout",
     "output_type": "stream",
     "text": [
      "第 1574 条数据用时: 61.97 秒\n"
     ]
    },
    {
     "name": "stderr",
     "output_type": "stream",
     "text": [
      "Processing data_objects:  27%|██▋       | 55/203 [01:02<01:18,  1.89it/s]"
     ]
    },
    {
     "name": "stdout",
     "output_type": "stream",
     "text": [
      "第 1444 条数据用时: 62.53 秒\n"
     ]
    },
    {
     "name": "stderr",
     "output_type": "stream",
     "text": [
      "Processing data_objects:  28%|██▊       | 56/203 [01:03<01:13,  1.99it/s]"
     ]
    },
    {
     "name": "stdout",
     "output_type": "stream",
     "text": [
      "第 1597 条数据用时: 63.10 秒\n"
     ]
    },
    {
     "name": "stderr",
     "output_type": "stream",
     "text": [
      "Processing data_objects:  28%|██▊       | 57/203 [01:03<01:07,  2.15it/s]"
     ]
    },
    {
     "name": "stdout",
     "output_type": "stream",
     "text": [
      "第 1587 条数据用时: 63.09 秒\n"
     ]
    },
    {
     "name": "stderr",
     "output_type": "stream",
     "text": [
      "Processing data_objects:  29%|██▊       | 58/203 [01:04<01:16,  1.89it/s]"
     ]
    },
    {
     "name": "stdout",
     "output_type": "stream",
     "text": [
      "第 1575 条数据用时: 63.94 秒\n"
     ]
    },
    {
     "name": "stderr",
     "output_type": "stream",
     "text": [
      "Processing data_objects:  29%|██▉       | 59/203 [01:04<01:14,  1.93it/s]"
     ]
    },
    {
     "name": "stdout",
     "output_type": "stream",
     "text": [
      "第 1466 条数据用时: 64.69 秒\n",
      "第 1524 条数据用时: 64.50 秒\n"
     ]
    },
    {
     "name": "stderr",
     "output_type": "stream",
     "text": [
      "Processing data_objects:  30%|███       | 61/203 [01:05<01:05,  2.17it/s]"
     ]
    },
    {
     "name": "stdout",
     "output_type": "stream",
     "text": [
      "第 1545 条数据用时: 64.78 秒\n"
     ]
    },
    {
     "name": "stderr",
     "output_type": "stream",
     "text": [
      "Processing data_objects:  31%|███       | 62/203 [01:06<01:24,  1.67it/s]"
     ]
    },
    {
     "name": "stdout",
     "output_type": "stream",
     "text": [
      "第 1579 条数据用时: 66.17 秒\n"
     ]
    },
    {
     "name": "stderr",
     "output_type": "stream",
     "text": [
      "Processing data_objects:  31%|███       | 63/203 [01:06<01:13,  1.92it/s]"
     ]
    },
    {
     "name": "stdout",
     "output_type": "stream",
     "text": [
      "第 1568 条数据用时: 66.47 秒\n"
     ]
    },
    {
     "name": "stderr",
     "output_type": "stream",
     "text": [
      "Processing data_objects:  32%|███▏      | 64/203 [01:07<01:06,  2.11it/s]"
     ]
    },
    {
     "name": "stdout",
     "output_type": "stream",
     "text": [
      "第 1441 条数据用时: 66.38 秒\n"
     ]
    },
    {
     "name": "stderr",
     "output_type": "stream",
     "text": [
      "Processing data_objects:  32%|███▏      | 65/203 [01:07<01:00,  2.29it/s]"
     ]
    },
    {
     "name": "stdout",
     "output_type": "stream",
     "text": [
      "第 1473 条数据用时: 67.41 秒\n"
     ]
    },
    {
     "name": "stderr",
     "output_type": "stream",
     "text": [
      "Processing data_objects:  33%|███▎      | 66/203 [01:08<01:13,  1.85it/s]"
     ]
    },
    {
     "name": "stdout",
     "output_type": "stream",
     "text": [
      "第 1475 条数据用时: 68.18 秒\n"
     ]
    },
    {
     "name": "stderr",
     "output_type": "stream",
     "text": [
      "Processing data_objects:  33%|███▎      | 67/203 [01:08<01:06,  2.05it/s]"
     ]
    },
    {
     "name": "stdout",
     "output_type": "stream",
     "text": [
      "第 1595 条数据用时: 68.64 秒\n"
     ]
    },
    {
     "name": "stderr",
     "output_type": "stream",
     "text": [
      "Processing data_objects:  33%|███▎      | 68/203 [01:09<01:27,  1.54it/s]"
     ]
    },
    {
     "name": "stdout",
     "output_type": "stream",
     "text": [
      "第 1605 条数据用时: 69.54 秒\n"
     ]
    },
    {
     "name": "stderr",
     "output_type": "stream",
     "text": [
      "Processing data_objects:  34%|███▍      | 69/203 [01:10<01:23,  1.61it/s]"
     ]
    },
    {
     "name": "stdout",
     "output_type": "stream",
     "text": [
      "第 1447 条数据用时: 70.00 秒\n"
     ]
    },
    {
     "name": "stderr",
     "output_type": "stream",
     "text": [
      "Processing data_objects:  34%|███▍      | 70/203 [01:10<01:13,  1.80it/s]"
     ]
    },
    {
     "name": "stdout",
     "output_type": "stream",
     "text": [
      "第 1423 条数据用时: 70.27 秒\n"
     ]
    },
    {
     "name": "stderr",
     "output_type": "stream",
     "text": [
      "Processing data_objects:  35%|███▍      | 71/203 [01:11<01:06,  1.97it/s]"
     ]
    },
    {
     "name": "stdout",
     "output_type": "stream",
     "text": [
      "第 1498 条数据用时: 70.93 秒\n"
     ]
    },
    {
     "name": "stderr",
     "output_type": "stream",
     "text": [
      "Processing data_objects:  35%|███▌      | 72/203 [01:12<01:24,  1.54it/s]"
     ]
    },
    {
     "name": "stdout",
     "output_type": "stream",
     "text": [
      "第 1622 条数据用时: 71.39 秒\n"
     ]
    },
    {
     "name": "stderr",
     "output_type": "stream",
     "text": [
      "Processing data_objects:  36%|███▌      | 73/203 [01:12<01:30,  1.44it/s]"
     ]
    },
    {
     "name": "stdout",
     "output_type": "stream",
     "text": [
      "第 1458 条数据用时: 72.43 秒\n"
     ]
    },
    {
     "name": "stderr",
     "output_type": "stream",
     "text": [
      "Processing data_objects:  36%|███▋      | 74/203 [01:13<01:24,  1.52it/s]"
     ]
    },
    {
     "name": "stdout",
     "output_type": "stream",
     "text": [
      "第 1601 条数据用时: 73.30 秒\n"
     ]
    },
    {
     "name": "stderr",
     "output_type": "stream",
     "text": [
      "Processing data_objects:  37%|███▋      | 75/203 [01:13<01:21,  1.57it/s]"
     ]
    },
    {
     "name": "stdout",
     "output_type": "stream",
     "text": [
      "第 1609 条数据用时: 73.78 秒\n"
     ]
    },
    {
     "name": "stderr",
     "output_type": "stream",
     "text": [
      "Processing data_objects:  37%|███▋      | 76/203 [01:14<01:18,  1.61it/s]"
     ]
    },
    {
     "name": "stdout",
     "output_type": "stream",
     "text": [
      "第 1527 条数据用时: 74.32 秒\n"
     ]
    },
    {
     "name": "stderr",
     "output_type": "stream",
     "text": [
      "Processing data_objects:  38%|███▊      | 77/203 [01:15<01:23,  1.51it/s]"
     ]
    },
    {
     "name": "stdout",
     "output_type": "stream",
     "text": [
      "第 1515 条数据用时: 75.26 秒\n"
     ]
    },
    {
     "name": "stderr",
     "output_type": "stream",
     "text": [
      "Processing data_objects:  38%|███▊      | 78/203 [01:15<01:14,  1.67it/s]"
     ]
    },
    {
     "name": "stdout",
     "output_type": "stream",
     "text": [
      "第 1478 条数据用时: 75.70 秒\n"
     ]
    },
    {
     "name": "stderr",
     "output_type": "stream",
     "text": [
      "Processing data_objects:  39%|███▉      | 79/203 [01:16<01:07,  1.83it/s]"
     ]
    },
    {
     "name": "stdout",
     "output_type": "stream",
     "text": [
      "第 1497 条数据用时: 75.77 秒\n"
     ]
    },
    {
     "name": "stderr",
     "output_type": "stream",
     "text": [
      "Processing data_objects:  39%|███▉      | 80/203 [01:16<01:14,  1.65it/s]"
     ]
    },
    {
     "name": "stdout",
     "output_type": "stream",
     "text": [
      "第 1469 条数据用时: 76.90 秒\n"
     ]
    },
    {
     "name": "stderr",
     "output_type": "stream",
     "text": [
      "Processing data_objects:  40%|███▉      | 81/203 [01:18<01:42,  1.19it/s]"
     ]
    },
    {
     "name": "stdout",
     "output_type": "stream",
     "text": [
      "第 1449 条数据用时: 78.07 秒\n"
     ]
    },
    {
     "name": "stderr",
     "output_type": "stream",
     "text": [
      "Processing data_objects:  40%|████      | 82/203 [01:18<01:32,  1.31it/s]"
     ]
    },
    {
     "name": "stdout",
     "output_type": "stream",
     "text": [
      "第 1496 条数据用时: 78.44 秒\n"
     ]
    },
    {
     "name": "stderr",
     "output_type": "stream",
     "text": [
      "Processing data_objects:  41%|████      | 83/203 [01:19<01:23,  1.44it/s]"
     ]
    },
    {
     "name": "stdout",
     "output_type": "stream",
     "text": [
      "第 1540 条数据用时: 78.78 秒\n",
      "第 1624 条数据用时: 78.79 秒\n"
     ]
    },
    {
     "name": "stderr",
     "output_type": "stream",
     "text": [
      "Processing data_objects:  42%|████▏     | 85/203 [01:20<01:05,  1.79it/s]"
     ]
    },
    {
     "name": "stdout",
     "output_type": "stream",
     "text": [
      "第 1454 条数据用时: 79.91 秒\n"
     ]
    },
    {
     "name": "stderr",
     "output_type": "stream",
     "text": [
      "Processing data_objects:  42%|████▏     | 86/203 [01:21<01:16,  1.53it/s]"
     ]
    },
    {
     "name": "stdout",
     "output_type": "stream",
     "text": [
      "第 1561 条数据用时: 80.94 秒\n"
     ]
    },
    {
     "name": "stderr",
     "output_type": "stream",
     "text": [
      "Processing data_objects:  43%|████▎     | 87/203 [01:22<01:49,  1.06it/s]"
     ]
    },
    {
     "name": "stdout",
     "output_type": "stream",
     "text": [
      "第 1427 条数据用时: 82.51 秒\n"
     ]
    },
    {
     "name": "stderr",
     "output_type": "stream",
     "text": [
      "Processing data_objects:  43%|████▎     | 88/203 [01:23<01:27,  1.31it/s]"
     ]
    },
    {
     "name": "stdout",
     "output_type": "stream",
     "text": [
      "第 1588 条数据用时: 82.78 秒\n"
     ]
    },
    {
     "name": "stderr",
     "output_type": "stream",
     "text": [
      "Processing data_objects:  44%|████▍     | 89/203 [01:23<01:20,  1.42it/s]"
     ]
    },
    {
     "name": "stdout",
     "output_type": "stream",
     "text": [
      "第 1445 条数据用时: 83.58 秒\n",
      "第 1623 条数据用时: 83.13 秒\n"
     ]
    },
    {
     "name": "stderr",
     "output_type": "stream",
     "text": [
      "Processing data_objects:  45%|████▍     | 91/203 [01:24<01:01,  1.82it/s]"
     ]
    },
    {
     "name": "stdout",
     "output_type": "stream",
     "text": [
      "第 1489 条数据用时: 83.72 秒\n"
     ]
    },
    {
     "name": "stderr",
     "output_type": "stream",
     "text": [
      "Processing data_objects:  45%|████▌     | 92/203 [01:24<00:56,  1.96it/s]"
     ]
    },
    {
     "name": "stdout",
     "output_type": "stream",
     "text": [
      "第 1519 条数据用时: 84.74 秒\n"
     ]
    },
    {
     "name": "stderr",
     "output_type": "stream",
     "text": [
      "Processing data_objects:  46%|████▌     | 93/203 [01:25<00:59,  1.84it/s]"
     ]
    },
    {
     "name": "stdout",
     "output_type": "stream",
     "text": [
      "第 1501 条数据用时: 85.03 秒\n"
     ]
    },
    {
     "name": "stderr",
     "output_type": "stream",
     "text": [
      "Processing data_objects:  46%|████▋     | 94/203 [01:25<00:56,  1.93it/s]"
     ]
    },
    {
     "name": "stdout",
     "output_type": "stream",
     "text": [
      "第 1494 条数据用时: 85.16 秒\n"
     ]
    },
    {
     "name": "stderr",
     "output_type": "stream",
     "text": [
      "Processing data_objects:  47%|████▋     | 95/203 [01:26<00:53,  2.03it/s]"
     ]
    },
    {
     "name": "stdout",
     "output_type": "stream",
     "text": [
      "第 1436 条数据用时: 85.85 秒\n"
     ]
    },
    {
     "name": "stderr",
     "output_type": "stream",
     "text": [
      "Processing data_objects:  47%|████▋     | 96/203 [01:26<00:49,  2.16it/s]"
     ]
    },
    {
     "name": "stdout",
     "output_type": "stream",
     "text": [
      "第 1559 条数据用时: 86.56 秒\n"
     ]
    },
    {
     "name": "stderr",
     "output_type": "stream",
     "text": [
      "Processing data_objects:  48%|████▊     | 97/203 [01:27<00:46,  2.28it/s]"
     ]
    },
    {
     "name": "stdout",
     "output_type": "stream",
     "text": [
      "第 1563 条数据用时: 86.88 秒\n"
     ]
    },
    {
     "name": "stderr",
     "output_type": "stream",
     "text": [
      "Processing data_objects:  48%|████▊     | 98/203 [01:27<00:50,  2.08it/s]"
     ]
    },
    {
     "name": "stdout",
     "output_type": "stream",
     "text": [
      "第 1566 条数据用时: 87.41 秒\n"
     ]
    },
    {
     "name": "stderr",
     "output_type": "stream",
     "text": [
      "Processing data_objects:  49%|████▉     | 99/203 [01:28<00:58,  1.78it/s]"
     ]
    },
    {
     "name": "stdout",
     "output_type": "stream",
     "text": [
      "第 1557 条数据用时: 88.31 秒\n"
     ]
    },
    {
     "name": "stderr",
     "output_type": "stream",
     "text": [
      "Processing data_objects:  49%|████▉     | 100/203 [01:28<00:53,  1.91it/s]"
     ]
    },
    {
     "name": "stdout",
     "output_type": "stream",
     "text": [
      "第 1481 条数据用时: 88.23 秒\n"
     ]
    },
    {
     "name": "stderr",
     "output_type": "stream",
     "text": [
      "Processing data_objects:  50%|████▉     | 101/203 [01:29<00:48,  2.08it/s]"
     ]
    },
    {
     "name": "stdout",
     "output_type": "stream",
     "text": [
      "第 1435 条数据用时: 88.77 秒\n"
     ]
    },
    {
     "name": "stderr",
     "output_type": "stream",
     "text": [
      "Processing data_objects:  50%|█████     | 102/203 [01:29<00:42,  2.37it/s]"
     ]
    },
    {
     "name": "stdout",
     "output_type": "stream",
     "text": [
      "第 1530 条数据用时: 89.29 秒\n",
      "第 1492 条数据用时: 88.80 秒\n",
      "第 1614 条数据用时: 89.05 秒\n",
      "第 1619 条数据用时: 88.98 秒\n"
     ]
    },
    {
     "name": "stderr",
     "output_type": "stream",
     "text": [
      "Processing data_objects:  52%|█████▏    | 106/203 [01:30<00:36,  2.68it/s]"
     ]
    },
    {
     "name": "stdout",
     "output_type": "stream",
     "text": [
      "第 1467 条数据用时: 90.95 秒\n"
     ]
    },
    {
     "name": "stderr",
     "output_type": "stream",
     "text": [
      "Processing data_objects:  53%|█████▎    | 107/203 [01:31<00:40,  2.37it/s]"
     ]
    },
    {
     "name": "stdout",
     "output_type": "stream",
     "text": [
      "第 1560 条数据用时: 91.37 秒\n"
     ]
    },
    {
     "name": "stderr",
     "output_type": "stream",
     "text": [
      "Processing data_objects:  53%|█████▎    | 108/203 [01:32<00:41,  2.27it/s]"
     ]
    },
    {
     "name": "stdout",
     "output_type": "stream",
     "text": [
      "第 1430 条数据用时: 91.65 秒\n"
     ]
    },
    {
     "name": "stderr",
     "output_type": "stream",
     "text": [
      "Processing data_objects:  54%|█████▎    | 109/203 [01:32<00:40,  2.33it/s]"
     ]
    },
    {
     "name": "stdout",
     "output_type": "stream",
     "text": [
      "第 1429 条数据用时: 92.05 秒\n"
     ]
    },
    {
     "name": "stderr",
     "output_type": "stream",
     "text": [
      "Processing data_objects:  54%|█████▍    | 110/203 [01:32<00:38,  2.39it/s]"
     ]
    },
    {
     "name": "stdout",
     "output_type": "stream",
     "text": [
      "第 1500 条数据用时: 92.44 秒\n"
     ]
    },
    {
     "name": "stderr",
     "output_type": "stream",
     "text": [
      "Processing data_objects:  55%|█████▍    | 111/203 [01:33<00:36,  2.51it/s]"
     ]
    },
    {
     "name": "stdout",
     "output_type": "stream",
     "text": [
      "第 1504 条数据用时: 92.71 秒\n"
     ]
    },
    {
     "name": "stderr",
     "output_type": "stream",
     "text": [
      "Processing data_objects:  55%|█████▌    | 112/203 [01:33<00:36,  2.52it/s]"
     ]
    },
    {
     "name": "stdout",
     "output_type": "stream",
     "text": [
      "第 1547 条数据用时: 92.91 秒\n"
     ]
    },
    {
     "name": "stderr",
     "output_type": "stream",
     "text": [
      "Processing data_objects:  56%|█████▌    | 113/203 [01:33<00:34,  2.60it/s]"
     ]
    },
    {
     "name": "stdout",
     "output_type": "stream",
     "text": [
      "第 1621 条数据用时: 93.35 秒\n"
     ]
    },
    {
     "name": "stderr",
     "output_type": "stream",
     "text": [
      "Processing data_objects:  56%|█████▌    | 114/203 [01:34<00:32,  2.70it/s]"
     ]
    },
    {
     "name": "stdout",
     "output_type": "stream",
     "text": [
      "第 1426 条数据用时: 93.90 秒\n"
     ]
    },
    {
     "name": "stderr",
     "output_type": "stream",
     "text": [
      "Processing data_objects:  57%|█████▋    | 116/203 [01:34<00:25,  3.44it/s]"
     ]
    },
    {
     "name": "stdout",
     "output_type": "stream",
     "text": [
      "第 1538 条数据用时: 94.04 秒\n",
      "第 1514 条数据用时: 94.15 秒\n"
     ]
    },
    {
     "name": "stderr",
     "output_type": "stream",
     "text": [
      "Processing data_objects:  59%|█████▉    | 120/203 [01:35<00:12,  6.52it/s]"
     ]
    },
    {
     "name": "stdout",
     "output_type": "stream",
     "text": [
      "第 1503 条数据用时: 94.47 秒\n",
      "第 1480 条数据用时: 94.41 秒\n",
      "第 1428 条数据用时: 94.63 秒\n",
      "第 1554 条数据用时: 95.05 秒\n"
     ]
    },
    {
     "name": "stderr",
     "output_type": "stream",
     "text": [
      "Processing data_objects:  60%|█████▉    | 121/203 [01:35<00:23,  3.54it/s]"
     ]
    },
    {
     "name": "stdout",
     "output_type": "stream",
     "text": [
      "第 1432 条数据用时: 95.45 秒\n"
     ]
    },
    {
     "name": "stderr",
     "output_type": "stream",
     "text": [
      "Processing data_objects:  60%|██████    | 122/203 [01:36<00:27,  2.90it/s]"
     ]
    },
    {
     "name": "stdout",
     "output_type": "stream",
     "text": [
      "第 1599 条数据用时: 96.42 秒\n",
      "第 1477 条数据用时: 95.82 秒\n"
     ]
    },
    {
     "name": "stderr",
     "output_type": "stream",
     "text": [
      "Processing data_objects:  61%|██████    | 124/203 [01:36<00:21,  3.76it/s]"
     ]
    },
    {
     "name": "stdout",
     "output_type": "stream",
     "text": [
      "第 1462 条数据用时: 96.35 秒\n"
     ]
    },
    {
     "name": "stderr",
     "output_type": "stream",
     "text": [
      "Processing data_objects:  62%|██████▏   | 125/203 [01:37<00:27,  2.85it/s]"
     ]
    },
    {
     "name": "stdout",
     "output_type": "stream",
     "text": [
      "第 1470 条数据用时: 97.39 秒\n"
     ]
    },
    {
     "name": "stderr",
     "output_type": "stream",
     "text": [
      "Processing data_objects:  63%|██████▎   | 127/203 [01:38<00:29,  2.57it/s]"
     ]
    },
    {
     "name": "stdout",
     "output_type": "stream",
     "text": [
      "第 1508 条数据用时: 97.78 秒\n",
      "第 1542 条数据用时: 97.77 秒\n"
     ]
    },
    {
     "name": "stderr",
     "output_type": "stream",
     "text": [
      "Processing data_objects:  63%|██████▎   | 128/203 [01:38<00:28,  2.60it/s]"
     ]
    },
    {
     "name": "stdout",
     "output_type": "stream",
     "text": [
      "第 1486 条数据用时: 98.10 秒\n"
     ]
    },
    {
     "name": "stderr",
     "output_type": "stream",
     "text": [
      "Processing data_objects:  64%|██████▎   | 129/203 [01:39<00:36,  2.00it/s]"
     ]
    },
    {
     "name": "stdout",
     "output_type": "stream",
     "text": [
      "第 1544 条数据用时: 98.93 秒\n",
      "第 1460 条数据用时: 98.87 秒\n"
     ]
    },
    {
     "name": "stderr",
     "output_type": "stream",
     "text": [
      "Processing data_objects:  65%|██████▍   | 131/203 [01:39<00:23,  3.08it/s]"
     ]
    },
    {
     "name": "stdout",
     "output_type": "stream",
     "text": [
      "第 1610 条数据用时: 99.36 秒\n",
      "第 1438 条数据用时: 99.33 秒\n",
      "第 1487 条数据用时: 99.16 秒\n"
     ]
    },
    {
     "name": "stderr",
     "output_type": "stream",
     "text": [
      "Processing data_objects:  67%|██████▋   | 135/203 [01:40<00:14,  4.61it/s]"
     ]
    },
    {
     "name": "stdout",
     "output_type": "stream",
     "text": [
      "第 1502 条数据用时: 99.81 秒\n",
      "第 1604 条数据用时: 100.28 秒\n",
      "第 1437 条数据用时: 99.87 秒\n"
     ]
    },
    {
     "name": "stderr",
     "output_type": "stream",
     "text": [
      "Processing data_objects:  68%|██████▊   | 138/203 [01:40<00:12,  5.37it/s]"
     ]
    },
    {
     "name": "stdout",
     "output_type": "stream",
     "text": [
      "第 1543 条数据用时: 100.03 秒\n",
      "第 1518 条数据用时: 100.25 秒\n"
     ]
    },
    {
     "name": "stderr",
     "output_type": "stream",
     "text": [
      "Processing data_objects:  68%|██████▊   | 139/203 [01:41<00:11,  5.59it/s]"
     ]
    },
    {
     "name": "stdout",
     "output_type": "stream",
     "text": [
      "第 1482 条数据用时: 100.32 秒\n"
     ]
    },
    {
     "name": "stderr",
     "output_type": "stream",
     "text": [
      "Processing data_objects:  69%|██████▉   | 140/203 [01:41<00:13,  4.52it/s]"
     ]
    },
    {
     "name": "stdout",
     "output_type": "stream",
     "text": [
      "第 1569 条数据用时: 101.03 秒\n",
      "第 1461 条数据用时: 100.82 秒\n"
     ]
    },
    {
     "name": "stderr",
     "output_type": "stream",
     "text": [
      "Processing data_objects:  70%|██████▉   | 142/203 [01:41<00:11,  5.40it/s]"
     ]
    },
    {
     "name": "stdout",
     "output_type": "stream",
     "text": [
      "第 1532 条数据用时: 101.33 秒\n"
     ]
    },
    {
     "name": "stderr",
     "output_type": "stream",
     "text": [
      "Processing data_objects:  70%|███████   | 143/203 [01:42<00:13,  4.31it/s]"
     ]
    },
    {
     "name": "stdout",
     "output_type": "stream",
     "text": [
      "第 1431 条数据用时: 101.55 秒\n"
     ]
    },
    {
     "name": "stderr",
     "output_type": "stream",
     "text": [
      "Processing data_objects:  71%|███████   | 144/203 [01:42<00:14,  3.98it/s]"
     ]
    },
    {
     "name": "stdout",
     "output_type": "stream",
     "text": [
      "第 1593 条数据用时: 101.52 秒\n"
     ]
    },
    {
     "name": "stderr",
     "output_type": "stream",
     "text": [
      "Processing data_objects:  71%|███████▏  | 145/203 [01:42<00:14,  3.89it/s]"
     ]
    },
    {
     "name": "stdout",
     "output_type": "stream",
     "text": [
      "第 1483 条数据用时: 101.91 秒\n"
     ]
    },
    {
     "name": "stderr",
     "output_type": "stream",
     "text": [
      "Processing data_objects:  72%|███████▏  | 147/203 [01:43<00:14,  3.97it/s]"
     ]
    },
    {
     "name": "stdout",
     "output_type": "stream",
     "text": [
      "第 1613 条数据用时: 102.45 秒\n",
      "第 1590 条数据用时: 102.67 秒\n"
     ]
    },
    {
     "name": "stderr",
     "output_type": "stream",
     "text": [
      "Processing data_objects:  73%|███████▎  | 149/203 [01:43<00:16,  3.32it/s]"
     ]
    },
    {
     "name": "stdout",
     "output_type": "stream",
     "text": [
      "第 1465 条数据用时: 102.92 秒\n",
      "第 1616 条数据用时: 103.36 秒\n"
     ]
    },
    {
     "name": "stderr",
     "output_type": "stream",
     "text": [
      "Processing data_objects:  74%|███████▍  | 151/203 [01:44<00:15,  3.26it/s]"
     ]
    },
    {
     "name": "stdout",
     "output_type": "stream",
     "text": [
      "第 1433 条数据用时: 103.99 秒\n",
      "第 1552 条数据用时: 104.59 秒\n"
     ]
    },
    {
     "name": "stderr",
     "output_type": "stream",
     "text": [
      "Processing data_objects:  75%|███████▍  | 152/203 [01:44<00:13,  3.75it/s]"
     ]
    },
    {
     "name": "stdout",
     "output_type": "stream",
     "text": [
      "第 1425 条数据用时: 104.40 秒\n"
     ]
    },
    {
     "name": "stderr",
     "output_type": "stream",
     "text": [
      "Processing data_objects:  75%|███████▌  | 153/203 [01:45<00:12,  3.98it/s]"
     ]
    },
    {
     "name": "stdout",
     "output_type": "stream",
     "text": [
      "第 1484 条数据用时: 104.30 秒\n",
      "第 1456 条数据用时: 104.70 秒\n",
      "第 1611 条数据用时: 104.61 秒\n"
     ]
    },
    {
     "name": "stderr",
     "output_type": "stream",
     "text": [
      "Processing data_objects:  77%|███████▋  | 156/203 [01:45<00:08,  5.52it/s]"
     ]
    },
    {
     "name": "stdout",
     "output_type": "stream",
     "text": [
      "第 1533 条数据用时: 104.81 秒\n"
     ]
    },
    {
     "name": "stderr",
     "output_type": "stream",
     "text": [
      "Processing data_objects:  78%|███████▊  | 158/203 [01:46<00:10,  4.37it/s]"
     ]
    },
    {
     "name": "stdout",
     "output_type": "stream",
     "text": [
      "第 1548 条数据用时: 105.17 秒\n",
      "第 1493 条数据用时: 105.27 秒\n"
     ]
    },
    {
     "name": "stderr",
     "output_type": "stream",
     "text": [
      "Processing data_objects:  80%|███████▉  | 162/203 [01:46<00:05,  6.88it/s]"
     ]
    },
    {
     "name": "stdout",
     "output_type": "stream",
     "text": [
      "第 1549 条数据用时: 105.61 秒\n",
      "第 1485 条数据用时: 105.63 秒\n",
      "第 1490 条数据用时: 105.62 秒\n",
      "第 1617 条数据用时: 105.93 秒\n"
     ]
    },
    {
     "name": "stderr",
     "output_type": "stream",
     "text": [
      "Processing data_objects:  80%|████████  | 163/203 [01:46<00:06,  6.09it/s]"
     ]
    },
    {
     "name": "stdout",
     "output_type": "stream",
     "text": [
      "第 1491 条数据用时: 105.97 秒\n",
      "第 1550 条数据用时: 106.04 秒\n",
      "第 1488 条数据用时: 106.07 秒\n"
     ]
    },
    {
     "name": "stderr",
     "output_type": "stream",
     "text": [
      "Processing data_objects:  82%|████████▏ | 166/203 [01:46<00:04,  8.04it/s]"
     ]
    },
    {
     "name": "stdout",
     "output_type": "stream",
     "text": [
      "第 1424 条数据用时: 106.21 秒\n"
     ]
    },
    {
     "name": "stderr",
     "output_type": "stream",
     "text": [
      "Processing data_objects:  83%|████████▎ | 169/203 [01:47<00:03,  8.88it/s]"
     ]
    },
    {
     "name": "stdout",
     "output_type": "stream",
     "text": [
      "第 1555 条数据用时: 107.06 秒\n",
      "第 1526 条数据用时: 107.05 秒\n",
      "第 1541 条数据用时: 106.64 秒\n",
      "第 1620 条数据用时: 106.77 秒\n"
     ]
    },
    {
     "name": "stderr",
     "output_type": "stream",
     "text": [
      "Processing data_objects:  85%|████████▍ | 172/203 [01:47<00:04,  7.45it/s]"
     ]
    },
    {
     "name": "stdout",
     "output_type": "stream",
     "text": [
      "第 1506 条数据用时: 107.09 秒\n",
      "第 1505 条数据用时: 107.26 秒\n"
     ]
    },
    {
     "name": "stderr",
     "output_type": "stream",
     "text": [
      "Processing data_objects:  85%|████████▌ | 173/203 [01:47<00:03,  7.63it/s]"
     ]
    },
    {
     "name": "stdout",
     "output_type": "stream",
     "text": [
      "第 1507 条数据用时: 107.36 秒\n"
     ]
    },
    {
     "name": "stderr",
     "output_type": "stream",
     "text": [
      "Processing data_objects:  86%|████████▌ | 174/203 [01:48<00:04,  6.49it/s]"
     ]
    },
    {
     "name": "stdout",
     "output_type": "stream",
     "text": [
      "第 1539 条数据用时: 107.49 秒\n"
     ]
    },
    {
     "name": "stderr",
     "output_type": "stream",
     "text": [
      "Processing data_objects:  86%|████████▌ | 175/203 [01:48<00:05,  5.47it/s]"
     ]
    },
    {
     "name": "stdout",
     "output_type": "stream",
     "text": [
      "第 1464 条数据用时: 107.59 秒\n"
     ]
    },
    {
     "name": "stderr",
     "output_type": "stream",
     "text": [
      "Processing data_objects:  87%|████████▋ | 176/203 [01:50<00:21,  1.27it/s]"
     ]
    },
    {
     "name": "stdout",
     "output_type": "stream",
     "text": [
      "第 1591 条数据用时: 110.08 秒\n"
     ]
    },
    {
     "name": "stderr",
     "output_type": "stream",
     "text": [
      "Processing data_objects:  87%|████████▋ | 177/203 [01:51<00:16,  1.58it/s]"
     ]
    },
    {
     "name": "stdout",
     "output_type": "stream",
     "text": [
      "第 1510 条数据用时: 110.51 秒\n"
     ]
    },
    {
     "name": "stderr",
     "output_type": "stream",
     "text": [
      "Processing data_objects:  88%|████████▊ | 179/203 [01:51<00:10,  2.31it/s]"
     ]
    },
    {
     "name": "stdout",
     "output_type": "stream",
     "text": [
      "第 1511 条数据用时: 110.84 秒\n",
      "第 1558 条数据用时: 111.38 秒\n"
     ]
    },
    {
     "name": "stderr",
     "output_type": "stream",
     "text": [
      "Processing data_objects:  89%|████████▉ | 181/203 [01:52<00:09,  2.33it/s]"
     ]
    },
    {
     "name": "stdout",
     "output_type": "stream",
     "text": [
      "第 1573 条数据用时: 112.17 秒\n",
      "第 1509 条数据用时: 111.97 秒\n"
     ]
    },
    {
     "name": "stderr",
     "output_type": "stream",
     "text": [
      "Processing data_objects:  91%|█████████ | 184/203 [01:53<00:04,  4.03it/s]"
     ]
    },
    {
     "name": "stdout",
     "output_type": "stream",
     "text": [
      "第 1479 条数据用时: 112.11 秒\n",
      "第 1551 条数据用时: 112.24 秒\n",
      "第 1517 条数据用时: 112.46 秒\n"
     ]
    },
    {
     "name": "stderr",
     "output_type": "stream",
     "text": [
      "Processing data_objects:  91%|█████████ | 185/203 [01:53<00:05,  3.00it/s]"
     ]
    },
    {
     "name": "stdout",
     "output_type": "stream",
     "text": [
      "第 1451 条数据用时: 113.33 秒\n",
      "第 1618 条数据用时: 113.11 秒\n"
     ]
    },
    {
     "name": "stderr",
     "output_type": "stream",
     "text": [
      "Processing data_objects:  92%|█████████▏| 187/203 [01:53<00:03,  4.06it/s]"
     ]
    },
    {
     "name": "stdout",
     "output_type": "stream",
     "text": [
      "第 1594 条数据用时: 113.08 秒\n"
     ]
    },
    {
     "name": "stderr",
     "output_type": "stream",
     "text": [
      "Processing data_objects:  93%|█████████▎| 188/203 [01:54<00:05,  2.88it/s]"
     ]
    },
    {
     "name": "stdout",
     "output_type": "stream",
     "text": [
      "第 1443 条数据用时: 113.76 秒\n"
     ]
    },
    {
     "name": "stderr",
     "output_type": "stream",
     "text": [
      "Processing data_objects:  94%|█████████▎| 190/203 [01:55<00:03,  3.27it/s]"
     ]
    },
    {
     "name": "stdout",
     "output_type": "stream",
     "text": [
      "第 1546 条数据用时: 114.28 秒\n",
      "第 1512 条数据用时: 114.50 秒\n"
     ]
    },
    {
     "name": "stderr",
     "output_type": "stream",
     "text": [
      "Processing data_objects:  94%|█████████▍| 191/203 [01:55<00:03,  3.43it/s]"
     ]
    },
    {
     "name": "stdout",
     "output_type": "stream",
     "text": [
      "第 1472 条数据用时: 115.29 秒\n"
     ]
    },
    {
     "name": "stderr",
     "output_type": "stream",
     "text": [
      "Processing data_objects:  95%|█████████▍| 192/203 [01:56<00:06,  1.61it/s]"
     ]
    },
    {
     "name": "stdout",
     "output_type": "stream",
     "text": [
      "第 1495 条数据用时: 116.04 秒\n"
     ]
    },
    {
     "name": "stderr",
     "output_type": "stream",
     "text": [
      "Processing data_objects:  95%|█████████▌| 193/203 [01:57<00:05,  1.86it/s]"
     ]
    },
    {
     "name": "stdout",
     "output_type": "stream",
     "text": [
      "第 1537 条数据用时: 116.56 秒\n"
     ]
    },
    {
     "name": "stderr",
     "output_type": "stream",
     "text": [
      "Processing data_objects:  96%|█████████▌| 194/203 [01:57<00:04,  2.22it/s]"
     ]
    },
    {
     "name": "stdout",
     "output_type": "stream",
     "text": [
      "第 1434 条数据用时: 116.89 秒\n"
     ]
    },
    {
     "name": "stderr",
     "output_type": "stream",
     "text": [
      "Processing data_objects:  96%|█████████▌| 195/203 [01:58<00:06,  1.32it/s]"
     ]
    },
    {
     "name": "stdout",
     "output_type": "stream",
     "text": [
      "第 1513 条数据用时: 118.28 秒\n"
     ]
    },
    {
     "name": "stderr",
     "output_type": "stream",
     "text": [
      "Processing data_objects:  97%|█████████▋| 196/203 [01:59<00:04,  1.54it/s]"
     ]
    },
    {
     "name": "stdout",
     "output_type": "stream",
     "text": [
      "第 1578 条数据用时: 118.98 秒\n"
     ]
    },
    {
     "name": "stderr",
     "output_type": "stream",
     "text": [
      "Processing data_objects:  97%|█████████▋| 197/203 [02:00<00:04,  1.21it/s]"
     ]
    },
    {
     "name": "stdout",
     "output_type": "stream",
     "text": [
      "第 1615 条数据用时: 119.99 秒\n",
      "第 1463 条数据用时: 119.76 秒\n"
     ]
    },
    {
     "name": "stderr",
     "output_type": "stream",
     "text": [
      "Processing data_objects:  98%|█████████▊| 199/203 [02:01<00:02,  1.67it/s]"
     ]
    },
    {
     "name": "stdout",
     "output_type": "stream",
     "text": [
      "第 1439 条数据用时: 120.54 秒\n"
     ]
    },
    {
     "name": "stderr",
     "output_type": "stream",
     "text": [
      "Processing data_objects:  99%|█████████▊| 200/203 [02:04<00:03,  1.15s/it]"
     ]
    },
    {
     "name": "stdout",
     "output_type": "stream",
     "text": [
      "第 1608 条数据用时: 123.84 秒\n"
     ]
    },
    {
     "name": "stderr",
     "output_type": "stream",
     "text": [
      "Processing data_objects:  99%|█████████▉| 201/203 [02:05<00:02,  1.34s/it]"
     ]
    },
    {
     "name": "stdout",
     "output_type": "stream",
     "text": [
      "第 1600 条数据用时: 125.83 秒\n"
     ]
    },
    {
     "name": "stderr",
     "output_type": "stream",
     "text": [
      "Processing data_objects: 100%|█████████▉| 202/203 [02:08<00:01,  1.80s/it]"
     ]
    },
    {
     "name": "stdout",
     "output_type": "stream",
     "text": [
      "第 1592 条数据用时: 128.13 秒\n"
     ]
    },
    {
     "name": "stderr",
     "output_type": "stream",
     "text": [
      "Processing data_objects: 100%|██████████| 203/203 [10:10<00:00,  3.01s/it] \n"
     ]
    },
    {
     "name": "stdout",
     "output_type": "stream",
     "text": [
      "第 1535 条数据用时: 610.12 秒\n"
     ]
    },
    {
     "name": "stderr",
     "output_type": "stream",
     "text": [
      "Processing data_objects:   0%|          | 1/203 [00:25<1:24:51, 25.20s/it]"
     ]
    },
    {
     "name": "stdout",
     "output_type": "stream",
     "text": [
      "第 1717 条数据用时: 25.02 秒\n",
      "第 1764 条数据用时: 25.01 秒\n"
     ]
    },
    {
     "name": "stderr",
     "output_type": "stream",
     "text": [
      "Processing data_objects:   1%|▏         | 3/203 [00:30<27:45,  8.33s/it]  "
     ]
    },
    {
     "name": "stdout",
     "output_type": "stream",
     "text": [
      "第 1694 条数据用时: 29.75 秒\n"
     ]
    },
    {
     "name": "stderr",
     "output_type": "stream",
     "text": [
      "Processing data_objects:   2%|▏         | 4/203 [00:30<18:22,  5.54s/it]"
     ]
    },
    {
     "name": "stdout",
     "output_type": "stream",
     "text": [
      "第 1664 条数据用时: 29.95 秒\n"
     ]
    },
    {
     "name": "stderr",
     "output_type": "stream",
     "text": [
      "Processing data_objects:   2%|▏         | 5/203 [00:30<12:36,  3.82s/it]"
     ]
    },
    {
     "name": "stdout",
     "output_type": "stream",
     "text": [
      "第 1815 条数据用时: 30.26 秒\n"
     ]
    },
    {
     "name": "stderr",
     "output_type": "stream",
     "text": [
      "Processing data_objects:   3%|▎         | 6/203 [00:30<08:52,  2.70s/it]"
     ]
    },
    {
     "name": "stdout",
     "output_type": "stream",
     "text": [
      "第 1816 条数据用时: 30.59 秒\n"
     ]
    },
    {
     "name": "stderr",
     "output_type": "stream",
     "text": [
      "Processing data_objects:   3%|▎         | 7/203 [00:31<06:29,  1.99s/it]"
     ]
    },
    {
     "name": "stdout",
     "output_type": "stream",
     "text": [
      "第 1733 条数据用时: 31.31 秒\n"
     ]
    },
    {
     "name": "stderr",
     "output_type": "stream",
     "text": [
      "Processing data_objects:   4%|▍         | 8/203 [00:31<04:55,  1.51s/it]"
     ]
    },
    {
     "name": "stdout",
     "output_type": "stream",
     "text": [
      "第 1750 条数据用时: 31.53 秒\n"
     ]
    },
    {
     "name": "stderr",
     "output_type": "stream",
     "text": [
      "Processing data_objects:   4%|▍         | 9/203 [00:32<04:15,  1.32s/it]"
     ]
    },
    {
     "name": "stdout",
     "output_type": "stream",
     "text": [
      "第 1626 条数据用时: 32.36 秒\n"
     ]
    },
    {
     "name": "stderr",
     "output_type": "stream",
     "text": [
      "Processing data_objects:   5%|▌         | 11/203 [00:38<05:44,  1.80s/it]"
     ]
    },
    {
     "name": "stdout",
     "output_type": "stream",
     "text": [
      "第 1670 条数据用时: 37.82 秒\n",
      "第 1696 条数据用时: 37.79 秒\n"
     ]
    },
    {
     "name": "stderr",
     "output_type": "stream",
     "text": [
      "Processing data_objects:   6%|▌         | 12/203 [00:38<04:32,  1.42s/it]"
     ]
    },
    {
     "name": "stdout",
     "output_type": "stream",
     "text": [
      "第 1738 条数据用时: 38.51 秒\n"
     ]
    },
    {
     "name": "stderr",
     "output_type": "stream",
     "text": [
      "Processing data_objects:   6%|▋         | 13/203 [00:40<04:46,  1.51s/it]"
     ]
    },
    {
     "name": "stdout",
     "output_type": "stream",
     "text": [
      "第 1710 条数据用时: 39.98 秒\n"
     ]
    },
    {
     "name": "stderr",
     "output_type": "stream",
     "text": [
      "Processing data_objects:   7%|▋         | 14/203 [00:41<04:19,  1.37s/it]"
     ]
    },
    {
     "name": "stdout",
     "output_type": "stream",
     "text": [
      "第 1811 条数据用时: 41.15 秒\n"
     ]
    },
    {
     "name": "stderr",
     "output_type": "stream",
     "text": [
      "Processing data_objects:   7%|▋         | 15/203 [00:42<03:31,  1.13s/it]"
     ]
    },
    {
     "name": "stdout",
     "output_type": "stream",
     "text": [
      "第 1752 条数据用时: 41.95 秒\n"
     ]
    },
    {
     "name": "stderr",
     "output_type": "stream",
     "text": [
      "Processing data_objects:   8%|▊         | 16/203 [00:42<03:16,  1.05s/it]"
     ]
    },
    {
     "name": "stdout",
     "output_type": "stream",
     "text": [
      "第 1757 条数据用时: 42.78 秒\n"
     ]
    },
    {
     "name": "stderr",
     "output_type": "stream",
     "text": [
      "Processing data_objects:   8%|▊         | 17/203 [00:43<02:48,  1.10it/s]"
     ]
    },
    {
     "name": "stdout",
     "output_type": "stream",
     "text": [
      "第 1658 条数据用时: 43.36 秒\n"
     ]
    },
    {
     "name": "stderr",
     "output_type": "stream",
     "text": [
      "Processing data_objects:   9%|▉         | 18/203 [00:43<02:16,  1.36it/s]"
     ]
    },
    {
     "name": "stdout",
     "output_type": "stream",
     "text": [
      "第 1767 条数据用时: 43.56 秒\n"
     ]
    },
    {
     "name": "stderr",
     "output_type": "stream",
     "text": [
      "Processing data_objects:   9%|▉         | 19/203 [00:44<02:08,  1.43it/s]"
     ]
    },
    {
     "name": "stdout",
     "output_type": "stream",
     "text": [
      "第 1741 条数据用时: 44.18 秒\n"
     ]
    },
    {
     "name": "stderr",
     "output_type": "stream",
     "text": [
      "Processing data_objects:  10%|▉         | 20/203 [00:45<02:08,  1.43it/s]"
     ]
    },
    {
     "name": "stdout",
     "output_type": "stream",
     "text": [
      "第 1672 条数据用时: 44.95 秒\n"
     ]
    },
    {
     "name": "stderr",
     "output_type": "stream",
     "text": [
      "Processing data_objects:  11%|█         | 22/203 [00:45<01:30,  2.01it/s]"
     ]
    },
    {
     "name": "stdout",
     "output_type": "stream",
     "text": [
      "第 1759 条数据用时: 45.48 秒\n",
      "第 1746 条数据用时: 45.49 秒\n"
     ]
    },
    {
     "name": "stderr",
     "output_type": "stream",
     "text": [
      "Processing data_objects:  11%|█▏        | 23/203 [00:46<01:29,  2.01it/s]"
     ]
    },
    {
     "name": "stdout",
     "output_type": "stream",
     "text": [
      "第 1673 条数据用时: 46.10 秒\n"
     ]
    },
    {
     "name": "stderr",
     "output_type": "stream",
     "text": [
      "Processing data_objects:  12%|█▏        | 24/203 [00:46<01:38,  1.82it/s]"
     ]
    },
    {
     "name": "stdout",
     "output_type": "stream",
     "text": [
      "第 1749 条数据用时: 46.60 秒\n"
     ]
    },
    {
     "name": "stderr",
     "output_type": "stream",
     "text": [
      "Processing data_objects:  12%|█▏        | 25/203 [00:48<02:21,  1.26it/s]"
     ]
    },
    {
     "name": "stdout",
     "output_type": "stream",
     "text": [
      "第 1692 条数据用时: 48.04 秒\n"
     ]
    },
    {
     "name": "stderr",
     "output_type": "stream",
     "text": [
      "Processing data_objects:  13%|█▎        | 26/203 [00:48<02:03,  1.43it/s]"
     ]
    },
    {
     "name": "stdout",
     "output_type": "stream",
     "text": [
      "第 1715 条数据用时: 48.51 秒\n"
     ]
    },
    {
     "name": "stderr",
     "output_type": "stream",
     "text": [
      "Processing data_objects:  13%|█▎        | 27/203 [00:49<01:57,  1.49it/s]"
     ]
    },
    {
     "name": "stdout",
     "output_type": "stream",
     "text": [
      "第 1739 条数据用时: 49.20 秒\n",
      "第 1688 条数据用时: 49.32 秒\n"
     ]
    },
    {
     "name": "stderr",
     "output_type": "stream",
     "text": [
      "Processing data_objects:  14%|█▍        | 29/203 [00:50<01:29,  1.95it/s]"
     ]
    },
    {
     "name": "stdout",
     "output_type": "stream",
     "text": [
      "第 1628 条数据用时: 49.69 秒\n"
     ]
    },
    {
     "name": "stderr",
     "output_type": "stream",
     "text": [
      "Processing data_objects:  15%|█▍        | 30/203 [00:50<01:24,  2.05it/s]"
     ]
    },
    {
     "name": "stdout",
     "output_type": "stream",
     "text": [
      "第 1698 条数据用时: 50.20 秒\n"
     ]
    },
    {
     "name": "stderr",
     "output_type": "stream",
     "text": [
      "Processing data_objects:  15%|█▌        | 31/203 [00:50<01:17,  2.21it/s]"
     ]
    },
    {
     "name": "stdout",
     "output_type": "stream",
     "text": [
      "第 1685 条数据用时: 50.78 秒\n"
     ]
    },
    {
     "name": "stderr",
     "output_type": "stream",
     "text": [
      "Processing data_objects:  16%|█▌        | 32/203 [00:51<01:14,  2.29it/s]"
     ]
    },
    {
     "name": "stdout",
     "output_type": "stream",
     "text": [
      "第 1704 条数据用时: 51.19 秒\n"
     ]
    },
    {
     "name": "stderr",
     "output_type": "stream",
     "text": [
      "Processing data_objects:  16%|█▋        | 33/203 [00:51<01:17,  2.18it/s]"
     ]
    },
    {
     "name": "stdout",
     "output_type": "stream",
     "text": [
      "第 1732 条数据用时: 51.63 秒\n"
     ]
    },
    {
     "name": "stderr",
     "output_type": "stream",
     "text": [
      "Processing data_objects:  17%|█▋        | 34/203 [00:52<01:33,  1.80it/s]"
     ]
    },
    {
     "name": "stdout",
     "output_type": "stream",
     "text": [
      "第 1761 条数据用时: 52.36 秒\n"
     ]
    },
    {
     "name": "stderr",
     "output_type": "stream",
     "text": [
      "Processing data_objects:  17%|█▋        | 35/203 [00:52<01:23,  2.01it/s]"
     ]
    },
    {
     "name": "stdout",
     "output_type": "stream",
     "text": [
      "第 1654 条数据用时: 52.85 秒\n"
     ]
    },
    {
     "name": "stderr",
     "output_type": "stream",
     "text": [
      "Processing data_objects:  18%|█▊        | 36/203 [00:53<01:43,  1.61it/s]"
     ]
    },
    {
     "name": "stdout",
     "output_type": "stream",
     "text": [
      "第 1703 条数据用时: 53.56 秒\n"
     ]
    },
    {
     "name": "stderr",
     "output_type": "stream",
     "text": [
      "Processing data_objects:  18%|█▊        | 37/203 [00:54<01:24,  1.97it/s]"
     ]
    },
    {
     "name": "stdout",
     "output_type": "stream",
     "text": [
      "第 1736 条数据用时: 53.88 秒\n"
     ]
    },
    {
     "name": "stderr",
     "output_type": "stream",
     "text": [
      "Processing data_objects:  19%|█▊        | 38/203 [00:54<01:19,  2.09it/s]"
     ]
    },
    {
     "name": "stdout",
     "output_type": "stream",
     "text": [
      "第 1735 条数据用时: 54.31 秒\n"
     ]
    },
    {
     "name": "stderr",
     "output_type": "stream",
     "text": [
      "Processing data_objects:  19%|█▉        | 39/203 [00:54<01:16,  2.14it/s]"
     ]
    },
    {
     "name": "stdout",
     "output_type": "stream",
     "text": [
      "第 1745 条数据用时: 54.60 秒\n"
     ]
    },
    {
     "name": "stderr",
     "output_type": "stream",
     "text": [
      "Processing data_objects:  20%|█▉        | 40/203 [00:55<01:21,  2.00it/s]"
     ]
    },
    {
     "name": "stdout",
     "output_type": "stream",
     "text": [
      "第 1808 条数据用时: 55.19 秒\n"
     ]
    },
    {
     "name": "stderr",
     "output_type": "stream",
     "text": [
      "Processing data_objects:  20%|██        | 41/203 [00:55<01:18,  2.06it/s]"
     ]
    },
    {
     "name": "stdout",
     "output_type": "stream",
     "text": [
      "第 1711 条数据用时: 55.71 秒\n"
     ]
    },
    {
     "name": "stderr",
     "output_type": "stream",
     "text": [
      "Processing data_objects:  21%|██        | 42/203 [00:56<01:13,  2.19it/s]"
     ]
    },
    {
     "name": "stdout",
     "output_type": "stream",
     "text": [
      "第 1765 条数据用时: 56.10 秒\n"
     ]
    },
    {
     "name": "stderr",
     "output_type": "stream",
     "text": [
      "Processing data_objects:  21%|██        | 43/203 [00:57<01:35,  1.67it/s]"
     ]
    },
    {
     "name": "stdout",
     "output_type": "stream",
     "text": [
      "第 1678 条数据用时: 56.83 秒\n",
      "第 1768 条数据用时: 56.98 秒\n"
     ]
    },
    {
     "name": "stderr",
     "output_type": "stream",
     "text": [
      "Processing data_objects:  22%|██▏       | 45/203 [00:58<01:21,  1.94it/s]"
     ]
    },
    {
     "name": "stdout",
     "output_type": "stream",
     "text": [
      "第 1812 条数据用时: 57.74 秒\n"
     ]
    },
    {
     "name": "stderr",
     "output_type": "stream",
     "text": [
      "Processing data_objects:  23%|██▎       | 46/203 [00:58<01:29,  1.75it/s]"
     ]
    },
    {
     "name": "stdout",
     "output_type": "stream",
     "text": [
      "第 1686 条数据用时: 58.66 秒\n",
      "第 1713 条数据用时: 58.58 秒\n"
     ]
    },
    {
     "name": "stderr",
     "output_type": "stream",
     "text": [
      "Processing data_objects:  24%|██▎       | 48/203 [00:59<01:20,  1.92it/s]"
     ]
    },
    {
     "name": "stdout",
     "output_type": "stream",
     "text": [
      "第 1631 条数据用时: 59.66 秒\n"
     ]
    },
    {
     "name": "stderr",
     "output_type": "stream",
     "text": [
      "Processing data_objects:  24%|██▍       | 49/203 [01:00<01:15,  2.05it/s]"
     ]
    },
    {
     "name": "stdout",
     "output_type": "stream",
     "text": [
      "第 1657 条数据用时: 60.04 秒\n"
     ]
    },
    {
     "name": "stderr",
     "output_type": "stream",
     "text": [
      "Processing data_objects:  25%|██▍       | 50/203 [01:00<01:10,  2.18it/s]"
     ]
    },
    {
     "name": "stdout",
     "output_type": "stream",
     "text": [
      "第 1637 条数据用时: 60.21 秒\n",
      "第 1753 条数据用时: 60.39 秒\n"
     ]
    },
    {
     "name": "stderr",
     "output_type": "stream",
     "text": [
      "Processing data_objects:  26%|██▌       | 52/203 [01:01<01:13,  2.07it/s]"
     ]
    },
    {
     "name": "stdout",
     "output_type": "stream",
     "text": [
      "第 1747 条数据用时: 61.18 秒\n"
     ]
    },
    {
     "name": "stderr",
     "output_type": "stream",
     "text": [
      "Processing data_objects:  26%|██▌       | 53/203 [01:02<01:21,  1.84it/s]"
     ]
    },
    {
     "name": "stdout",
     "output_type": "stream",
     "text": [
      "第 1691 条数据用时: 62.13 秒\n"
     ]
    },
    {
     "name": "stderr",
     "output_type": "stream",
     "text": [
      "Processing data_objects:  27%|██▋       | 54/203 [01:02<01:17,  1.91it/s]"
     ]
    },
    {
     "name": "stdout",
     "output_type": "stream",
     "text": [
      "第 1677 条数据用时: 62.35 秒\n"
     ]
    },
    {
     "name": "stderr",
     "output_type": "stream",
     "text": [
      "Processing data_objects:  27%|██▋       | 55/203 [01:03<01:12,  2.05it/s]"
     ]
    },
    {
     "name": "stdout",
     "output_type": "stream",
     "text": [
      "第 1810 条数据用时: 62.78 秒\n"
     ]
    },
    {
     "name": "stderr",
     "output_type": "stream",
     "text": [
      "Processing data_objects:  28%|██▊       | 56/203 [01:03<01:07,  2.17it/s]"
     ]
    },
    {
     "name": "stdout",
     "output_type": "stream",
     "text": [
      "第 1740 条数据用时: 63.26 秒\n"
     ]
    },
    {
     "name": "stderr",
     "output_type": "stream",
     "text": [
      "Processing data_objects:  28%|██▊       | 57/203 [01:03<01:07,  2.17it/s]"
     ]
    },
    {
     "name": "stdout",
     "output_type": "stream",
     "text": [
      "第 1763 条数据用时: 63.76 秒\n"
     ]
    },
    {
     "name": "stderr",
     "output_type": "stream",
     "text": [
      "Processing data_objects:  29%|██▊       | 58/203 [01:04<01:16,  1.89it/s]"
     ]
    },
    {
     "name": "stdout",
     "output_type": "stream",
     "text": [
      "第 1641 条数据用时: 64.25 秒\n"
     ]
    },
    {
     "name": "stderr",
     "output_type": "stream",
     "text": [
      "Processing data_objects:  29%|██▉       | 59/203 [01:05<01:11,  2.02it/s]"
     ]
    },
    {
     "name": "stdout",
     "output_type": "stream",
     "text": [
      "第 1825 条数据用时: 64.52 秒\n"
     ]
    },
    {
     "name": "stderr",
     "output_type": "stream",
     "text": [
      "Processing data_objects:  30%|██▉       | 60/203 [01:05<01:04,  2.21it/s]"
     ]
    },
    {
     "name": "stdout",
     "output_type": "stream",
     "text": [
      "第 1762 条数据用时: 65.23 秒\n"
     ]
    },
    {
     "name": "stderr",
     "output_type": "stream",
     "text": [
      "Processing data_objects:  30%|███       | 61/203 [01:05<01:00,  2.34it/s]"
     ]
    },
    {
     "name": "stdout",
     "output_type": "stream",
     "text": [
      "第 1638 条数据用时: 65.73 秒\n"
     ]
    },
    {
     "name": "stderr",
     "output_type": "stream",
     "text": [
      "Processing data_objects:  31%|███       | 62/203 [01:06<00:54,  2.58it/s]"
     ]
    },
    {
     "name": "stdout",
     "output_type": "stream",
     "text": [
      "第 1693 条数据用时: 65.76 秒\n"
     ]
    },
    {
     "name": "stderr",
     "output_type": "stream",
     "text": [
      "Processing data_objects:  31%|███       | 63/203 [01:06<00:53,  2.60it/s]"
     ]
    },
    {
     "name": "stdout",
     "output_type": "stream",
     "text": [
      "第 1734 条数据用时: 66.31 秒\n",
      "第 1742 条数据用时: 66.19 秒\n"
     ]
    },
    {
     "name": "stderr",
     "output_type": "stream",
     "text": [
      "Processing data_objects:  32%|███▏      | 65/203 [01:07<01:12,  1.89it/s]"
     ]
    },
    {
     "name": "stdout",
     "output_type": "stream",
     "text": [
      "第 1671 条数据用时: 67.67 秒\n"
     ]
    },
    {
     "name": "stderr",
     "output_type": "stream",
     "text": [
      "Processing data_objects:  33%|███▎      | 66/203 [01:08<01:21,  1.68it/s]"
     ]
    },
    {
     "name": "stdout",
     "output_type": "stream",
     "text": [
      "第 1760 条数据用时: 68.48 秒\n"
     ]
    },
    {
     "name": "stderr",
     "output_type": "stream",
     "text": [
      "Processing data_objects:  33%|███▎      | 67/203 [01:08<01:12,  1.88it/s]"
     ]
    },
    {
     "name": "stdout",
     "output_type": "stream",
     "text": [
      "第 1789 条数据用时: 68.61 秒\n"
     ]
    },
    {
     "name": "stderr",
     "output_type": "stream",
     "text": [
      "Processing data_objects:  33%|███▎      | 68/203 [01:09<01:08,  1.98it/s]"
     ]
    },
    {
     "name": "stdout",
     "output_type": "stream",
     "text": [
      "第 1665 条数据用时: 68.86 秒\n"
     ]
    },
    {
     "name": "stderr",
     "output_type": "stream",
     "text": [
      "Processing data_objects:  34%|███▍      | 69/203 [01:09<01:01,  2.17it/s]"
     ]
    },
    {
     "name": "stdout",
     "output_type": "stream",
     "text": [
      "第 1712 条数据用时: 69.55 秒\n"
     ]
    },
    {
     "name": "stderr",
     "output_type": "stream",
     "text": [
      "Processing data_objects:  34%|███▍      | 70/203 [01:10<00:57,  2.30it/s]"
     ]
    },
    {
     "name": "stdout",
     "output_type": "stream",
     "text": [
      "第 1792 条数据用时: 69.72 秒\n"
     ]
    },
    {
     "name": "stderr",
     "output_type": "stream",
     "text": [
      "Processing data_objects:  35%|███▍      | 71/203 [01:10<00:58,  2.27it/s]"
     ]
    },
    {
     "name": "stdout",
     "output_type": "stream",
     "text": [
      "第 1758 条数据用时: 70.47 秒\n"
     ]
    },
    {
     "name": "stderr",
     "output_type": "stream",
     "text": [
      "Processing data_objects:  35%|███▌      | 72/203 [01:11<01:10,  1.85it/s]"
     ]
    },
    {
     "name": "stdout",
     "output_type": "stream",
     "text": [
      "第 1647 条数据用时: 71.36 秒\n"
     ]
    },
    {
     "name": "stderr",
     "output_type": "stream",
     "text": [
      "Processing data_objects:  36%|███▌      | 73/203 [01:11<01:04,  2.03it/s]"
     ]
    },
    {
     "name": "stdout",
     "output_type": "stream",
     "text": [
      "第 1636 条数据用时: 71.19 秒\n"
     ]
    },
    {
     "name": "stderr",
     "output_type": "stream",
     "text": [
      "Processing data_objects:  36%|███▋      | 74/203 [01:12<00:58,  2.20it/s]"
     ]
    },
    {
     "name": "stdout",
     "output_type": "stream",
     "text": [
      "第 1681 条数据用时: 72.04 秒\n"
     ]
    },
    {
     "name": "stderr",
     "output_type": "stream",
     "text": [
      "Processing data_objects:  37%|███▋      | 75/203 [01:12<00:53,  2.37it/s]"
     ]
    },
    {
     "name": "stdout",
     "output_type": "stream",
     "text": [
      "第 1702 条数据用时: 71.88 秒\n"
     ]
    },
    {
     "name": "stderr",
     "output_type": "stream",
     "text": [
      "Processing data_objects:  37%|███▋      | 76/203 [01:12<00:56,  2.25it/s]"
     ]
    },
    {
     "name": "stdout",
     "output_type": "stream",
     "text": [
      "第 1668 条数据用时: 72.63 秒\n"
     ]
    },
    {
     "name": "stderr",
     "output_type": "stream",
     "text": [
      "Processing data_objects:  38%|███▊      | 77/203 [01:13<01:05,  1.93it/s]"
     ]
    },
    {
     "name": "stdout",
     "output_type": "stream",
     "text": [
      "第 1674 条数据用时: 73.21 秒\n"
     ]
    },
    {
     "name": "stderr",
     "output_type": "stream",
     "text": [
      "Processing data_objects:  38%|███▊      | 78/203 [01:14<01:05,  1.92it/s]"
     ]
    },
    {
     "name": "stdout",
     "output_type": "stream",
     "text": [
      "第 1744 条数据用时: 73.91 秒\n"
     ]
    },
    {
     "name": "stderr",
     "output_type": "stream",
     "text": [
      "Processing data_objects:  39%|███▉      | 79/203 [01:15<01:22,  1.50it/s]"
     ]
    },
    {
     "name": "stdout",
     "output_type": "stream",
     "text": [
      "第 1709 条数据用时: 74.76 秒\n"
     ]
    },
    {
     "name": "stderr",
     "output_type": "stream",
     "text": [
      "Processing data_objects:  39%|███▉      | 80/203 [01:15<01:11,  1.72it/s]"
     ]
    },
    {
     "name": "stdout",
     "output_type": "stream",
     "text": [
      "第 1695 条数据用时: 75.25 秒\n"
     ]
    },
    {
     "name": "stderr",
     "output_type": "stream",
     "text": [
      "Processing data_objects:  40%|███▉      | 81/203 [01:15<01:04,  1.90it/s]"
     ]
    },
    {
     "name": "stdout",
     "output_type": "stream",
     "text": [
      "第 1790 条数据用时: 75.57 秒\n"
     ]
    },
    {
     "name": "stderr",
     "output_type": "stream",
     "text": [
      "Processing data_objects:  40%|████      | 82/203 [01:16<01:08,  1.77it/s]"
     ]
    },
    {
     "name": "stdout",
     "output_type": "stream",
     "text": [
      "第 1743 条数据用时: 76.36 秒\n"
     ]
    },
    {
     "name": "stderr",
     "output_type": "stream",
     "text": [
      "Processing data_objects:  41%|████      | 83/203 [01:17<01:08,  1.75it/s]"
     ]
    },
    {
     "name": "stdout",
     "output_type": "stream",
     "text": [
      "第 1818 条数据用时: 76.77 秒\n"
     ]
    },
    {
     "name": "stderr",
     "output_type": "stream",
     "text": [
      "Processing data_objects:  41%|████▏     | 84/203 [01:17<01:09,  1.72it/s]"
     ]
    },
    {
     "name": "stdout",
     "output_type": "stream",
     "text": [
      "第 1769 条数据用时: 77.55 秒\n"
     ]
    },
    {
     "name": "stderr",
     "output_type": "stream",
     "text": [
      "Processing data_objects:  42%|████▏     | 85/203 [01:18<01:01,  1.92it/s]"
     ]
    },
    {
     "name": "stdout",
     "output_type": "stream",
     "text": [
      "第 1667 条数据用时: 77.88 秒\n"
     ]
    },
    {
     "name": "stderr",
     "output_type": "stream",
     "text": [
      "Processing data_objects:  42%|████▏     | 86/203 [01:19<01:17,  1.51it/s]"
     ]
    },
    {
     "name": "stdout",
     "output_type": "stream",
     "text": [
      "第 1819 条数据用时: 78.73 秒\n"
     ]
    },
    {
     "name": "stderr",
     "output_type": "stream",
     "text": [
      "Processing data_objects:  43%|████▎     | 87/203 [01:19<01:02,  1.85it/s]"
     ]
    },
    {
     "name": "stdout",
     "output_type": "stream",
     "text": [
      "第 1679 条数据用时: 79.40 秒\n"
     ]
    },
    {
     "name": "stderr",
     "output_type": "stream",
     "text": [
      "Processing data_objects:  43%|████▎     | 88/203 [01:19<00:57,  2.00it/s]"
     ]
    },
    {
     "name": "stdout",
     "output_type": "stream",
     "text": [
      "第 1824 条数据用时: 79.33 秒\n"
     ]
    },
    {
     "name": "stderr",
     "output_type": "stream",
     "text": [
      "Processing data_objects:  44%|████▍     | 90/203 [01:21<00:58,  1.95it/s]"
     ]
    },
    {
     "name": "stdout",
     "output_type": "stream",
     "text": [
      "第 1756 条数据用时: 80.87 秒\n",
      "第 1772 条数据用时: 80.49 秒\n"
     ]
    },
    {
     "name": "stderr",
     "output_type": "stream",
     "text": [
      "Processing data_objects:  45%|████▍     | 91/203 [01:21<00:52,  2.15it/s]"
     ]
    },
    {
     "name": "stdout",
     "output_type": "stream",
     "text": [
      "第 1730 条数据用时: 80.66 秒\n"
     ]
    },
    {
     "name": "stderr",
     "output_type": "stream",
     "text": [
      "Processing data_objects:  45%|████▌     | 92/203 [01:21<00:47,  2.34it/s]"
     ]
    },
    {
     "name": "stdout",
     "output_type": "stream",
     "text": [
      "第 1797 条数据用时: 81.27 秒\n"
     ]
    },
    {
     "name": "stderr",
     "output_type": "stream",
     "text": [
      "Processing data_objects:  46%|████▋     | 94/203 [01:22<00:52,  2.09it/s]"
     ]
    },
    {
     "name": "stdout",
     "output_type": "stream",
     "text": [
      "第 1814 条数据用时: 82.45 秒\n",
      "第 1697 条数据用时: 82.60 秒\n"
     ]
    },
    {
     "name": "stderr",
     "output_type": "stream",
     "text": [
      "Processing data_objects:  47%|████▋     | 95/203 [01:24<01:12,  1.48it/s]"
     ]
    },
    {
     "name": "stdout",
     "output_type": "stream",
     "text": [
      "第 1754 条数据用时: 84.04 秒\n"
     ]
    },
    {
     "name": "stderr",
     "output_type": "stream",
     "text": [
      "Processing data_objects:  47%|████▋     | 96/203 [01:24<01:01,  1.73it/s]"
     ]
    },
    {
     "name": "stdout",
     "output_type": "stream",
     "text": [
      "第 1690 条数据用时: 84.37 秒\n"
     ]
    },
    {
     "name": "stderr",
     "output_type": "stream",
     "text": [
      "Processing data_objects:  48%|████▊     | 97/203 [01:24<00:57,  1.83it/s]"
     ]
    },
    {
     "name": "stdout",
     "output_type": "stream",
     "text": [
      "第 1640 条数据用时: 84.47 秒\n",
      "第 1635 条数据用时: 84.88 秒\n"
     ]
    },
    {
     "name": "stderr",
     "output_type": "stream",
     "text": [
      "Processing data_objects:  49%|████▉     | 99/203 [01:25<00:47,  2.18it/s]"
     ]
    },
    {
     "name": "stdout",
     "output_type": "stream",
     "text": [
      "第 1724 条数据用时: 84.85 秒\n"
     ]
    },
    {
     "name": "stderr",
     "output_type": "stream",
     "text": [
      "Processing data_objects:  49%|████▉     | 100/203 [01:26<00:44,  2.31it/s]"
     ]
    },
    {
     "name": "stdout",
     "output_type": "stream",
     "text": [
      "第 1649 条数据用时: 85.89 秒\n",
      "第 1809 条数据用时: 85.71 秒\n"
     ]
    },
    {
     "name": "stderr",
     "output_type": "stream",
     "text": [
      "Processing data_objects:  50%|█████     | 102/203 [01:26<00:45,  2.20it/s]"
     ]
    },
    {
     "name": "stdout",
     "output_type": "stream",
     "text": [
      "第 1793 条数据用时: 86.54 秒\n"
     ]
    },
    {
     "name": "stderr",
     "output_type": "stream",
     "text": [
      "Processing data_objects:  51%|█████     | 103/203 [01:28<00:58,  1.70it/s]"
     ]
    },
    {
     "name": "stdout",
     "output_type": "stream",
     "text": [
      "第 1669 条数据用时: 87.67 秒\n"
     ]
    },
    {
     "name": "stderr",
     "output_type": "stream",
     "text": [
      "Processing data_objects:  51%|█████     | 104/203 [01:28<01:02,  1.60it/s]"
     ]
    },
    {
     "name": "stdout",
     "output_type": "stream",
     "text": [
      "第 1714 条数据用时: 88.50 秒\n"
     ]
    },
    {
     "name": "stderr",
     "output_type": "stream",
     "text": [
      "Processing data_objects:  52%|█████▏    | 105/203 [01:29<00:52,  1.85it/s]"
     ]
    },
    {
     "name": "stdout",
     "output_type": "stream",
     "text": [
      "第 1676 条数据用时: 88.59 秒\n"
     ]
    },
    {
     "name": "stderr",
     "output_type": "stream",
     "text": [
      "Processing data_objects:  52%|█████▏    | 106/203 [01:29<00:50,  1.93it/s]"
     ]
    },
    {
     "name": "stdout",
     "output_type": "stream",
     "text": [
      "第 1644 条数据用时: 89.42 秒\n"
     ]
    },
    {
     "name": "stderr",
     "output_type": "stream",
     "text": [
      "Processing data_objects:  53%|█████▎    | 107/203 [01:29<00:45,  2.10it/s]"
     ]
    },
    {
     "name": "stdout",
     "output_type": "stream",
     "text": [
      "第 1719 条数据用时: 89.22 秒\n"
     ]
    },
    {
     "name": "stderr",
     "output_type": "stream",
     "text": [
      "Processing data_objects:  53%|█████▎    | 108/203 [01:30<00:42,  2.25it/s]"
     ]
    },
    {
     "name": "stdout",
     "output_type": "stream",
     "text": [
      "第 1796 条数据用时: 89.77 秒\n"
     ]
    },
    {
     "name": "stderr",
     "output_type": "stream",
     "text": [
      "Processing data_objects:  54%|█████▎    | 109/203 [01:31<00:56,  1.67it/s]"
     ]
    },
    {
     "name": "stdout",
     "output_type": "stream",
     "text": [
      "第 1777 条数据用时: 90.54 秒\n",
      "第 1689 条数据用时: 90.99 秒\n"
     ]
    },
    {
     "name": "stderr",
     "output_type": "stream",
     "text": [
      "Processing data_objects:  55%|█████▍    | 111/203 [01:31<00:44,  2.05it/s]"
     ]
    },
    {
     "name": "stdout",
     "output_type": "stream",
     "text": [
      "第 1728 条数据用时: 91.15 秒\n"
     ]
    },
    {
     "name": "stderr",
     "output_type": "stream",
     "text": [
      "Processing data_objects:  55%|█████▌    | 112/203 [01:32<00:45,  1.99it/s]"
     ]
    },
    {
     "name": "stdout",
     "output_type": "stream",
     "text": [
      "第 1785 条数据用时: 91.71 秒\n",
      "第 1748 条数据用时: 92.15 秒\n"
     ]
    },
    {
     "name": "stderr",
     "output_type": "stream",
     "text": [
      "Processing data_objects:  57%|█████▋    | 115/203 [01:33<00:41,  2.14it/s]"
     ]
    },
    {
     "name": "stdout",
     "output_type": "stream",
     "text": [
      "第 1820 条数据用时: 93.32 秒\n",
      "第 1652 条数据用时: 93.57 秒\n"
     ]
    },
    {
     "name": "stderr",
     "output_type": "stream",
     "text": [
      "Processing data_objects:  57%|█████▋    | 116/203 [01:34<00:43,  2.00it/s]"
     ]
    },
    {
     "name": "stdout",
     "output_type": "stream",
     "text": [
      "第 1627 条数据用时: 93.74 秒\n"
     ]
    },
    {
     "name": "stderr",
     "output_type": "stream",
     "text": [
      "Processing data_objects:  58%|█████▊    | 117/203 [01:34<00:37,  2.29it/s]"
     ]
    },
    {
     "name": "stdout",
     "output_type": "stream",
     "text": [
      "第 1653 条数据用时: 94.76 秒\n"
     ]
    },
    {
     "name": "stderr",
     "output_type": "stream",
     "text": [
      "Processing data_objects:  59%|█████▉    | 120/203 [01:35<00:22,  3.73it/s]"
     ]
    },
    {
     "name": "stdout",
     "output_type": "stream",
     "text": [
      "第 1791 条数据用时: 94.74 秒\n",
      "第 1755 条数据用时: 95.11 秒\n",
      "第 1795 条数据用时: 94.82 秒\n"
     ]
    },
    {
     "name": "stderr",
     "output_type": "stream",
     "text": [
      "Processing data_objects:  60%|█████▉    | 121/203 [01:35<00:21,  3.77it/s]"
     ]
    },
    {
     "name": "stdout",
     "output_type": "stream",
     "text": [
      "第 1786 条数据用时: 94.77 秒\n"
     ]
    },
    {
     "name": "stderr",
     "output_type": "stream",
     "text": [
      "Processing data_objects:  60%|██████    | 122/203 [01:35<00:21,  3.82it/s]"
     ]
    },
    {
     "name": "stdout",
     "output_type": "stream",
     "text": [
      "第 1826 条数据用时: 95.26 秒\n"
     ]
    },
    {
     "name": "stderr",
     "output_type": "stream",
     "text": [
      "Processing data_objects:  61%|██████    | 123/203 [01:36<00:29,  2.74it/s]"
     ]
    },
    {
     "name": "stdout",
     "output_type": "stream",
     "text": [
      "第 1645 条数据用时: 95.96 秒\n",
      "第 1794 条数据用时: 95.99 秒\n"
     ]
    },
    {
     "name": "stderr",
     "output_type": "stream",
     "text": [
      "Processing data_objects:  62%|██████▏   | 125/203 [01:36<00:22,  3.47it/s]"
     ]
    },
    {
     "name": "stdout",
     "output_type": "stream",
     "text": [
      "第 1807 条数据用时: 96.18 秒\n"
     ]
    },
    {
     "name": "stderr",
     "output_type": "stream",
     "text": [
      "Processing data_objects:  62%|██████▏   | 126/203 [01:37<00:20,  3.69it/s]"
     ]
    },
    {
     "name": "stdout",
     "output_type": "stream",
     "text": [
      "第 1784 条数据用时: 96.29 秒\n"
     ]
    },
    {
     "name": "stderr",
     "output_type": "stream",
     "text": [
      "Processing data_objects:  63%|██████▎   | 127/203 [01:37<00:25,  2.96it/s]"
     ]
    },
    {
     "name": "stdout",
     "output_type": "stream",
     "text": [
      "第 1737 条数据用时: 97.40 秒\n",
      "第 1625 条数据用时: 97.50 秒\n"
     ]
    },
    {
     "name": "stderr",
     "output_type": "stream",
     "text": [
      "Processing data_objects:  65%|██████▌   | 132/203 [01:37<00:10,  6.59it/s]"
     ]
    },
    {
     "name": "stdout",
     "output_type": "stream",
     "text": [
      "第 1630 条数据用时: 97.35 秒\n",
      "第 1798 条数据用时: 97.28 秒\n",
      "第 1650 条数据用时: 97.26 秒\n",
      "第 1632 条数据用时: 97.44 秒\n"
     ]
    },
    {
     "name": "stderr",
     "output_type": "stream",
     "text": [
      "Processing data_objects:  66%|██████▌   | 134/203 [01:38<00:10,  6.52it/s]"
     ]
    },
    {
     "name": "stdout",
     "output_type": "stream",
     "text": [
      "第 1801 条数据用时: 97.54 秒\n",
      "第 1773 条数据用时: 97.65 秒\n"
     ]
    },
    {
     "name": "stderr",
     "output_type": "stream",
     "text": [
      "Processing data_objects:  67%|██████▋   | 135/203 [01:38<00:10,  6.50it/s]"
     ]
    },
    {
     "name": "stdout",
     "output_type": "stream",
     "text": [
      "第 1634 条数据用时: 97.85 秒\n"
     ]
    },
    {
     "name": "stderr",
     "output_type": "stream",
     "text": [
      "Processing data_objects:  67%|██████▋   | 136/203 [01:38<00:11,  6.02it/s]"
     ]
    },
    {
     "name": "stdout",
     "output_type": "stream",
     "text": [
      "第 1661 条数据用时: 97.89 秒\n"
     ]
    },
    {
     "name": "stderr",
     "output_type": "stream",
     "text": [
      "Processing data_objects:  68%|██████▊   | 138/203 [01:39<00:22,  2.91it/s]"
     ]
    },
    {
     "name": "stdout",
     "output_type": "stream",
     "text": [
      "第 1680 条数据用时: 98.95 秒\n",
      "第 1776 条数据用时: 99.23 秒\n"
     ]
    },
    {
     "name": "stderr",
     "output_type": "stream",
     "text": [
      "Processing data_objects:  68%|██████▊   | 139/203 [01:40<00:27,  2.31it/s]"
     ]
    },
    {
     "name": "stdout",
     "output_type": "stream",
     "text": [
      "第 1639 条数据用时: 100.07 秒\n"
     ]
    },
    {
     "name": "stderr",
     "output_type": "stream",
     "text": [
      "Processing data_objects:  69%|██████▉   | 140/203 [01:41<00:28,  2.23it/s]"
     ]
    },
    {
     "name": "stdout",
     "output_type": "stream",
     "text": [
      "第 1800 条数据用时: 100.51 秒\n",
      "第 1660 条数据用时: 100.42 秒\n"
     ]
    },
    {
     "name": "stderr",
     "output_type": "stream",
     "text": [
      "Processing data_objects:  70%|██████▉   | 142/203 [01:41<00:18,  3.38it/s]"
     ]
    },
    {
     "name": "stdout",
     "output_type": "stream",
     "text": [
      "第 1806 条数据用时: 100.63 秒\n"
     ]
    },
    {
     "name": "stderr",
     "output_type": "stream",
     "text": [
      "Processing data_objects:  70%|███████   | 143/203 [01:41<00:17,  3.35it/s]"
     ]
    },
    {
     "name": "stdout",
     "output_type": "stream",
     "text": [
      "第 1646 条数据用时: 101.04 秒\n",
      "第 1823 条数据用时: 101.11 秒\n",
      "第 1718 条数据用时: 101.06 秒\n"
     ]
    },
    {
     "name": "stderr",
     "output_type": "stream",
     "text": [
      "Processing data_objects:  72%|███████▏  | 146/203 [01:41<00:11,  4.84it/s]"
     ]
    },
    {
     "name": "stdout",
     "output_type": "stream",
     "text": [
      "第 1827 条数据用时: 101.11 秒\n",
      "第 1731 条数据用时: 101.14 秒\n"
     ]
    },
    {
     "name": "stderr",
     "output_type": "stream",
     "text": [
      "Processing data_objects:  74%|███████▍  | 150/203 [01:42<00:08,  6.39it/s]"
     ]
    },
    {
     "name": "stdout",
     "output_type": "stream",
     "text": [
      "第 1683 条数据用时: 101.68 秒\n",
      "第 1803 条数据用时: 101.72 秒\n",
      "第 1799 条数据用时: 101.87 秒\n"
     ]
    },
    {
     "name": "stderr",
     "output_type": "stream",
     "text": [
      "Processing data_objects:  75%|███████▌  | 153/203 [01:43<00:09,  5.34it/s]"
     ]
    },
    {
     "name": "stdout",
     "output_type": "stream",
     "text": [
      "第 1783 条数据用时: 102.26 秒\n",
      "第 1774 条数据用时: 102.43 秒\n",
      "第 1804 条数据用时: 102.58 秒\n"
     ]
    },
    {
     "name": "stderr",
     "output_type": "stream",
     "text": [
      "Processing data_objects:  76%|███████▋  | 155/203 [01:43<00:08,  5.35it/s]"
     ]
    },
    {
     "name": "stdout",
     "output_type": "stream",
     "text": [
      "第 1666 条数据用时: 102.78 秒\n",
      "第 1771 条数据用时: 102.99 秒\n"
     ]
    },
    {
     "name": "stderr",
     "output_type": "stream",
     "text": [
      "Processing data_objects:  77%|███████▋  | 156/203 [01:43<00:09,  4.95it/s]"
     ]
    },
    {
     "name": "stdout",
     "output_type": "stream",
     "text": [
      "第 1648 条数据用时: 103.18 秒\n",
      "第 1633 条数据用时: 103.11 秒\n"
     ]
    },
    {
     "name": "stderr",
     "output_type": "stream",
     "text": [
      "Processing data_objects:  78%|███████▊  | 158/203 [01:44<00:11,  4.07it/s]"
     ]
    },
    {
     "name": "stdout",
     "output_type": "stream",
     "text": [
      "第 1684 条数据用时: 103.93 秒\n",
      "第 1721 条数据用时: 103.80 秒\n"
     ]
    },
    {
     "name": "stderr",
     "output_type": "stream",
     "text": [
      "Processing data_objects:  79%|███████▉  | 160/203 [01:45<00:13,  3.19it/s]"
     ]
    },
    {
     "name": "stdout",
     "output_type": "stream",
     "text": [
      "第 1675 条数据用时: 104.84 秒\n"
     ]
    },
    {
     "name": "stderr",
     "output_type": "stream",
     "text": [
      "Processing data_objects:  80%|███████▉  | 162/203 [01:45<00:12,  3.37it/s]"
     ]
    },
    {
     "name": "stdout",
     "output_type": "stream",
     "text": [
      "第 1682 条数据用时: 105.01 秒\n",
      "第 1788 条数据用时: 105.10 秒\n",
      "第 1726 条数据用时: 105.25 秒\n"
     ]
    },
    {
     "name": "stderr",
     "output_type": "stream",
     "text": [
      "Processing data_objects:  81%|████████  | 164/203 [01:46<00:13,  2.83it/s]"
     ]
    },
    {
     "name": "stdout",
     "output_type": "stream",
     "text": [
      "第 1701 条数据用时: 106.73 秒\n",
      "第 1663 条数据用时: 106.06 秒\n"
     ]
    },
    {
     "name": "stderr",
     "output_type": "stream",
     "text": [
      "Processing data_objects:  82%|████████▏ | 167/203 [01:47<00:09,  3.99it/s]"
     ]
    },
    {
     "name": "stdout",
     "output_type": "stream",
     "text": [
      "第 1706 条数据用时: 106.34 秒\n",
      "第 1662 条数据用时: 106.67 秒\n"
     ]
    },
    {
     "name": "stderr",
     "output_type": "stream",
     "text": [
      "Processing data_objects:  83%|████████▎ | 168/203 [01:47<00:09,  3.60it/s]"
     ]
    },
    {
     "name": "stdout",
     "output_type": "stream",
     "text": [
      "第 1720 条数据用时: 106.89 秒\n"
     ]
    },
    {
     "name": "stderr",
     "output_type": "stream",
     "text": [
      "Processing data_objects:  83%|████████▎ | 169/203 [01:47<00:09,  3.67it/s]"
     ]
    },
    {
     "name": "stdout",
     "output_type": "stream",
     "text": [
      "第 1782 条数据用时: 107.09 秒\n"
     ]
    },
    {
     "name": "stderr",
     "output_type": "stream",
     "text": [
      "Processing data_objects:  84%|████████▍ | 171/203 [01:48<00:07,  4.07it/s]"
     ]
    },
    {
     "name": "stdout",
     "output_type": "stream",
     "text": [
      "第 1655 条数据用时: 107.50 秒\n",
      "第 1656 条数据用时: 107.59 秒\n"
     ]
    },
    {
     "name": "stderr",
     "output_type": "stream",
     "text": [
      "Processing data_objects:  85%|████████▌ | 173/203 [01:48<00:06,  4.30it/s]"
     ]
    },
    {
     "name": "stdout",
     "output_type": "stream",
     "text": [
      "第 1723 条数据用时: 107.94 秒\n",
      "第 1805 条数据用时: 108.15 秒\n",
      "第 1802 条数据用时: 108.20 秒\n",
      "第 1781 条数据用时: 108.13 秒\n"
     ]
    },
    {
     "name": "stderr",
     "output_type": "stream",
     "text": [
      "Processing data_objects:  87%|████████▋ | 176/203 [01:48<00:03,  7.14it/s]"
     ]
    },
    {
     "name": "stdout",
     "output_type": "stream",
     "text": [
      "第 1770 条数据用时: 108.41 秒\n"
     ]
    },
    {
     "name": "stderr",
     "output_type": "stream",
     "text": [
      "Processing data_objects:  88%|████████▊ | 178/203 [01:49<00:04,  5.04it/s]"
     ]
    },
    {
     "name": "stdout",
     "output_type": "stream",
     "text": [
      "第 1700 条数据用时: 109.25 秒\n",
      "第 1778 条数据用时: 108.92 秒\n"
     ]
    },
    {
     "name": "stderr",
     "output_type": "stream",
     "text": [
      "Processing data_objects:  88%|████████▊ | 179/203 [01:50<00:09,  2.59it/s]"
     ]
    },
    {
     "name": "stdout",
     "output_type": "stream",
     "text": [
      "第 1729 条数据用时: 109.82 秒\n",
      "第 1727 条数据用时: 109.90 秒\n"
     ]
    },
    {
     "name": "stderr",
     "output_type": "stream",
     "text": [
      "Processing data_objects:  89%|████████▉ | 181/203 [01:51<00:07,  3.14it/s]"
     ]
    },
    {
     "name": "stdout",
     "output_type": "stream",
     "text": [
      "第 1716 条数据用时: 110.41 秒\n",
      "第 1787 条数据用时: 110.26 秒\n"
     ]
    },
    {
     "name": "stderr",
     "output_type": "stream",
     "text": [
      "Processing data_objects:  90%|█████████ | 183/203 [01:51<00:04,  4.14it/s]"
     ]
    },
    {
     "name": "stdout",
     "output_type": "stream",
     "text": [
      "第 1708 条数据用时: 111.23 秒\n",
      "第 1725 条数据用时: 110.60 秒\n"
     ]
    },
    {
     "name": "stderr",
     "output_type": "stream",
     "text": [
      "Processing data_objects:  92%|█████████▏| 186/203 [01:52<00:04,  3.93it/s]"
     ]
    },
    {
     "name": "stdout",
     "output_type": "stream",
     "text": [
      "第 1705 条数据用时: 111.28 秒\n",
      "第 1817 条数据用时: 111.66 秒\n"
     ]
    },
    {
     "name": "stderr",
     "output_type": "stream",
     "text": [
      "Processing data_objects:  92%|█████████▏| 187/203 [01:54<00:10,  1.50it/s]"
     ]
    },
    {
     "name": "stdout",
     "output_type": "stream",
     "text": [
      "第 1779 条数据用时: 113.51 秒\n"
     ]
    },
    {
     "name": "stderr",
     "output_type": "stream",
     "text": [
      "Processing data_objects:  93%|█████████▎| 189/203 [01:55<00:07,  1.85it/s]"
     ]
    },
    {
     "name": "stdout",
     "output_type": "stream",
     "text": [
      "第 1642 条数据用时: 114.81 秒\n",
      "第 1699 条数据用时: 114.29 秒\n",
      "第 1659 条数据用时: 114.61 秒\n"
     ]
    },
    {
     "name": "stderr",
     "output_type": "stream",
     "text": [
      "Processing data_objects:  94%|█████████▍| 191/203 [01:55<00:05,  2.15it/s]"
     ]
    },
    {
     "name": "stdout",
     "output_type": "stream",
     "text": [
      "第 1651 条数据用时: 115.11 秒\n"
     ]
    },
    {
     "name": "stderr",
     "output_type": "stream",
     "text": [
      "Processing data_objects:  95%|█████████▍| 192/203 [01:56<00:06,  1.70it/s]"
     ]
    },
    {
     "name": "stdout",
     "output_type": "stream",
     "text": [
      "第 1707 条数据用时: 116.07 秒\n",
      "第 1766 条数据用时: 116.53 秒\n"
     ]
    },
    {
     "name": "stderr",
     "output_type": "stream",
     "text": [
      "Processing data_objects:  96%|█████████▌| 194/203 [01:57<00:05,  1.78it/s]"
     ]
    },
    {
     "name": "stdout",
     "output_type": "stream",
     "text": [
      "第 1722 条数据用时: 117.10 秒\n"
     ]
    },
    {
     "name": "stderr",
     "output_type": "stream",
     "text": [
      "Processing data_objects:  96%|█████████▌| 195/203 [01:58<00:04,  1.65it/s]"
     ]
    },
    {
     "name": "stdout",
     "output_type": "stream",
     "text": [
      "第 1687 条数据用时: 117.91 秒\n"
     ]
    },
    {
     "name": "stderr",
     "output_type": "stream",
     "text": [
      "Processing data_objects:  97%|█████████▋| 196/203 [02:00<00:05,  1.19it/s]"
     ]
    },
    {
     "name": "stdout",
     "output_type": "stream",
     "text": [
      "第 1822 条数据用时: 119.64 秒\n"
     ]
    },
    {
     "name": "stderr",
     "output_type": "stream",
     "text": [
      "Processing data_objects:  97%|█████████▋| 197/203 [02:03<00:08,  1.37s/it]"
     ]
    },
    {
     "name": "stdout",
     "output_type": "stream",
     "text": [
      "第 1821 条数据用时: 122.56 秒\n"
     ]
    },
    {
     "name": "stderr",
     "output_type": "stream",
     "text": [
      "Processing data_objects:  98%|█████████▊| 198/203 [02:04<00:07,  1.46s/it]"
     ]
    },
    {
     "name": "stdout",
     "output_type": "stream",
     "text": [
      "第 1643 条数据用时: 124.22 秒\n"
     ]
    },
    {
     "name": "stderr",
     "output_type": "stream",
     "text": [
      "Processing data_objects:  98%|█████████▊| 199/203 [02:06<00:05,  1.44s/it]"
     ]
    },
    {
     "name": "stdout",
     "output_type": "stream",
     "text": [
      "第 1780 条数据用时: 125.42 秒\n"
     ]
    },
    {
     "name": "stderr",
     "output_type": "stream",
     "text": [
      "Processing data_objects:  99%|█████████▊| 200/203 [02:07<00:04,  1.36s/it]"
     ]
    },
    {
     "name": "stdout",
     "output_type": "stream",
     "text": [
      "第 1751 条数据用时: 127.25 秒\n"
     ]
    },
    {
     "name": "stderr",
     "output_type": "stream",
     "text": [
      "Processing data_objects:  99%|█████████▉| 201/203 [02:08<00:02,  1.24s/it]"
     ]
    },
    {
     "name": "stdout",
     "output_type": "stream",
     "text": [
      "第 1813 条数据用时: 127.86 秒\n"
     ]
    },
    {
     "name": "stderr",
     "output_type": "stream",
     "text": [
      "Processing data_objects: 100%|█████████▉| 202/203 [02:13<00:02,  2.27s/it]"
     ]
    },
    {
     "name": "stdout",
     "output_type": "stream",
     "text": [
      "第 1629 条数据用时: 132.39 秒\n"
     ]
    },
    {
     "name": "stderr",
     "output_type": "stream",
     "text": [
      "Processing data_objects: 100%|██████████| 203/203 [02:14<00:00,  1.51it/s]\n"
     ]
    },
    {
     "name": "stdout",
     "output_type": "stream",
     "text": [
      "第 1775 条数据用时: 133.81 秒\n"
     ]
    },
    {
     "name": "stderr",
     "output_type": "stream",
     "text": [
      "Processing data_objects:   0%|          | 1/203 [00:15<50:52, 15.11s/it]"
     ]
    },
    {
     "name": "stdout",
     "output_type": "stream",
     "text": [
      "第 1859 条数据用时: 15.06 秒\n"
     ]
    },
    {
     "name": "stderr",
     "output_type": "stream",
     "text": [
      "Processing data_objects:   1%|          | 2/203 [00:18<26:47,  8.00s/it]"
     ]
    },
    {
     "name": "stdout",
     "output_type": "stream",
     "text": [
      "第 1863 条数据用时: 18.02 秒\n",
      "第 1872 条数据用时: 18.05 秒\n"
     ]
    },
    {
     "name": "stderr",
     "output_type": "stream",
     "text": [
      "Processing data_objects:   2%|▏         | 4/203 [00:30<22:45,  6.86s/it]"
     ]
    },
    {
     "name": "stdout",
     "output_type": "stream",
     "text": [
      "第 1940 条数据用时: 30.12 秒\n"
     ]
    },
    {
     "name": "stderr",
     "output_type": "stream",
     "text": [
      "Processing data_objects:   2%|▏         | 5/203 [00:35<20:42,  6.27s/it]"
     ]
    },
    {
     "name": "stdout",
     "output_type": "stream",
     "text": [
      "第 2030 条数据用时: 35.26 秒\n"
     ]
    },
    {
     "name": "stderr",
     "output_type": "stream",
     "text": [
      "Processing data_objects:   3%|▎         | 6/203 [00:35<14:42,  4.48s/it]"
     ]
    },
    {
     "name": "stdout",
     "output_type": "stream",
     "text": [
      "第 2026 条数据用时: 35.72 秒\n",
      "第 2009 条数据用时: 35.49 秒\n"
     ]
    },
    {
     "name": "stderr",
     "output_type": "stream",
     "text": [
      "Processing data_objects:   4%|▍         | 8/203 [00:36<08:27,  2.60s/it]"
     ]
    },
    {
     "name": "stdout",
     "output_type": "stream",
     "text": [
      "第 1938 条数据用时: 36.44 秒\n"
     ]
    },
    {
     "name": "stderr",
     "output_type": "stream",
     "text": [
      "Processing data_objects:   4%|▍         | 9/203 [00:37<06:39,  2.06s/it]"
     ]
    },
    {
     "name": "stdout",
     "output_type": "stream",
     "text": [
      "第 2028 条数据用时: 37.05 秒\n"
     ]
    },
    {
     "name": "stderr",
     "output_type": "stream",
     "text": [
      "Processing data_objects:   5%|▍         | 10/203 [00:37<05:04,  1.58s/it]"
     ]
    },
    {
     "name": "stdout",
     "output_type": "stream",
     "text": [
      "第 1981 条数据用时: 37.42 秒\n"
     ]
    },
    {
     "name": "stderr",
     "output_type": "stream",
     "text": [
      "Processing data_objects:   5%|▌         | 11/203 [00:38<04:10,  1.30s/it]"
     ]
    },
    {
     "name": "stdout",
     "output_type": "stream",
     "text": [
      "第 2010 条数据用时: 37.63 秒\n"
     ]
    },
    {
     "name": "stderr",
     "output_type": "stream",
     "text": [
      "Processing data_objects:   6%|▌         | 12/203 [00:38<03:11,  1.00s/it]"
     ]
    },
    {
     "name": "stdout",
     "output_type": "stream",
     "text": [
      "第 2029 条数据用时: 38.07 秒\n"
     ]
    },
    {
     "name": "stderr",
     "output_type": "stream",
     "text": [
      "Processing data_objects:   6%|▋         | 13/203 [00:38<02:39,  1.19it/s]"
     ]
    },
    {
     "name": "stdout",
     "output_type": "stream",
     "text": [
      "第 2007 条数据用时: 38.36 秒\n"
     ]
    },
    {
     "name": "stderr",
     "output_type": "stream",
     "text": [
      "Processing data_objects:   7%|▋         | 14/203 [00:41<04:03,  1.29s/it]"
     ]
    },
    {
     "name": "stdout",
     "output_type": "stream",
     "text": [
      "第 1855 条数据用时: 41.07 秒\n"
     ]
    },
    {
     "name": "stderr",
     "output_type": "stream",
     "text": [
      "Processing data_objects:   7%|▋         | 15/203 [00:41<03:29,  1.12s/it]"
     ]
    },
    {
     "name": "stdout",
     "output_type": "stream",
     "text": [
      "第 1901 条数据用时: 41.53 秒\n",
      "第 2008 条数据用时: 41.41 秒\n"
     ]
    },
    {
     "name": "stderr",
     "output_type": "stream",
     "text": [
      "Processing data_objects:   8%|▊         | 17/203 [00:43<03:07,  1.01s/it]"
     ]
    },
    {
     "name": "stdout",
     "output_type": "stream",
     "text": [
      "第 1911 条数据用时: 43.42 秒\n"
     ]
    },
    {
     "name": "stderr",
     "output_type": "stream",
     "text": [
      "Processing data_objects:   9%|▉         | 18/203 [00:44<02:45,  1.12it/s]"
     ]
    },
    {
     "name": "stdout",
     "output_type": "stream",
     "text": [
      "第 1865 条数据用时: 44.07 秒\n"
     ]
    },
    {
     "name": "stderr",
     "output_type": "stream",
     "text": [
      "Processing data_objects:   9%|▉         | 19/203 [00:44<02:22,  1.29it/s]"
     ]
    },
    {
     "name": "stdout",
     "output_type": "stream",
     "text": [
      "第 1907 条数据用时: 44.43 秒\n"
     ]
    },
    {
     "name": "stderr",
     "output_type": "stream",
     "text": [
      "Processing data_objects:  10%|▉         | 20/203 [00:45<02:15,  1.35it/s]"
     ]
    },
    {
     "name": "stdout",
     "output_type": "stream",
     "text": [
      "第 1897 条数据用时: 44.96 秒\n"
     ]
    },
    {
     "name": "stderr",
     "output_type": "stream",
     "text": [
      "Processing data_objects:  10%|█         | 21/203 [00:46<02:20,  1.29it/s]"
     ]
    },
    {
     "name": "stdout",
     "output_type": "stream",
     "text": [
      "第 1933 条数据用时: 45.74 秒\n"
     ]
    },
    {
     "name": "stderr",
     "output_type": "stream",
     "text": [
      "Processing data_objects:  11%|█         | 22/203 [00:46<02:00,  1.50it/s]"
     ]
    },
    {
     "name": "stdout",
     "output_type": "stream",
     "text": [
      "第 1932 条数据用时: 46.14 秒\n"
     ]
    },
    {
     "name": "stderr",
     "output_type": "stream",
     "text": [
      "Processing data_objects:  11%|█▏        | 23/203 [00:46<01:53,  1.58it/s]"
     ]
    },
    {
     "name": "stdout",
     "output_type": "stream",
     "text": [
      "第 1979 条数据用时: 46.96 秒\n"
     ]
    },
    {
     "name": "stderr",
     "output_type": "stream",
     "text": [
      "Processing data_objects:  12%|█▏        | 24/203 [00:47<01:46,  1.69it/s]"
     ]
    },
    {
     "name": "stdout",
     "output_type": "stream",
     "text": [
      "第 2027 条数据用时: 47.30 秒\n",
      "第 1899 条数据用时: 47.24 秒\n"
     ]
    },
    {
     "name": "stderr",
     "output_type": "stream",
     "text": [
      "Processing data_objects:  13%|█▎        | 26/203 [00:47<01:15,  2.35it/s]"
     ]
    },
    {
     "name": "stdout",
     "output_type": "stream",
     "text": [
      "第 1944 条数据用时: 47.48 秒\n"
     ]
    },
    {
     "name": "stderr",
     "output_type": "stream",
     "text": [
      "Processing data_objects:  13%|█▎        | 27/203 [00:48<01:17,  2.26it/s]"
     ]
    },
    {
     "name": "stdout",
     "output_type": "stream",
     "text": [
      "第 1984 条数据用时: 48.35 秒\n"
     ]
    },
    {
     "name": "stderr",
     "output_type": "stream",
     "text": [
      "Processing data_objects:  14%|█▍        | 28/203 [00:48<01:15,  2.30it/s]"
     ]
    },
    {
     "name": "stdout",
     "output_type": "stream",
     "text": [
      "第 1920 条数据用时: 48.64 秒\n"
     ]
    },
    {
     "name": "stderr",
     "output_type": "stream",
     "text": [
      "Processing data_objects:  14%|█▍        | 29/203 [00:49<01:26,  2.01it/s]"
     ]
    },
    {
     "name": "stdout",
     "output_type": "stream",
     "text": [
      "第 1910 条数据用时: 49.43 秒\n"
     ]
    },
    {
     "name": "stderr",
     "output_type": "stream",
     "text": [
      "Processing data_objects:  15%|█▍        | 30/203 [00:49<01:26,  2.01it/s]"
     ]
    },
    {
     "name": "stdout",
     "output_type": "stream",
     "text": [
      "第 1915 条数据用时: 49.85 秒\n"
     ]
    },
    {
     "name": "stderr",
     "output_type": "stream",
     "text": [
      "Processing data_objects:  15%|█▌        | 31/203 [00:50<01:26,  2.00it/s]"
     ]
    },
    {
     "name": "stdout",
     "output_type": "stream",
     "text": [
      "第 1890 条数据用时: 50.37 秒\n"
     ]
    },
    {
     "name": "stderr",
     "output_type": "stream",
     "text": [
      "Processing data_objects:  16%|█▌        | 32/203 [00:51<01:26,  1.98it/s]"
     ]
    },
    {
     "name": "stdout",
     "output_type": "stream",
     "text": [
      "第 2002 条数据用时: 50.54 秒\n"
     ]
    },
    {
     "name": "stderr",
     "output_type": "stream",
     "text": [
      "Processing data_objects:  16%|█▋        | 33/203 [00:51<01:15,  2.26it/s]"
     ]
    },
    {
     "name": "stdout",
     "output_type": "stream",
     "text": [
      "第 1949 条数据用时: 50.90 秒\n"
     ]
    },
    {
     "name": "stderr",
     "output_type": "stream",
     "text": [
      "Processing data_objects:  17%|█▋        | 34/203 [00:51<01:21,  2.06it/s]"
     ]
    },
    {
     "name": "stdout",
     "output_type": "stream",
     "text": [
      "第 1936 条数据用时: 51.57 秒\n"
     ]
    },
    {
     "name": "stderr",
     "output_type": "stream",
     "text": [
      "Processing data_objects:  17%|█▋        | 35/203 [00:52<01:19,  2.10it/s]"
     ]
    },
    {
     "name": "stdout",
     "output_type": "stream",
     "text": [
      "第 1927 条数据用时: 52.02 秒\n"
     ]
    },
    {
     "name": "stderr",
     "output_type": "stream",
     "text": [
      "Processing data_objects:  18%|█▊        | 36/203 [00:52<01:20,  2.09it/s]"
     ]
    },
    {
     "name": "stdout",
     "output_type": "stream",
     "text": [
      "第 1873 条数据用时: 52.70 秒\n"
     ]
    },
    {
     "name": "stderr",
     "output_type": "stream",
     "text": [
      "Processing data_objects:  18%|█▊        | 37/203 [00:53<01:18,  2.11it/s]"
     ]
    },
    {
     "name": "stdout",
     "output_type": "stream",
     "text": [
      "第 1904 条数据用时: 53.03 秒\n"
     ]
    },
    {
     "name": "stderr",
     "output_type": "stream",
     "text": [
      "Processing data_objects:  19%|█▊        | 38/203 [00:54<01:44,  1.58it/s]"
     ]
    },
    {
     "name": "stdout",
     "output_type": "stream",
     "text": [
      "第 1947 条数据用时: 54.01 秒\n"
     ]
    },
    {
     "name": "stderr",
     "output_type": "stream",
     "text": [
      "Processing data_objects:  19%|█▉        | 39/203 [00:54<01:36,  1.70it/s]"
     ]
    },
    {
     "name": "stdout",
     "output_type": "stream",
     "text": [
      "第 1864 条数据用时: 54.68 秒\n"
     ]
    },
    {
     "name": "stderr",
     "output_type": "stream",
     "text": [
      "Processing data_objects:  20%|█▉        | 40/203 [00:55<01:33,  1.74it/s]"
     ]
    },
    {
     "name": "stdout",
     "output_type": "stream",
     "text": [
      "第 1894 条数据用时: 55.14 秒\n"
     ]
    },
    {
     "name": "stderr",
     "output_type": "stream",
     "text": [
      "Processing data_objects:  20%|██        | 41/203 [00:55<01:23,  1.94it/s]"
     ]
    },
    {
     "name": "stdout",
     "output_type": "stream",
     "text": [
      "第 1990 条数据用时: 55.41 秒\n"
     ]
    },
    {
     "name": "stderr",
     "output_type": "stream",
     "text": [
      "Processing data_objects:  21%|██        | 42/203 [00:56<01:44,  1.54it/s]"
     ]
    },
    {
     "name": "stdout",
     "output_type": "stream",
     "text": [
      "第 1935 条数据用时: 56.35 秒\n"
     ]
    },
    {
     "name": "stderr",
     "output_type": "stream",
     "text": [
      "Processing data_objects:  21%|██        | 43/203 [00:57<01:36,  1.66it/s]"
     ]
    },
    {
     "name": "stdout",
     "output_type": "stream",
     "text": [
      "第 1923 条数据用时: 56.94 秒\n"
     ]
    },
    {
     "name": "stderr",
     "output_type": "stream",
     "text": [
      "Processing data_objects:  22%|██▏       | 44/203 [00:57<01:30,  1.76it/s]"
     ]
    },
    {
     "name": "stdout",
     "output_type": "stream",
     "text": [
      "第 1861 条数据用时: 57.57 秒\n"
     ]
    },
    {
     "name": "stderr",
     "output_type": "stream",
     "text": [
      "Processing data_objects:  22%|██▏       | 45/203 [00:58<01:19,  1.99it/s]"
     ]
    },
    {
     "name": "stdout",
     "output_type": "stream",
     "text": [
      "第 1905 条数据用时: 57.72 秒\n"
     ]
    },
    {
     "name": "stderr",
     "output_type": "stream",
     "text": [
      "Processing data_objects:  23%|██▎       | 47/203 [00:58<01:03,  2.47it/s]"
     ]
    },
    {
     "name": "stdout",
     "output_type": "stream",
     "text": [
      "第 2013 条数据用时: 58.11 秒\n",
      "第 1913 条数据用时: 58.57 秒\n"
     ]
    },
    {
     "name": "stderr",
     "output_type": "stream",
     "text": [
      "Processing data_objects:  24%|██▎       | 48/203 [00:59<01:13,  2.10it/s]"
     ]
    },
    {
     "name": "stdout",
     "output_type": "stream",
     "text": [
      "第 1924 条数据用时: 59.11 秒\n"
     ]
    },
    {
     "name": "stderr",
     "output_type": "stream",
     "text": [
      "Processing data_objects:  24%|██▍       | 49/203 [00:59<01:14,  2.08it/s]"
     ]
    },
    {
     "name": "stdout",
     "output_type": "stream",
     "text": [
      "第 1848 条数据用时: 59.10 秒\n"
     ]
    },
    {
     "name": "stderr",
     "output_type": "stream",
     "text": [
      "Processing data_objects:  25%|██▍       | 50/203 [01:00<01:15,  2.04it/s]"
     ]
    },
    {
     "name": "stdout",
     "output_type": "stream",
     "text": [
      "第 1903 条数据用时: 60.08 秒\n",
      "第 1900 条数据用时: 60.11 秒\n"
     ]
    },
    {
     "name": "stderr",
     "output_type": "stream",
     "text": [
      "Processing data_objects:  26%|██▌       | 52/203 [01:01<01:03,  2.38it/s]"
     ]
    },
    {
     "name": "stdout",
     "output_type": "stream",
     "text": [
      "第 1912 条数据用时: 60.90 秒\n"
     ]
    },
    {
     "name": "stderr",
     "output_type": "stream",
     "text": [
      "Processing data_objects:  26%|██▌       | 53/203 [01:01<01:03,  2.36it/s]"
     ]
    },
    {
     "name": "stdout",
     "output_type": "stream",
     "text": [
      "第 1985 条数据用时: 61.37 秒\n",
      "第 1992 条数据用时: 61.13 秒\n"
     ]
    },
    {
     "name": "stderr",
     "output_type": "stream",
     "text": [
      "Processing data_objects:  27%|██▋       | 55/203 [01:02<01:03,  2.32it/s]"
     ]
    },
    {
     "name": "stdout",
     "output_type": "stream",
     "text": [
      "第 1925 条数据用时: 61.97 秒\n"
     ]
    },
    {
     "name": "stderr",
     "output_type": "stream",
     "text": [
      "Processing data_objects:  28%|██▊       | 56/203 [01:02<01:08,  2.14it/s]"
     ]
    },
    {
     "name": "stdout",
     "output_type": "stream",
     "text": [
      "第 1926 条数据用时: 62.68 秒\n"
     ]
    },
    {
     "name": "stderr",
     "output_type": "stream",
     "text": [
      "Processing data_objects:  28%|██▊       | 57/203 [01:03<01:05,  2.22it/s]"
     ]
    },
    {
     "name": "stdout",
     "output_type": "stream",
     "text": [
      "第 1928 条数据用时: 62.94 秒\n"
     ]
    },
    {
     "name": "stderr",
     "output_type": "stream",
     "text": [
      "Processing data_objects:  29%|██▊       | 58/203 [01:03<01:01,  2.34it/s]"
     ]
    },
    {
     "name": "stdout",
     "output_type": "stream",
     "text": [
      "第 1982 条数据用时: 63.65 秒\n"
     ]
    },
    {
     "name": "stderr",
     "output_type": "stream",
     "text": [
      "Processing data_objects:  29%|██▉       | 59/203 [01:04<01:12,  1.98it/s]"
     ]
    },
    {
     "name": "stdout",
     "output_type": "stream",
     "text": [
      "第 1993 条数据用时: 64.06 秒\n"
     ]
    },
    {
     "name": "stderr",
     "output_type": "stream",
     "text": [
      "Processing data_objects:  30%|██▉       | 60/203 [01:04<01:08,  2.10it/s]"
     ]
    },
    {
     "name": "stdout",
     "output_type": "stream",
     "text": [
      "第 1896 条数据用时: 64.60 秒\n"
     ]
    },
    {
     "name": "stderr",
     "output_type": "stream",
     "text": [
      "Processing data_objects:  30%|███       | 61/203 [01:05<01:03,  2.24it/s]"
     ]
    },
    {
     "name": "stdout",
     "output_type": "stream",
     "text": [
      "第 1941 条数据用时: 64.78 秒\n"
     ]
    },
    {
     "name": "stderr",
     "output_type": "stream",
     "text": [
      "Processing data_objects:  31%|███       | 62/203 [01:05<01:01,  2.30it/s]"
     ]
    },
    {
     "name": "stdout",
     "output_type": "stream",
     "text": [
      "第 1983 条数据用时: 65.53 秒\n"
     ]
    },
    {
     "name": "stderr",
     "output_type": "stream",
     "text": [
      "Processing data_objects:  31%|███       | 63/203 [01:05<00:58,  2.39it/s]"
     ]
    },
    {
     "name": "stdout",
     "output_type": "stream",
     "text": [
      "第 2011 条数据用时: 65.54 秒\n"
     ]
    },
    {
     "name": "stderr",
     "output_type": "stream",
     "text": [
      "Processing data_objects:  32%|███▏      | 65/203 [01:06<00:44,  3.11it/s]"
     ]
    },
    {
     "name": "stdout",
     "output_type": "stream",
     "text": [
      "第 2022 条数据用时: 65.71 秒\n",
      "第 2014 条数据用时: 65.97 秒\n"
     ]
    },
    {
     "name": "stderr",
     "output_type": "stream",
     "text": [
      "Processing data_objects:  33%|███▎      | 66/203 [01:06<00:43,  3.14it/s]"
     ]
    },
    {
     "name": "stdout",
     "output_type": "stream",
     "text": [
      "第 1929 条数据用时: 66.52 秒\n"
     ]
    },
    {
     "name": "stderr",
     "output_type": "stream",
     "text": [
      "Processing data_objects:  33%|███▎      | 67/203 [01:07<00:44,  3.04it/s]"
     ]
    },
    {
     "name": "stdout",
     "output_type": "stream",
     "text": [
      "第 1867 条数据用时: 67.10 秒\n"
     ]
    },
    {
     "name": "stderr",
     "output_type": "stream",
     "text": [
      "Processing data_objects:  33%|███▎      | 68/203 [01:07<00:57,  2.36it/s]"
     ]
    },
    {
     "name": "stdout",
     "output_type": "stream",
     "text": [
      "第 1948 条数据用时: 67.46 秒\n"
     ]
    },
    {
     "name": "stderr",
     "output_type": "stream",
     "text": [
      "Processing data_objects:  34%|███▍      | 69/203 [01:08<00:59,  2.25it/s]"
     ]
    },
    {
     "name": "stdout",
     "output_type": "stream",
     "text": [
      "第 1882 条数据用时: 67.63 秒\n"
     ]
    },
    {
     "name": "stderr",
     "output_type": "stream",
     "text": [
      "Processing data_objects:  34%|███▍      | 70/203 [01:08<00:51,  2.57it/s]"
     ]
    },
    {
     "name": "stdout",
     "output_type": "stream",
     "text": [
      "第 2012 条数据用时: 68.07 秒\n"
     ]
    },
    {
     "name": "stderr",
     "output_type": "stream",
     "text": [
      "Processing data_objects:  35%|███▍      | 71/203 [01:09<00:55,  2.38it/s]"
     ]
    },
    {
     "name": "stdout",
     "output_type": "stream",
     "text": [
      "第 1891 条数据用时: 68.86 秒\n",
      "第 2001 条数据用时: 68.55 秒\n"
     ]
    },
    {
     "name": "stderr",
     "output_type": "stream",
     "text": [
      "Processing data_objects:  36%|███▌      | 73/203 [01:09<00:49,  2.61it/s]"
     ]
    },
    {
     "name": "stdout",
     "output_type": "stream",
     "text": [
      "第 2016 条数据用时: 69.18 秒\n"
     ]
    },
    {
     "name": "stderr",
     "output_type": "stream",
     "text": [
      "Processing data_objects:  36%|███▋      | 74/203 [01:10<00:53,  2.43it/s]"
     ]
    },
    {
     "name": "stdout",
     "output_type": "stream",
     "text": [
      "第 2004 条数据用时: 69.68 秒\n"
     ]
    },
    {
     "name": "stderr",
     "output_type": "stream",
     "text": [
      "Processing data_objects:  37%|███▋      | 75/203 [01:10<01:05,  1.95it/s]"
     ]
    },
    {
     "name": "stdout",
     "output_type": "stream",
     "text": [
      "第 1943 条数据用时: 70.56 秒\n",
      "第 1909 条数据用时: 70.67 秒\n"
     ]
    },
    {
     "name": "stderr",
     "output_type": "stream",
     "text": [
      "Processing data_objects:  38%|███▊      | 77/203 [01:12<01:05,  1.91it/s]"
     ]
    },
    {
     "name": "stdout",
     "output_type": "stream",
     "text": [
      "第 1987 条数据用时: 71.95 秒\n"
     ]
    },
    {
     "name": "stderr",
     "output_type": "stream",
     "text": [
      "Processing data_objects:  39%|███▉      | 79/203 [01:12<00:54,  2.28it/s]"
     ]
    },
    {
     "name": "stdout",
     "output_type": "stream",
     "text": [
      "第 2020 条数据用时: 72.10 秒\n",
      "第 2015 条数据用时: 72.30 秒\n"
     ]
    },
    {
     "name": "stderr",
     "output_type": "stream",
     "text": [
      "Processing data_objects:  39%|███▉      | 80/203 [01:13<00:47,  2.58it/s]"
     ]
    },
    {
     "name": "stdout",
     "output_type": "stream",
     "text": [
      "第 1898 条数据用时: 72.81 秒\n"
     ]
    },
    {
     "name": "stderr",
     "output_type": "stream",
     "text": [
      "Processing data_objects:  40%|███▉      | 81/203 [01:13<00:49,  2.46it/s]"
     ]
    },
    {
     "name": "stdout",
     "output_type": "stream",
     "text": [
      "第 1946 条数据用时: 73.16 秒\n"
     ]
    },
    {
     "name": "stderr",
     "output_type": "stream",
     "text": [
      "Processing data_objects:  40%|████      | 82/203 [01:14<00:58,  2.06it/s]"
     ]
    },
    {
     "name": "stdout",
     "output_type": "stream",
     "text": [
      "第 1945 条数据用时: 73.72 秒\n"
     ]
    },
    {
     "name": "stderr",
     "output_type": "stream",
     "text": [
      "Processing data_objects:  41%|████      | 83/203 [01:14<00:53,  2.25it/s]"
     ]
    },
    {
     "name": "stdout",
     "output_type": "stream",
     "text": [
      "第 1895 条数据用时: 74.32 秒\n"
     ]
    },
    {
     "name": "stderr",
     "output_type": "stream",
     "text": [
      "Processing data_objects:  41%|████▏     | 84/203 [01:14<00:50,  2.36it/s]"
     ]
    },
    {
     "name": "stdout",
     "output_type": "stream",
     "text": [
      "第 1892 条数据用时: 74.81 秒\n"
     ]
    },
    {
     "name": "stderr",
     "output_type": "stream",
     "text": [
      "Processing data_objects:  42%|████▏     | 85/203 [01:15<00:49,  2.39it/s]"
     ]
    },
    {
     "name": "stdout",
     "output_type": "stream",
     "text": [
      "第 1881 条数据用时: 74.68 秒\n",
      "第 1930 条数据用时: 75.04 秒\n"
     ]
    },
    {
     "name": "stderr",
     "output_type": "stream",
     "text": [
      "Processing data_objects:  43%|████▎     | 87/203 [01:16<00:48,  2.42it/s]"
     ]
    },
    {
     "name": "stdout",
     "output_type": "stream",
     "text": [
      "第 2003 条数据用时: 75.63 秒\n"
     ]
    },
    {
     "name": "stderr",
     "output_type": "stream",
     "text": [
      "Processing data_objects:  43%|████▎     | 88/203 [01:16<00:46,  2.48it/s]"
     ]
    },
    {
     "name": "stdout",
     "output_type": "stream",
     "text": [
      "第 1965 条数据用时: 75.87 秒\n",
      "第 1856 条数据用时: 76.47 秒\n"
     ]
    },
    {
     "name": "stderr",
     "output_type": "stream",
     "text": [
      "Processing data_objects:  44%|████▍     | 90/203 [01:17<00:43,  2.63it/s]"
     ]
    },
    {
     "name": "stdout",
     "output_type": "stream",
     "text": [
      "第 1858 条数据用时: 77.14 秒\n"
     ]
    },
    {
     "name": "stderr",
     "output_type": "stream",
     "text": [
      "Processing data_objects:  45%|████▍     | 91/203 [01:17<00:45,  2.49it/s]"
     ]
    },
    {
     "name": "stdout",
     "output_type": "stream",
     "text": [
      "第 1860 条数据用时: 77.60 秒\n",
      "第 1922 条数据用时: 77.45 秒\n"
     ]
    },
    {
     "name": "stderr",
     "output_type": "stream",
     "text": [
      "Processing data_objects:  46%|████▌     | 93/203 [01:18<00:44,  2.48it/s]"
     ]
    },
    {
     "name": "stdout",
     "output_type": "stream",
     "text": [
      "第 1833 条数据用时: 77.81 秒\n"
     ]
    },
    {
     "name": "stderr",
     "output_type": "stream",
     "text": [
      "Processing data_objects:  46%|████▋     | 94/203 [01:18<00:43,  2.50it/s]"
     ]
    },
    {
     "name": "stdout",
     "output_type": "stream",
     "text": [
      "第 1934 条数据用时: 78.55 秒\n"
     ]
    },
    {
     "name": "stderr",
     "output_type": "stream",
     "text": [
      "Processing data_objects:  47%|████▋     | 95/203 [01:19<00:46,  2.32it/s]"
     ]
    },
    {
     "name": "stdout",
     "output_type": "stream",
     "text": [
      "第 2019 条数据用时: 78.84 秒\n",
      "第 1989 条数据用时: 79.10 秒\n"
     ]
    },
    {
     "name": "stderr",
     "output_type": "stream",
     "text": [
      "Processing data_objects:  48%|████▊     | 97/203 [01:19<00:38,  2.74it/s]"
     ]
    },
    {
     "name": "stdout",
     "output_type": "stream",
     "text": [
      "第 1868 条数据用时: 79.76 秒\n",
      "第 1939 条数据用时: 79.56 秒\n"
     ]
    },
    {
     "name": "stderr",
     "output_type": "stream",
     "text": [
      "Processing data_objects:  49%|████▉     | 99/203 [01:21<00:56,  1.84it/s]"
     ]
    },
    {
     "name": "stdout",
     "output_type": "stream",
     "text": [
      "第 1918 条数据用时: 81.46 秒\n"
     ]
    },
    {
     "name": "stderr",
     "output_type": "stream",
     "text": [
      "Processing data_objects:  49%|████▉     | 100/203 [01:22<00:53,  1.91it/s]"
     ]
    },
    {
     "name": "stdout",
     "output_type": "stream",
     "text": [
      "第 1980 条数据用时: 82.05 秒\n"
     ]
    },
    {
     "name": "stderr",
     "output_type": "stream",
     "text": [
      "Processing data_objects:  50%|████▉     | 101/203 [01:22<00:52,  1.95it/s]"
     ]
    },
    {
     "name": "stdout",
     "output_type": "stream",
     "text": [
      "第 1847 条数据用时: 82.47 秒\n"
     ]
    },
    {
     "name": "stderr",
     "output_type": "stream",
     "text": [
      "Processing data_objects:  50%|█████     | 102/203 [01:22<00:47,  2.13it/s]"
     ]
    },
    {
     "name": "stdout",
     "output_type": "stream",
     "text": [
      "第 1919 条数据用时: 82.71 秒\n",
      "第 2021 条数据用时: 82.32 秒\n"
     ]
    },
    {
     "name": "stderr",
     "output_type": "stream",
     "text": [
      "Processing data_objects:  51%|█████     | 104/203 [01:23<00:41,  2.41it/s]"
     ]
    },
    {
     "name": "stdout",
     "output_type": "stream",
     "text": [
      "第 1998 条数据用时: 83.15 秒\n"
     ]
    },
    {
     "name": "stderr",
     "output_type": "stream",
     "text": [
      "Processing data_objects:  52%|█████▏    | 105/203 [01:23<00:38,  2.51it/s]"
     ]
    },
    {
     "name": "stdout",
     "output_type": "stream",
     "text": [
      "第 1841 条数据用时: 83.15 秒\n"
     ]
    },
    {
     "name": "stderr",
     "output_type": "stream",
     "text": [
      "Processing data_objects:  52%|█████▏    | 106/203 [01:24<00:47,  2.05it/s]"
     ]
    },
    {
     "name": "stdout",
     "output_type": "stream",
     "text": [
      "第 2023 条数据用时: 84.07 秒\n"
     ]
    },
    {
     "name": "stderr",
     "output_type": "stream",
     "text": [
      "Processing data_objects:  53%|█████▎    | 107/203 [01:24<00:40,  2.34it/s]"
     ]
    },
    {
     "name": "stdout",
     "output_type": "stream",
     "text": [
      "第 1995 条数据用时: 84.55 秒\n"
     ]
    },
    {
     "name": "stderr",
     "output_type": "stream",
     "text": [
      "Processing data_objects:  53%|█████▎    | 108/203 [01:25<00:41,  2.28it/s]"
     ]
    },
    {
     "name": "stdout",
     "output_type": "stream",
     "text": [
      "第 1916 条数据用时: 85.23 秒\n",
      "第 1921 条数据用时: 85.18 秒\n"
     ]
    },
    {
     "name": "stderr",
     "output_type": "stream",
     "text": [
      "Processing data_objects:  54%|█████▍    | 110/203 [01:26<00:47,  1.96it/s]"
     ]
    },
    {
     "name": "stdout",
     "output_type": "stream",
     "text": [
      "第 1866 条数据用时: 86.56 秒\n"
     ]
    },
    {
     "name": "stderr",
     "output_type": "stream",
     "text": [
      "Processing data_objects:  55%|█████▍    | 111/203 [01:26<00:42,  2.18it/s]"
     ]
    },
    {
     "name": "stdout",
     "output_type": "stream",
     "text": [
      "第 1968 条数据用时: 86.24 秒\n"
     ]
    },
    {
     "name": "stderr",
     "output_type": "stream",
     "text": [
      "Processing data_objects:  55%|█████▌    | 112/203 [01:27<00:41,  2.20it/s]"
     ]
    },
    {
     "name": "stdout",
     "output_type": "stream",
     "text": [
      "第 1937 条数据用时: 86.99 秒\n",
      "第 1870 条数据用时: 87.21 秒\n"
     ]
    },
    {
     "name": "stderr",
     "output_type": "stream",
     "text": [
      "Processing data_objects:  56%|█████▌    | 114/203 [01:28<00:49,  1.79it/s]"
     ]
    },
    {
     "name": "stdout",
     "output_type": "stream",
     "text": [
      "第 1952 条数据用时: 88.29 秒\n",
      "第 2025 条数据用时: 88.17 秒\n"
     ]
    },
    {
     "name": "stderr",
     "output_type": "stream",
     "text": [
      "Processing data_objects:  57%|█████▋    | 116/203 [01:29<00:37,  2.34it/s]"
     ]
    },
    {
     "name": "stdout",
     "output_type": "stream",
     "text": [
      "第 1951 条数据用时: 88.72 秒\n"
     ]
    },
    {
     "name": "stderr",
     "output_type": "stream",
     "text": [
      "Processing data_objects:  58%|█████▊    | 118/203 [01:29<00:29,  2.93it/s]"
     ]
    },
    {
     "name": "stdout",
     "output_type": "stream",
     "text": [
      "第 1851 条数据用时: 88.80 秒\n",
      "第 1988 条数据用时: 89.35 秒\n",
      "第 1986 条数据用时: 89.58 秒\n"
     ]
    },
    {
     "name": "stderr",
     "output_type": "stream",
     "text": [
      "Processing data_objects:  60%|█████▉    | 121/203 [01:29<00:17,  4.77it/s]"
     ]
    },
    {
     "name": "stdout",
     "output_type": "stream",
     "text": [
      "第 1974 条数据用时: 89.00 秒\n",
      "第 1950 条数据用时: 89.45 秒\n"
     ]
    },
    {
     "name": "stderr",
     "output_type": "stream",
     "text": [
      "Processing data_objects:  61%|██████    | 123/203 [01:30<00:15,  5.06it/s]"
     ]
    },
    {
     "name": "stdout",
     "output_type": "stream",
     "text": [
      "第 1954 条数据用时: 89.69 秒\n",
      "第 1869 条数据用时: 90.22 秒\n"
     ]
    },
    {
     "name": "stderr",
     "output_type": "stream",
     "text": [
      "Processing data_objects:  62%|██████▏   | 125/203 [01:31<00:22,  3.48it/s]"
     ]
    },
    {
     "name": "stdout",
     "output_type": "stream",
     "text": [
      "第 1917 条数据用时: 90.91 秒\n",
      "第 1996 条数据用时: 90.79 秒\n"
     ]
    },
    {
     "name": "stderr",
     "output_type": "stream",
     "text": [
      "Processing data_objects:  63%|██████▎   | 127/203 [01:31<00:17,  4.33it/s]"
     ]
    },
    {
     "name": "stdout",
     "output_type": "stream",
     "text": [
      "第 1931 条数据用时: 91.17 秒\n",
      "第 1842 条数据用时: 90.78 秒\n",
      "第 2018 条数据用时: 91.07 秒\n"
     ]
    },
    {
     "name": "stderr",
     "output_type": "stream",
     "text": [
      "Processing data_objects:  64%|██████▎   | 129/203 [01:31<00:13,  5.37it/s]"
     ]
    },
    {
     "name": "stdout",
     "output_type": "stream",
     "text": [
      "第 1942 条数据用时: 91.40 秒\n"
     ]
    },
    {
     "name": "stderr",
     "output_type": "stream",
     "text": [
      "Processing data_objects:  64%|██████▍   | 130/203 [01:32<00:19,  3.71it/s]"
     ]
    },
    {
     "name": "stdout",
     "output_type": "stream",
     "text": [
      "第 2006 条数据用时: 91.81 秒\n"
     ]
    },
    {
     "name": "stderr",
     "output_type": "stream",
     "text": [
      "Processing data_objects:  66%|██████▌   | 133/203 [01:33<00:17,  3.95it/s]"
     ]
    },
    {
     "name": "stdout",
     "output_type": "stream",
     "text": [
      "第 2005 条数据用时: 92.60 秒\n",
      "第 1977 条数据用时: 92.36 秒\n",
      "第 1953 条数据用时: 92.76 秒\n",
      "第 2024 条数据用时: 92.62 秒\n"
     ]
    },
    {
     "name": "stderr",
     "output_type": "stream",
     "text": [
      "Processing data_objects:  67%|██████▋   | 136/203 [01:33<00:11,  5.66it/s]"
     ]
    },
    {
     "name": "stdout",
     "output_type": "stream",
     "text": [
      "第 2017 条数据用时: 92.91 秒\n",
      "第 1852 条数据用时: 92.75 秒\n",
      "第 1906 条数据用时: 93.22 秒\n"
     ]
    },
    {
     "name": "stderr",
     "output_type": "stream",
     "text": [
      "Processing data_objects:  68%|██████▊   | 139/203 [01:33<00:10,  6.09it/s]"
     ]
    },
    {
     "name": "stdout",
     "output_type": "stream",
     "text": [
      "第 1999 条数据用时: 93.41 秒\n",
      "第 1846 条数据用时: 93.23 秒\n"
     ]
    },
    {
     "name": "stderr",
     "output_type": "stream",
     "text": [
      "Processing data_objects:  69%|██████▉   | 140/203 [01:34<00:11,  5.63it/s]"
     ]
    },
    {
     "name": "stdout",
     "output_type": "stream",
     "text": [
      "第 1893 条数据用时: 94.04 秒\n",
      "第 1840 条数据用时: 93.51 秒\n"
     ]
    },
    {
     "name": "stderr",
     "output_type": "stream",
     "text": [
      "Processing data_objects:  70%|███████   | 143/203 [01:34<00:11,  5.14it/s]"
     ]
    },
    {
     "name": "stdout",
     "output_type": "stream",
     "text": [
      "第 1956 条数据用时: 94.23 秒\n",
      "第 1955 条数据用时: 94.38 秒\n"
     ]
    },
    {
     "name": "stderr",
     "output_type": "stream",
     "text": [
      "Processing data_objects:  71%|███████   | 144/203 [01:35<00:14,  4.11it/s]"
     ]
    },
    {
     "name": "stdout",
     "output_type": "stream",
     "text": [
      "第 1885 条数据用时: 94.61 秒\n"
     ]
    },
    {
     "name": "stderr",
     "output_type": "stream",
     "text": [
      "Processing data_objects:  71%|███████▏  | 145/203 [01:35<00:18,  3.15it/s]"
     ]
    },
    {
     "name": "stdout",
     "output_type": "stream",
     "text": [
      "第 1883 条数据用时: 95.16 秒\n"
     ]
    },
    {
     "name": "stderr",
     "output_type": "stream",
     "text": [
      "Processing data_objects:  72%|███████▏  | 146/203 [01:36<00:17,  3.30it/s]"
     ]
    },
    {
     "name": "stdout",
     "output_type": "stream",
     "text": [
      "第 1991 条数据用时: 95.76 秒\n",
      "第 1857 条数据用时: 96.13 秒\n"
     ]
    },
    {
     "name": "stderr",
     "output_type": "stream",
     "text": [
      "Processing data_objects:  73%|███████▎  | 148/203 [01:37<00:23,  2.34it/s]"
     ]
    },
    {
     "name": "stdout",
     "output_type": "stream",
     "text": [
      "第 1836 条数据用时: 96.55 秒\n"
     ]
    },
    {
     "name": "stderr",
     "output_type": "stream",
     "text": [
      "Processing data_objects:  73%|███████▎  | 149/203 [01:37<00:22,  2.45it/s]"
     ]
    },
    {
     "name": "stdout",
     "output_type": "stream",
     "text": [
      "第 1830 条数据用时: 97.01 秒\n",
      "第 1879 条数据用时: 97.00 秒\n"
     ]
    },
    {
     "name": "stderr",
     "output_type": "stream",
     "text": [
      "Processing data_objects:  74%|███████▍  | 151/203 [01:37<00:15,  3.28it/s]"
     ]
    },
    {
     "name": "stdout",
     "output_type": "stream",
     "text": [
      "第 1850 条数据用时: 97.40 秒\n"
     ]
    },
    {
     "name": "stderr",
     "output_type": "stream",
     "text": [
      "Processing data_objects:  76%|███████▌  | 154/203 [01:38<00:10,  4.70it/s]"
     ]
    },
    {
     "name": "stdout",
     "output_type": "stream",
     "text": [
      "第 1888 条数据用时: 97.46 秒\n",
      "第 1964 条数据用时: 97.56 秒\n",
      "第 1962 条数据用时: 97.75 秒\n"
     ]
    },
    {
     "name": "stderr",
     "output_type": "stream",
     "text": [
      "Processing data_objects:  76%|███████▋  | 155/203 [01:38<00:10,  4.51it/s]"
     ]
    },
    {
     "name": "stdout",
     "output_type": "stream",
     "text": [
      "第 1854 条数据用时: 97.78 秒\n"
     ]
    },
    {
     "name": "stderr",
     "output_type": "stream",
     "text": [
      "Processing data_objects:  77%|███████▋  | 157/203 [01:39<00:12,  3.81it/s]"
     ]
    },
    {
     "name": "stdout",
     "output_type": "stream",
     "text": [
      "第 1961 条数据用时: 98.61 秒\n",
      "第 1839 条数据用时: 98.56 秒\n"
     ]
    },
    {
     "name": "stderr",
     "output_type": "stream",
     "text": [
      "Processing data_objects:  78%|███████▊  | 158/203 [01:39<00:10,  4.43it/s]"
     ]
    },
    {
     "name": "stdout",
     "output_type": "stream",
     "text": [
      "第 1831 条数据用时: 98.78 秒\n"
     ]
    },
    {
     "name": "stderr",
     "output_type": "stream",
     "text": [
      "Processing data_objects:  78%|███████▊  | 159/203 [01:39<00:11,  3.93it/s]"
     ]
    },
    {
     "name": "stdout",
     "output_type": "stream",
     "text": [
      "第 1832 条数据用时: 99.10 秒\n",
      "第 1884 条数据用时: 99.14 秒\n"
     ]
    },
    {
     "name": "stderr",
     "output_type": "stream",
     "text": [
      "Processing data_objects:  79%|███████▉  | 161/203 [01:39<00:07,  5.34it/s]"
     ]
    },
    {
     "name": "stdout",
     "output_type": "stream",
     "text": [
      "第 1843 条数据用时: 99.17 秒\n"
     ]
    },
    {
     "name": "stderr",
     "output_type": "stream",
     "text": [
      "Processing data_objects:  80%|████████  | 163/203 [01:40<00:08,  4.80it/s]"
     ]
    },
    {
     "name": "stdout",
     "output_type": "stream",
     "text": [
      "第 1835 条数据用时: 99.67 秒\n",
      "第 1994 条数据用时: 100.12 秒\n"
     ]
    },
    {
     "name": "stderr",
     "output_type": "stream",
     "text": [
      "Processing data_objects:  81%|████████  | 164/203 [01:40<00:07,  5.16it/s]"
     ]
    },
    {
     "name": "stdout",
     "output_type": "stream",
     "text": [
      "第 1887 条数据用时: 99.94 秒\n"
     ]
    },
    {
     "name": "stderr",
     "output_type": "stream",
     "text": [
      "Processing data_objects:  81%|████████▏ | 165/203 [01:41<00:10,  3.62it/s]"
     ]
    },
    {
     "name": "stdout",
     "output_type": "stream",
     "text": [
      "第 1889 条数据用时: 100.41 秒\n"
     ]
    },
    {
     "name": "stderr",
     "output_type": "stream",
     "text": [
      "Processing data_objects:  82%|████████▏ | 166/203 [01:41<00:12,  2.97it/s]"
     ]
    },
    {
     "name": "stdout",
     "output_type": "stream",
     "text": [
      "第 1874 条数据用时: 101.10 秒\n"
     ]
    },
    {
     "name": "stderr",
     "output_type": "stream",
     "text": [
      "Processing data_objects:  82%|████████▏ | 167/203 [01:42<00:17,  2.01it/s]"
     ]
    },
    {
     "name": "stdout",
     "output_type": "stream",
     "text": [
      "第 1958 条数据用时: 101.97 秒\n"
     ]
    },
    {
     "name": "stderr",
     "output_type": "stream",
     "text": [
      "Processing data_objects:  83%|████████▎ | 168/203 [01:42<00:15,  2.33it/s]"
     ]
    },
    {
     "name": "stdout",
     "output_type": "stream",
     "text": [
      "第 1957 条数据用时: 102.25 秒\n",
      "第 1837 条数据用时: 102.06 秒\n"
     ]
    },
    {
     "name": "stderr",
     "output_type": "stream",
     "text": [
      "Processing data_objects:  84%|████████▎ | 170/203 [01:42<00:09,  3.52it/s]"
     ]
    },
    {
     "name": "stdout",
     "output_type": "stream",
     "text": [
      "第 1845 条数据用时: 102.24 秒\n"
     ]
    },
    {
     "name": "stderr",
     "output_type": "stream",
     "text": [
      "Processing data_objects:  84%|████████▍ | 171/203 [01:43<00:10,  3.04it/s]"
     ]
    },
    {
     "name": "stdout",
     "output_type": "stream",
     "text": [
      "第 1876 条数据用时: 102.90 秒\n",
      "第 1878 条数据用时: 102.96 秒\n"
     ]
    },
    {
     "name": "stderr",
     "output_type": "stream",
     "text": [
      "Processing data_objects:  85%|████████▌ | 173/203 [01:43<00:08,  3.52it/s]"
     ]
    },
    {
     "name": "stdout",
     "output_type": "stream",
     "text": [
      "第 1959 条数据用时: 103.34 秒\n",
      "第 1844 条数据用时: 103.19 秒\n"
     ]
    },
    {
     "name": "stderr",
     "output_type": "stream",
     "text": [
      "Processing data_objects:  86%|████████▌ | 175/203 [01:44<00:06,  4.37it/s]"
     ]
    },
    {
     "name": "stdout",
     "output_type": "stream",
     "text": [
      "第 1975 条数据用时: 103.43 秒\n",
      "第 1908 条数据用时: 103.96 秒\n"
     ]
    },
    {
     "name": "stderr",
     "output_type": "stream",
     "text": [
      "Processing data_objects:  87%|████████▋ | 177/203 [01:44<00:05,  4.95it/s]"
     ]
    },
    {
     "name": "stdout",
     "output_type": "stream",
     "text": [
      "第 1976 条数据用时: 103.72 秒\n",
      "第 1853 条数据用时: 103.71 秒\n",
      "第 1875 条数据用时: 103.98 秒\n"
     ]
    },
    {
     "name": "stderr",
     "output_type": "stream",
     "text": [
      "Processing data_objects:  89%|████████▊ | 180/203 [01:44<00:04,  5.74it/s]"
     ]
    },
    {
     "name": "stdout",
     "output_type": "stream",
     "text": [
      "第 1969 条数据用时: 104.21 秒\n",
      "第 1880 条数据用时: 104.35 秒\n"
     ]
    },
    {
     "name": "stderr",
     "output_type": "stream",
     "text": [
      "Processing data_objects:  90%|█████████ | 183/203 [01:45<00:03,  5.32it/s]"
     ]
    },
    {
     "name": "stdout",
     "output_type": "stream",
     "text": [
      "第 1973 条数据用时: 104.72 秒\n",
      "第 1914 条数据用时: 105.41 秒\n"
     ]
    },
    {
     "name": "stderr",
     "output_type": "stream",
     "text": [
      "Processing data_objects:  91%|█████████ | 185/203 [01:45<00:03,  5.28it/s]"
     ]
    },
    {
     "name": "stdout",
     "output_type": "stream",
     "text": [
      "第 1967 条数据用时: 105.22 秒\n",
      "第 1849 条数据用时: 105.18 秒\n"
     ]
    },
    {
     "name": "stderr",
     "output_type": "stream",
     "text": [
      "Processing data_objects:  92%|█████████▏| 186/203 [01:46<00:05,  2.93it/s]"
     ]
    },
    {
     "name": "stdout",
     "output_type": "stream",
     "text": [
      "第 1966 条数据用时: 106.16 秒\n",
      "第 1978 条数据用时: 106.06 秒\n"
     ]
    },
    {
     "name": "stderr",
     "output_type": "stream",
     "text": [
      "Processing data_objects:  93%|█████████▎| 189/203 [01:47<00:04,  3.43it/s]"
     ]
    },
    {
     "name": "stdout",
     "output_type": "stream",
     "text": [
      "第 1871 条数据用时: 106.98 秒\n",
      "第 1834 条数据用时: 106.92 秒\n",
      "第 1963 条数据用时: 107.00 秒\n",
      "第 1829 条数据用时: 106.85 秒\n"
     ]
    },
    {
     "name": "stderr",
     "output_type": "stream",
     "text": [
      "Processing data_objects:  95%|█████████▍| 192/203 [01:48<00:04,  2.64it/s]"
     ]
    },
    {
     "name": "stdout",
     "output_type": "stream",
     "text": [
      "第 1972 条数据用时: 108.29 秒\n"
     ]
    },
    {
     "name": "stderr",
     "output_type": "stream",
     "text": [
      "Processing data_objects:  96%|█████████▌| 194/203 [01:49<00:03,  2.57it/s]"
     ]
    },
    {
     "name": "stdout",
     "output_type": "stream",
     "text": [
      "第 1877 条数据用时: 109.15 秒\n",
      "第 1971 条数据用时: 109.21 秒\n"
     ]
    },
    {
     "name": "stderr",
     "output_type": "stream",
     "text": [
      "Processing data_objects:  96%|█████████▌| 195/203 [01:50<00:02,  2.87it/s]"
     ]
    },
    {
     "name": "stdout",
     "output_type": "stream",
     "text": [
      "第 1886 条数据用时: 109.45 秒\n"
     ]
    },
    {
     "name": "stderr",
     "output_type": "stream",
     "text": [
      "Processing data_objects:  97%|█████████▋| 196/203 [01:58<00:15,  2.27s/it]"
     ]
    },
    {
     "name": "stdout",
     "output_type": "stream",
     "text": [
      "第 1970 条数据用时: 117.49 秒\n"
     ]
    },
    {
     "name": "stderr",
     "output_type": "stream",
     "text": [
      "Processing data_objects:  97%|█████████▋| 197/203 [01:58<00:10,  1.78s/it]"
     ]
    },
    {
     "name": "stdout",
     "output_type": "stream",
     "text": [
      "第 1838 条数据用时: 117.85 秒\n"
     ]
    },
    {
     "name": "stderr",
     "output_type": "stream",
     "text": [
      "Processing data_objects:  98%|█████████▊| 198/203 [02:01<00:10,  2.15s/it]"
     ]
    },
    {
     "name": "stdout",
     "output_type": "stream",
     "text": [
      "第 1902 条数据用时: 121.45 秒\n",
      "第 1828 条数据用时: 121.15 秒\n"
     ]
    },
    {
     "name": "stderr",
     "output_type": "stream",
     "text": [
      "Processing data_objects:  99%|█████████▉| 201/203 [02:03<00:02,  1.31s/it]"
     ]
    },
    {
     "name": "stdout",
     "output_type": "stream",
     "text": [
      "第 2000 条数据用时: 123.37 秒\n",
      "第 1997 条数据用时: 123.56 秒\n"
     ]
    },
    {
     "name": "stderr",
     "output_type": "stream",
     "text": [
      "Processing data_objects: 100%|█████████▉| 202/203 [02:04<00:01,  1.14s/it]"
     ]
    },
    {
     "name": "stdout",
     "output_type": "stream",
     "text": [
      "第 1862 条数据用时: 124.50 秒\n"
     ]
    },
    {
     "name": "stderr",
     "output_type": "stream",
     "text": [
      "Processing data_objects: 100%|██████████| 203/203 [02:09<00:00,  1.57it/s]\n"
     ]
    },
    {
     "name": "stdout",
     "output_type": "stream",
     "text": [
      "第 1960 条数据用时: 128.97 秒\n"
     ]
    },
    {
     "name": "stderr",
     "output_type": "stream",
     "text": [
      "Processing data_objects:   0%|          | 1/203 [00:05<18:49,  5.59s/it]"
     ]
    },
    {
     "name": "stdout",
     "output_type": "stream",
     "text": [
      "第 2218 条数据用时: 5.51 秒\n"
     ]
    },
    {
     "name": "stderr",
     "output_type": "stream",
     "text": [
      "Processing data_objects:   1%|          | 2/203 [00:07<10:50,  3.24s/it]"
     ]
    },
    {
     "name": "stdout",
     "output_type": "stream",
     "text": [
      "第 2053 条数据用时: 7.09 秒\n"
     ]
    },
    {
     "name": "stderr",
     "output_type": "stream",
     "text": [
      "Processing data_objects:   1%|▏         | 3/203 [00:10<10:45,  3.23s/it]"
     ]
    },
    {
     "name": "stdout",
     "output_type": "stream",
     "text": [
      "第 2163 条数据用时: 10.33 秒\n"
     ]
    },
    {
     "name": "stderr",
     "output_type": "stream",
     "text": [
      "Processing data_objects:   2%|▏         | 4/203 [00:11<08:32,  2.58s/it]"
     ]
    },
    {
     "name": "stdout",
     "output_type": "stream",
     "text": [
      "第 2059 条数据用时: 11.78 秒\n",
      "第 2224 条数据用时: 11.82 秒\n",
      "第 2058 条数据用时: 11.80 秒\n",
      "第 2223 条数据用时: 11.83 秒\n",
      "第 2226 条数据用时: 11.79 秒\n"
     ]
    },
    {
     "name": "stderr",
     "output_type": "stream",
     "text": [
      "Processing data_objects:   4%|▍         | 9/203 [00:13<02:56,  1.10it/s]"
     ]
    },
    {
     "name": "stdout",
     "output_type": "stream",
     "text": [
      "第 2227 条数据用时: 13.39 秒\n"
     ]
    },
    {
     "name": "stderr",
     "output_type": "stream",
     "text": [
      "Processing data_objects:   5%|▍         | 10/203 [00:16<04:16,  1.33s/it]"
     ]
    },
    {
     "name": "stdout",
     "output_type": "stream",
     "text": [
      "第 2199 条数据用时: 16.58 秒\n",
      "第 2136 条数据用时: 16.60 秒\n"
     ]
    },
    {
     "name": "stderr",
     "output_type": "stream",
     "text": [
      "Processing data_objects:   6%|▌         | 12/203 [00:18<03:36,  1.14s/it]"
     ]
    },
    {
     "name": "stdout",
     "output_type": "stream",
     "text": [
      "第 2147 条数据用时: 18.05 秒\n",
      "第 2202 条数据用时: 18.04 秒\n"
     ]
    },
    {
     "name": "stderr",
     "output_type": "stream",
     "text": [
      "Processing data_objects:   7%|▋         | 14/203 [00:19<03:14,  1.03s/it]"
     ]
    },
    {
     "name": "stdout",
     "output_type": "stream",
     "text": [
      "第 2206 条数据用时: 19.60 秒\n",
      "第 2207 条数据用时: 19.59 秒\n"
     ]
    },
    {
     "name": "stderr",
     "output_type": "stream",
     "text": [
      "Processing data_objects:   8%|▊         | 16/203 [00:21<02:54,  1.07it/s]"
     ]
    },
    {
     "name": "stdout",
     "output_type": "stream",
     "text": [
      "第 2066 条数据用时: 21.02 秒\n",
      "第 2068 条数据用时: 21.00 秒\n"
     ]
    },
    {
     "name": "stderr",
     "output_type": "stream",
     "text": [
      "Processing data_objects:   9%|▉         | 18/203 [00:22<02:18,  1.33it/s]"
     ]
    },
    {
     "name": "stdout",
     "output_type": "stream",
     "text": [
      "第 2157 条数据用时: 21.65 秒\n"
     ]
    },
    {
     "name": "stderr",
     "output_type": "stream",
     "text": [
      "Processing data_objects:  11%|█         | 22/203 [00:22<01:13,  2.46it/s]"
     ]
    },
    {
     "name": "stdout",
     "output_type": "stream",
     "text": [
      "第 2124 条数据用时: 21.92 秒\n",
      "第 2077 条数据用时: 21.93 秒\n",
      "第 2140 条数据用时: 21.94 秒\n",
      "第 2180 条数据用时: 21.98 秒\n"
     ]
    },
    {
     "name": "stderr",
     "output_type": "stream",
     "text": [
      "Processing data_objects:  12%|█▏        | 25/203 [00:23<00:56,  3.17it/s]"
     ]
    },
    {
     "name": "stdout",
     "output_type": "stream",
     "text": [
      "第 2187 条数据用时: 22.40 秒\n",
      "第 2103 条数据用时: 22.39 秒\n",
      "第 2193 条数据用时: 22.51 秒\n"
     ]
    },
    {
     "name": "stderr",
     "output_type": "stream",
     "text": [
      "Processing data_objects:  13%|█▎        | 26/203 [00:23<00:57,  3.10it/s]"
     ]
    },
    {
     "name": "stdout",
     "output_type": "stream",
     "text": [
      "第 2127 条数据用时: 23.63 秒\n"
     ]
    },
    {
     "name": "stderr",
     "output_type": "stream",
     "text": [
      "Processing data_objects:  13%|█▎        | 27/203 [00:23<00:52,  3.34it/s]"
     ]
    },
    {
     "name": "stdout",
     "output_type": "stream",
     "text": [
      "第 2067 条数据用时: 23.48 秒\n"
     ]
    },
    {
     "name": "stderr",
     "output_type": "stream",
     "text": [
      "Processing data_objects:  14%|█▍        | 28/203 [00:24<00:58,  2.99it/s]"
     ]
    },
    {
     "name": "stdout",
     "output_type": "stream",
     "text": [
      "第 2146 条数据用时: 24.04 秒\n",
      "第 2088 条数据用时: 24.46 秒\n",
      "第 2135 条数据用时: 23.89 秒\n"
     ]
    },
    {
     "name": "stderr",
     "output_type": "stream",
     "text": [
      "Processing data_objects:  15%|█▌        | 31/203 [00:25<00:48,  3.53it/s]"
     ]
    },
    {
     "name": "stdout",
     "output_type": "stream",
     "text": [
      "第 2057 条数据用时: 24.90 秒\n"
     ]
    },
    {
     "name": "stderr",
     "output_type": "stream",
     "text": [
      "Processing data_objects:  16%|█▌        | 32/203 [00:26<01:13,  2.33it/s]"
     ]
    },
    {
     "name": "stdout",
     "output_type": "stream",
     "text": [
      "第 2052 条数据用时: 25.99 秒\n"
     ]
    },
    {
     "name": "stderr",
     "output_type": "stream",
     "text": [
      "Processing data_objects:  16%|█▋        | 33/203 [00:26<01:13,  2.30it/s]"
     ]
    },
    {
     "name": "stdout",
     "output_type": "stream",
     "text": [
      "第 2083 条数据用时: 25.95 秒\n"
     ]
    },
    {
     "name": "stderr",
     "output_type": "stream",
     "text": [
      "Processing data_objects:  17%|█▋        | 34/203 [00:27<01:21,  2.07it/s]"
     ]
    },
    {
     "name": "stdout",
     "output_type": "stream",
     "text": [
      "第 2099 条数据用时: 27.04 秒\n"
     ]
    },
    {
     "name": "stderr",
     "output_type": "stream",
     "text": [
      "Processing data_objects:  17%|█▋        | 35/203 [00:27<01:32,  1.82it/s]"
     ]
    },
    {
     "name": "stdout",
     "output_type": "stream",
     "text": [
      "第 2122 条数据用时: 27.11 秒\n"
     ]
    },
    {
     "name": "stderr",
     "output_type": "stream",
     "text": [
      "Processing data_objects:  18%|█▊        | 36/203 [00:28<01:26,  1.93it/s]"
     ]
    },
    {
     "name": "stdout",
     "output_type": "stream",
     "text": [
      "第 2098 条数据用时: 28.23 秒\n"
     ]
    },
    {
     "name": "stderr",
     "output_type": "stream",
     "text": [
      "Processing data_objects:  19%|█▊        | 38/203 [00:28<01:03,  2.58it/s]"
     ]
    },
    {
     "name": "stdout",
     "output_type": "stream",
     "text": [
      "第 2209 条数据用时: 28.39 秒\n",
      "第 2213 条数据用时: 28.91 秒\n"
     ]
    },
    {
     "name": "stderr",
     "output_type": "stream",
     "text": [
      "Processing data_objects:  19%|█▉        | 39/203 [00:29<01:08,  2.39it/s]"
     ]
    },
    {
     "name": "stdout",
     "output_type": "stream",
     "text": [
      "第 2071 条数据用时: 29.19 秒\n",
      "第 2046 条数据用时: 29.06 秒\n",
      "第 2195 条数据用时: 29.19 秒\n"
     ]
    },
    {
     "name": "stderr",
     "output_type": "stream",
     "text": [
      "Processing data_objects:  21%|██        | 42/203 [00:30<00:49,  3.25it/s]"
     ]
    },
    {
     "name": "stdout",
     "output_type": "stream",
     "text": [
      "第 2210 条数据用时: 29.63 秒\n",
      "第 2204 条数据用时: 29.73 秒\n",
      "第 2154 条数据用时: 29.67 秒\n"
     ]
    },
    {
     "name": "stderr",
     "output_type": "stream",
     "text": [
      "Processing data_objects:  22%|██▏       | 45/203 [00:30<00:41,  3.78it/s]"
     ]
    },
    {
     "name": "stdout",
     "output_type": "stream",
     "text": [
      "第 2143 条数据用时: 30.07 秒\n",
      "第 2056 条数据用时: 30.57 秒\n"
     ]
    },
    {
     "name": "stderr",
     "output_type": "stream",
     "text": [
      "Processing data_objects:  23%|██▎       | 47/203 [00:31<00:38,  4.03it/s]"
     ]
    },
    {
     "name": "stdout",
     "output_type": "stream",
     "text": [
      "第 2215 条数据用时: 31.09 秒\n",
      "第 2111 条数据用时: 30.45 秒\n",
      "第 2048 条数据用时: 30.75 秒\n"
     ]
    },
    {
     "name": "stderr",
     "output_type": "stream",
     "text": [
      "Processing data_objects:  25%|██▌       | 51/203 [00:31<00:30,  5.00it/s]"
     ]
    },
    {
     "name": "stdout",
     "output_type": "stream",
     "text": [
      "第 2072 条数据用时: 30.67 秒\n",
      "第 2233 条数据用时: 31.60 秒\n",
      "第 2168 条数据用时: 31.43 秒\n",
      "第 2165 条数据用时: 31.02 秒\n",
      "第 2054 条数据用时: 31.59 秒\n"
     ]
    },
    {
     "name": "stderr",
     "output_type": "stream",
     "text": [
      "Processing data_objects:  27%|██▋       | 55/203 [00:32<00:30,  4.81it/s]"
     ]
    },
    {
     "name": "stdout",
     "output_type": "stream",
     "text": [
      "第 2169 条数据用时: 32.29 秒\n"
     ]
    },
    {
     "name": "stderr",
     "output_type": "stream",
     "text": [
      "Processing data_objects:  28%|██▊       | 56/203 [00:32<00:31,  4.64it/s]"
     ]
    },
    {
     "name": "stdout",
     "output_type": "stream",
     "text": [
      "第 2113 条数据用时: 32.11 秒\n",
      "第 2095 条数据用时: 32.81 秒\n"
     ]
    },
    {
     "name": "stderr",
     "output_type": "stream",
     "text": [
      "Processing data_objects:  29%|██▊       | 58/203 [00:33<00:33,  4.35it/s]"
     ]
    },
    {
     "name": "stdout",
     "output_type": "stream",
     "text": [
      "第 2214 条数据用时: 33.33 秒\n",
      "第 2220 条数据用时: 33.29 秒\n"
     ]
    },
    {
     "name": "stderr",
     "output_type": "stream",
     "text": [
      "Processing data_objects:  30%|██▉       | 60/203 [00:33<00:28,  5.01it/s]"
     ]
    },
    {
     "name": "stdout",
     "output_type": "stream",
     "text": [
      "第 2076 条数据用时: 33.09 秒\n"
     ]
    },
    {
     "name": "stderr",
     "output_type": "stream",
     "text": [
      "Processing data_objects:  30%|███       | 61/203 [00:33<00:28,  4.98it/s]"
     ]
    },
    {
     "name": "stdout",
     "output_type": "stream",
     "text": [
      "第 2081 条数据用时: 33.23 秒\n",
      "第 2153 条数据用时: 33.40 秒\n"
     ]
    },
    {
     "name": "stderr",
     "output_type": "stream",
     "text": [
      "Processing data_objects:  31%|███       | 63/203 [00:34<00:23,  5.96it/s]"
     ]
    },
    {
     "name": "stdout",
     "output_type": "stream",
     "text": [
      "第 2033 条数据用时: 33.80 秒\n"
     ]
    },
    {
     "name": "stderr",
     "output_type": "stream",
     "text": [
      "Processing data_objects:  32%|███▏      | 65/203 [00:34<00:27,  4.97it/s]"
     ]
    },
    {
     "name": "stdout",
     "output_type": "stream",
     "text": [
      "第 2050 条数据用时: 33.87 秒\n",
      "第 2042 条数据用时: 34.24 秒\n",
      "第 2185 条数据用时: 33.84 秒\n"
     ]
    },
    {
     "name": "stderr",
     "output_type": "stream",
     "text": [
      "Processing data_objects:  33%|███▎      | 67/203 [00:35<00:31,  4.30it/s]"
     ]
    },
    {
     "name": "stdout",
     "output_type": "stream",
     "text": [
      "第 2174 条数据用时: 34.55 秒\n",
      "第 2219 条数据用时: 35.04 秒\n",
      "第 2074 条数据用时: 34.63 秒\n",
      "第 2177 条数据用时: 34.54 秒\n",
      "第 2194 条数据用时: 34.98 秒\n",
      "第 2149 条数据用时: 34.85 秒\n"
     ]
    },
    {
     "name": "stderr",
     "output_type": "stream",
     "text": [
      "Processing data_objects:  38%|███▊      | 77/203 [00:36<00:17,  7.24it/s]"
     ]
    },
    {
     "name": "stdout",
     "output_type": "stream",
     "text": [
      "第 2032 条数据用时: 35.80 秒\n",
      "第 2139 条数据用时: 35.79 秒\n",
      "第 2044 条数据用时: 35.95 秒\n",
      "第 2189 条数据用时: 35.53 秒\n",
      "第 2037 条数据用时: 36.10 秒\n",
      "第 2094 条数据用时: 36.27 秒\n",
      "第 2155 条数据用时: 35.97 秒\n"
     ]
    },
    {
     "name": "stderr",
     "output_type": "stream",
     "text": [
      "Processing data_objects:  42%|████▏     | 86/203 [00:37<00:11, 10.39it/s]"
     ]
    },
    {
     "name": "stdout",
     "output_type": "stream",
     "text": [
      "第 2228 条数据用时: 36.79 秒\n",
      "第 2201 条数据用时: 36.66 秒\n",
      "第 2144 条数据用时: 36.38 秒\n",
      "第 2035 条数据用时: 36.82 秒\n",
      "第 2041 条数据用时: 36.71 秒\n",
      "第 2069 条数据用时: 36.56 秒\n",
      "第 2150 条数据用时: 36.72 秒\n",
      "第 2034 条数据用时: 36.61 秒\n",
      "第 2131 条数据用时: 36.98 秒\n"
     ]
    },
    {
     "name": "stderr",
     "output_type": "stream",
     "text": [
      "Processing data_objects:  48%|████▊     | 97/203 [00:37<00:05, 19.03it/s]"
     ]
    },
    {
     "name": "stdout",
     "output_type": "stream",
     "text": [
      "第 2167 条数据用时: 37.00 秒\n",
      "第 2126 条数据用时: 36.94 秒\n",
      "第 2211 条数据用时: 36.80 秒\n",
      "第 2216 条数据用时: 37.25 秒\n",
      "第 2160 条数据用时: 37.27 秒\n",
      "第 2186 条数据用时: 36.56 秒\n",
      "第 2162 条数据用时: 37.30 秒\n",
      "第 2089 条数据用时: 37.28 秒\n",
      "第 2183 条数据用时: 36.69 秒\n",
      "第 2128 条数据用时: 36.91 秒\n",
      "第 2064 条数据用时: 37.20 秒\n",
      "第 2079 条数据用时: 36.88 秒\n"
     ]
    },
    {
     "name": "stderr",
     "output_type": "stream",
     "text": [
      "Processing data_objects:  52%|█████▏    | 106/203 [00:37<00:04, 23.69it/s]"
     ]
    },
    {
     "name": "stdout",
     "output_type": "stream",
     "text": [
      "第 2230 条数据用时: 37.26 秒\n",
      "第 2045 条数据用时: 37.16 秒\n",
      "第 2075 条数据用时: 37.06 秒\n",
      "第 2091 条数据用时: 37.56 秒\n",
      "第 2110 条数据用时: 37.01 秒\n",
      "第 2152 条数据用时: 37.26 秒\n",
      "第 2179 条数据用时: 37.02 秒\n"
     ]
    },
    {
     "name": "stderr",
     "output_type": "stream",
     "text": [
      "Processing data_objects:  54%|█████▍    | 110/203 [00:37<00:03, 25.22it/s]"
     ]
    },
    {
     "name": "stdout",
     "output_type": "stream",
     "text": [
      "第 2092 条数据用时: 37.66 秒\n",
      "第 2222 条数据用时: 37.62 秒\n",
      "第 2141 条数据用时: 37.24 秒\n",
      "第 2217 条数据用时: 37.73 秒\n",
      "第 2221 条数据用时: 37.72 秒\n"
     ]
    },
    {
     "name": "stderr",
     "output_type": "stream",
     "text": [
      "Processing data_objects:  59%|█████▉    | 120/203 [00:38<00:02, 29.84it/s]"
     ]
    },
    {
     "name": "stdout",
     "output_type": "stream",
     "text": [
      "第 2229 条数据用时: 37.72 秒\n",
      "第 2051 条数据用时: 37.46 秒\n",
      "第 2047 条数据用时: 37.58 秒\n",
      "第 2145 条数据用时: 37.36 秒\n",
      "第 2038 条数据用时: 37.73 秒\n",
      "第 2100 条数据用时: 37.85 秒\n",
      "第 2166 条数据用时: 37.36 秒\n",
      "第 2125 条数据用时: 37.51 秒\n",
      "第 2200 条数据用时: 37.82 秒\n",
      "第 2049 条数据用时: 37.69 秒\n",
      "第 2065 条数据用时: 37.85 秒\n"
     ]
    },
    {
     "name": "stderr",
     "output_type": "stream",
     "text": [
      "Processing data_objects:  63%|██████▎   | 127/203 [00:38<00:03, 23.53it/s]"
     ]
    },
    {
     "name": "stdout",
     "output_type": "stream",
     "text": [
      "第 2175 条数据用时: 37.75 秒\n",
      "第 2203 条数据用时: 38.13 秒\n",
      "第 2090 条数据用时: 38.45 秒\n",
      "第 2197 条数据用时: 38.22 秒\n",
      "第 2107 条数据用时: 37.70 秒\n",
      "第 2212 条数据用时: 38.06 秒\n"
     ]
    },
    {
     "name": "stderr",
     "output_type": "stream",
     "text": [
      "Processing data_objects:  66%|██████▌   | 134/203 [00:38<00:02, 23.09it/s]"
     ]
    },
    {
     "name": "stdout",
     "output_type": "stream",
     "text": [
      "第 2078 条数据用时: 38.08 秒\n",
      "第 2061 条数据用时: 38.42 秒\n",
      "第 2123 条数据用时: 37.83 秒\n",
      "第 2132 条数据用时: 38.53 秒\n",
      "第 2087 条数据用时: 38.80 秒\n"
     ]
    },
    {
     "name": "stderr",
     "output_type": "stream",
     "text": [
      "Processing data_objects:  67%|██████▋   | 137/203 [00:39<00:03, 18.28it/s]"
     ]
    },
    {
     "name": "stdout",
     "output_type": "stream",
     "text": [
      "第 2116 条数据用时: 38.14 秒\n",
      "第 2060 条数据用时: 38.79 秒\n",
      "第 2118 条数据用时: 38.29 秒\n"
     ]
    },
    {
     "name": "stderr",
     "output_type": "stream",
     "text": [
      "Processing data_objects:  69%|██████▉   | 140/203 [00:39<00:03, 19.51it/s]"
     ]
    },
    {
     "name": "stdout",
     "output_type": "stream",
     "text": [
      "第 2039 条数据用时: 38.82 秒\n",
      "第 2138 条数据用时: 38.56 秒\n",
      "第 2170 条数据用时: 38.66 秒\n",
      "第 2172 条数据用时: 38.67 秒\n",
      "第 2031 条数据用时: 39.01 秒\n"
     ]
    },
    {
     "name": "stderr",
     "output_type": "stream",
     "text": [
      "Processing data_objects:  72%|███████▏  | 146/203 [00:39<00:03, 15.84it/s]"
     ]
    },
    {
     "name": "stdout",
     "output_type": "stream",
     "text": [
      "第 2073 条数据用时: 38.74 秒\n",
      "第 2158 条数据用时: 39.08 秒\n",
      "第 2120 条数据用时: 38.80 秒\n",
      "第 2096 条数据用时: 39.56 秒\n",
      "第 2109 条数据用时: 39.05 秒\n",
      "第 2070 条数据用时: 39.23 秒\n"
     ]
    },
    {
     "name": "stderr",
     "output_type": "stream",
     "text": [
      "Processing data_objects:  75%|███████▍  | 152/203 [00:39<00:02, 19.85it/s]"
     ]
    },
    {
     "name": "stdout",
     "output_type": "stream",
     "text": [
      "第 2171 条数据用时: 39.24 秒\n",
      "第 2208 条数据用时: 39.41 秒\n",
      "第 2137 条数据用时: 39.26 秒\n",
      "第 2080 条数据用时: 39.33 秒\n"
     ]
    },
    {
     "name": "stderr",
     "output_type": "stream",
     "text": [
      "Processing data_objects:  76%|███████▋  | 155/203 [00:40<00:03, 14.65it/s]"
     ]
    },
    {
     "name": "stdout",
     "output_type": "stream",
     "text": [
      "第 2196 条数据用时: 39.79 秒\n",
      "第 2097 条数据用时: 40.11 秒\n",
      "第 2142 条数据用时: 39.62 秒\n"
     ]
    },
    {
     "name": "stderr",
     "output_type": "stream",
     "text": [
      "Processing data_objects:  77%|███████▋  | 157/203 [00:40<00:02, 15.35it/s]"
     ]
    },
    {
     "name": "stdout",
     "output_type": "stream",
     "text": [
      "第 2062 条数据用时: 40.06 秒\n",
      "第 2093 条数据用时: 40.27 秒\n",
      "第 2119 条数据用时: 39.66 秒\n"
     ]
    },
    {
     "name": "stderr",
     "output_type": "stream",
     "text": [
      "Processing data_objects:  78%|███████▊  | 159/203 [00:40<00:02, 15.02it/s]"
     ]
    },
    {
     "name": "stdout",
     "output_type": "stream",
     "text": [
      "第 2108 条数据用时: 39.87 秒\n",
      "第 2161 条数据用时: 40.49 秒\n",
      "第 2102 条数据用时: 39.78 秒\n"
     ]
    },
    {
     "name": "stderr",
     "output_type": "stream",
     "text": [
      "Processing data_objects:  81%|████████▏ | 165/203 [00:40<00:02, 15.22it/s]"
     ]
    },
    {
     "name": "stdout",
     "output_type": "stream",
     "text": [
      "第 2130 条数据用时: 40.09 秒\n",
      "第 2159 条数据用时: 40.76 秒\n",
      "第 2151 条数据用时: 40.41 秒\n",
      "第 2188 条数据用时: 40.13 秒\n",
      "第 2178 条数据用时: 40.27 秒\n",
      "第 2085 条数据用时: 40.20 秒\n"
     ]
    },
    {
     "name": "stderr",
     "output_type": "stream",
     "text": [
      "Processing data_objects:  85%|████████▍ | 172/203 [00:41<00:01, 21.23it/s]"
     ]
    },
    {
     "name": "stdout",
     "output_type": "stream",
     "text": [
      "第 2133 条数据用时: 40.70 秒\n",
      "第 2101 条数据用时: 40.27 秒\n",
      "第 2191 条数据用时: 40.26 秒\n",
      "第 2173 条数据用时: 40.50 秒\n",
      "第 2181 条数据用时: 40.46 秒\n",
      "第 2055 条数据用时: 41.05 秒\n",
      "第 2112 条数据用时: 40.48 秒\n"
     ]
    },
    {
     "name": "stderr",
     "output_type": "stream",
     "text": [
      "Processing data_objects:  88%|████████▊ | 178/203 [00:41<00:01, 22.83it/s]"
     ]
    },
    {
     "name": "stdout",
     "output_type": "stream",
     "text": [
      "第 2198 条数据用时: 41.00 秒\n",
      "第 2036 条数据用时: 41.11 秒\n",
      "第 2115 条数据用时: 40.65 秒\n",
      "第 2192 条数据用时: 40.57 秒\n"
     ]
    },
    {
     "name": "stderr",
     "output_type": "stream",
     "text": [
      "Processing data_objects:  89%|████████▉ | 181/203 [00:41<00:01, 18.61it/s]"
     ]
    },
    {
     "name": "stdout",
     "output_type": "stream",
     "text": [
      "第 2114 条数据用时: 40.79 秒\n",
      "第 2105 条数据用时: 40.77 秒\n",
      "第 2086 条数据用时: 40.90 秒\n",
      "第 2063 条数据用时: 41.50 秒\n",
      "第 2117 条数据用时: 41.02 秒\n"
     ]
    },
    {
     "name": "stderr",
     "output_type": "stream",
     "text": [
      "Processing data_objects:  91%|█████████ | 184/203 [00:42<00:01, 10.78it/s]"
     ]
    },
    {
     "name": "stdout",
     "output_type": "stream",
     "text": [
      "第 2164 条数据用时: 41.51 秒\n",
      "第 2231 条数据用时: 41.59 秒\n"
     ]
    },
    {
     "name": "stderr",
     "output_type": "stream",
     "text": [
      "Processing data_objects:  92%|█████████▏| 186/203 [00:42<00:01,  9.23it/s]"
     ]
    },
    {
     "name": "stdout",
     "output_type": "stream",
     "text": [
      "第 2104 条数据用时: 41.71 秒\n",
      "第 2134 条数据用时: 42.06 秒\n"
     ]
    },
    {
     "name": "stderr",
     "output_type": "stream",
     "text": [
      "Processing data_objects:  93%|█████████▎| 188/203 [00:42<00:01,  9.13it/s]"
     ]
    },
    {
     "name": "stdout",
     "output_type": "stream",
     "text": [
      "第 2176 条数据用时: 42.12 秒\n",
      "第 2121 条数据用时: 41.98 秒\n"
     ]
    },
    {
     "name": "stderr",
     "output_type": "stream",
     "text": [
      "Processing data_objects:  96%|█████████▌| 194/203 [00:43<00:00, 11.96it/s]"
     ]
    },
    {
     "name": "stdout",
     "output_type": "stream",
     "text": [
      "第 2106 条数据用时: 42.16 秒\n",
      "第 2129 条数据用时: 42.23 秒\n",
      "第 2184 条数据用时: 42.35 秒\n",
      "第 2148 条数据用时: 42.72 秒\n",
      "第 2225 条数据用时: 42.98 秒\n",
      "第 2182 条数据用时: 42.58 秒\n"
     ]
    },
    {
     "name": "stderr",
     "output_type": "stream",
     "text": [
      "Processing data_objects:  97%|█████████▋| 196/203 [00:43<00:00,  8.51it/s]"
     ]
    },
    {
     "name": "stdout",
     "output_type": "stream",
     "text": [
      "第 2190 条数据用时: 42.81 秒\n",
      "第 2040 条数据用时: 43.39 秒\n"
     ]
    },
    {
     "name": "stderr",
     "output_type": "stream",
     "text": [
      "Processing data_objects:  98%|█████████▊| 198/203 [00:44<00:00,  5.42it/s]"
     ]
    },
    {
     "name": "stdout",
     "output_type": "stream",
     "text": [
      "第 2043 条数据用时: 44.04 秒\n"
     ]
    },
    {
     "name": "stderr",
     "output_type": "stream",
     "text": [
      "Processing data_objects:  98%|█████████▊| 199/203 [00:44<00:00,  4.08it/s]"
     ]
    },
    {
     "name": "stdout",
     "output_type": "stream",
     "text": [
      "第 2232 条数据用时: 44.27 秒\n"
     ]
    },
    {
     "name": "stderr",
     "output_type": "stream",
     "text": [
      "Processing data_objects:  99%|█████████▊| 200/203 [00:46<00:01,  2.41it/s]"
     ]
    },
    {
     "name": "stdout",
     "output_type": "stream",
     "text": [
      "第 2084 条数据用时: 45.56 秒\n"
     ]
    },
    {
     "name": "stderr",
     "output_type": "stream",
     "text": [
      "Processing data_objects:  99%|█████████▉| 201/203 [00:47<00:01,  1.88it/s]"
     ]
    },
    {
     "name": "stdout",
     "output_type": "stream",
     "text": [
      "第 2082 条数据用时: 46.58 秒\n"
     ]
    },
    {
     "name": "stderr",
     "output_type": "stream",
     "text": [
      "Processing data_objects: 100%|█████████▉| 202/203 [00:47<00:00,  2.08it/s]"
     ]
    },
    {
     "name": "stdout",
     "output_type": "stream",
     "text": [
      "第 2156 条数据用时: 47.01 秒\n"
     ]
    },
    {
     "name": "stderr",
     "output_type": "stream",
     "text": [
      "Processing data_objects: 100%|██████████| 203/203 [00:51<00:00,  3.94it/s]\n"
     ]
    },
    {
     "name": "stdout",
     "output_type": "stream",
     "text": [
      "第 2205 条数据用时: 51.17 秒\n"
     ]
    },
    {
     "name": "stderr",
     "output_type": "stream",
     "text": [
      "Processing data_objects:   0%|          | 1/203 [00:07<24:07,  7.16s/it]"
     ]
    },
    {
     "name": "stdout",
     "output_type": "stream",
     "text": [
      "第 2254 条数据用时: 7.16 秒\n"
     ]
    },
    {
     "name": "stderr",
     "output_type": "stream",
     "text": [
      "Processing data_objects:   1%|          | 2/203 [00:08<13:02,  3.89s/it]"
     ]
    },
    {
     "name": "stdout",
     "output_type": "stream",
     "text": [
      "第 2356 条数据用时: 8.71 秒\n",
      "第 2355 条数据用时: 8.71 秒\n",
      "第 2358 条数据用时: 8.69 秒\n",
      "第 2359 条数据用时: 8.68 秒\n"
     ]
    },
    {
     "name": "stderr",
     "output_type": "stream",
     "text": [
      "Processing data_objects:   3%|▎         | 6/203 [00:10<03:56,  1.20s/it]"
     ]
    },
    {
     "name": "stdout",
     "output_type": "stream",
     "text": [
      "第 2325 条数据用时: 10.26 秒\n",
      "第 2361 条数据用时: 10.28 秒\n",
      "第 2348 条数据用时: 10.36 秒\n"
     ]
    },
    {
     "name": "stderr",
     "output_type": "stream",
     "text": [
      "Processing data_objects:   4%|▍         | 9/203 [00:11<02:55,  1.11it/s]"
     ]
    },
    {
     "name": "stdout",
     "output_type": "stream",
     "text": [
      "第 2368 条数据用时: 11.86 秒\n"
     ]
    },
    {
     "name": "stderr",
     "output_type": "stream",
     "text": [
      "Processing data_objects:   5%|▍         | 10/203 [00:13<03:17,  1.02s/it]"
     ]
    },
    {
     "name": "stdout",
     "output_type": "stream",
     "text": [
      "第 2331 条数据用时: 13.41 秒\n",
      "第 2374 条数据用时: 13.38 秒\n"
     ]
    },
    {
     "name": "stderr",
     "output_type": "stream",
     "text": [
      "Processing data_objects:   6%|▌         | 12/203 [00:16<03:53,  1.22s/it]"
     ]
    },
    {
     "name": "stdout",
     "output_type": "stream",
     "text": [
      "第 2380 条数据用时: 16.55 秒\n",
      "第 2258 条数据用时: 16.52 秒\n"
     ]
    },
    {
     "name": "stderr",
     "output_type": "stream",
     "text": [
      "Processing data_objects:   7%|▋         | 14/203 [00:18<03:24,  1.08s/it]"
     ]
    },
    {
     "name": "stdout",
     "output_type": "stream",
     "text": [
      "第 2388 条数据用时: 18.07 秒\n"
     ]
    },
    {
     "name": "stderr",
     "output_type": "stream",
     "text": [
      "Processing data_objects:   7%|▋         | 15/203 [00:20<03:42,  1.19s/it]"
     ]
    },
    {
     "name": "stdout",
     "output_type": "stream",
     "text": [
      "第 2249 条数据用时: 19.66 秒\n",
      "第 2262 条数据用时: 19.66 秒\n"
     ]
    },
    {
     "name": "stderr",
     "output_type": "stream",
     "text": [
      "Processing data_objects:   8%|▊         | 17/203 [00:21<03:10,  1.02s/it]"
     ]
    },
    {
     "name": "stdout",
     "output_type": "stream",
     "text": [
      "第 2266 条数据用时: 21.08 秒\n",
      "第 2268 条数据用时: 21.06 秒\n"
     ]
    },
    {
     "name": "stderr",
     "output_type": "stream",
     "text": [
      "Processing data_objects:   9%|▉         | 19/203 [00:22<02:31,  1.22it/s]"
     ]
    },
    {
     "name": "stdout",
     "output_type": "stream",
     "text": [
      "第 2275 条数据用时: 21.84 秒\n"
     ]
    },
    {
     "name": "stderr",
     "output_type": "stream",
     "text": [
      "Processing data_objects:  11%|█▏        | 23/203 [00:22<01:16,  2.34it/s]"
     ]
    },
    {
     "name": "stdout",
     "output_type": "stream",
     "text": [
      "第 2397 条数据用时: 22.12 秒\n",
      "第 2278 条数据用时: 22.12 秒\n",
      "第 2395 条数据用时: 22.14 秒\n",
      "第 2317 条数据用时: 22.16 秒\n"
     ]
    },
    {
     "name": "stderr",
     "output_type": "stream",
     "text": [
      "Processing data_objects:  12%|█▏        | 24/203 [00:23<01:24,  2.11it/s]"
     ]
    },
    {
     "name": "stdout",
     "output_type": "stream",
     "text": [
      "第 2326 条数据用时: 23.40 秒\n"
     ]
    },
    {
     "name": "stderr",
     "output_type": "stream",
     "text": [
      "Processing data_objects:  12%|█▏        | 25/203 [00:24<01:26,  2.05it/s]"
     ]
    },
    {
     "name": "stdout",
     "output_type": "stream",
     "text": [
      "第 2297 条数据用时: 23.59 秒\n"
     ]
    },
    {
     "name": "stderr",
     "output_type": "stream",
     "text": [
      "Processing data_objects:  13%|█▎        | 26/203 [00:24<01:24,  2.09it/s]"
     ]
    },
    {
     "name": "stdout",
     "output_type": "stream",
     "text": [
      "第 2309 条数据用时: 24.47 秒\n"
     ]
    },
    {
     "name": "stderr",
     "output_type": "stream",
     "text": [
      "Processing data_objects:  13%|█▎        | 27/203 [00:25<01:39,  1.77it/s]"
     ]
    },
    {
     "name": "stdout",
     "output_type": "stream",
     "text": [
      "第 2389 条数据用时: 24.99 秒\n"
     ]
    },
    {
     "name": "stderr",
     "output_type": "stream",
     "text": [
      "Processing data_objects:  14%|█▍        | 28/203 [00:25<01:35,  1.82it/s]"
     ]
    },
    {
     "name": "stdout",
     "output_type": "stream",
     "text": [
      "第 2347 条数据用时: 25.83 秒\n"
     ]
    },
    {
     "name": "stderr",
     "output_type": "stream",
     "text": [
      "Processing data_objects:  14%|█▍        | 29/203 [00:26<01:23,  2.07it/s]"
     ]
    },
    {
     "name": "stdout",
     "output_type": "stream",
     "text": [
      "第 2255 条数据用时: 25.93 秒\n"
     ]
    },
    {
     "name": "stderr",
     "output_type": "stream",
     "text": [
      "Processing data_objects:  15%|█▍        | 30/203 [00:26<01:12,  2.37it/s]"
     ]
    },
    {
     "name": "stdout",
     "output_type": "stream",
     "text": [
      "第 2344 条数据用时: 25.62 秒\n",
      "第 2391 条数据用时: 25.97 秒\n",
      "第 2264 条数据用时: 26.03 秒\n",
      "第 2357 条数据用时: 26.34 秒\n",
      "第 2382 条数据用时: 26.14 秒\n"
     ]
    },
    {
     "name": "stderr",
     "output_type": "stream",
     "text": [
      "Processing data_objects:  17%|█▋        | 35/203 [00:27<00:44,  3.75it/s]"
     ]
    },
    {
     "name": "stdout",
     "output_type": "stream",
     "text": [
      "第 2349 条数据用时: 27.32 秒\n",
      "第 2298 条数据用时: 26.96 秒\n"
     ]
    },
    {
     "name": "stderr",
     "output_type": "stream",
     "text": [
      "Processing data_objects:  18%|█▊        | 37/203 [00:28<00:47,  3.53it/s]"
     ]
    },
    {
     "name": "stdout",
     "output_type": "stream",
     "text": [
      "第 2289 条数据用时: 27.33 秒\n"
     ]
    },
    {
     "name": "stderr",
     "output_type": "stream",
     "text": [
      "Processing data_objects:  19%|█▊        | 38/203 [00:28<00:47,  3.48it/s]"
     ]
    },
    {
     "name": "stdout",
     "output_type": "stream",
     "text": [
      "第 2366 条数据用时: 28.17 秒\n",
      "第 2329 条数据用时: 28.16 秒\n"
     ]
    },
    {
     "name": "stderr",
     "output_type": "stream",
     "text": [
      "Processing data_objects:  20%|█▉        | 40/203 [00:28<00:44,  3.68it/s]"
     ]
    },
    {
     "name": "stdout",
     "output_type": "stream",
     "text": [
      "第 2293 条数据用时: 28.38 秒\n",
      "第 2415 条数据用时: 28.20 秒\n",
      "第 2290 条数据用时: 28.20 秒\n"
     ]
    },
    {
     "name": "stderr",
     "output_type": "stream",
     "text": [
      "Processing data_objects:  21%|██        | 43/203 [00:29<00:42,  3.79it/s]"
     ]
    },
    {
     "name": "stdout",
     "output_type": "stream",
     "text": [
      "第 2251 条数据用时: 29.16 秒\n"
     ]
    },
    {
     "name": "stderr",
     "output_type": "stream",
     "text": [
      "Processing data_objects:  22%|██▏       | 44/203 [00:29<00:43,  3.70it/s]"
     ]
    },
    {
     "name": "stdout",
     "output_type": "stream",
     "text": [
      "第 2386 条数据用时: 29.56 秒\n",
      "第 2265 条数据用时: 29.46 秒\n"
     ]
    },
    {
     "name": "stderr",
     "output_type": "stream",
     "text": [
      "Processing data_objects:  23%|██▎       | 46/203 [00:30<00:40,  3.92it/s]"
     ]
    },
    {
     "name": "stdout",
     "output_type": "stream",
     "text": [
      "第 2312 条数据用时: 29.60 秒\n"
     ]
    },
    {
     "name": "stderr",
     "output_type": "stream",
     "text": [
      "Processing data_objects:  23%|██▎       | 47/203 [00:30<00:42,  3.66it/s]"
     ]
    },
    {
     "name": "stdout",
     "output_type": "stream",
     "text": [
      "第 2292 条数据用时: 30.24 秒\n",
      "第 2392 条数据用时: 30.25 秒\n"
     ]
    },
    {
     "name": "stderr",
     "output_type": "stream",
     "text": [
      "Processing data_objects:  25%|██▌       | 51/203 [00:31<00:31,  4.85it/s]"
     ]
    },
    {
     "name": "stdout",
     "output_type": "stream",
     "text": [
      "第 2363 条数据用时: 31.09 秒\n",
      "第 2324 条数据用时: 31.11 秒\n",
      "第 2261 条数据用时: 30.98 秒\n"
     ]
    },
    {
     "name": "stderr",
     "output_type": "stream",
     "text": [
      "Processing data_objects:  26%|██▌       | 52/203 [00:31<00:44,  3.43it/s]"
     ]
    },
    {
     "name": "stdout",
     "output_type": "stream",
     "text": [
      "第 2257 条数据用时: 31.71 秒\n"
     ]
    },
    {
     "name": "stderr",
     "output_type": "stream",
     "text": [
      "Processing data_objects:  26%|██▌       | 53/203 [00:32<00:44,  3.38it/s]"
     ]
    },
    {
     "name": "stdout",
     "output_type": "stream",
     "text": [
      "第 2307 条数据用时: 31.73 秒\n",
      "第 2245 条数据用时: 32.04 秒\n"
     ]
    },
    {
     "name": "stderr",
     "output_type": "stream",
     "text": [
      "Processing data_objects:  27%|██▋       | 55/203 [00:32<00:34,  4.30it/s]"
     ]
    },
    {
     "name": "stdout",
     "output_type": "stream",
     "text": [
      "第 2236 条数据用时: 32.51 秒\n"
     ]
    },
    {
     "name": "stderr",
     "output_type": "stream",
     "text": [
      "Processing data_objects:  28%|██▊       | 56/203 [00:33<00:45,  3.26it/s]"
     ]
    },
    {
     "name": "stdout",
     "output_type": "stream",
     "text": [
      "第 2408 条数据用时: 32.57 秒\n",
      "第 2277 条数据用时: 32.69 秒\n"
     ]
    },
    {
     "name": "stderr",
     "output_type": "stream",
     "text": [
      "Processing data_objects:  29%|██▊       | 58/203 [00:33<00:34,  4.20it/s]"
     ]
    },
    {
     "name": "stdout",
     "output_type": "stream",
     "text": [
      "第 2333 条数据用时: 33.20 秒\n"
     ]
    },
    {
     "name": "stderr",
     "output_type": "stream",
     "text": [
      "Processing data_objects:  29%|██▉       | 59/203 [00:33<00:33,  4.34it/s]"
     ]
    },
    {
     "name": "stdout",
     "output_type": "stream",
     "text": [
      "第 2365 条数据用时: 33.46 秒\n",
      "第 2383 条数据用时: 33.27 秒\n"
     ]
    },
    {
     "name": "stderr",
     "output_type": "stream",
     "text": [
      "Processing data_objects:  30%|███       | 61/203 [00:34<00:35,  4.03it/s]"
     ]
    },
    {
     "name": "stdout",
     "output_type": "stream",
     "text": [
      "第 2390 条数据用时: 33.72 秒\n",
      "第 2319 条数据用时: 34.13 秒\n",
      "第 2372 条数据用时: 34.00 秒\n",
      "第 2420 条数据用时: 33.42 秒\n",
      "第 2242 条数据用时: 33.98 秒\n"
     ]
    },
    {
     "name": "stderr",
     "output_type": "stream",
     "text": [
      "Processing data_objects:  33%|███▎      | 67/203 [00:35<00:26,  5.22it/s]"
     ]
    },
    {
     "name": "stdout",
     "output_type": "stream",
     "text": [
      "第 2239 条数据用时: 34.68 秒\n",
      "第 2381 条数据用时: 34.81 秒\n"
     ]
    },
    {
     "name": "stderr",
     "output_type": "stream",
     "text": [
      "Processing data_objects:  33%|███▎      | 68/203 [00:35<00:25,  5.23it/s]"
     ]
    },
    {
     "name": "stdout",
     "output_type": "stream",
     "text": [
      "第 2334 条数据用时: 35.09 秒\n",
      "第 2306 条数据用时: 34.72 秒\n"
     ]
    },
    {
     "name": "stderr",
     "output_type": "stream",
     "text": [
      "Processing data_objects:  34%|███▍      | 70/203 [00:35<00:21,  6.18it/s]"
     ]
    },
    {
     "name": "stdout",
     "output_type": "stream",
     "text": [
      "第 2426 条数据用时: 34.69 秒\n"
     ]
    },
    {
     "name": "stderr",
     "output_type": "stream",
     "text": [
      "Processing data_objects:  35%|███▍      | 71/203 [00:35<00:26,  5.03it/s]"
     ]
    },
    {
     "name": "stdout",
     "output_type": "stream",
     "text": [
      "第 2274 条数据用时: 35.37 秒\n",
      "第 2425 条数据用时: 35.83 秒\n"
     ]
    },
    {
     "name": "stderr",
     "output_type": "stream",
     "text": [
      "Processing data_objects:  36%|███▌      | 73/203 [00:36<00:21,  6.07it/s]"
     ]
    },
    {
     "name": "stdout",
     "output_type": "stream",
     "text": [
      "第 2248 条数据用时: 35.69 秒\n",
      "第 2332 条数据用时: 35.86 秒\n"
     ]
    },
    {
     "name": "stderr",
     "output_type": "stream",
     "text": [
      "Processing data_objects:  39%|███▉      | 80/203 [00:36<00:14,  8.46it/s]"
     ]
    },
    {
     "name": "stdout",
     "output_type": "stream",
     "text": [
      "第 2399 条数据用时: 36.21 秒\n",
      "第 2263 条数据用时: 36.41 秒\n",
      "第 2250 条数据用时: 36.41 秒\n",
      "第 2342 条数据用时: 36.07 秒\n",
      "第 2346 条数据用时: 36.01 秒\n",
      "第 2285 条数据用时: 36.27 秒\n"
     ]
    },
    {
     "name": "stderr",
     "output_type": "stream",
     "text": [
      "Processing data_objects:  42%|████▏     | 86/203 [00:37<00:09, 12.27it/s]"
     ]
    },
    {
     "name": "stdout",
     "output_type": "stream",
     "text": [
      "第 2379 条数据用时: 36.81 秒\n",
      "第 2403 条数据用时: 36.48 秒\n",
      "第 2424 条数据用时: 36.80 秒\n",
      "第 2271 条数据用时: 36.66 秒\n",
      "第 2402 条数据用时: 36.58 秒\n",
      "第 2273 条数据用时: 36.77 秒\n",
      "第 2321 条数据用时: 37.19 秒\n",
      "第 2373 条数据用时: 37.07 秒\n"
     ]
    },
    {
     "name": "stderr",
     "output_type": "stream",
     "text": [
      "Processing data_objects:  46%|████▌     | 93/203 [00:37<00:05, 19.60it/s]"
     ]
    },
    {
     "name": "stdout",
     "output_type": "stream",
     "text": [
      "第 2276 条数据用时: 36.82 秒\n",
      "第 2247 条数据用时: 36.97 秒\n",
      "第 2281 条数据用时: 36.76 秒\n",
      "第 2256 条数据用时: 37.06 秒\n",
      "第 2260 条数据用时: 37.02 秒\n",
      "第 2396 条数据用时: 36.86 秒\n",
      "第 2369 条数据用时: 37.21 秒\n",
      "第 2336 条数据用时: 36.67 秒\n",
      "第 2295 条数据用时: 36.97 秒\n",
      "第 2246 条数据用时: 37.08 秒\n"
     ]
    },
    {
     "name": "stderr",
     "output_type": "stream",
     "text": [
      "Processing data_objects:  51%|█████     | 103/203 [00:37<00:04, 24.50it/s]"
     ]
    },
    {
     "name": "stdout",
     "output_type": "stream",
     "text": [
      "第 2337 条数据用时: 36.94 秒\n",
      "第 2252 条数据用时: 37.39 秒\n",
      "第 2340 条数据用时: 36.90 秒\n",
      "第 2335 条数据用时: 37.43 秒\n",
      "第 2362 条数据用时: 37.57 秒\n",
      "第 2405 条数据用时: 37.06 秒\n",
      "第 2323 条数据用时: 37.63 秒\n",
      "第 2353 条数据用时: 37.69 秒\n"
     ]
    },
    {
     "name": "stderr",
     "output_type": "stream",
     "text": [
      "Processing data_objects:  54%|█████▍    | 110/203 [00:38<00:04, 21.81it/s]"
     ]
    },
    {
     "name": "stdout",
     "output_type": "stream",
     "text": [
      "第 2354 条数据用时: 37.82 秒\n",
      "第 2404 条数据用时: 37.39 秒\n",
      "第 2328 条数据用时: 37.86 秒\n",
      "第 2237 条数据用时: 37.83 秒\n"
     ]
    },
    {
     "name": "stderr",
     "output_type": "stream",
     "text": [
      "Processing data_objects:  57%|█████▋    | 115/203 [00:38<00:03, 25.57it/s]"
     ]
    },
    {
     "name": "stdout",
     "output_type": "stream",
     "text": [
      "第 2291 条数据用时: 37.69 秒\n",
      "第 2371 条数据用时: 37.96 秒\n",
      "第 2414 条数据用时: 37.45 秒\n",
      "第 2413 条数据用时: 37.46 秒\n",
      "第 2410 条数据用时: 37.56 秒\n",
      "第 2375 条数据用时: 38.00 秒\n",
      "第 2385 条数据用时: 37.86 秒\n",
      "第 2394 条数据用时: 37.77 秒\n",
      "第 2364 条数据用时: 38.14 秒\n",
      "第 2294 条数据用时: 37.84 秒\n"
     ]
    },
    {
     "name": "stderr",
     "output_type": "stream",
     "text": [
      "Processing data_objects:  62%|██████▏   | 125/203 [00:38<00:02, 30.57it/s]"
     ]
    },
    {
     "name": "stdout",
     "output_type": "stream",
     "text": [
      "第 2436 条数据用时: 38.24 秒\n",
      "第 2315 条数据用时: 37.55 秒\n",
      "第 2421 条数据用时: 37.60 秒\n",
      "第 2384 条数据用时: 38.04 秒\n",
      "第 2310 条数据用时: 37.78 秒\n",
      "第 2241 条数据用时: 38.19 秒\n",
      "第 2287 条数据用时: 37.79 秒\n",
      "第 2279 条数据用时: 37.94 秒\n"
     ]
    },
    {
     "name": "stderr",
     "output_type": "stream",
     "text": [
      "Processing data_objects:  66%|██████▌   | 133/203 [00:38<00:02, 29.77it/s]"
     ]
    },
    {
     "name": "stdout",
     "output_type": "stream",
     "text": [
      "第 2351 条数据用时: 37.93 秒\n",
      "第 2240 条数据用时: 38.38 秒\n",
      "第 2393 条数据用时: 38.15 秒\n",
      "第 2322 条数据用时: 38.57 秒\n",
      "第 2235 条数据用时: 38.53 秒\n",
      "第 2234 条数据用时: 38.54 秒\n",
      "第 2283 条数据用时: 38.16 秒\n"
     ]
    },
    {
     "name": "stderr",
     "output_type": "stream",
     "text": [
      "Processing data_objects:  67%|██████▋   | 137/203 [00:38<00:02, 30.26it/s]"
     ]
    },
    {
     "name": "stdout",
     "output_type": "stream",
     "text": [
      "第 2370 条数据用时: 38.64 秒\n",
      "第 2302 条数据用时: 38.32 秒\n",
      "第 2284 条数据用时: 38.32 秒\n",
      "第 2407 条数据用时: 38.32 秒\n",
      "第 2301 条数据用时: 38.47 秒\n"
     ]
    },
    {
     "name": "stderr",
     "output_type": "stream",
     "text": [
      "Processing data_objects:  72%|███████▏  | 147/203 [00:39<00:01, 34.24it/s]"
     ]
    },
    {
     "name": "stdout",
     "output_type": "stream",
     "text": [
      "第 2377 条数据用时: 38.78 秒\n",
      "第 2282 条数据用时: 38.44 秒\n",
      "第 2409 条数据用时: 38.43 秒\n",
      "第 2376 条数据用时: 38.86 秒\n",
      "第 2286 条数据用时: 38.45 秒\n",
      "第 2253 条数据用时: 38.85 秒\n",
      "第 2352 条数据用时: 39.09 秒\n",
      "第 2320 条数据用时: 39.09 秒\n"
     ]
    },
    {
     "name": "stderr",
     "output_type": "stream",
     "text": [
      "Processing data_objects:  74%|███████▍  | 151/203 [00:39<00:02, 25.76it/s]"
     ]
    },
    {
     "name": "stdout",
     "output_type": "stream",
     "text": [
      "第 2259 条数据用时: 38.91 秒\n",
      "第 2308 条数据用时: 38.71 秒\n",
      "第 2406 条数据用时: 38.74 秒\n",
      "第 2428 条数据用时: 38.63 秒\n",
      "第 2300 条数据用时: 39.00 秒\n",
      "第 2387 条数据用时: 39.25 秒\n"
     ]
    },
    {
     "name": "stderr",
     "output_type": "stream",
     "text": [
      "Processing data_objects:  78%|███████▊  | 158/203 [00:39<00:02, 19.53it/s]"
     ]
    },
    {
     "name": "stdout",
     "output_type": "stream",
     "text": [
      "第 2238 条数据用时: 39.45 秒\n",
      "第 2418 条数据用时: 39.01 秒\n",
      "第 2299 条数据用时: 39.30 秒\n",
      "第 2339 条数据用时: 39.14 秒\n"
     ]
    },
    {
     "name": "stderr",
     "output_type": "stream",
     "text": [
      "Processing data_objects:  81%|████████  | 164/203 [00:40<00:02, 18.91it/s]"
     ]
    },
    {
     "name": "stdout",
     "output_type": "stream",
     "text": [
      "第 2288 条数据用时: 39.31 秒\n",
      "第 2330 条数据用时: 39.81 秒\n",
      "第 2378 条数据用时: 39.72 秒\n",
      "第 2400 条数据用时: 39.55 秒\n",
      "第 2311 条数据用时: 39.39 秒\n",
      "第 2367 条数据用时: 40.04 秒\n"
     ]
    },
    {
     "name": "stderr",
     "output_type": "stream",
     "text": [
      "Processing data_objects:  82%|████████▏ | 167/203 [00:40<00:02, 16.01it/s]"
     ]
    },
    {
     "name": "stdout",
     "output_type": "stream",
     "text": [
      "第 2427 条数据用时: 39.56 秒\n",
      "第 2272 条数据用时: 39.67 秒\n",
      "第 2360 条数据用时: 40.34 秒\n"
     ]
    },
    {
     "name": "stderr",
     "output_type": "stream",
     "text": [
      "Processing data_objects:  83%|████████▎ | 169/203 [00:40<00:02, 14.36it/s]"
     ]
    },
    {
     "name": "stdout",
     "output_type": "stream",
     "text": [
      "第 2269 条数据用时: 40.10 秒\n",
      "第 2270 条数据用时: 40.20 秒\n"
     ]
    },
    {
     "name": "stderr",
     "output_type": "stream",
     "text": [
      "Processing data_objects:  84%|████████▍ | 171/203 [00:40<00:02, 10.67it/s]"
     ]
    },
    {
     "name": "stdout",
     "output_type": "stream",
     "text": [
      "第 2433 条数据用时: 40.17 秒\n",
      "第 2432 条数据用时: 40.28 秒\n"
     ]
    },
    {
     "name": "stderr",
     "output_type": "stream",
     "text": [
      "Processing data_objects:  86%|████████▌ | 175/203 [00:41<00:02, 11.23it/s]"
     ]
    },
    {
     "name": "stdout",
     "output_type": "stream",
     "text": [
      "第 2430 条数据用时: 40.46 秒\n",
      "第 2341 条数据用时: 40.49 秒\n",
      "第 2314 条数据用时: 40.58 秒\n",
      "第 2304 条数据用时: 40.81 秒\n",
      "第 2423 条数据用时: 40.56 秒\n",
      "第 2243 条数据用时: 41.13 秒\n",
      "第 2296 条数据用时: 40.96 秒\n"
     ]
    },
    {
     "name": "stderr",
     "output_type": "stream",
     "text": [
      "Processing data_objects:  90%|█████████ | 183/203 [00:41<00:01, 18.17it/s]"
     ]
    },
    {
     "name": "stdout",
     "output_type": "stream",
     "text": [
      "第 2431 条数据用时: 40.70 秒\n",
      "第 2435 条数据用时: 40.72 秒\n",
      "第 2316 条数据用时: 40.70 秒\n",
      "第 2303 条数据用时: 40.99 秒\n",
      "第 2343 条数据用时: 40.83 秒\n"
     ]
    },
    {
     "name": "stderr",
     "output_type": "stream",
     "text": [
      "Processing data_objects:  92%|█████████▏| 186/203 [00:41<00:01, 14.81it/s]"
     ]
    },
    {
     "name": "stdout",
     "output_type": "stream",
     "text": [
      "第 2429 条数据用时: 41.04 秒\n",
      "第 2305 条数据用时: 41.22 秒\n",
      "第 2280 条数据用时: 41.36 秒\n",
      "第 2434 条数据用时: 41.22 秒\n"
     ]
    },
    {
     "name": "stderr",
     "output_type": "stream",
     "text": [
      "Processing data_objects:  93%|█████████▎| 188/203 [00:42<00:01, 10.68it/s]"
     ]
    },
    {
     "name": "stdout",
     "output_type": "stream",
     "text": [
      "第 2422 条数据用时: 41.48 秒\n",
      "第 2318 条数据用时: 41.66 秒\n",
      "第 2327 条数据用时: 42.20 秒\n",
      "第 2345 条数据用时: 41.53 秒\n"
     ]
    },
    {
     "name": "stderr",
     "output_type": "stream",
     "text": [
      "Processing data_objects:  96%|█████████▌| 194/203 [00:42<00:00, 13.14it/s]"
     ]
    },
    {
     "name": "stdout",
     "output_type": "stream",
     "text": [
      "第 2244 条数据用时: 42.23 秒\n",
      "第 2411 条数据用时: 41.94 秒\n",
      "第 2416 条数据用时: 41.92 秒\n",
      "第 2419 条数据用时: 41.88 秒\n"
     ]
    },
    {
     "name": "stderr",
     "output_type": "stream",
     "text": [
      "Processing data_objects:  97%|█████████▋| 196/203 [00:42<00:00, 14.02it/s]"
     ]
    },
    {
     "name": "stdout",
     "output_type": "stream",
     "text": [
      "第 2350 条数据用时: 42.71 秒\n"
     ]
    },
    {
     "name": "stderr",
     "output_type": "stream",
     "text": [
      "Processing data_objects:  98%|█████████▊| 198/203 [00:43<00:00,  8.47it/s]"
     ]
    },
    {
     "name": "stdout",
     "output_type": "stream",
     "text": [
      "第 2313 条数据用时: 42.43 秒\n",
      "第 2398 条数据用时: 42.73 秒\n"
     ]
    },
    {
     "name": "stderr",
     "output_type": "stream",
     "text": [
      "Processing data_objects:  99%|█████████▊| 200/203 [00:43<00:00,  6.50it/s]"
     ]
    },
    {
     "name": "stdout",
     "output_type": "stream",
     "text": [
      "第 2338 条数据用时: 42.89 秒\n",
      "第 2412 条数据用时: 43.11 秒\n",
      "第 2401 条数据用时: 43.20 秒\n"
     ]
    },
    {
     "name": "stderr",
     "output_type": "stream",
     "text": [
      "Processing data_objects: 100%|█████████▉| 202/203 [00:44<00:00,  4.04it/s]"
     ]
    },
    {
     "name": "stdout",
     "output_type": "stream",
     "text": [
      "第 2267 条数据用时: 44.35 秒\n"
     ]
    },
    {
     "name": "stderr",
     "output_type": "stream",
     "text": [
      "Processing data_objects: 100%|██████████| 203/203 [00:45<00:00,  4.42it/s]\n"
     ]
    },
    {
     "name": "stdout",
     "output_type": "stream",
     "text": [
      "第 2417 条数据用时: 45.17 秒\n"
     ]
    },
    {
     "name": "stderr",
     "output_type": "stream",
     "text": [
      "Processing data_objects:   0%|          | 1/203 [00:07<24:22,  7.24s/it]"
     ]
    },
    {
     "name": "stdout",
     "output_type": "stream",
     "text": [
      "第 2505 条数据用时: 7.21 秒\n"
     ]
    },
    {
     "name": "stderr",
     "output_type": "stream",
     "text": [
      "Processing data_objects:   1%|          | 2/203 [00:08<13:09,  3.93s/it]"
     ]
    },
    {
     "name": "stdout",
     "output_type": "stream",
     "text": [
      "第 2540 条数据用时: 8.77 秒\n"
     ]
    },
    {
     "name": "stderr",
     "output_type": "stream",
     "text": [
      "Processing data_objects:   1%|▏         | 3/203 [00:10<09:33,  2.87s/it]"
     ]
    },
    {
     "name": "stdout",
     "output_type": "stream",
     "text": [
      "第 2560 条数据用时: 10.32 秒\n",
      "第 2526 条数据用时: 10.28 秒\n",
      "第 2547 条数据用时: 10.29 秒\n",
      "第 2548 条数据用时: 10.27 秒\n"
     ]
    },
    {
     "name": "stderr",
     "output_type": "stream",
     "text": [
      "Processing data_objects:   3%|▎         | 7/203 [00:12<03:31,  1.08s/it]"
     ]
    },
    {
     "name": "stdout",
     "output_type": "stream",
     "text": [
      "第 2565 条数据用时: 11.85 秒\n"
     ]
    },
    {
     "name": "stderr",
     "output_type": "stream",
     "text": [
      "Processing data_objects:   4%|▍         | 8/203 [00:13<03:53,  1.20s/it]"
     ]
    },
    {
     "name": "stdout",
     "output_type": "stream",
     "text": [
      "第 2582 条数据用时: 13.44 秒\n",
      "第 2538 条数据用时: 13.64 秒\n"
     ]
    },
    {
     "name": "stderr",
     "output_type": "stream",
     "text": [
      "Processing data_objects:   5%|▍         | 10/203 [00:16<04:19,  1.35s/it]"
     ]
    },
    {
     "name": "stdout",
     "output_type": "stream",
     "text": [
      "第 2588 条数据用时: 16.55 秒\n"
     ]
    },
    {
     "name": "stderr",
     "output_type": "stream",
     "text": [
      "Processing data_objects:   5%|▌         | 11/203 [00:18<04:33,  1.42s/it]"
     ]
    },
    {
     "name": "stdout",
     "output_type": "stream",
     "text": [
      "第 2489 条数据用时: 18.21 秒\n",
      "第 2591 条数据用时: 18.21 秒\n",
      "第 2577 条数据用时: 18.25 秒\n",
      "第 2525 条数据用时: 18.23 秒\n"
     ]
    },
    {
     "name": "stderr",
     "output_type": "stream",
     "text": [
      "Processing data_objects:   7%|▋         | 15/203 [00:20<02:40,  1.17it/s]"
     ]
    },
    {
     "name": "stdout",
     "output_type": "stream",
     "text": [
      "第 2476 条数据用时: 19.70 秒\n",
      "第 2592 条数据用时: 19.71 秒\n",
      "第 2580 条数据用时: 19.71 秒\n"
     ]
    },
    {
     "name": "stderr",
     "output_type": "stream",
     "text": [
      "Processing data_objects:   9%|▉         | 18/203 [00:21<02:12,  1.40it/s]"
     ]
    },
    {
     "name": "stdout",
     "output_type": "stream",
     "text": [
      "第 2595 条数据用时: 21.10 秒\n"
     ]
    },
    {
     "name": "stderr",
     "output_type": "stream",
     "text": [
      "Processing data_objects:   9%|▉         | 19/203 [00:22<02:22,  1.30it/s]"
     ]
    },
    {
     "name": "stdout",
     "output_type": "stream",
     "text": [
      "第 2450 条数据用时: 22.08 秒\n",
      "第 2628 条数据用时: 21.90 秒\n",
      "第 2629 条数据用时: 21.89 秒\n",
      "第 2471 条数据用时: 21.91 秒\n",
      "第 2627 条数据用时: 21.91 秒\n",
      "第 2639 条数据用时: 21.92 秒\n"
     ]
    },
    {
     "name": "stderr",
     "output_type": "stream",
     "text": [
      "Processing data_objects:  12%|█▏        | 25/203 [00:23<01:17,  2.28it/s]"
     ]
    },
    {
     "name": "stdout",
     "output_type": "stream",
     "text": [
      "第 2559 条数据用时: 23.58 秒\n"
     ]
    },
    {
     "name": "stderr",
     "output_type": "stream",
     "text": [
      "Processing data_objects:  13%|█▎        | 26/203 [00:24<01:19,  2.22it/s]"
     ]
    },
    {
     "name": "stdout",
     "output_type": "stream",
     "text": [
      "第 2492 条数据用时: 23.65 秒\n"
     ]
    },
    {
     "name": "stderr",
     "output_type": "stream",
     "text": [
      "Processing data_objects:  13%|█▎        | 27/203 [00:25<01:36,  1.83it/s]"
     ]
    },
    {
     "name": "stdout",
     "output_type": "stream",
     "text": [
      "第 2545 条数据用时: 25.21 秒\n"
     ]
    },
    {
     "name": "stderr",
     "output_type": "stream",
     "text": [
      "Processing data_objects:  14%|█▍        | 28/203 [00:26<01:47,  1.63it/s]"
     ]
    },
    {
     "name": "stdout",
     "output_type": "stream",
     "text": [
      "第 2493 条数据用时: 25.94 秒\n",
      "第 2511 条数据用时: 26.27 秒\n"
     ]
    },
    {
     "name": "stderr",
     "output_type": "stream",
     "text": [
      "Processing data_objects:  15%|█▍        | 30/203 [00:26<01:25,  2.03it/s]"
     ]
    },
    {
     "name": "stdout",
     "output_type": "stream",
     "text": [
      "第 2557 条数据用时: 26.71 秒\n"
     ]
    },
    {
     "name": "stderr",
     "output_type": "stream",
     "text": [
      "Processing data_objects:  15%|█▌        | 31/203 [00:27<01:34,  1.81it/s]"
     ]
    },
    {
     "name": "stdout",
     "output_type": "stream",
     "text": [
      "第 2541 条数据用时: 27.51 秒\n"
     ]
    },
    {
     "name": "stderr",
     "output_type": "stream",
     "text": [
      "Processing data_objects:  16%|█▌        | 32/203 [00:28<01:36,  1.77it/s]"
     ]
    },
    {
     "name": "stdout",
     "output_type": "stream",
     "text": [
      "第 2534 条数据用时: 27.33 秒\n",
      "第 2507 条数据用时: 27.94 秒\n"
     ]
    },
    {
     "name": "stderr",
     "output_type": "stream",
     "text": [
      "Processing data_objects:  17%|█▋        | 34/203 [00:28<01:23,  2.03it/s]"
     ]
    },
    {
     "name": "stdout",
     "output_type": "stream",
     "text": [
      "第 2514 条数据用时: 28.93 秒\n",
      "第 2593 条数据用时: 28.54 秒\n",
      "第 2590 条数据用时: 28.64 秒\n"
     ]
    },
    {
     "name": "stderr",
     "output_type": "stream",
     "text": [
      "Processing data_objects:  18%|█▊        | 37/203 [00:29<01:00,  2.72it/s]"
     ]
    },
    {
     "name": "stdout",
     "output_type": "stream",
     "text": [
      "第 2486 条数据用时: 29.13 秒\n",
      "第 2502 条数据用时: 29.41 秒\n"
     ]
    },
    {
     "name": "stderr",
     "output_type": "stream",
     "text": [
      "Processing data_objects:  20%|█▉        | 40/203 [00:30<00:45,  3.60it/s]"
     ]
    },
    {
     "name": "stdout",
     "output_type": "stream",
     "text": [
      "第 2598 条数据用时: 29.35 秒\n",
      "第 2558 条数据用时: 29.95 秒\n",
      "第 2624 条数据用时: 29.31 秒\n"
     ]
    },
    {
     "name": "stderr",
     "output_type": "stream",
     "text": [
      "Processing data_objects:  21%|██        | 42/203 [00:30<00:47,  3.43it/s]"
     ]
    },
    {
     "name": "stdout",
     "output_type": "stream",
     "text": [
      "第 2574 条数据用时: 30.36 秒\n"
     ]
    },
    {
     "name": "stderr",
     "output_type": "stream",
     "text": [
      "Processing data_objects:  21%|██        | 43/203 [00:30<00:45,  3.49it/s]"
     ]
    },
    {
     "name": "stdout",
     "output_type": "stream",
     "text": [
      "第 2601 条数据用时: 30.51 秒\n",
      "第 2604 条数据用时: 30.50 秒\n"
     ]
    },
    {
     "name": "stderr",
     "output_type": "stream",
     "text": [
      "Processing data_objects:  22%|██▏       | 45/203 [00:31<00:42,  3.69it/s]"
     ]
    },
    {
     "name": "stdout",
     "output_type": "stream",
     "text": [
      "第 2625 条数据用时: 30.69 秒\n"
     ]
    },
    {
     "name": "stderr",
     "output_type": "stream",
     "text": [
      "Processing data_objects:  25%|██▍       | 50/203 [00:31<00:22,  6.87it/s]"
     ]
    },
    {
     "name": "stdout",
     "output_type": "stream",
     "text": [
      "第 2579 条数据用时: 31.39 秒\n",
      "第 2510 条数据用时: 31.76 秒\n",
      "第 2488 条数据用时: 31.62 秒\n",
      "第 2570 条数据用时: 31.56 秒\n",
      "第 2468 条数据用时: 31.18 秒\n"
     ]
    },
    {
     "name": "stderr",
     "output_type": "stream",
     "text": [
      "Processing data_objects:  27%|██▋       | 54/203 [00:32<00:24,  6.01it/s]"
     ]
    },
    {
     "name": "stdout",
     "output_type": "stream",
     "text": [
      "第 2583 条数据用时: 32.27 秒\n",
      "第 2585 条数据用时: 32.24 秒\n",
      "第 2537 条数据用时: 32.51 秒\n",
      "第 2496 条数据用时: 32.28 秒\n",
      "第 2495 条数据用时: 32.32 秒\n",
      "第 2552 条数据用时: 32.70 秒\n",
      "第 2530 条数据用时: 31.94 秒\n"
     ]
    },
    {
     "name": "stderr",
     "output_type": "stream",
     "text": [
      "Processing data_objects:  30%|███       | 61/203 [00:34<00:23,  6.10it/s]"
     ]
    },
    {
     "name": "stdout",
     "output_type": "stream",
     "text": [
      "第 2626 条数据用时: 33.15 秒\n",
      "第 2563 条数据用时: 33.76 秒\n",
      "第 2603 条数据用时: 33.54 秒\n",
      "第 2536 条数据用时: 34.00 秒\n",
      "第 2531 条数据用时: 33.23 秒\n",
      "第 2568 条数据用时: 33.78 秒\n",
      "第 2439 条数据用时: 33.84 秒\n"
     ]
    },
    {
     "name": "stderr",
     "output_type": "stream",
     "text": [
      "Processing data_objects:  32%|███▏      | 65/203 [00:34<00:21,  6.45it/s]"
     ]
    },
    {
     "name": "stdout",
     "output_type": "stream",
     "text": [
      "第 2473 条数据用时: 34.15 秒\n",
      "第 2569 条数据用时: 34.33 秒\n"
     ]
    },
    {
     "name": "stderr",
     "output_type": "stream",
     "text": [
      "Processing data_objects:  33%|███▎      | 67/203 [00:35<00:25,  5.26it/s]"
     ]
    },
    {
     "name": "stdout",
     "output_type": "stream",
     "text": [
      "第 2448 条数据用时: 34.72 秒\n"
     ]
    },
    {
     "name": "stderr",
     "output_type": "stream",
     "text": [
      "Processing data_objects:  33%|███▎      | 68/203 [00:35<00:28,  4.79it/s]"
     ]
    },
    {
     "name": "stdout",
     "output_type": "stream",
     "text": [
      "第 2528 条数据用时: 35.47 秒\n",
      "第 2509 条数据用时: 35.01 秒\n"
     ]
    },
    {
     "name": "stderr",
     "output_type": "stream",
     "text": [
      "Processing data_objects:  34%|███▍      | 70/203 [00:36<00:30,  4.29it/s]"
     ]
    },
    {
     "name": "stdout",
     "output_type": "stream",
     "text": [
      "第 2474 条数据用时: 35.73 秒\n",
      "第 2515 条数据用时: 35.55 秒\n",
      "第 2609 条数据用时: 35.58 秒\n",
      "第 2455 条数据用时: 35.67 秒\n",
      "第 2499 条数据用时: 36.13 秒\n",
      "第 2605 条数据用时: 35.67 秒\n",
      "第 2612 条数据用时: 35.58 秒\n"
     ]
    },
    {
     "name": "stderr",
     "output_type": "stream",
     "text": [
      "Processing data_objects:  38%|███▊      | 77/203 [00:36<00:18,  6.91it/s]"
     ]
    },
    {
     "name": "stdout",
     "output_type": "stream",
     "text": [
      "第 2611 条数据用时: 36.11 秒\n"
     ]
    },
    {
     "name": "stderr",
     "output_type": "stream",
     "text": [
      "Processing data_objects:  42%|████▏     | 86/203 [00:37<00:11, 10.55it/s]"
     ]
    },
    {
     "name": "stdout",
     "output_type": "stream",
     "text": [
      "第 2513 条数据用时: 36.99 秒\n",
      "第 2608 条数据用时: 36.69 秒\n",
      "第 2554 条数据用时: 37.21 秒\n",
      "第 2463 条数据用时: 36.38 秒\n",
      "第 2581 条数据用时: 37.07 秒\n",
      "第 2576 条数据用时: 36.96 秒\n",
      "第 2456 条数据用时: 36.66 秒\n",
      "第 2597 条数据用时: 36.86 秒\n",
      "第 2484 条数据用时: 36.79 秒\n",
      "第 2500 条数据用时: 37.29 秒\n",
      "第 2549 条数据用时: 37.20 秒\n",
      "第 2567 条数据用时: 37.17 秒\n",
      "第 2550 条数据用时: 37.24 秒\n",
      "第 2553 条数据用时: 37.41 秒\n",
      "第 2443 条数据用时: 36.98 秒\n"
     ]
    },
    {
     "name": "stderr",
     "output_type": "stream",
     "text": [
      "Processing data_objects:  46%|████▋     | 94/203 [00:37<00:06, 16.40it/s]"
     ]
    },
    {
     "name": "stdout",
     "output_type": "stream",
     "text": [
      "第 2555 条数据用时: 37.43 秒\n",
      "第 2477 条数据用时: 36.92 秒\n",
      "第 2575 条数据用时: 37.21 秒\n",
      "第 2578 条数据用时: 37.17 秒\n"
     ]
    },
    {
     "name": "stderr",
     "output_type": "stream",
     "text": [
      "Processing data_objects:  48%|████▊     | 98/203 [00:37<00:06, 15.88it/s]"
     ]
    },
    {
     "name": "stdout",
     "output_type": "stream",
     "text": [
      "第 2482 条数据用时: 37.43 秒\n",
      "第 2454 条数据用时: 37.02 秒\n",
      "第 2566 条数据用时: 37.61 秒\n",
      "第 2535 条数据用时: 36.98 秒\n"
     ]
    },
    {
     "name": "stderr",
     "output_type": "stream",
     "text": [
      "Processing data_objects:  53%|█████▎    | 107/203 [00:38<00:04, 21.76it/s]"
     ]
    },
    {
     "name": "stdout",
     "output_type": "stream",
     "text": [
      "第 2564 条数据用时: 37.78 秒\n",
      "第 2522 条数据用时: 37.85 秒\n",
      "第 2466 条数据用时: 37.41 秒\n",
      "第 2546 条数据用时: 37.84 秒\n",
      "第 2480 条数据用时: 37.92 秒\n",
      "第 2475 条数据用时: 37.23 秒\n",
      "第 2586 条数据用时: 37.78 秒\n",
      "第 2571 条数据用时: 37.86 秒\n"
     ]
    },
    {
     "name": "stderr",
     "output_type": "stream",
     "text": [
      "Processing data_objects:  55%|█████▍    | 111/203 [00:38<00:04, 19.52it/s]"
     ]
    },
    {
     "name": "stdout",
     "output_type": "stream",
     "text": [
      "第 2469 条数据用时: 38.17 秒\n",
      "第 2551 条数据用时: 38.09 秒\n",
      "第 2600 条数据用时: 37.93 秒\n",
      "第 2584 条数据用时: 38.12 秒\n",
      "第 2587 条数据用时: 38.07 秒\n",
      "第 2573 条数据用时: 38.14 秒\n",
      "第 2572 条数据用时: 38.15 秒\n"
     ]
    },
    {
     "name": "stderr",
     "output_type": "stream",
     "text": [
      "Processing data_objects:  59%|█████▊    | 119/203 [00:38<00:04, 20.68it/s]"
     ]
    },
    {
     "name": "stdout",
     "output_type": "stream",
     "text": [
      "第 2453 条数据用时: 38.34 秒\n",
      "第 2485 条数据用时: 38.11 秒\n",
      "第 2478 条数据用时: 38.04 秒\n",
      "第 2599 条数据用时: 38.18 秒\n"
     ]
    },
    {
     "name": "stderr",
     "output_type": "stream",
     "text": [
      "Processing data_objects:  61%|██████    | 123/203 [00:38<00:03, 22.89it/s]"
     ]
    },
    {
     "name": "stdout",
     "output_type": "stream",
     "text": [
      "第 2544 条数据用时: 38.61 秒\n",
      "第 2543 条数据用时: 38.66 秒\n",
      "第 2556 条数据用时: 38.72 秒\n",
      "第 2613 条数据用时: 38.21 秒\n",
      "第 2467 条数据用时: 38.22 秒\n",
      "第 2607 条数据用时: 38.33 秒\n",
      "第 2460 条数据用时: 38.29 秒\n"
     ]
    },
    {
     "name": "stderr",
     "output_type": "stream",
     "text": [
      "Processing data_objects:  65%|██████▌   | 132/203 [00:39<00:02, 27.68it/s]"
     ]
    },
    {
     "name": "stdout",
     "output_type": "stream",
     "text": [
      "第 2596 条数据用时: 38.50 秒\n",
      "第 2483 条数据用时: 38.70 秒\n",
      "第 2457 条数据用时: 38.88 秒\n",
      "第 2449 条数据用时: 38.49 秒\n",
      "第 2594 条数据用时: 38.62 秒\n",
      "第 2472 条数据用时: 38.25 秒\n"
     ]
    },
    {
     "name": "stderr",
     "output_type": "stream",
     "text": [
      "Processing data_objects:  67%|██████▋   | 136/203 [00:39<00:02, 23.91it/s]"
     ]
    },
    {
     "name": "stdout",
     "output_type": "stream",
     "text": [
      "第 2542 条数据用时: 39.08 秒\n",
      "第 2519 条数据用时: 38.68 秒\n",
      "第 2444 条数据用时: 38.95 秒\n",
      "第 2447 条数据用时: 38.85 秒\n"
     ]
    },
    {
     "name": "stderr",
     "output_type": "stream",
     "text": [
      "Processing data_objects:  68%|██████▊   | 139/203 [00:39<00:03, 16.79it/s]"
     ]
    },
    {
     "name": "stdout",
     "output_type": "stream",
     "text": [
      "第 2458 条数据用时: 38.85 秒\n",
      "第 2606 条数据用时: 39.14 秒\n",
      "第 2459 条数据用时: 39.67 秒\n"
     ]
    },
    {
     "name": "stderr",
     "output_type": "stream",
     "text": [
      "Processing data_objects:  70%|██████▉   | 142/203 [00:40<00:04, 13.30it/s]"
     ]
    },
    {
     "name": "stdout",
     "output_type": "stream",
     "text": [
      "第 2589 条数据用时: 39.55 秒\n",
      "第 2445 条数据用时: 39.26 秒\n",
      "第 2481 条数据用时: 39.52 秒\n",
      "第 2465 条数据用时: 39.48 秒\n"
     ]
    },
    {
     "name": "stderr",
     "output_type": "stream",
     "text": [
      "Processing data_objects:  72%|███████▏  | 147/203 [00:40<00:03, 16.16it/s]"
     ]
    },
    {
     "name": "stdout",
     "output_type": "stream",
     "text": [
      "第 2451 条数据用时: 39.53 秒\n",
      "第 2631 条数据用时: 39.39 秒\n",
      "第 2635 条数据用时: 39.39 秒\n",
      "第 2479 条数据用时: 39.76 秒\n",
      "第 2446 条数据用时: 40.00 秒\n"
     ]
    },
    {
     "name": "stderr",
     "output_type": "stream",
     "text": [
      "Processing data_objects:  73%|███████▎  | 149/203 [00:40<00:03, 15.54it/s]"
     ]
    },
    {
     "name": "stdout",
     "output_type": "stream",
     "text": [
      "第 2512 条数据用时: 39.62 秒\n",
      "第 2498 条数据用时: 40.14 秒\n",
      "第 2523 条数据用时: 40.06 秒\n"
     ]
    },
    {
     "name": "stderr",
     "output_type": "stream",
     "text": [
      "Processing data_objects:  76%|███████▌  | 154/203 [00:40<00:03, 14.46it/s]"
     ]
    },
    {
     "name": "stdout",
     "output_type": "stream",
     "text": [
      "第 2620 条数据用时: 39.95 秒\n",
      "第 2602 条数据用时: 40.30 秒\n",
      "第 2621 条数据用时: 40.09 秒\n"
     ]
    },
    {
     "name": "stderr",
     "output_type": "stream",
     "text": [
      "Processing data_objects:  77%|███████▋  | 156/203 [00:40<00:03, 14.16it/s]"
     ]
    },
    {
     "name": "stdout",
     "output_type": "stream",
     "text": [
      "第 2506 条数据用时: 40.20 秒\n",
      "第 2517 条数据用时: 40.27 秒\n",
      "第 2440 条数据用时: 40.25 秒\n",
      "第 2442 条数据用时: 40.44 秒\n",
      "第 2533 条数据用时: 40.15 秒\n"
     ]
    },
    {
     "name": "stderr",
     "output_type": "stream",
     "text": [
      "Processing data_objects:  81%|████████▏ | 165/203 [00:41<00:02, 17.97it/s]"
     ]
    },
    {
     "name": "stdout",
     "output_type": "stream",
     "text": [
      "第 2623 条数据用时: 40.61 秒\n",
      "第 2619 条数据用时: 40.66 秒\n",
      "第 2630 条数据用时: 40.57 秒\n",
      "第 2638 条数据用时: 40.62 秒\n",
      "第 2497 条数据用时: 40.67 秒\n",
      "第 2494 条数据用时: 41.06 秒\n"
     ]
    },
    {
     "name": "stderr",
     "output_type": "stream",
     "text": [
      "Processing data_objects:  83%|████████▎ | 168/203 [00:41<00:02, 14.29it/s]"
     ]
    },
    {
     "name": "stdout",
     "output_type": "stream",
     "text": [
      "第 2527 条数据用时: 40.86 秒\n",
      "第 2521 条数据用时: 41.17 秒\n",
      "第 2452 条数据用时: 41.13 秒\n"
     ]
    },
    {
     "name": "stderr",
     "output_type": "stream",
     "text": [
      "Processing data_objects:  84%|████████▍ | 171/203 [00:41<00:02, 14.60it/s]"
     ]
    },
    {
     "name": "stdout",
     "output_type": "stream",
     "text": [
      "第 2524 条数据用时: 40.97 秒\n",
      "第 2633 条数据用时: 41.04 秒\n",
      "第 2637 条数据用时: 41.10 秒\n",
      "第 2622 条数据用时: 41.25 秒\n",
      "第 2470 条数据用时: 41.66 秒\n",
      "第 2438 条数据用时: 41.33 秒\n"
     ]
    },
    {
     "name": "stderr",
     "output_type": "stream",
     "text": [
      "Processing data_objects:  87%|████████▋ | 176/203 [00:42<00:01, 19.80it/s]"
     ]
    },
    {
     "name": "stdout",
     "output_type": "stream",
     "text": [
      "第 2616 条数据用时: 41.38 秒\n",
      "第 2632 条数据用时: 41.25 秒\n",
      "第 2532 条数据用时: 41.23 秒\n",
      "第 2617 条数据用时: 41.41 秒\n",
      "第 2503 条数据用时: 41.42 秒\n",
      "第 2561 条数据用时: 41.95 秒\n",
      "第 2634 条数据用时: 41.33 秒\n",
      "第 2437 条数据用时: 41.88 秒\n"
     ]
    },
    {
     "name": "stderr",
     "output_type": "stream",
     "text": [
      "Processing data_objects:  92%|█████████▏| 186/203 [00:42<00:00, 19.10it/s]"
     ]
    },
    {
     "name": "stdout",
     "output_type": "stream",
     "text": [
      "第 2615 条数据用时: 41.76 秒\n",
      "第 2614 条数据用时: 41.84 秒\n",
      "第 2529 条数据用时: 41.79 秒\n",
      "第 2636 条数据用时: 41.75 秒\n",
      "第 2464 条数据用时: 42.00 秒\n",
      "第 2610 条数据用时: 42.46 秒\n"
     ]
    },
    {
     "name": "stderr",
     "output_type": "stream",
     "text": [
      "Processing data_objects:  93%|█████████▎| 189/203 [00:43<00:01, 10.61it/s]"
     ]
    },
    {
     "name": "stdout",
     "output_type": "stream",
     "text": [
      "第 2508 条数据用时: 42.53 秒\n",
      "第 2462 条数据用时: 42.47 秒\n"
     ]
    },
    {
     "name": "stderr",
     "output_type": "stream",
     "text": [
      "Processing data_objects:  94%|█████████▍| 191/203 [00:43<00:01,  9.19it/s]"
     ]
    },
    {
     "name": "stdout",
     "output_type": "stream",
     "text": [
      "第 2491 条数据用时: 43.00 秒\n"
     ]
    },
    {
     "name": "stderr",
     "output_type": "stream",
     "text": [
      "Processing data_objects:  95%|█████████▌| 193/203 [00:43<00:01,  8.99it/s]"
     ]
    },
    {
     "name": "stdout",
     "output_type": "stream",
     "text": [
      "第 2487 条数据用时: 43.10 秒\n",
      "第 2501 条数据用时: 43.19 秒\n",
      "第 2441 条数据用时: 43.66 秒\n"
     ]
    },
    {
     "name": "stderr",
     "output_type": "stream",
     "text": [
      "Processing data_objects:  96%|█████████▌| 195/203 [00:44<00:00,  9.45it/s]"
     ]
    },
    {
     "name": "stdout",
     "output_type": "stream",
     "text": [
      "第 2518 条数据用时: 43.21 秒\n",
      "第 2562 条数据用时: 44.05 秒\n"
     ]
    },
    {
     "name": "stderr",
     "output_type": "stream",
     "text": [
      "Processing data_objects:  97%|█████████▋| 197/203 [00:44<00:00,  8.64it/s]"
     ]
    },
    {
     "name": "stdout",
     "output_type": "stream",
     "text": [
      "第 2504 条数据用时: 43.67 秒\n",
      "第 2490 条数据用时: 45.67 秒\n"
     ]
    },
    {
     "name": "stderr",
     "output_type": "stream",
     "text": [
      "Processing data_objects:  98%|█████████▊| 199/203 [00:46<00:01,  2.52it/s]"
     ]
    },
    {
     "name": "stdout",
     "output_type": "stream",
     "text": [
      "第 2461 条数据用时: 46.59 秒\n",
      "第 2618 条数据用时: 46.10 秒\n"
     ]
    },
    {
     "name": "stderr",
     "output_type": "stream",
     "text": [
      "Processing data_objects:  99%|█████████▉| 201/203 [00:47<00:00,  3.06it/s]"
     ]
    },
    {
     "name": "stdout",
     "output_type": "stream",
     "text": [
      "第 2539 条数据用时: 46.96 秒\n"
     ]
    },
    {
     "name": "stderr",
     "output_type": "stream",
     "text": [
      "Processing data_objects: 100%|█████████▉| 202/203 [00:47<00:00,  2.79it/s]"
     ]
    },
    {
     "name": "stdout",
     "output_type": "stream",
     "text": [
      "第 2520 条数据用时: 46.84 秒\n"
     ]
    },
    {
     "name": "stderr",
     "output_type": "stream",
     "text": [
      "Processing data_objects: 100%|██████████| 203/203 [00:59<00:00,  3.44it/s]\n"
     ]
    },
    {
     "name": "stdout",
     "output_type": "stream",
     "text": [
      "第 2516 条数据用时: 58.44 秒\n"
     ]
    },
    {
     "name": "stderr",
     "output_type": "stream",
     "text": [
      "Processing data_objects:   0%|          | 1/203 [00:07<24:23,  7.25s/it]"
     ]
    },
    {
     "name": "stdout",
     "output_type": "stream",
     "text": [
      "第 2800 条数据用时: 7.22 秒\n"
     ]
    },
    {
     "name": "stderr",
     "output_type": "stream",
     "text": [
      "Processing data_objects:   1%|          | 2/203 [00:08<13:07,  3.92s/it]"
     ]
    },
    {
     "name": "stdout",
     "output_type": "stream",
     "text": [
      "第 2726 条数据用时: 8.78 秒\n",
      "第 2801 条数据用时: 8.79 秒\n"
     ]
    },
    {
     "name": "stderr",
     "output_type": "stream",
     "text": [
      "Processing data_objects:   2%|▏         | 4/203 [00:10<06:30,  1.96s/it]"
     ]
    },
    {
     "name": "stdout",
     "output_type": "stream",
     "text": [
      "第 2728 条数据用时: 10.35 秒\n",
      "第 2701 条数据用时: 10.33 秒\n",
      "第 2822 条数据用时: 10.34 秒\n"
     ]
    },
    {
     "name": "stderr",
     "output_type": "stream",
     "text": [
      "Processing data_objects:   3%|▎         | 7/203 [00:12<03:44,  1.15s/it]"
     ]
    },
    {
     "name": "stdout",
     "output_type": "stream",
     "text": [
      "第 2754 条数据用时: 11.89 秒\n",
      "第 2808 条数据用时: 11.90 秒\n"
     ]
    },
    {
     "name": "stderr",
     "output_type": "stream",
     "text": [
      "Processing data_objects:   4%|▍         | 9/203 [00:13<03:18,  1.02s/it]"
     ]
    },
    {
     "name": "stdout",
     "output_type": "stream",
     "text": [
      "第 2811 条数据用时: 13.44 秒\n",
      "第 2841 条数据用时: 13.45 秒\n"
     ]
    },
    {
     "name": "stderr",
     "output_type": "stream",
     "text": [
      "Processing data_objects:   5%|▌         | 11/203 [00:15<03:02,  1.05it/s]"
     ]
    },
    {
     "name": "stdout",
     "output_type": "stream",
     "text": [
      "第 2659 条数据用时: 15.00 秒\n",
      "第 2686 条数据用时: 15.01 秒\n"
     ]
    },
    {
     "name": "stderr",
     "output_type": "stream",
     "text": [
      "Processing data_objects:   6%|▋         | 13/203 [00:16<02:51,  1.11it/s]"
     ]
    },
    {
     "name": "stdout",
     "output_type": "stream",
     "text": [
      "第 2778 条数据用时: 16.61 秒\n",
      "第 2689 条数据用时: 16.59 秒\n"
     ]
    },
    {
     "name": "stderr",
     "output_type": "stream",
     "text": [
      "Processing data_objects:   7%|▋         | 15/203 [00:18<02:43,  1.15it/s]"
     ]
    },
    {
     "name": "stdout",
     "output_type": "stream",
     "text": [
      "第 2698 条数据用时: 18.12 秒\n"
     ]
    },
    {
     "name": "stderr",
     "output_type": "stream",
     "text": [
      "Processing data_objects:   8%|▊         | 16/203 [00:20<03:08,  1.01s/it]"
     ]
    },
    {
     "name": "stdout",
     "output_type": "stream",
     "text": [
      "第 2704 条数据用时: 19.72 秒\n",
      "第 2749 条数据用时: 19.72 秒\n"
     ]
    },
    {
     "name": "stderr",
     "output_type": "stream",
     "text": [
      "Processing data_objects:   9%|▉         | 18/203 [00:21<02:48,  1.10it/s]"
     ]
    },
    {
     "name": "stdout",
     "output_type": "stream",
     "text": [
      "第 2713 条数据用时: 21.10 秒\n",
      "第 2760 条数据用时: 21.10 秒\n"
     ]
    },
    {
     "name": "stderr",
     "output_type": "stream",
     "text": [
      "Processing data_objects:  10%|▉         | 20/203 [00:22<02:21,  1.30it/s]"
     ]
    },
    {
     "name": "stdout",
     "output_type": "stream",
     "text": [
      "第 2780 条数据用时: 22.07 秒\n"
     ]
    },
    {
     "name": "stderr",
     "output_type": "stream",
     "text": [
      "Processing data_objects:  10%|█         | 21/203 [00:23<02:11,  1.38it/s]"
     ]
    },
    {
     "name": "stdout",
     "output_type": "stream",
     "text": [
      "第 2680 条数据用时: 22.31 秒\n",
      "第 2646 条数据用时: 22.31 秒\n",
      "第 2769 条数据用时: 22.54 秒\n",
      "第 2750 条数据用时: 22.71 秒\n"
     ]
    },
    {
     "name": "stderr",
     "output_type": "stream",
     "text": [
      "Processing data_objects:  12%|█▏        | 25/203 [00:23<01:23,  2.12it/s]"
     ]
    },
    {
     "name": "stdout",
     "output_type": "stream",
     "text": [
      "第 2693 条数据用时: 23.68 秒\n"
     ]
    },
    {
     "name": "stderr",
     "output_type": "stream",
     "text": [
      "Processing data_objects:  13%|█▎        | 26/203 [00:24<01:18,  2.25it/s]"
     ]
    },
    {
     "name": "stdout",
     "output_type": "stream",
     "text": [
      "第 2716 条数据用时: 23.83 秒\n"
     ]
    },
    {
     "name": "stderr",
     "output_type": "stream",
     "text": [
      "Processing data_objects:  13%|█▎        | 27/203 [00:24<01:12,  2.44it/s]"
     ]
    },
    {
     "name": "stdout",
     "output_type": "stream",
     "text": [
      "第 2791 条数据用时: 23.97 秒\n"
     ]
    },
    {
     "name": "stderr",
     "output_type": "stream",
     "text": [
      "Processing data_objects:  14%|█▍        | 28/203 [00:26<01:53,  1.54it/s]"
     ]
    },
    {
     "name": "stdout",
     "output_type": "stream",
     "text": [
      "第 2840 条数据用时: 25.94 秒\n",
      "第 2737 条数据用时: 25.92 秒\n"
     ]
    },
    {
     "name": "stderr",
     "output_type": "stream",
     "text": [
      "Processing data_objects:  15%|█▍        | 30/203 [00:26<01:25,  2.03it/s]"
     ]
    },
    {
     "name": "stdout",
     "output_type": "stream",
     "text": [
      "第 2820 条数据用时: 26.51 秒\n",
      "第 2733 条数据用时: 26.45 秒\n"
     ]
    },
    {
     "name": "stderr",
     "output_type": "stream",
     "text": [
      "Processing data_objects:  17%|█▋        | 35/203 [00:27<00:40,  4.11it/s]"
     ]
    },
    {
     "name": "stdout",
     "output_type": "stream",
     "text": [
      "第 2813 条数据用时: 26.32 秒\n",
      "第 2723 条数据用时: 26.98 秒\n",
      "第 2807 条数据用时: 26.92 秒\n",
      "第 2775 条数据用时: 26.24 秒\n"
     ]
    },
    {
     "name": "stderr",
     "output_type": "stream",
     "text": [
      "Processing data_objects:  18%|█▊        | 36/203 [00:27<00:54,  3.05it/s]"
     ]
    },
    {
     "name": "stdout",
     "output_type": "stream",
     "text": [
      "第 2687 条数据用时: 27.59 秒\n",
      "第 2765 条数据用时: 27.35 秒\n"
     ]
    },
    {
     "name": "stderr",
     "output_type": "stream",
     "text": [
      "Processing data_objects:  19%|█▊        | 38/203 [00:28<00:49,  3.32it/s]"
     ]
    },
    {
     "name": "stdout",
     "output_type": "stream",
     "text": [
      "第 2700 条数据用时: 28.26 秒\n",
      "第 2772 条数据用时: 27.89 秒\n"
     ]
    },
    {
     "name": "stderr",
     "output_type": "stream",
     "text": [
      "Processing data_objects:  20%|█▉        | 40/203 [00:28<00:45,  3.59it/s]"
     ]
    },
    {
     "name": "stdout",
     "output_type": "stream",
     "text": [
      "第 2722 条数据用时: 27.92 秒\n",
      "第 2655 条数据用时: 28.78 秒\n"
     ]
    },
    {
     "name": "stderr",
     "output_type": "stream",
     "text": [
      "Processing data_objects:  21%|██        | 42/203 [00:29<00:41,  3.85it/s]"
     ]
    },
    {
     "name": "stdout",
     "output_type": "stream",
     "text": [
      "第 2657 条数据用时: 28.54 秒\n",
      "第 2744 条数据用时: 28.96 秒\n",
      "第 2644 条数据用时: 28.54 秒\n",
      "第 2802 条数据用时: 29.22 秒\n",
      "第 2755 条数据用时: 29.14 秒\n",
      "第 2684 条数据用时: 29.10 秒\n"
     ]
    },
    {
     "name": "stderr",
     "output_type": "stream",
     "text": [
      "Processing data_objects:  24%|██▎       | 48/203 [00:30<00:34,  4.55it/s]"
     ]
    },
    {
     "name": "stdout",
     "output_type": "stream",
     "text": [
      "第 2799 条数据用时: 30.37 秒\n",
      "第 2747 条数据用时: 30.08 秒\n",
      "第 2709 条数据用时: 30.02 秒\n",
      "第 2798 条数据用时: 29.72 秒\n"
     ]
    },
    {
     "name": "stderr",
     "output_type": "stream",
     "text": [
      "Processing data_objects:  26%|██▌       | 52/203 [00:31<00:33,  4.45it/s]"
     ]
    },
    {
     "name": "stdout",
     "output_type": "stream",
     "text": [
      "第 2824 条数据用时: 30.55 秒\n"
     ]
    },
    {
     "name": "stderr",
     "output_type": "stream",
     "text": [
      "Processing data_objects:  29%|██▉       | 59/203 [00:31<00:19,  7.35it/s]"
     ]
    },
    {
     "name": "stdout",
     "output_type": "stream",
     "text": [
      "第 2810 条数据用时: 31.57 秒\n",
      "第 2699 条数据用时: 31.43 秒\n",
      "第 2725 条数据用时: 31.75 秒\n",
      "第 2837 条数据用时: 31.68 秒\n",
      "第 2732 条数据用时: 31.67 秒\n",
      "第 2751 条数据用时: 31.45 秒\n",
      "第 2771 条数据用时: 31.38 秒\n"
     ]
    },
    {
     "name": "stderr",
     "output_type": "stream",
     "text": [
      "Processing data_objects:  30%|███       | 61/203 [00:33<00:31,  4.57it/s]"
     ]
    },
    {
     "name": "stdout",
     "output_type": "stream",
     "text": [
      "第 2790 条数据用时: 32.28 秒\n",
      "第 2652 条数据用时: 33.01 秒\n"
     ]
    },
    {
     "name": "stderr",
     "output_type": "stream",
     "text": [
      "Processing data_objects:  31%|███       | 63/203 [00:33<00:30,  4.54it/s]"
     ]
    },
    {
     "name": "stdout",
     "output_type": "stream",
     "text": [
      "第 2818 条数据用时: 33.43 秒\n",
      "第 2671 条数据用时: 32.66 秒\n",
      "第 2746 条数据用时: 33.22 秒\n"
     ]
    },
    {
     "name": "stderr",
     "output_type": "stream",
     "text": [
      "Processing data_objects:  32%|███▏      | 65/203 [00:34<00:35,  3.91it/s]"
     ]
    },
    {
     "name": "stdout",
     "output_type": "stream",
     "text": [
      "第 2776 条数据用时: 33.80 秒\n",
      "第 2831 条数据用时: 33.42 秒\n"
     ]
    },
    {
     "name": "stderr",
     "output_type": "stream",
     "text": [
      "Processing data_objects:  33%|███▎      | 67/203 [00:34<00:34,  4.00it/s]"
     ]
    },
    {
     "name": "stdout",
     "output_type": "stream",
     "text": [
      "第 2759 条数据用时: 34.23 秒\n",
      "第 2758 条数据用时: 34.30 秒\n",
      "第 2774 条数据用时: 34.26 秒\n",
      "第 2793 条数据用时: 34.04 秒\n"
     ]
    },
    {
     "name": "stderr",
     "output_type": "stream",
     "text": [
      "Processing data_objects:  35%|███▍      | 71/203 [00:34<00:22,  5.85it/s]"
     ]
    },
    {
     "name": "stdout",
     "output_type": "stream",
     "text": [
      "第 2697 条数据用时: 34.57 秒\n",
      "第 2682 条数据用时: 34.70 秒\n"
     ]
    },
    {
     "name": "stderr",
     "output_type": "stream",
     "text": [
      "Processing data_objects:  36%|███▌      | 73/203 [00:35<00:31,  4.17it/s]"
     ]
    },
    {
     "name": "stdout",
     "output_type": "stream",
     "text": [
      "第 2664 条数据用时: 35.34 秒\n"
     ]
    },
    {
     "name": "stderr",
     "output_type": "stream",
     "text": [
      "Processing data_objects:  36%|███▋      | 74/203 [00:36<00:32,  3.91it/s]"
     ]
    },
    {
     "name": "stdout",
     "output_type": "stream",
     "text": [
      "第 2720 条数据用时: 35.37 秒\n",
      "第 2784 条数据用时: 35.77 秒\n"
     ]
    },
    {
     "name": "stderr",
     "output_type": "stream",
     "text": [
      "Processing data_objects:  38%|███▊      | 78/203 [00:36<00:26,  4.76it/s]"
     ]
    },
    {
     "name": "stdout",
     "output_type": "stream",
     "text": [
      "第 2766 条数据用时: 36.28 秒\n",
      "第 2661 条数据用时: 36.62 秒\n",
      "第 2727 条数据用时: 36.87 秒\n",
      "第 2729 条数据用时: 36.84 秒\n"
     ]
    },
    {
     "name": "stderr",
     "output_type": "stream",
     "text": [
      "Processing data_objects:  42%|████▏     | 86/203 [00:37<00:10, 11.24it/s]"
     ]
    },
    {
     "name": "stdout",
     "output_type": "stream",
     "text": [
      "第 2805 条数据用时: 36.98 秒\n",
      "第 2743 条数据用时: 36.82 秒\n",
      "第 2757 条数据用时: 36.75 秒\n",
      "第 2753 条数据用时: 36.82 秒\n",
      "第 2770 条数据用时: 36.59 秒\n",
      "第 2640 条数据用时: 36.58 秒\n",
      "第 2836 条数据用时: 37.22 秒\n",
      "第 2809 条数据用时: 37.06 秒\n",
      "第 2736 条数据用时: 37.09 秒\n"
     ]
    },
    {
     "name": "stderr",
     "output_type": "stream",
     "text": [
      "Processing data_objects:  49%|████▉     | 99/203 [00:37<00:04, 23.62it/s]"
     ]
    },
    {
     "name": "stdout",
     "output_type": "stream",
     "text": [
      "第 2839 条数据用时: 37.16 秒\n",
      "第 2707 条数据用时: 36.95 秒\n",
      "第 2803 条数据用时: 37.30 秒\n",
      "第 2694 条数据用时: 37.06 秒\n",
      "第 2738 条数据用时: 37.15 秒\n",
      "第 2741 条数据用时: 37.17 秒\n",
      "第 2641 条数据用时: 36.86 秒\n",
      "第 2672 条数据用时: 36.61 秒\n",
      "第 2745 条数据用时: 37.19 秒\n",
      "第 2706 条数据用时: 37.10 秒\n",
      "第 2683 条数据用时: 37.19 秒\n"
     ]
    },
    {
     "name": "stderr",
     "output_type": "stream",
     "text": [
      "Processing data_objects:  52%|█████▏    | 106/203 [00:37<00:03, 27.68it/s]"
     ]
    },
    {
     "name": "stdout",
     "output_type": "stream",
     "text": [
      "第 2654 条数据用时: 37.53 秒\n",
      "第 2756 条数据用时: 37.37 秒\n",
      "第 2696 条数据用时: 37.23 秒\n",
      "第 2719 条数据用时: 36.78 秒\n",
      "第 2717 条数据用时: 37.13 秒\n",
      "第 2712 条数据用时: 37.19 秒\n",
      "第 2782 条数据用时: 37.23 秒\n"
     ]
    },
    {
     "name": "stderr",
     "output_type": "stream",
     "text": [
      "Processing data_objects:  54%|█████▍    | 110/203 [00:37<00:03, 27.95it/s]"
     ]
    },
    {
     "name": "stdout",
     "output_type": "stream",
     "text": [
      "第 2773 条数据用时: 37.28 秒\n",
      "第 2677 条数据用时: 37.27 秒\n",
      "第 2806 条数据用时: 37.71 秒\n",
      "第 2662 条数据用时: 37.44 秒\n",
      "第 2715 条数据用时: 37.39 秒\n",
      "第 2785 条数据用时: 37.41 秒\n",
      "第 2647 条数据用时: 37.18 秒\n"
     ]
    },
    {
     "name": "stderr",
     "output_type": "stream",
     "text": [
      "Processing data_objects:  58%|█████▊    | 118/203 [00:38<00:03, 27.60it/s]"
     ]
    },
    {
     "name": "stdout",
     "output_type": "stream",
     "text": [
      "第 2789 条数据用时: 37.45 秒\n",
      "第 2787 条数据用时: 37.47 秒\n",
      "第 2764 条数据用时: 37.61 秒\n",
      "第 2734 条数据用时: 37.96 秒\n",
      "第 2762 条数据用时: 37.68 秒\n",
      "第 2695 条数据用时: 37.85 秒\n"
     ]
    },
    {
     "name": "stderr",
     "output_type": "stream",
     "text": [
      "Processing data_objects:  60%|██████    | 122/203 [00:38<00:03, 26.18it/s]"
     ]
    },
    {
     "name": "stdout",
     "output_type": "stream",
     "text": [
      "第 2835 条数据用时: 37.64 秒\n",
      "第 2663 条数据用时: 37.76 秒\n",
      "第 2781 条数据用时: 37.85 秒\n",
      "第 2688 条数据用时: 38.04 秒\n",
      "第 2678 条数据用时: 37.58 秒\n",
      "第 2842 条数据用时: 38.15 秒\n",
      "第 2692 条数据用时: 38.05 秒\n",
      "第 2656 条数据用时: 38.29 秒\n"
     ]
    },
    {
     "name": "stderr",
     "output_type": "stream",
     "text": [
      "Processing data_objects:  65%|██████▌   | 132/203 [00:38<00:02, 27.91it/s]"
     ]
    },
    {
     "name": "stdout",
     "output_type": "stream",
     "text": [
      "第 2828 条数据用时: 37.63 秒\n",
      "第 2779 条数据用时: 38.02 秒\n",
      "第 2643 条数据用时: 37.85 秒\n",
      "第 2658 条数据用时: 37.71 秒\n",
      "第 2777 条数据用时: 38.19 秒\n",
      "第 2814 条数据用时: 37.95 秒\n",
      "第 2816 条数据用时: 37.92 秒\n"
     ]
    },
    {
     "name": "stderr",
     "output_type": "stream",
     "text": [
      "Processing data_objects:  67%|██████▋   | 135/203 [00:38<00:02, 24.72it/s]"
     ]
    },
    {
     "name": "stdout",
     "output_type": "stream",
     "text": [
      "第 2703 条数据用时: 38.46 秒\n",
      "第 2685 条数据用时: 38.70 秒\n",
      "第 2691 条数据用时: 38.68 秒\n"
     ]
    },
    {
     "name": "stderr",
     "output_type": "stream",
     "text": [
      "Processing data_objects:  69%|██████▉   | 141/203 [00:39<00:03, 18.02it/s]"
     ]
    },
    {
     "name": "stdout",
     "output_type": "stream",
     "text": [
      "第 2740 条数据用时: 38.82 秒\n",
      "第 2783 条数据用时: 38.63 秒\n",
      "第 2815 条数据用时: 38.46 秒\n",
      "第 2739 条数据用时: 39.03 秒\n",
      "第 2702 条数据用时: 38.94 秒\n"
     ]
    },
    {
     "name": "stderr",
     "output_type": "stream",
     "text": [
      "Processing data_objects:  71%|███████   | 144/203 [00:39<00:03, 16.52it/s]"
     ]
    },
    {
     "name": "stdout",
     "output_type": "stream",
     "text": [
      "第 2669 条数据用时: 38.56 秒\n",
      "第 2823 条数据用时: 38.73 秒\n",
      "第 2714 条数据用时: 39.05 秒\n"
     ]
    },
    {
     "name": "stderr",
     "output_type": "stream",
     "text": [
      "Processing data_objects:  73%|███████▎  | 149/203 [00:39<00:02, 20.60it/s]"
     ]
    },
    {
     "name": "stdout",
     "output_type": "stream",
     "text": [
      "第 2681 条数据用时: 38.76 秒\n",
      "第 2653 条数据用时: 39.54 秒\n",
      "第 2711 条数据用时: 39.15 秒\n",
      "第 2819 条数据用时: 39.59 秒\n",
      "第 2679 条数据用时: 39.09 秒\n",
      "第 2724 条数据用时: 39.66 秒\n",
      "第 2665 条数据用时: 39.29 秒\n",
      "第 2795 条数据用时: 39.01 秒\n"
     ]
    },
    {
     "name": "stderr",
     "output_type": "stream",
     "text": [
      "Processing data_objects:  77%|███████▋  | 157/203 [00:39<00:01, 25.73it/s]"
     ]
    },
    {
     "name": "stdout",
     "output_type": "stream",
     "text": [
      "第 2649 条数据用时: 38.98 秒\n",
      "第 2788 条数据用时: 39.24 秒\n",
      "第 2705 条数据用时: 39.46 秒\n",
      "第 2748 条数据用时: 39.55 秒\n"
     ]
    },
    {
     "name": "stderr",
     "output_type": "stream",
     "text": [
      "Processing data_objects:  79%|███████▉  | 160/203 [00:40<00:01, 22.46it/s]"
     ]
    },
    {
     "name": "stdout",
     "output_type": "stream",
     "text": [
      "第 2642 条数据用时: 39.47 秒\n",
      "第 2829 条数据用时: 39.19 秒\n",
      "第 2645 条数据用时: 39.33 秒\n",
      "第 2804 条数据用时: 39.96 秒\n",
      "第 2735 条数据用时: 39.96 秒\n"
     ]
    },
    {
     "name": "stderr",
     "output_type": "stream",
     "text": [
      "Processing data_objects:  80%|████████  | 163/203 [00:40<00:02, 19.60it/s]"
     ]
    },
    {
     "name": "stdout",
     "output_type": "stream",
     "text": [
      "第 2812 条数据用时: 40.04 秒\n",
      "第 2742 条数据用时: 40.19 秒\n"
     ]
    },
    {
     "name": "stderr",
     "output_type": "stream",
     "text": [
      "Processing data_objects:  82%|████████▏ | 166/203 [00:40<00:02, 14.04it/s]"
     ]
    },
    {
     "name": "stdout",
     "output_type": "stream",
     "text": [
      "第 2752 条数据用时: 39.71 秒\n",
      "第 2666 条数据用时: 39.91 秒\n",
      "第 2731 条数据用时: 40.50 秒\n",
      "第 2651 条数据用时: 39.86 秒\n",
      "第 2763 条数据用时: 40.24 秒\n"
     ]
    },
    {
     "name": "stderr",
     "output_type": "stream",
     "text": [
      "Processing data_objects:  85%|████████▍ | 172/203 [00:41<00:02, 14.31it/s]"
     ]
    },
    {
     "name": "stdout",
     "output_type": "stream",
     "text": [
      "第 2821 条数据用时: 40.74 秒\n",
      "第 2708 条数据用时: 40.55 秒\n",
      "第 2670 条数据用时: 40.23 秒\n"
     ]
    },
    {
     "name": "stderr",
     "output_type": "stream",
     "text": [
      "Processing data_objects:  86%|████████▌ | 174/203 [00:41<00:02, 12.75it/s]"
     ]
    },
    {
     "name": "stdout",
     "output_type": "stream",
     "text": [
      "第 2668 条数据用时: 40.18 秒\n",
      "第 2838 条数据用时: 41.08 秒\n",
      "第 2796 条数据用时: 40.51 秒\n"
     ]
    },
    {
     "name": "stderr",
     "output_type": "stream",
     "text": [
      "Processing data_objects:  87%|████████▋ | 177/203 [00:41<00:01, 14.07it/s]"
     ]
    },
    {
     "name": "stdout",
     "output_type": "stream",
     "text": [
      "第 2761 条数据用时: 40.90 秒\n",
      "第 2721 条数据用时: 40.54 秒\n",
      "第 2673 条数据用时: 40.59 秒\n",
      "第 2794 条数据用时: 40.75 秒\n"
     ]
    },
    {
     "name": "stderr",
     "output_type": "stream",
     "text": [
      "Processing data_objects:  90%|████████▉ | 182/203 [00:41<00:01, 13.78it/s]"
     ]
    },
    {
     "name": "stdout",
     "output_type": "stream",
     "text": [
      "第 2830 条数据用时: 40.80 秒\n",
      "第 2674 条数据用时: 40.99 秒\n",
      "第 2797 条数据用时: 41.03 秒\n",
      "第 2768 条数据用时: 41.24 秒\n"
     ]
    },
    {
     "name": "stderr",
     "output_type": "stream",
     "text": [
      "Processing data_objects:  91%|█████████ | 184/203 [00:41<00:01, 13.50it/s]"
     ]
    },
    {
     "name": "stdout",
     "output_type": "stream",
     "text": [
      "第 2710 条数据用时: 41.53 秒\n",
      "第 2825 条数据用时: 41.21 秒\n",
      "第 2718 条数据用时: 41.18 秒\n"
     ]
    },
    {
     "name": "stderr",
     "output_type": "stream",
     "text": [
      "Processing data_objects:  94%|█████████▎| 190/203 [00:42<00:00, 15.63it/s]"
     ]
    },
    {
     "name": "stdout",
     "output_type": "stream",
     "text": [
      "第 2767 条数据用时: 41.64 秒\n",
      "第 2660 条数据用时: 41.35 秒\n",
      "第 2667 条数据用时: 41.64 秒\n",
      "第 2675 条数据用时: 41.61 秒\n",
      "第 2676 条数据用时: 41.43 秒\n",
      "第 2834 条数据用时: 41.43 秒\n"
     ]
    },
    {
     "name": "stderr",
     "output_type": "stream",
     "text": [
      "Processing data_objects:  95%|█████████▌| 193/203 [00:42<00:00, 16.08it/s]"
     ]
    },
    {
     "name": "stdout",
     "output_type": "stream",
     "text": [
      "第 2817 条数据用时: 41.74 秒\n",
      "第 2832 条数据用时: 41.74 秒\n"
     ]
    },
    {
     "name": "stderr",
     "output_type": "stream",
     "text": [
      "Processing data_objects:  96%|█████████▌| 195/203 [00:42<00:00, 12.79it/s]"
     ]
    },
    {
     "name": "stdout",
     "output_type": "stream",
     "text": [
      "第 2827 条数据用时: 41.92 秒\n",
      "第 2690 条数据用时: 42.77 秒\n"
     ]
    },
    {
     "name": "stderr",
     "output_type": "stream",
     "text": [
      "Processing data_objects:  97%|█████████▋| 197/203 [00:43<00:00,  6.01it/s]"
     ]
    },
    {
     "name": "stdout",
     "output_type": "stream",
     "text": [
      "第 2833 条数据用时: 42.71 秒\n"
     ]
    },
    {
     "name": "stderr",
     "output_type": "stream",
     "text": [
      "Processing data_objects:  98%|█████████▊| 199/203 [00:44<00:00,  5.58it/s]"
     ]
    },
    {
     "name": "stdout",
     "output_type": "stream",
     "text": [
      "第 2648 条数据用时: 43.22 秒\n",
      "第 2792 条数据用时: 43.35 秒\n"
     ]
    },
    {
     "name": "stderr",
     "output_type": "stream",
     "text": [
      "Processing data_objects:  99%|█████████▊| 200/203 [00:44<00:00,  3.48it/s]"
     ]
    },
    {
     "name": "stdout",
     "output_type": "stream",
     "text": [
      "第 2730 条数据用时: 44.76 秒\n"
     ]
    },
    {
     "name": "stderr",
     "output_type": "stream",
     "text": [
      "Processing data_objects:  99%|█████████▉| 201/203 [00:46<00:00,  2.04it/s]"
     ]
    },
    {
     "name": "stdout",
     "output_type": "stream",
     "text": [
      "第 2650 条数据用时: 45.47 秒\n"
     ]
    },
    {
     "name": "stderr",
     "output_type": "stream",
     "text": [
      "Processing data_objects: 100%|█████████▉| 202/203 [00:46<00:00,  2.28it/s]"
     ]
    },
    {
     "name": "stdout",
     "output_type": "stream",
     "text": [
      "第 2786 条数据用时: 45.98 秒\n"
     ]
    },
    {
     "name": "stderr",
     "output_type": "stream",
     "text": [
      "Processing data_objects: 100%|██████████| 203/203 [00:47<00:00,  4.28it/s]\n"
     ]
    },
    {
     "name": "stdout",
     "output_type": "stream",
     "text": [
      "第 2826 条数据用时: 46.66 秒\n"
     ]
    },
    {
     "name": "stderr",
     "output_type": "stream",
     "text": [
      "Processing data_objects:   0%|          | 1/203 [00:08<29:30,  8.76s/it]"
     ]
    },
    {
     "name": "stdout",
     "output_type": "stream",
     "text": [
      "第 2880 条数据用时: 8.69 秒\n",
      "第 3028 条数据用时: 8.68 秒\n",
      "第 2876 条数据用时: 8.74 秒\n"
     ]
    },
    {
     "name": "stderr",
     "output_type": "stream",
     "text": [
      "Processing data_objects:   2%|▏         | 4/203 [00:10<06:55,  2.09s/it]"
     ]
    },
    {
     "name": "stdout",
     "output_type": "stream",
     "text": [
      "第 2992 条数据用时: 10.24 秒\n",
      "第 2983 条数据用时: 10.25 秒\n",
      "第 2845 条数据用时: 10.26 秒\n"
     ]
    },
    {
     "name": "stderr",
     "output_type": "stream",
     "text": [
      "Processing data_objects:   3%|▎         | 7/203 [00:15<05:58,  1.83s/it]"
     ]
    },
    {
     "name": "stdout",
     "output_type": "stream",
     "text": [
      "第 2973 条数据用时: 14.96 秒\n"
     ]
    },
    {
     "name": "stderr",
     "output_type": "stream",
     "text": [
      "Processing data_objects:   4%|▍         | 8/203 [00:16<05:48,  1.79s/it]"
     ]
    },
    {
     "name": "stdout",
     "output_type": "stream",
     "text": [
      "第 2978 条数据用时: 16.49 秒\n"
     ]
    },
    {
     "name": "stderr",
     "output_type": "stream",
     "text": [
      "Processing data_objects:   4%|▍         | 9/203 [00:18<05:39,  1.75s/it]"
     ]
    },
    {
     "name": "stdout",
     "output_type": "stream",
     "text": [
      "第 2981 条数据用时: 18.10 秒\n",
      "第 2997 条数据用时: 18.08 秒\n",
      "第 2904 条数据用时: 18.11 秒\n",
      "第 2905 条数据用时: 18.09 秒\n"
     ]
    },
    {
     "name": "stderr",
     "output_type": "stream",
     "text": [
      "Processing data_objects:   6%|▋         | 13/203 [00:20<03:07,  1.01it/s]"
     ]
    },
    {
     "name": "stdout",
     "output_type": "stream",
     "text": [
      "第 3037 条数据用时: 19.65 秒\n",
      "第 2927 条数据用时: 19.63 秒\n"
     ]
    },
    {
     "name": "stderr",
     "output_type": "stream",
     "text": [
      "Processing data_objects:   7%|▋         | 15/203 [00:21<02:51,  1.10it/s]"
     ]
    },
    {
     "name": "stdout",
     "output_type": "stream",
     "text": [
      "第 3030 条数据用时: 21.05 秒\n"
     ]
    },
    {
     "name": "stderr",
     "output_type": "stream",
     "text": [
      "Processing data_objects:   8%|▊         | 17/203 [00:22<02:12,  1.41it/s]"
     ]
    },
    {
     "name": "stdout",
     "output_type": "stream",
     "text": [
      "第 3016 条数据用时: 21.48 秒\n",
      "第 2953 条数据用时: 21.60 秒\n",
      "第 2954 条数据用时: 21.60 秒\n"
     ]
    },
    {
     "name": "stderr",
     "output_type": "stream",
     "text": [
      "Processing data_objects:   9%|▉         | 19/203 [00:22<01:44,  1.75it/s]"
     ]
    },
    {
     "name": "stdout",
     "output_type": "stream",
     "text": [
      "第 2901 条数据用时: 22.25 秒\n",
      "第 2883 条数据用时: 22.16 秒\n"
     ]
    },
    {
     "name": "stderr",
     "output_type": "stream",
     "text": [
      "Processing data_objects:  10%|█         | 21/203 [00:23<01:25,  2.12it/s]"
     ]
    },
    {
     "name": "stdout",
     "output_type": "stream",
     "text": [
      "第 2890 条数据用时: 22.66 秒\n",
      "第 2920 条数据用时: 22.70 秒\n"
     ]
    },
    {
     "name": "stderr",
     "output_type": "stream",
     "text": [
      "Processing data_objects:  11%|█▏        | 23/203 [00:23<01:11,  2.51it/s]"
     ]
    },
    {
     "name": "stdout",
     "output_type": "stream",
     "text": [
      "第 2906 条数据用时: 23.46 秒\n",
      "第 2891 条数据用时: 23.24 秒\n"
     ]
    },
    {
     "name": "stderr",
     "output_type": "stream",
     "text": [
      "Processing data_objects:  12%|█▏        | 25/203 [00:24<01:07,  2.65it/s]"
     ]
    },
    {
     "name": "stdout",
     "output_type": "stream",
     "text": [
      "第 2922 条数据用时: 23.79 秒\n"
     ]
    },
    {
     "name": "stderr",
     "output_type": "stream",
     "text": [
      "Processing data_objects:  13%|█▎        | 26/203 [00:25<01:16,  2.31it/s]"
     ]
    },
    {
     "name": "stdout",
     "output_type": "stream",
     "text": [
      "第 2913 条数据用时: 24.73 秒\n"
     ]
    },
    {
     "name": "stderr",
     "output_type": "stream",
     "text": [
      "Processing data_objects:  13%|█▎        | 27/203 [00:25<01:17,  2.27it/s]"
     ]
    },
    {
     "name": "stdout",
     "output_type": "stream",
     "text": [
      "第 3042 条数据用时: 25.40 秒\n"
     ]
    },
    {
     "name": "stderr",
     "output_type": "stream",
     "text": [
      "Processing data_objects:  14%|█▍        | 28/203 [00:26<01:23,  2.10it/s]"
     ]
    },
    {
     "name": "stdout",
     "output_type": "stream",
     "text": [
      "第 3005 条数据用时: 26.08 秒\n"
     ]
    },
    {
     "name": "stderr",
     "output_type": "stream",
     "text": [
      "Processing data_objects:  14%|█▍        | 29/203 [00:26<01:17,  2.24it/s]"
     ]
    },
    {
     "name": "stdout",
     "output_type": "stream",
     "text": [
      "第 2987 条数据用时: 26.54 秒\n",
      "第 2986 条数据用时: 26.25 秒\n"
     ]
    },
    {
     "name": "stderr",
     "output_type": "stream",
     "text": [
      "Processing data_objects:  15%|█▌        | 31/203 [00:27<01:05,  2.61it/s]"
     ]
    },
    {
     "name": "stdout",
     "output_type": "stream",
     "text": [
      "第 2895 条数据用时: 26.46 秒\n",
      "第 2889 条数据用时: 26.61 秒\n"
     ]
    },
    {
     "name": "stderr",
     "output_type": "stream",
     "text": [
      "Processing data_objects:  16%|█▋        | 33/203 [00:27<00:50,  3.34it/s]"
     ]
    },
    {
     "name": "stdout",
     "output_type": "stream",
     "text": [
      "第 2854 条数据用时: 27.23 秒\n",
      "第 2921 条数据用时: 26.98 秒\n"
     ]
    },
    {
     "name": "stderr",
     "output_type": "stream",
     "text": [
      "Processing data_objects:  17%|█▋        | 35/203 [00:28<00:50,  3.35it/s]"
     ]
    },
    {
     "name": "stdout",
     "output_type": "stream",
     "text": [
      "第 3025 条数据用时: 27.36 秒\n"
     ]
    },
    {
     "name": "stderr",
     "output_type": "stream",
     "text": [
      "Processing data_objects:  18%|█▊        | 36/203 [00:28<00:53,  3.14it/s]"
     ]
    },
    {
     "name": "stdout",
     "output_type": "stream",
     "text": [
      "第 2853 条数据用时: 28.24 秒\n"
     ]
    },
    {
     "name": "stderr",
     "output_type": "stream",
     "text": [
      "Processing data_objects:  18%|█▊        | 37/203 [00:28<00:57,  2.87it/s]"
     ]
    },
    {
     "name": "stdout",
     "output_type": "stream",
     "text": [
      "第 2991 条数据用时: 28.43 秒\n",
      "第 2937 条数据用时: 28.44 秒\n",
      "第 2969 条数据用时: 28.80 秒\n",
      "第 2850 条数据用时: 28.79 秒\n"
     ]
    },
    {
     "name": "stderr",
     "output_type": "stream",
     "text": [
      "Processing data_objects:  21%|██        | 43/203 [00:29<00:33,  4.80it/s]"
     ]
    },
    {
     "name": "stdout",
     "output_type": "stream",
     "text": [
      "第 2966 条数据用时: 29.63 秒\n",
      "第 2898 条数据用时: 29.09 秒\n",
      "第 3027 条数据用时: 29.13 秒\n",
      "第 3022 条数据用时: 29.69 秒\n",
      "第 2878 条数据用时: 29.83 秒\n"
     ]
    },
    {
     "name": "stderr",
     "output_type": "stream",
     "text": [
      "Processing data_objects:  23%|██▎       | 46/203 [00:30<00:39,  3.96it/s]"
     ]
    },
    {
     "name": "stdout",
     "output_type": "stream",
     "text": [
      "第 2868 条数据用时: 30.08 秒\n"
     ]
    },
    {
     "name": "stderr",
     "output_type": "stream",
     "text": [
      "Processing data_objects:  23%|██▎       | 47/203 [00:31<00:39,  3.93it/s]"
     ]
    },
    {
     "name": "stdout",
     "output_type": "stream",
     "text": [
      "第 2958 条数据用时: 31.08 秒\n",
      "第 2917 条数据用时: 30.64 秒\n",
      "第 2930 条数据用时: 30.68 秒\n",
      "第 3012 条数据用时: 30.98 秒\n"
     ]
    },
    {
     "name": "stderr",
     "output_type": "stream",
     "text": [
      "Processing data_objects:  26%|██▌       | 52/203 [00:31<00:30,  4.90it/s]"
     ]
    },
    {
     "name": "stdout",
     "output_type": "stream",
     "text": [
      "第 2976 条数据用时: 30.95 秒\n",
      "第 3018 条数据用时: 31.31 秒\n"
     ]
    },
    {
     "name": "stderr",
     "output_type": "stream",
     "text": [
      "Processing data_objects:  26%|██▌       | 53/203 [00:32<00:36,  4.12it/s]"
     ]
    },
    {
     "name": "stdout",
     "output_type": "stream",
     "text": [
      "第 2985 条数据用时: 31.80 秒\n",
      "第 3035 条数据用时: 32.26 秒\n",
      "第 3044 条数据用时: 32.03 秒\n",
      "第 2861 条数据用时: 32.04 秒\n"
     ]
    },
    {
     "name": "stderr",
     "output_type": "stream",
     "text": [
      "Processing data_objects:  29%|██▊       | 58/203 [00:33<00:27,  5.19it/s]"
     ]
    },
    {
     "name": "stdout",
     "output_type": "stream",
     "text": [
      "第 2887 条数据用时: 32.26 秒\n",
      "第 2911 条数据用时: 32.69 秒\n",
      "第 3045 条数据用时: 32.55 秒\n",
      "第 2982 条数据用时: 32.44 秒\n"
     ]
    },
    {
     "name": "stderr",
     "output_type": "stream",
     "text": [
      "Processing data_objects:  30%|███       | 61/203 [00:33<00:20,  6.96it/s]"
     ]
    },
    {
     "name": "stdout",
     "output_type": "stream",
     "text": [
      "第 2979 条数据用时: 32.97 秒\n"
     ]
    },
    {
     "name": "stderr",
     "output_type": "stream",
     "text": [
      "Processing data_objects:  31%|███       | 62/203 [00:33<00:28,  4.95it/s]"
     ]
    },
    {
     "name": "stdout",
     "output_type": "stream",
     "text": [
      "第 2955 条数据用时: 33.27 秒\n"
     ]
    },
    {
     "name": "stderr",
     "output_type": "stream",
     "text": [
      "Processing data_objects:  31%|███       | 63/203 [00:34<00:33,  4.15it/s]"
     ]
    },
    {
     "name": "stdout",
     "output_type": "stream",
     "text": [
      "第 3019 条数据用时: 33.43 秒\n",
      "第 2961 条数据用时: 34.15 秒\n",
      "第 2963 条数据用时: 34.13 秒\n",
      "第 2924 条数据用时: 34.22 秒\n"
     ]
    },
    {
     "name": "stderr",
     "output_type": "stream",
     "text": [
      "Processing data_objects:  33%|███▎      | 67/203 [00:34<00:20,  6.65it/s]"
     ]
    },
    {
     "name": "stdout",
     "output_type": "stream",
     "text": [
      "第 2938 条数据用时: 33.96 秒\n"
     ]
    },
    {
     "name": "stderr",
     "output_type": "stream",
     "text": [
      "Processing data_objects:  34%|███▍      | 69/203 [00:35<00:27,  4.93it/s]"
     ]
    },
    {
     "name": "stdout",
     "output_type": "stream",
     "text": [
      "第 2874 条数据用时: 34.98 秒\n",
      "第 2934 条数据用时: 34.70 秒\n",
      "第 2856 条数据用时: 34.91 秒\n"
     ]
    },
    {
     "name": "stderr",
     "output_type": "stream",
     "text": [
      "Processing data_objects:  35%|███▍      | 71/203 [00:35<00:21,  6.02it/s]"
     ]
    },
    {
     "name": "stdout",
     "output_type": "stream",
     "text": [
      "第 3013 条数据用时: 34.93 秒\n"
     ]
    },
    {
     "name": "stderr",
     "output_type": "stream",
     "text": [
      "Processing data_objects:  36%|███▋      | 74/203 [00:35<00:20,  6.25it/s]"
     ]
    },
    {
     "name": "stdout",
     "output_type": "stream",
     "text": [
      "第 2844 条数据用时: 35.61 秒\n",
      "第 3006 条数据用时: 35.15 秒\n",
      "第 2988 条数据用时: 35.63 秒\n"
     ]
    },
    {
     "name": "stderr",
     "output_type": "stream",
     "text": [
      "Processing data_objects:  37%|███▋      | 76/203 [00:36<00:25,  5.01it/s]"
     ]
    },
    {
     "name": "stdout",
     "output_type": "stream",
     "text": [
      "第 2941 条数据用时: 35.68 秒\n",
      "第 2848 条数据用时: 36.28 秒\n",
      "第 2882 条数据用时: 35.85 秒\n"
     ]
    },
    {
     "name": "stderr",
     "output_type": "stream",
     "text": [
      "Processing data_objects:  40%|████      | 82/203 [00:36<00:11, 10.73it/s]"
     ]
    },
    {
     "name": "stdout",
     "output_type": "stream",
     "text": [
      "第 2846 条数据用时: 36.57 秒\n",
      "第 2907 条数据用时: 36.33 秒\n",
      "第 2962 条数据用时: 36.60 秒\n",
      "第 2942 条数据用时: 36.16 秒\n",
      "第 2977 条数据用时: 36.77 秒\n",
      "第 2914 条数据用时: 36.36 秒\n",
      "第 2923 条数据用时: 36.49 秒\n",
      "第 3014 条数据用时: 36.43 秒\n"
     ]
    },
    {
     "name": "stderr",
     "output_type": "stream",
     "text": [
      "Processing data_objects:  44%|████▍     | 90/203 [00:37<00:06, 17.73it/s]"
     ]
    },
    {
     "name": "stdout",
     "output_type": "stream",
     "text": [
      "第 2858 条数据用时: 36.63 秒\n",
      "第 2910 条数据用时: 36.59 秒\n",
      "第 3032 条数据用时: 36.80 秒\n",
      "第 2908 条数据用时: 36.66 秒\n",
      "第 3017 条数据用时: 37.02 秒\n",
      "第 2974 条数据用时: 36.87 秒\n"
     ]
    },
    {
     "name": "stderr",
     "output_type": "stream",
     "text": [
      "Processing data_objects:  49%|████▉     | 99/203 [00:37<00:04, 23.79it/s]"
     ]
    },
    {
     "name": "stdout",
     "output_type": "stream",
     "text": [
      "第 2960 条数据用时: 37.11 秒\n",
      "第 2932 条数据用时: 36.73 秒\n",
      "第 2964 条数据用时: 37.07 秒\n",
      "第 2989 条数据用时: 36.60 秒\n",
      "第 3036 条数据用时: 37.18 秒\n",
      "第 3000 条数据用时: 36.92 秒\n",
      "第 2893 条数据用时: 36.63 秒\n",
      "第 2877 条数据用时: 37.31 秒\n"
     ]
    },
    {
     "name": "stderr",
     "output_type": "stream",
     "text": [
      "Processing data_objects:  51%|█████     | 103/203 [00:37<00:04, 23.05it/s]"
     ]
    },
    {
     "name": "stdout",
     "output_type": "stream",
     "text": [
      "第 3029 条数据用时: 37.03 秒\n",
      "第 2852 条数据用时: 37.19 秒\n",
      "第 2886 条数据用时: 36.78 秒\n",
      "第 2847 条数据用时: 37.41 秒\n",
      "第 2843 条数据用时: 37.26 秒\n",
      "第 2933 条数据用时: 37.08 秒\n",
      "第 2972 条数据用时: 37.32 秒\n",
      "第 2947 条数据用时: 36.92 秒\n"
     ]
    },
    {
     "name": "stderr",
     "output_type": "stream",
     "text": [
      "Processing data_objects:  55%|█████▍    | 111/203 [00:37<00:03, 30.08it/s]"
     ]
    },
    {
     "name": "stdout",
     "output_type": "stream",
     "text": [
      "第 2857 条数据用时: 37.34 秒\n",
      "第 2936 条数据用时: 37.60 秒\n",
      "第 2999 条数据用时: 37.35 秒\n",
      "第 3040 条数据用时: 37.52 秒\n",
      "第 2864 条数据用时: 37.03 秒\n",
      "第 2849 条数据用时: 37.59 秒\n",
      "第 2855 条数据用时: 37.55 秒\n",
      "第 2965 条数据用时: 37.69 秒\n"
     ]
    },
    {
     "name": "stderr",
     "output_type": "stream",
     "text": [
      "Processing data_objects:  59%|█████▊    | 119/203 [00:38<00:03, 24.65it/s]"
     ]
    },
    {
     "name": "stdout",
     "output_type": "stream",
     "text": [
      "第 2943 条数据用时: 37.35 秒\n",
      "第 2875 条数据用时: 38.04 秒\n",
      "第 2951 条数据用时: 37.61 秒\n",
      "第 2859 条数据用时: 37.80 秒\n"
     ]
    },
    {
     "name": "stderr",
     "output_type": "stream",
     "text": [
      "Processing data_objects:  61%|██████    | 124/203 [00:38<00:02, 28.23it/s]"
     ]
    },
    {
     "name": "stdout",
     "output_type": "stream",
     "text": [
      "第 2945 条数据用时: 37.54 秒\n",
      "第 3039 条数据用时: 37.88 秒\n",
      "第 2931 条数据用时: 37.76 秒\n",
      "第 3024 条数据用时: 37.95 秒\n",
      "第 2925 条数据用时: 37.87 秒\n",
      "第 2912 条数据用时: 37.87 秒\n",
      "第 3004 条数据用时: 38.15 秒\n",
      "第 3038 条数据用时: 37.87 秒\n",
      "第 2984 条数据用时: 37.81 秒\n"
     ]
    },
    {
     "name": "stderr",
     "output_type": "stream",
     "text": [
      "Processing data_objects:  66%|██████▌   | 134/203 [00:38<00:02, 32.28it/s]"
     ]
    },
    {
     "name": "stdout",
     "output_type": "stream",
     "text": [
      "第 2952 条数据用时: 37.86 秒\n",
      "第 2971 条数据用时: 38.17 秒\n",
      "第 3021 条数据用时: 38.23 秒\n",
      "第 3009 条数据用时: 38.36 秒\n",
      "第 2894 条数据用时: 37.72 秒\n",
      "第 2903 条数据用时: 38.21 秒\n",
      "第 2950 条数据用时: 38.06 秒\n"
     ]
    },
    {
     "name": "stderr",
     "output_type": "stream",
     "text": [
      "Processing data_objects:  71%|███████▏  | 145/203 [00:38<00:01, 36.21it/s]"
     ]
    },
    {
     "name": "stdout",
     "output_type": "stream",
     "text": [
      "第 2900 条数据用时: 38.33 秒\n",
      "第 2948 条数据用时: 38.00 秒\n",
      "第 2935 条数据用时: 37.85 秒\n",
      "第 2949 条数据用时: 38.00 秒\n",
      "第 3015 条数据用时: 38.17 秒\n",
      "第 2944 条数据用时: 38.07 秒\n",
      "第 2888 条数据用时: 38.04 秒\n",
      "第 3020 条数据用时: 38.51 秒\n",
      "第 2968 条数据用时: 38.55 秒\n",
      "第 2919 条数据用时: 38.43 秒\n",
      "第 3041 条数据用时: 38.58 秒\n"
     ]
    },
    {
     "name": "stderr",
     "output_type": "stream",
     "text": [
      "Processing data_objects:  73%|███████▎  | 149/203 [00:38<00:01, 33.24it/s]"
     ]
    },
    {
     "name": "stdout",
     "output_type": "stream",
     "text": [
      "第 2909 条数据用时: 38.52 秒\n",
      "第 2967 条数据用时: 38.75 秒\n",
      "第 2860 条数据用时: 38.62 秒\n",
      "第 2928 条数据用时: 38.54 秒\n",
      "第 2872 条数据用时: 38.20 秒\n"
     ]
    },
    {
     "name": "stderr",
     "output_type": "stream",
     "text": [
      "Processing data_objects:  75%|███████▌  | 153/203 [00:39<00:01, 29.33it/s]"
     ]
    },
    {
     "name": "stdout",
     "output_type": "stream",
     "text": [
      "第 2926 条数据用时: 38.75 秒\n",
      "第 2946 条数据用时: 38.50 秒\n",
      "第 2918 条数据用时: 38.72 秒\n",
      "第 2970 条数据用时: 39.19 秒\n",
      "第 2994 条数据用时: 39.23 秒\n"
     ]
    },
    {
     "name": "stderr",
     "output_type": "stream",
     "text": [
      "Processing data_objects:  77%|███████▋  | 157/203 [00:39<00:02, 17.61it/s]"
     ]
    },
    {
     "name": "stdout",
     "output_type": "stream",
     "text": [
      "第 3011 条数据用时: 39.44 秒\n",
      "第 2892 条数据用时: 39.03 秒\n",
      "第 3034 条数据用时: 39.01 秒\n"
     ]
    },
    {
     "name": "stderr",
     "output_type": "stream",
     "text": [
      "Processing data_objects:  79%|███████▉  | 160/203 [00:39<00:02, 14.65it/s]"
     ]
    },
    {
     "name": "stdout",
     "output_type": "stream",
     "text": [
      "第 2995 条数据用时: 39.78 秒\n",
      "第 2865 条数据用时: 39.24 秒\n"
     ]
    },
    {
     "name": "stderr",
     "output_type": "stream",
     "text": [
      "Processing data_objects:  82%|████████▏ | 167/203 [00:40<00:02, 17.19it/s]"
     ]
    },
    {
     "name": "stdout",
     "output_type": "stream",
     "text": [
      "第 3008 条数据用时: 39.57 秒\n",
      "第 2957 条数据用时: 39.39 秒\n",
      "第 2863 条数据用时: 39.50 秒\n",
      "第 2896 条数据用时: 39.52 秒\n",
      "第 2862 条数据用时: 39.69 秒\n",
      "第 3023 条数据用时: 39.74 秒\n",
      "第 3033 条数据用时: 39.92 秒\n"
     ]
    },
    {
     "name": "stderr",
     "output_type": "stream",
     "text": [
      "Processing data_objects:  85%|████████▌ | 173/203 [00:40<00:01, 18.37it/s]"
     ]
    },
    {
     "name": "stdout",
     "output_type": "stream",
     "text": [
      "第 2996 条数据用时: 39.62 秒\n",
      "第 2975 条数据用时: 39.68 秒\n",
      "第 2879 条数据用时: 40.46 秒\n",
      "第 2851 条数据用时: 40.36 秒\n",
      "第 3003 条数据用时: 40.05 秒\n"
     ]
    },
    {
     "name": "stderr",
     "output_type": "stream",
     "text": [
      "Processing data_objects:  87%|████████▋ | 176/203 [00:41<00:02, 12.23it/s]"
     ]
    },
    {
     "name": "stdout",
     "output_type": "stream",
     "text": [
      "第 2980 条数据用时: 40.12 秒\n",
      "第 3002 条数据用时: 40.19 秒\n",
      "第 3001 条数据用时: 40.29 秒\n",
      "第 2993 条数据用时: 40.25 秒\n",
      "第 2873 条数据用时: 41.05 秒\n",
      "第 2885 条数据用时: 40.45 秒\n"
     ]
    },
    {
     "name": "stderr",
     "output_type": "stream",
     "text": [
      "Processing data_objects:  90%|████████▉ | 182/203 [00:41<00:01, 15.48it/s]"
     ]
    },
    {
     "name": "stdout",
     "output_type": "stream",
     "text": [
      "第 2915 条数据用时: 40.78 秒\n",
      "第 2990 条数据用时: 40.48 秒\n",
      "第 2899 条数据用时: 40.58 秒\n",
      "第 2956 条数据用时: 40.77 秒\n",
      "第 2866 条数据用时: 40.63 秒\n"
     ]
    },
    {
     "name": "stderr",
     "output_type": "stream",
     "text": [
      "Processing data_objects:  92%|█████████▏| 187/203 [00:41<00:01, 14.42it/s]"
     ]
    },
    {
     "name": "stdout",
     "output_type": "stream",
     "text": [
      "第 2897 条数据用时: 40.76 秒\n",
      "第 3010 条数据用时: 41.01 秒\n",
      "第 2940 条数据用时: 41.13 秒\n"
     ]
    },
    {
     "name": "stderr",
     "output_type": "stream",
     "text": [
      "Processing data_objects:  94%|█████████▎| 190/203 [00:41<00:00, 15.74it/s]"
     ]
    },
    {
     "name": "stdout",
     "output_type": "stream",
     "text": [
      "第 3043 条数据用时: 41.47 秒\n",
      "第 2902 条数据用时: 41.10 秒\n",
      "第 2871 条数据用时: 41.03 秒\n",
      "第 2867 条数据用时: 41.14 秒\n"
     ]
    },
    {
     "name": "stderr",
     "output_type": "stream",
     "text": [
      "Processing data_objects:  95%|█████████▍| 192/203 [00:42<00:00, 13.70it/s]"
     ]
    },
    {
     "name": "stdout",
     "output_type": "stream",
     "text": [
      "第 2869 条数据用时: 41.27 秒\n",
      "第 2939 条数据用时: 41.57 秒\n"
     ]
    },
    {
     "name": "stderr",
     "output_type": "stream",
     "text": [
      "Processing data_objects:  96%|█████████▌| 194/203 [00:42<00:00, 12.43it/s]"
     ]
    },
    {
     "name": "stdout",
     "output_type": "stream",
     "text": [
      "第 3031 条数据用时: 41.55 秒\n",
      "第 2916 条数据用时: 41.89 秒\n"
     ]
    },
    {
     "name": "stderr",
     "output_type": "stream",
     "text": [
      "Processing data_objects:  97%|█████████▋| 196/203 [00:42<00:01,  6.83it/s]"
     ]
    },
    {
     "name": "stdout",
     "output_type": "stream",
     "text": [
      "第 2959 条数据用时: 42.87 秒\n",
      "第 2884 条数据用时: 42.59 秒\n"
     ]
    },
    {
     "name": "stderr",
     "output_type": "stream",
     "text": [
      "Processing data_objects:  98%|█████████▊| 199/203 [00:43<00:00,  5.56it/s]"
     ]
    },
    {
     "name": "stdout",
     "output_type": "stream",
     "text": [
      "第 3026 条数据用时: 42.69 秒\n",
      "第 2881 条数据用时: 43.33 秒\n"
     ]
    },
    {
     "name": "stderr",
     "output_type": "stream",
     "text": [
      "Processing data_objects:  99%|█████████▊| 200/203 [00:43<00:00,  5.62it/s]"
     ]
    },
    {
     "name": "stdout",
     "output_type": "stream",
     "text": [
      "第 2870 条数据用时: 43.00 秒\n"
     ]
    },
    {
     "name": "stderr",
     "output_type": "stream",
     "text": [
      "Processing data_objects:  99%|█████████▉| 201/203 [00:44<00:00,  5.20it/s]"
     ]
    },
    {
     "name": "stdout",
     "output_type": "stream",
     "text": [
      "第 2998 条数据用时: 43.77 秒\n"
     ]
    },
    {
     "name": "stderr",
     "output_type": "stream",
     "text": [
      "Processing data_objects: 100%|█████████▉| 202/203 [00:44<00:00,  4.87it/s]"
     ]
    },
    {
     "name": "stdout",
     "output_type": "stream",
     "text": [
      "第 3007 条数据用时: 43.70 秒\n"
     ]
    },
    {
     "name": "stderr",
     "output_type": "stream",
     "text": [
      "Processing data_objects: 100%|██████████| 203/203 [00:45<00:00,  4.48it/s]\n"
     ]
    },
    {
     "name": "stdout",
     "output_type": "stream",
     "text": [
      "第 2929 条数据用时: 44.90 秒\n"
     ]
    },
    {
     "name": "stderr",
     "output_type": "stream",
     "text": [
      "Processing data_objects:  25%|██▌       | 1/4 [00:02<00:07,  2.50s/it]"
     ]
    },
    {
     "name": "stdout",
     "output_type": "stream",
     "text": [
      "第 3049 条数据用时: 2.50 秒\n"
     ]
    },
    {
     "name": "stderr",
     "output_type": "stream",
     "text": [
      "Processing data_objects:  50%|█████     | 2/4 [00:03<00:02,  1.34s/it]"
     ]
    },
    {
     "name": "stdout",
     "output_type": "stream",
     "text": [
      "第 3048 条数据用时: 3.02 秒\n"
     ]
    },
    {
     "name": "stderr",
     "output_type": "stream",
     "text": [
      "Processing data_objects:  75%|███████▌  | 3/4 [00:03<00:01,  1.08s/it]"
     ]
    },
    {
     "name": "stdout",
     "output_type": "stream",
     "text": [
      "第 3047 条数据用时: 3.78 秒\n"
     ]
    },
    {
     "name": "stderr",
     "output_type": "stream",
     "text": [
      "Processing data_objects: 100%|██████████| 4/4 [00:10<00:00,  2.59s/it]"
     ]
    },
    {
     "name": "stdout",
     "output_type": "stream",
     "text": [
      "第 3046 条数据用时: 10.34 秒\n",
      "1921.0049304962158\n"
     ]
    },
    {
     "name": "stderr",
     "output_type": "stream",
     "text": [
      "\n"
     ]
    }
   ],
   "source": [
    "# 运行异步主函数\n",
    "# 使用示例\n",
    "# results = await baseline_model(client, data_objects, model_name)\n",
    "# write_results_to_csv(results, \"path/to/save/\")\n",
    "\n",
    "all_start_time = time.time()\n",
    "res = asyncio.run(main())\n",
    "all_time = time.time() - all_start_time\n",
    "write_results_to_csv(res, \"./\")\n",
    "print(all_time)"
   ]
  },
  {
   "cell_type": "code",
   "execution_count": 5,
   "metadata": {},
   "outputs": [
    {
     "name": "stdout",
     "output_type": "stream",
     "text": [
      "{'data_id': 'TE0163', 'evaluation_dimension': '规范性', 'score': 4}\n"
     ]
    }
   ],
   "source": [
    "print(res[0])"
   ]
  },
  {
   "cell_type": "code",
   "execution_count": null,
   "metadata": {},
   "outputs": [],
   "source": []
  }
 ],
 "metadata": {
  "kernelspec": {
   "display_name": "tianchi",
   "language": "python",
   "name": "tianchi"
  },
  "language_info": {
   "codemirror_mode": {
    "name": "ipython",
    "version": 3
   },
   "file_extension": ".py",
   "mimetype": "text/x-python",
   "name": "python",
   "nbconvert_exporter": "python",
   "pygments_lexer": "ipython3",
   "version": "3.10.0"
  }
 },
 "nbformat": 4,
 "nbformat_minor": 4
}
